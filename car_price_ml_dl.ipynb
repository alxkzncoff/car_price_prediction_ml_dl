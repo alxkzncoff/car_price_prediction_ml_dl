{
  "nbformat": 4,
  "nbformat_minor": 0,
  "metadata": {
    "colab": {
      "name": "car_price_ml_dl.ipynb",
      "provenance": [],
      "mount_file_id": "1Ct79m8i7SR-okQSBwDmYwXIVYu-a73lv",
      "authorship_tag": "ABX9TyMLhHyWQpyR8tbrWlAZ+6YJ",
      "include_colab_link": true
    },
    "kernelspec": {
      "name": "python3",
      "display_name": "Python 3"
    },
    "accelerator": "GPU"
  },
  "cells": [
    {
      "cell_type": "markdown",
      "metadata": {
        "id": "view-in-github",
        "colab_type": "text"
      },
      "source": [
        "<a href=\"https://colab.research.google.com/github/alxkzncoff/rds6_car_price_prediction_ml_dl/blob/main/car_price_ml_dl.ipynb\" target=\"_parent\"><img src=\"https://colab.research.google.com/assets/colab-badge.svg\" alt=\"Open In Colab\"/></a>"
      ]
    },
    {
      "cell_type": "code",
      "metadata": {
        "id": "tilImQpnbhs8"
      },
      "source": [
        "DATA_PATH = '/content/drive/My Drive/skill_factory_car_price_prediction_ml_dl'"
      ],
      "execution_count": 16,
      "outputs": []
    },
    {
      "cell_type": "code",
      "metadata": {
        "id": "cdI8D7DbWobJ"
      },
      "source": [
        "import pandas as pd"
      ],
      "execution_count": 3,
      "outputs": []
    },
    {
      "cell_type": "code",
      "metadata": {
        "id": "zQGjcc4MbZrE"
      },
      "source": [
        "cars = pd.read_csv(DATA_PATH+'/train.csv')"
      ],
      "execution_count": 18,
      "outputs": []
    },
    {
      "cell_type": "markdown",
      "metadata": {
        "id": "ky9pFoLgd4B3"
      },
      "source": [
        "# Описание признаков\n",
        "\n",
        "- **bodyType** - категориальный\n",
        "- **brand** - категориальный\n",
        "- **color** - категориальный\n",
        "- **description** - текстовый\n",
        "- **engineDisplacement** - числовой, представленный как текст\n",
        "- **enginePower** - числовой, представленный как текст\n",
        "- **fuelType** - категориальный\n",
        "- **mileage** - числовой\n",
        "- **modelDate** - числовой\n",
        "- **model_info** - категориальный\n",
        "- **name** - категориальный, желательно сократить размерность\n",
        "- **numberOfDoors** - категориальный\n",
        "- **price** - числовой, целевой\n",
        "- **productionDate** - числовой\n",
        "- **sell_id** - изображение (файл доступен по адресу, основанному на sell_id)\n",
        "- **vehicleConfiguration** - не используется (комбинация других столбцов)\n",
        "- **vehicleTransmission** - категориальный\n",
        "- **Владельцы** - категориальный\n",
        "- **Владение** - числовой, представленный как текст\n",
        "- **ПТС** - категориальный\n",
        "- **Привод** - категориальный\n",
        "- **Руль** - категориальный"
      ]
    },
    {
      "cell_type": "code",
      "metadata": {
        "id": "B1V3WVY6cD8i",
        "outputId": "805a30c6-b89c-448f-8713-2ab584511512",
        "colab": {
          "base_uri": "https://localhost:8080/",
          "height": 510
        }
      },
      "source": [
        "cars.info()"
      ],
      "execution_count": 19,
      "outputs": [
        {
          "output_type": "stream",
          "text": [
            "<class 'pandas.core.frame.DataFrame'>\n",
            "RangeIndex: 6682 entries, 0 to 6681\n",
            "Data columns (total 22 columns):\n",
            " #   Column                Non-Null Count  Dtype  \n",
            "---  ------                --------------  -----  \n",
            " 0   bodyType              6682 non-null   object \n",
            " 1   brand                 6682 non-null   object \n",
            " 2   color                 6682 non-null   object \n",
            " 3   description           6682 non-null   object \n",
            " 4   engineDisplacement    6682 non-null   object \n",
            " 5   enginePower           6682 non-null   object \n",
            " 6   fuelType              6682 non-null   object \n",
            " 7   mileage               6682 non-null   int64  \n",
            " 8   modelDate             6682 non-null   int64  \n",
            " 9   model_info            6682 non-null   object \n",
            " 10  name                  6682 non-null   object \n",
            " 11  numberOfDoors         6682 non-null   int64  \n",
            " 12  price                 6682 non-null   float64\n",
            " 13  productionDate        6682 non-null   int64  \n",
            " 14  sell_id               6682 non-null   int64  \n",
            " 15  vehicleConfiguration  6682 non-null   object \n",
            " 16  vehicleTransmission   6682 non-null   object \n",
            " 17  Владельцы             6681 non-null   object \n",
            " 18  Владение              2356 non-null   object \n",
            " 19  ПТС                   6682 non-null   object \n",
            " 20  Привод                6682 non-null   object \n",
            " 21  Руль                  6682 non-null   object \n",
            "dtypes: float64(1), int64(5), object(16)\n",
            "memory usage: 1.1+ MB\n"
          ],
          "name": "stdout"
        }
      ]
    },
    {
      "cell_type": "code",
      "metadata": {
        "id": "jgnu2Cl0cM4n",
        "outputId": "cf25f911-7c07-415f-cdac-f03fc690ed00",
        "colab": {
          "base_uri": "https://localhost:8080/",
          "height": 34
        }
      },
      "source": [
        "cars.brand.unique()"
      ],
      "execution_count": 15,
      "outputs": [
        {
          "output_type": "execute_result",
          "data": {
            "text/plain": [
              "array(['BMW', 'AUDI', 'MERCEDES'], dtype=object)"
            ]
          },
          "metadata": {
            "tags": []
          },
          "execution_count": 15
        }
      ]
    }
  ]
}