{
  "nbformat": 4,
  "nbformat_minor": 0,
  "metadata": {
    "colab": {
      "name": "car_price_ml_dl.ipynb",
      "provenance": [],
      "collapsed_sections": [],
      "mount_file_id": "1Ct79m8i7SR-okQSBwDmYwXIVYu-a73lv",
      "authorship_tag": "ABX9TyPeg9K/xDvm8JiTQgdgCHvE",
      "include_colab_link": true
    },
    "kernelspec": {
      "name": "python3",
      "display_name": "Python 3"
    }
  },
  "cells": [
    {
      "cell_type": "markdown",
      "metadata": {
        "id": "view-in-github",
        "colab_type": "text"
      },
      "source": [
        "<a href=\"https://colab.research.google.com/github/alxkzncoff/rds6_car_price_prediction_ml_dl/blob/main/car_price_ml_dl.ipynb\" target=\"_parent\"><img src=\"https://colab.research.google.com/assets/colab-badge.svg\" alt=\"Open In Colab\"/></a>"
      ]
    },
    {
      "cell_type": "code",
      "metadata": {
        "id": "tilImQpnbhs8"
      },
      "source": [
        "# DEFINE\n",
        "DATA_PATH                   = '/content/drive/My Drive/skill_factory_car_price_prediction_ml_dl'\n",
        "RANDOM_SEED                 = 42"
      ],
      "execution_count": 1,
      "outputs": []
    },
    {
      "cell_type": "code",
      "metadata": {
        "id": "cdI8D7DbWobJ"
      },
      "source": [
        "# Analyse\n",
        "import pandas as pd\n",
        "pd.set_option('max_columns', None, 'max_rows', None)\n",
        "\n",
        "import numpy as np\n",
        "\n",
        "# ML\n",
        "from sklearn.model_selection import train_test_split"
      ],
      "execution_count": 24,
      "outputs": []
    },
    {
      "cell_type": "code",
      "metadata": {
        "id": "zQGjcc4MbZrE"
      },
      "source": [
        "train = pd.read_csv(DATA_PATH+'/train.csv')\n",
        "test = pd.read_csv(DATA_PATH+'/test.csv')"
      ],
      "execution_count": 3,
      "outputs": []
    },
    {
      "cell_type": "markdown",
      "metadata": {
        "id": "ky9pFoLgd4B3"
      },
      "source": [
        "# Описание признаков\n",
        "\n",
        "- **bodyType** - категориальный\n",
        "- **brand** - категориальный\n",
        "- **color** - категориальный\n",
        "- **description** - текстовый\n",
        "- **engineDisplacement** - числовой, представленный как текст\n",
        "- **enginePower** - числовой, представленный как текст\n",
        "- **fuelType** - категориальный\n",
        "- **mileage** - числовой\n",
        "- **modelDate** - числовой\n",
        "- **model_info** - категориальный\n",
        "- **name** - категориальный, желательно сократить размерность\n",
        "- **numberOfDoors** - категориальный\n",
        "- **price** - числовой, целевой\n",
        "- **productionDate** - числовой\n",
        "- **sell_id** - изображение (файл доступен по адресу, основанному на sell_id)\n",
        "- **vehicleConfiguration** - не используется (комбинация других столбцов)\n",
        "- **vehicleTransmission** - категориальный\n",
        "- **Владельцы** - категориальный\n",
        "- **Владение** - числовой, представленный как текст\n",
        "- **ПТС** - категориальный\n",
        "- **Привод** - категориальный\n",
        "- **Руль** - категориальный"
      ]
    },
    {
      "cell_type": "code",
      "metadata": {
        "id": "B1V3WVY6cD8i",
        "outputId": "97c36c61-843c-4d77-9ae5-d5c4d3cd108a",
        "colab": {
          "base_uri": "https://localhost:8080/",
          "height": 510
        }
      },
      "source": [
        "train.info()"
      ],
      "execution_count": 4,
      "outputs": [
        {
          "output_type": "stream",
          "text": [
            "<class 'pandas.core.frame.DataFrame'>\n",
            "RangeIndex: 6682 entries, 0 to 6681\n",
            "Data columns (total 22 columns):\n",
            " #   Column                Non-Null Count  Dtype  \n",
            "---  ------                --------------  -----  \n",
            " 0   bodyType              6682 non-null   object \n",
            " 1   brand                 6682 non-null   object \n",
            " 2   color                 6682 non-null   object \n",
            " 3   description           6682 non-null   object \n",
            " 4   engineDisplacement    6682 non-null   object \n",
            " 5   enginePower           6682 non-null   object \n",
            " 6   fuelType              6682 non-null   object \n",
            " 7   mileage               6682 non-null   int64  \n",
            " 8   modelDate             6682 non-null   int64  \n",
            " 9   model_info            6682 non-null   object \n",
            " 10  name                  6682 non-null   object \n",
            " 11  numberOfDoors         6682 non-null   int64  \n",
            " 12  price                 6682 non-null   float64\n",
            " 13  productionDate        6682 non-null   int64  \n",
            " 14  sell_id               6682 non-null   int64  \n",
            " 15  vehicleConfiguration  6682 non-null   object \n",
            " 16  vehicleTransmission   6682 non-null   object \n",
            " 17  Владельцы             6681 non-null   object \n",
            " 18  Владение              2356 non-null   object \n",
            " 19  ПТС                   6682 non-null   object \n",
            " 20  Привод                6682 non-null   object \n",
            " 21  Руль                  6682 non-null   object \n",
            "dtypes: float64(1), int64(5), object(16)\n",
            "memory usage: 1.1+ MB\n"
          ],
          "name": "stdout"
        }
      ]
    },
    {
      "cell_type": "code",
      "metadata": {
        "id": "eeZojG4qlr6y",
        "outputId": "afbd09ab-268b-4d4b-efbb-01033026b894",
        "colab": {
          "base_uri": "https://localhost:8080/",
          "height": 598
        }
      },
      "source": [
        "train.head(5)"
      ],
      "execution_count": 5,
      "outputs": [
        {
          "output_type": "execute_result",
          "data": {
            "text/html": [
              "<div>\n",
              "<style scoped>\n",
              "    .dataframe tbody tr th:only-of-type {\n",
              "        vertical-align: middle;\n",
              "    }\n",
              "\n",
              "    .dataframe tbody tr th {\n",
              "        vertical-align: top;\n",
              "    }\n",
              "\n",
              "    .dataframe thead th {\n",
              "        text-align: right;\n",
              "    }\n",
              "</style>\n",
              "<table border=\"1\" class=\"dataframe\">\n",
              "  <thead>\n",
              "    <tr style=\"text-align: right;\">\n",
              "      <th></th>\n",
              "      <th>bodyType</th>\n",
              "      <th>brand</th>\n",
              "      <th>color</th>\n",
              "      <th>description</th>\n",
              "      <th>engineDisplacement</th>\n",
              "      <th>enginePower</th>\n",
              "      <th>fuelType</th>\n",
              "      <th>mileage</th>\n",
              "      <th>modelDate</th>\n",
              "      <th>model_info</th>\n",
              "      <th>name</th>\n",
              "      <th>numberOfDoors</th>\n",
              "      <th>price</th>\n",
              "      <th>productionDate</th>\n",
              "      <th>sell_id</th>\n",
              "      <th>vehicleConfiguration</th>\n",
              "      <th>vehicleTransmission</th>\n",
              "      <th>Владельцы</th>\n",
              "      <th>Владение</th>\n",
              "      <th>ПТС</th>\n",
              "      <th>Привод</th>\n",
              "      <th>Руль</th>\n",
              "    </tr>\n",
              "  </thead>\n",
              "  <tbody>\n",
              "    <tr>\n",
              "      <th>0</th>\n",
              "      <td>седан</td>\n",
              "      <td>BMW</td>\n",
              "      <td>чёрный</td>\n",
              "      <td>Авто на бодром ходу.  Все работает отлично.  П...</td>\n",
              "      <td>3.0 LTR</td>\n",
              "      <td>272 N12</td>\n",
              "      <td>бензин</td>\n",
              "      <td>245000</td>\n",
              "      <td>2007</td>\n",
              "      <td>5ER</td>\n",
              "      <td>530xi 3.0 AT (272 л.с.) 4WD</td>\n",
              "      <td>4</td>\n",
              "      <td>599000.0</td>\n",
              "      <td>2007</td>\n",
              "      <td>1099980990</td>\n",
              "      <td>SEDAN AUTOMATIC 3.0</td>\n",
              "      <td>автоматическая</td>\n",
              "      <td>3 или более</td>\n",
              "      <td>NaN</td>\n",
              "      <td>Оригинал</td>\n",
              "      <td>полный</td>\n",
              "      <td>Левый</td>\n",
              "    </tr>\n",
              "    <tr>\n",
              "      <th>1</th>\n",
              "      <td>седан</td>\n",
              "      <td>AUDI</td>\n",
              "      <td>серебристый</td>\n",
              "      <td>Продажа от собственника, второй владелец, ПТС ...</td>\n",
              "      <td>2.8 LTR</td>\n",
              "      <td>204 N12</td>\n",
              "      <td>бензин</td>\n",
              "      <td>183000</td>\n",
              "      <td>2011</td>\n",
              "      <td>A6</td>\n",
              "      <td>2.8 CVT (204 л.с.)</td>\n",
              "      <td>4</td>\n",
              "      <td>850000.0</td>\n",
              "      <td>2011</td>\n",
              "      <td>1095836906</td>\n",
              "      <td>SEDAN VARIATOR 2.8</td>\n",
              "      <td>вариатор</td>\n",
              "      <td>2 владельца</td>\n",
              "      <td>8 лет и 6 месяцев</td>\n",
              "      <td>Оригинал</td>\n",
              "      <td>передний</td>\n",
              "      <td>Левый</td>\n",
              "    </tr>\n",
              "    <tr>\n",
              "      <th>2</th>\n",
              "      <td>седан</td>\n",
              "      <td>MERCEDES</td>\n",
              "      <td>чёрный</td>\n",
              "      <td>Внимание! Только для клиентов AVILON Автомобил...</td>\n",
              "      <td>3.5 LTR</td>\n",
              "      <td>306 N12</td>\n",
              "      <td>бензин</td>\n",
              "      <td>122733</td>\n",
              "      <td>2009</td>\n",
              "      <td>E_KLASSE</td>\n",
              "      <td>350 3.5 AT (306 л.с.) 4WD</td>\n",
              "      <td>4</td>\n",
              "      <td>1325000.0</td>\n",
              "      <td>2013</td>\n",
              "      <td>1100195530</td>\n",
              "      <td>SEDAN AUTOMATIC 3.5</td>\n",
              "      <td>автоматическая</td>\n",
              "      <td>3 или более</td>\n",
              "      <td>NaN</td>\n",
              "      <td>Оригинал</td>\n",
              "      <td>полный</td>\n",
              "      <td>Левый</td>\n",
              "    </tr>\n",
              "    <tr>\n",
              "      <th>3</th>\n",
              "      <td>седан</td>\n",
              "      <td>AUDI</td>\n",
              "      <td>белый</td>\n",
              "      <td>В комплекте зимние колёса. 27.07.2020 Замена п...</td>\n",
              "      <td>2.0 LTR</td>\n",
              "      <td>180 N12</td>\n",
              "      <td>бензин</td>\n",
              "      <td>151000</td>\n",
              "      <td>2011</td>\n",
              "      <td>A6</td>\n",
              "      <td>2.0 CVT (180 л.с.)</td>\n",
              "      <td>4</td>\n",
              "      <td>815000.0</td>\n",
              "      <td>2011</td>\n",
              "      <td>1099880662</td>\n",
              "      <td>SEDAN VARIATOR 2.0</td>\n",
              "      <td>вариатор</td>\n",
              "      <td>3 или более</td>\n",
              "      <td>4 года и 9 месяцев</td>\n",
              "      <td>Оригинал</td>\n",
              "      <td>передний</td>\n",
              "      <td>Левый</td>\n",
              "    </tr>\n",
              "    <tr>\n",
              "      <th>4</th>\n",
              "      <td>лифтбек</td>\n",
              "      <td>AUDI</td>\n",
              "      <td>белый</td>\n",
              "      <td>Отличный авто, 2011 года выпуска, кроме передн...</td>\n",
              "      <td>1.8 LTR</td>\n",
              "      <td>160 N12</td>\n",
              "      <td>бензин</td>\n",
              "      <td>140000</td>\n",
              "      <td>2007</td>\n",
              "      <td>A5</td>\n",
              "      <td>1.8 CVT (160 л.с.)</td>\n",
              "      <td>5</td>\n",
              "      <td>810000.0</td>\n",
              "      <td>2011</td>\n",
              "      <td>1083244610</td>\n",
              "      <td>LIFTBACK VARIATOR 1.8</td>\n",
              "      <td>вариатор</td>\n",
              "      <td>3 или более</td>\n",
              "      <td>2 года и 9 месяцев</td>\n",
              "      <td>Оригинал</td>\n",
              "      <td>передний</td>\n",
              "      <td>Левый</td>\n",
              "    </tr>\n",
              "  </tbody>\n",
              "</table>\n",
              "</div>"
            ],
            "text/plain": [
              "  bodyType     brand        color  \\\n",
              "0    седан       BMW       чёрный   \n",
              "1    седан      AUDI  серебристый   \n",
              "2    седан  MERCEDES       чёрный   \n",
              "3    седан      AUDI        белый   \n",
              "4  лифтбек      AUDI        белый   \n",
              "\n",
              "                                         description engineDisplacement  \\\n",
              "0  Авто на бодром ходу.  Все работает отлично.  П...            3.0 LTR   \n",
              "1  Продажа от собственника, второй владелец, ПТС ...            2.8 LTR   \n",
              "2  Внимание! Только для клиентов AVILON Автомобил...            3.5 LTR   \n",
              "3  В комплекте зимние колёса. 27.07.2020 Замена п...            2.0 LTR   \n",
              "4  Отличный авто, 2011 года выпуска, кроме передн...            1.8 LTR   \n",
              "\n",
              "  enginePower fuelType  mileage  modelDate model_info  \\\n",
              "0     272 N12   бензин   245000       2007        5ER   \n",
              "1     204 N12   бензин   183000       2011         A6   \n",
              "2     306 N12   бензин   122733       2009   E_KLASSE   \n",
              "3     180 N12   бензин   151000       2011         A6   \n",
              "4     160 N12   бензин   140000       2007         A5   \n",
              "\n",
              "                          name  numberOfDoors      price  productionDate  \\\n",
              "0  530xi 3.0 AT (272 л.с.) 4WD              4   599000.0            2007   \n",
              "1           2.8 CVT (204 л.с.)              4   850000.0            2011   \n",
              "2    350 3.5 AT (306 л.с.) 4WD              4  1325000.0            2013   \n",
              "3           2.0 CVT (180 л.с.)              4   815000.0            2011   \n",
              "4           1.8 CVT (160 л.с.)              5   810000.0            2011   \n",
              "\n",
              "      sell_id   vehicleConfiguration vehicleTransmission    Владельцы  \\\n",
              "0  1099980990    SEDAN AUTOMATIC 3.0      автоматическая  3 или более   \n",
              "1  1095836906     SEDAN VARIATOR 2.8            вариатор  2 владельца   \n",
              "2  1100195530    SEDAN AUTOMATIC 3.5      автоматическая  3 или более   \n",
              "3  1099880662     SEDAN VARIATOR 2.0            вариатор  3 или более   \n",
              "4  1083244610  LIFTBACK VARIATOR 1.8            вариатор  3 или более   \n",
              "\n",
              "             Владение       ПТС    Привод   Руль  \n",
              "0                 NaN  Оригинал    полный  Левый  \n",
              "1   8 лет и 6 месяцев  Оригинал  передний  Левый  \n",
              "2                 NaN  Оригинал    полный  Левый  \n",
              "3  4 года и 9 месяцев  Оригинал  передний  Левый  \n",
              "4  2 года и 9 месяцев  Оригинал  передний  Левый  "
            ]
          },
          "metadata": {
            "tags": []
          },
          "execution_count": 5
        }
      ]
    },
    {
      "cell_type": "markdown",
      "metadata": {
        "id": "mkjofNYdjE_B"
      },
      "source": [
        "Построим *наивную* модель, чтобы понять в какую сторону двигаемся - к улучшению или к ухудшению.\n",
        "\n",
        "Модель будет предсказывать среднюю цену авто по модели и году выпуска.\n"
      ]
    },
    {
      "cell_type": "code",
      "metadata": {
        "id": "CMRVKs_Fl6oA"
      },
      "source": [
        "def mape(y_true, y_pred):\n",
        "    return np.mean(np.abs((y_pred-y_true)/y_true))"
      ],
      "execution_count": 21,
      "outputs": []
    },
    {
      "cell_type": "code",
      "metadata": {
        "id": "IzFCdLtUj5qf"
      },
      "source": [
        "train_data, test_data = train_test_split(train, test_size=0.15, shuffle=True, random_state=RANDOM_SEED)"
      ],
      "execution_count": 6,
      "outputs": []
    },
    {
      "cell_type": "code",
      "metadata": {
        "id": "-h16w8vnlgAe",
        "outputId": "ac709797-2735-4492-9848-f8c390c2a0e0",
        "colab": {
          "base_uri": "https://localhost:8080/",
          "height": 34
        }
      },
      "source": [
        "# Для итерации строк в pandas лучше всего использовать \"Vectorization with Pandas series\" и \"Vectorization with NumPy arrays\", так как\n",
        "# они работают намного быстрее чем \"iterrows()\" и \"apply()\". В данном случае воспользуемся \"iterrows()\" так как датасет не такой большой\n",
        "\n",
        "predicts = []\n",
        "for index, row in pd.DataFrame(test_data[['model_info', 'productionDate']]).iterrows():\n",
        "    query = f\"model_info == '{row[0]}' and productionDate == '{row[1]}'\"\n",
        "    predicts.append(train_data.query(query)['price'].median())\n",
        "\n",
        "# заполним не найденные совпадения\n",
        "predicts = pd.DataFrame(predicts)\n",
        "predicts = predicts.fillna(predicts.median())\n",
        "\n",
        "# округлим\n",
        "predicts = (predicts // 1000) * 1000\n",
        "\n",
        "#оцениваем точность\n",
        "print(f\"Точность наивной модели по метрике MAPE: {(mape(test_data['price'], predicts.values[:, 0]))*100:0.2f}%\")"
      ],
      "execution_count": 27,
      "outputs": [
        {
          "output_type": "stream",
          "text": [
            "Точность наивной модели по метрике MAPE: 19.88%\n"
          ],
          "name": "stdout"
        }
      ]
    },
    {
      "cell_type": "markdown",
      "metadata": {
        "id": "PRrqmc4kmiv4"
      },
      "source": [
        "По поводу итераций подробно расписано [здесь](https://stackoverflow.com/questions/16476924/how-to-iterate-over-rows-in-a-dataframe-in-pandas)"
      ]
    },
    {
      "cell_type": "code",
      "metadata": {
        "id": "cI6RgyiTmyNk"
      },
      "source": [
        ""
      ],
      "execution_count": null,
      "outputs": []
    }
  ]
}