{
  "nbformat": 4,
  "nbformat_minor": 0,
  "metadata": {
    "colab": {
      "name": "multi_input_nlp.ipynb",
      "provenance": [],
      "collapsed_sections": [],
      "toc_visible": true,
      "authorship_tag": "ABX9TyPkJbuFdhAfTVsIEzJKfRUD",
      "include_colab_link": true
    },
    "kernelspec": {
      "name": "python3",
      "display_name": "Python 3"
    },
    "accelerator": "GPU"
  },
  "cells": [
    {
      "cell_type": "markdown",
      "metadata": {
        "id": "view-in-github",
        "colab_type": "text"
      },
      "source": [
        "<a href=\"https://colab.research.google.com/github/alxkzncoff/skillfactory_rds6_car_price_prediction_ml_dl/blob/main/model/multi_input_nlp.ipynb\" target=\"_parent\"><img src=\"https://colab.research.google.com/assets/colab-badge.svg\" alt=\"Open In Colab\"/></a>"
      ]
    },
    {
      "cell_type": "markdown",
      "metadata": {
        "id": "W7SlYtU5mQI0"
      },
      "source": [
        "# INSATLL"
      ]
    },
    {
      "cell_type": "code",
      "metadata": {
        "id": "ZN2lufZil_XA",
        "outputId": "1e40a540-cb85-4ea9-c575-ecca516208d8",
        "colab": {
          "base_uri": "https://localhost:8080/"
        }
      },
      "source": [
        "!pip install -q tensorflow==2.3\n",
        "!pip install PyDrive\n",
        "!mkdir work_dir\n",
        "\n",
        "!pip install pymystem3"
      ],
      "execution_count": 1,
      "outputs": [
        {
          "output_type": "stream",
          "text": [
            "Requirement already satisfied: PyDrive in /usr/local/lib/python3.6/dist-packages (1.3.1)\n",
            "Requirement already satisfied: oauth2client>=4.0.0 in /usr/local/lib/python3.6/dist-packages (from PyDrive) (4.1.3)\n",
            "Requirement already satisfied: google-api-python-client>=1.2 in /usr/local/lib/python3.6/dist-packages (from PyDrive) (1.7.12)\n",
            "Requirement already satisfied: PyYAML>=3.0 in /usr/local/lib/python3.6/dist-packages (from PyDrive) (3.13)\n",
            "Requirement already satisfied: httplib2>=0.9.1 in /usr/local/lib/python3.6/dist-packages (from oauth2client>=4.0.0->PyDrive) (0.17.4)\n",
            "Requirement already satisfied: six>=1.6.1 in /usr/local/lib/python3.6/dist-packages (from oauth2client>=4.0.0->PyDrive) (1.15.0)\n",
            "Requirement already satisfied: pyasn1>=0.1.7 in /usr/local/lib/python3.6/dist-packages (from oauth2client>=4.0.0->PyDrive) (0.4.8)\n",
            "Requirement already satisfied: pyasn1-modules>=0.0.5 in /usr/local/lib/python3.6/dist-packages (from oauth2client>=4.0.0->PyDrive) (0.2.8)\n",
            "Requirement already satisfied: rsa>=3.1.4 in /usr/local/lib/python3.6/dist-packages (from oauth2client>=4.0.0->PyDrive) (4.6)\n",
            "Requirement already satisfied: uritemplate<4dev,>=3.0.0 in /usr/local/lib/python3.6/dist-packages (from google-api-python-client>=1.2->PyDrive) (3.0.1)\n",
            "Requirement already satisfied: google-auth>=1.4.1 in /usr/local/lib/python3.6/dist-packages (from google-api-python-client>=1.2->PyDrive) (1.17.2)\n",
            "Requirement already satisfied: google-auth-httplib2>=0.0.3 in /usr/local/lib/python3.6/dist-packages (from google-api-python-client>=1.2->PyDrive) (0.0.4)\n",
            "Requirement already satisfied: cachetools<5.0,>=2.0.0 in /usr/local/lib/python3.6/dist-packages (from google-auth>=1.4.1->google-api-python-client>=1.2->PyDrive) (4.1.1)\n",
            "Requirement already satisfied: setuptools>=40.3.0 in /usr/local/lib/python3.6/dist-packages (from google-auth>=1.4.1->google-api-python-client>=1.2->PyDrive) (50.3.2)\n",
            "mkdir: cannot create directory ‘work_dir’: File exists\n",
            "Requirement already satisfied: pymystem3 in /usr/local/lib/python3.6/dist-packages (0.2.0)\n",
            "Requirement already satisfied: requests in /usr/local/lib/python3.6/dist-packages (from pymystem3) (2.23.0)\n",
            "Requirement already satisfied: idna<3,>=2.5 in /usr/local/lib/python3.6/dist-packages (from requests->pymystem3) (2.10)\n",
            "Requirement already satisfied: urllib3!=1.25.0,!=1.25.1,<1.26,>=1.21.1 in /usr/local/lib/python3.6/dist-packages (from requests->pymystem3) (1.24.3)\n",
            "Requirement already satisfied: chardet<4,>=3.0.2 in /usr/local/lib/python3.6/dist-packages (from requests->pymystem3) (3.0.4)\n",
            "Requirement already satisfied: certifi>=2017.4.17 in /usr/local/lib/python3.6/dist-packages (from requests->pymystem3) (2020.6.20)\n"
          ],
          "name": "stdout"
        }
      ]
    },
    {
      "cell_type": "markdown",
      "metadata": {
        "id": "36xj-lddmTKO"
      },
      "source": [
        "# DEFINE"
      ]
    },
    {
      "cell_type": "code",
      "metadata": {
        "id": "JbCIbylZmT8v"
      },
      "source": [
        "DATA_PATH                           = '/content/work_dir'\n",
        "RANDOM_SEED                         = 42"
      ],
      "execution_count": 2,
      "outputs": []
    },
    {
      "cell_type": "markdown",
      "metadata": {
        "id": "QK3tpRVjmEms"
      },
      "source": [
        "# IMPORT"
      ]
    },
    {
      "cell_type": "code",
      "metadata": {
        "id": "IgLP6pr9mFXq",
        "outputId": "2a2f2e13-3b35-4591-92cb-c24296f38ea8",
        "colab": {
          "base_uri": "https://localhost:8080/"
        }
      },
      "source": [
        "# Data access\n",
        "from pydrive.auth import GoogleAuth\n",
        "from pydrive.drive import GoogleDrive\n",
        "from google.colab import auth\n",
        "from oauth2client.client import GoogleCredentials\n",
        "\n",
        "# General\n",
        "import random\n",
        "import numpy as np\n",
        "import pandas as pd\n",
        "import matplotlib.pyplot as plt\n",
        "import seaborn as sns\n",
        "import os\n",
        "import sys\n",
        "import PIL\n",
        "import cv2\n",
        "import re\n",
        "import keras\n",
        "\n",
        "# NLP\n",
        "import nltk\n",
        "nltk.download('punkt')\n",
        "nltk.download(\"stopwords\")\n",
        "\n",
        "from nltk.corpus import stopwords\n",
        "from pymystem3 import Mystem\n",
        "from string import punctuation\n",
        "import codecs\n",
        "\n",
        "# ML\n",
        "from sklearn.preprocessing import MinMaxScaler\n",
        "from sklearn.model_selection import train_test_split\n",
        "from sklearn.feature_extraction.text import CountVectorizer, TfidfVectorizer, TfidfTransformer\n",
        "\n",
        "# KERAS\n",
        "import tensorflow as tf\n",
        "import tensorflow.keras.layers as L\n",
        "from tensorflow.keras.models import Model, Sequential\n",
        "from tensorflow.keras.preprocessing.text import Tokenizer\n",
        "from tensorflow.keras.preprocessing import sequence\n",
        "from tensorflow.keras.callbacks import ModelCheckpoint, EarlyStopping"
      ],
      "execution_count": 3,
      "outputs": [
        {
          "output_type": "stream",
          "text": [
            "[nltk_data] Downloading package punkt to /root/nltk_data...\n",
            "[nltk_data]   Package punkt is already up-to-date!\n",
            "[nltk_data] Downloading package stopwords to /root/nltk_data...\n",
            "[nltk_data]   Package stopwords is already up-to-date!\n"
          ],
          "name": "stdout"
        }
      ]
    },
    {
      "cell_type": "code",
      "metadata": {
        "id": "BrUYPwlCKfY1",
        "outputId": "fe37c98a-360b-4fac-fc74-d83469ae439c",
        "colab": {
          "base_uri": "https://localhost:8080/"
        }
      },
      "source": [
        "# Чтобы Mystem библиотека работал корректно\n",
        "mystem = Mystem() \n",
        "!wget http://download.cdn.yandex.net/mystem/mystem-3.0-linux3.1-64bit.tar.gz\n",
        "!tar -xvf mystem-3.0-linux3.1-64bit.tar.gz\n",
        "!cp mystem /root/.local/bin/mystem"
      ],
      "execution_count": 4,
      "outputs": [
        {
          "output_type": "stream",
          "text": [
            "--2020-11-06 19:41:43--  http://download.cdn.yandex.net/mystem/mystem-3.0-linux3.1-64bit.tar.gz\n",
            "Resolving download.cdn.yandex.net (download.cdn.yandex.net)... 5.45.205.241, 5.45.205.244, 5.45.205.242, ...\n",
            "Connecting to download.cdn.yandex.net (download.cdn.yandex.net)|5.45.205.241|:80... connected.\n",
            "HTTP request sent, awaiting response... 302 Found\n",
            "Location: http://cache-mskmar13.cdn.yandex.net/download.cdn.yandex.net/mystem/mystem-3.0-linux3.1-64bit.tar.gz [following]\n",
            "--2020-11-06 19:41:43--  http://cache-mskmar13.cdn.yandex.net/download.cdn.yandex.net/mystem/mystem-3.0-linux3.1-64bit.tar.gz\n",
            "Resolving cache-mskmar13.cdn.yandex.net (cache-mskmar13.cdn.yandex.net)... 5.45.222.86, 2a02:6b8:0:2b03::86\n",
            "Connecting to cache-mskmar13.cdn.yandex.net (cache-mskmar13.cdn.yandex.net)|5.45.222.86|:80... connected.\n",
            "HTTP request sent, awaiting response... 200 OK\n",
            "Length: 16457938 (16M) [application/octet-stream]\n",
            "Saving to: ‘mystem-3.0-linux3.1-64bit.tar.gz.4’\n",
            "\n",
            "mystem-3.0-linux3.1 100%[===================>]  15.70M  9.55MB/s    in 1.6s    \n",
            "\n",
            "2020-11-06 19:41:45 (9.55 MB/s) - ‘mystem-3.0-linux3.1-64bit.tar.gz.4’ saved [16457938/16457938]\n",
            "\n",
            "mystem\n"
          ],
          "name": "stdout"
        }
      ]
    },
    {
      "cell_type": "markdown",
      "metadata": {
        "id": "Zyc-nQC4SENb"
      },
      "source": [
        "# DOWNLOAD DATA"
      ]
    },
    {
      "cell_type": "code",
      "metadata": {
        "id": "OLz6hwPHLc9r"
      },
      "source": [
        "# Authenticate and create the PyDrive client.\n",
        "auth.authenticate_user()\n",
        "gauth = GoogleAuth()\n",
        "gauth.credentials = GoogleCredentials.get_application_default()\n",
        "drive = GoogleDrive(gauth)"
      ],
      "execution_count": 5,
      "outputs": []
    },
    {
      "cell_type": "code",
      "metadata": {
        "id": "183lq3BzKnn0"
      },
      "source": [
        "# Download clear_train.csv from google drive to Colab VM.\n",
        "downloaded = drive.CreateFile({'id':\"1-3kiZxEddvuNFoRTfMA6cA8bu7LjP2b3\"}) # откуда берем файл\n",
        "downloaded.GetContentFile(DATA_PATH+'/clear_train.csv') # куда сохраняем файл в вирутальной машине колаба\n",
        "\n",
        "# Download clear_test.csv from google drive to Colab VM.\n",
        "downloaded = drive.CreateFile({'id':\"1-0yG59TcpJoDSeOclid1z-nc1Fh3yud2\"})\n",
        "downloaded.GetContentFile(DATA_PATH+'/clear_test.csv')\n",
        "\n",
        "# Download sample_submission from google drive to Colab VM.\n",
        "downloaded = drive.CreateFile({'id':\"1Edwuioev6uEyeXuCQuloPNQ70V5-3HZG\"})\n",
        "downloaded.GetContentFile(DATA_PATH+'/sample_submission.csv')"
      ],
      "execution_count": 6,
      "outputs": []
    },
    {
      "cell_type": "markdown",
      "metadata": {
        "id": "OhdswXt0Mgg-"
      },
      "source": [
        "Чтобы не забыть:\n",
        "\n",
        "`drive.CreateFile({'id':\"file ID\"})`, где file ID - это ID который можно найти в ссылке на файл. Например для сслыки **https://drive.google.com/file/d/1-3kiZxEddvuNFoRTfMA6cA8bu7LjP2b3/view?usp=sharing** ID будет `1-3kiZxEddvuNFoRTfMA6cA8bu7LjP2b3`.\n",
        "\n",
        "Данные с которыми будешь работать лучше сразу сохранять в ВМ колаба, чтобы обработка происходила быстрее, особенно когда работаем с изображениями (строим нейроки для Computer Vision).\n",
        "\n",
        "Как сохранять файлы хорошо расписано [тут](https://buomsoo-kim.github.io/colab/2018/04/16/Importing-files-from-Google-Drive-in-Google-Colab.md/) и [тут](https://stackoverflow.com/questions/48376580/google-colab-how-to-read-data-from-my-google-drive)."
      ]
    },
    {
      "cell_type": "code",
      "metadata": {
        "id": "F29f4KPZmbg_"
      },
      "source": [
        "train = pd.read_csv(DATA_PATH+'/clear_train.csv')\n",
        "test = pd.read_csv(DATA_PATH+'/clear_test.csv')\n",
        "sample_submission = pd.read_csv(DATA_PATH+'/sample_submission.csv')\n",
        "text_df = pd.concat([train.description, test.description])"
      ],
      "execution_count": 7,
      "outputs": []
    },
    {
      "cell_type": "markdown",
      "metadata": {
        "id": "mHI0mrAgyiXC"
      },
      "source": [
        "# PREPARETION"
      ]
    },
    {
      "cell_type": "code",
      "metadata": {
        "id": "wV1kycZ6ypWm"
      },
      "source": [
        "def data_prep(TRAIN_DF, TEST_DF):\n",
        "\n",
        "  # ################## Concat data ####################\n",
        "  df = pd.concat([TRAIN_DF, TEST_DF])\n",
        "\n",
        "  # ################## Tag data #####################\n",
        "  df.price.fillna(0, inplace=True)\n",
        "  df['sample'] = df.price.apply(lambda x:0 if x == 0 else 1)\n",
        "\n",
        "  # ################## Prepare numeric data (Logarithm) ####################\n",
        "  df.engine_displacement = df.engine_displacement.max() - np.log(df.engine_displacement)\n",
        "  df.engine_power = df.engine_power.max() - np.log(df.engine_power)\n",
        "  # df.model_date = df.model_date.max() - np.log(df.model_date)\n",
        "  # df.production_date = df.production_date.max() - np.log(df.production_date)\n",
        "  # df.days_in_use = df.days_in_use.max() - np.log(df.days_in_use)\n",
        "\n",
        "  categorical_features = ['body', 'brand', 'color', 'fuel', 'model_info', 'name',  'num_of_doors',  'transmission', 'owners', 'vehicle_title', 'drive_type']\n",
        "  numerical_features = ['engine_displacement', 'engine_power', 'mileage', 'model_date', 'production_date', 'tax', 'days_in_use']\n",
        "\n",
        "  # ############################## Label Encoding #####################################\n",
        "  for column in categorical_features:\n",
        "      df[column] = df[column].astype('category').cat.codes\n",
        "  \n",
        "  # ############################### One Hot encoding ###################################\n",
        "  df = pd.get_dummies(df, columns=categorical_features, dummy_na=False)\n",
        "\n",
        "  # ############################### Normalization ######################################\n",
        "  MMS = MinMaxScaler()\n",
        "\n",
        "  MMS.fit(df[numerical_features])\n",
        "  df[numerical_features] = MMS.transform(df[numerical_features])\n",
        "\n",
        "  return df"
      ],
      "execution_count": 8,
      "outputs": []
    },
    {
      "cell_type": "code",
      "metadata": {
        "id": "xAA8BDCqza4I",
        "outputId": "9120bb3e-d057-47e7-dbad-0af9a6be9e30",
        "colab": {
          "base_uri": "https://localhost:8080/",
          "height": 576
        }
      },
      "source": [
        "df = data_prep(train, test)\n",
        "df.head()"
      ],
      "execution_count": 9,
      "outputs": [
        {
          "output_type": "execute_result",
          "data": {
            "text/html": [
              "<div>\n",
              "<style scoped>\n",
              "    .dataframe tbody tr th:only-of-type {\n",
              "        vertical-align: middle;\n",
              "    }\n",
              "\n",
              "    .dataframe tbody tr th {\n",
              "        vertical-align: top;\n",
              "    }\n",
              "\n",
              "    .dataframe thead th {\n",
              "        text-align: right;\n",
              "    }\n",
              "</style>\n",
              "<table border=\"1\" class=\"dataframe\">\n",
              "  <thead>\n",
              "    <tr style=\"text-align: right;\">\n",
              "      <th></th>\n",
              "      <th>description</th>\n",
              "      <th>engine_displacement</th>\n",
              "      <th>engine_power</th>\n",
              "      <th>mileage</th>\n",
              "      <th>model_date</th>\n",
              "      <th>price</th>\n",
              "      <th>production_date</th>\n",
              "      <th>tax</th>\n",
              "      <th>days_in_use</th>\n",
              "      <th>sample</th>\n",
              "      <th>body_0</th>\n",
              "      <th>body_1</th>\n",
              "      <th>body_2</th>\n",
              "      <th>body_3</th>\n",
              "      <th>body_4</th>\n",
              "      <th>body_5</th>\n",
              "      <th>body_6</th>\n",
              "      <th>body_7</th>\n",
              "      <th>body_8</th>\n",
              "      <th>body_9</th>\n",
              "      <th>body_10</th>\n",
              "      <th>body_11</th>\n",
              "      <th>body_12</th>\n",
              "      <th>brand_0</th>\n",
              "      <th>brand_1</th>\n",
              "      <th>brand_2</th>\n",
              "      <th>color_0</th>\n",
              "      <th>color_1</th>\n",
              "      <th>color_2</th>\n",
              "      <th>color_3</th>\n",
              "      <th>color_4</th>\n",
              "      <th>color_5</th>\n",
              "      <th>color_6</th>\n",
              "      <th>color_7</th>\n",
              "      <th>color_8</th>\n",
              "      <th>color_9</th>\n",
              "      <th>color_10</th>\n",
              "      <th>color_11</th>\n",
              "      <th>color_12</th>\n",
              "      <th>color_13</th>\n",
              "      <th>...</th>\n",
              "      <th>name_337</th>\n",
              "      <th>name_338</th>\n",
              "      <th>name_339</th>\n",
              "      <th>name_340</th>\n",
              "      <th>name_341</th>\n",
              "      <th>name_342</th>\n",
              "      <th>name_343</th>\n",
              "      <th>name_344</th>\n",
              "      <th>name_345</th>\n",
              "      <th>name_346</th>\n",
              "      <th>name_347</th>\n",
              "      <th>name_348</th>\n",
              "      <th>name_349</th>\n",
              "      <th>name_350</th>\n",
              "      <th>name_351</th>\n",
              "      <th>name_352</th>\n",
              "      <th>name_353</th>\n",
              "      <th>name_354</th>\n",
              "      <th>name_355</th>\n",
              "      <th>name_356</th>\n",
              "      <th>name_357</th>\n",
              "      <th>name_358</th>\n",
              "      <th>name_359</th>\n",
              "      <th>num_of_doors_0</th>\n",
              "      <th>num_of_doors_1</th>\n",
              "      <th>num_of_doors_2</th>\n",
              "      <th>num_of_doors_3</th>\n",
              "      <th>transmission_0</th>\n",
              "      <th>transmission_1</th>\n",
              "      <th>transmission_2</th>\n",
              "      <th>transmission_3</th>\n",
              "      <th>owners_0</th>\n",
              "      <th>owners_1</th>\n",
              "      <th>owners_2</th>\n",
              "      <th>owners_3</th>\n",
              "      <th>vehicle_title_0</th>\n",
              "      <th>vehicle_title_1</th>\n",
              "      <th>drive_type_0</th>\n",
              "      <th>drive_type_1</th>\n",
              "      <th>drive_type_2</th>\n",
              "    </tr>\n",
              "  </thead>\n",
              "  <tbody>\n",
              "    <tr>\n",
              "      <th>0</th>\n",
              "      <td>Авто на бодром ходу.  Все работает отлично.  П...</td>\n",
              "      <td>0.328812</td>\n",
              "      <td>0.423210</td>\n",
              "      <td>0.244999</td>\n",
              "      <td>0.750000</td>\n",
              "      <td>599000.0</td>\n",
              "      <td>0.657895</td>\n",
              "      <td>0.383285</td>\n",
              "      <td>0.342100</td>\n",
              "      <td>1</td>\n",
              "      <td>0</td>\n",
              "      <td>0</td>\n",
              "      <td>0</td>\n",
              "      <td>0</td>\n",
              "      <td>0</td>\n",
              "      <td>0</td>\n",
              "      <td>0</td>\n",
              "      <td>0</td>\n",
              "      <td>0</td>\n",
              "      <td>0</td>\n",
              "      <td>1</td>\n",
              "      <td>0</td>\n",
              "      <td>0</td>\n",
              "      <td>0</td>\n",
              "      <td>1</td>\n",
              "      <td>0</td>\n",
              "      <td>0</td>\n",
              "      <td>0</td>\n",
              "      <td>0</td>\n",
              "      <td>0</td>\n",
              "      <td>0</td>\n",
              "      <td>0</td>\n",
              "      <td>0</td>\n",
              "      <td>0</td>\n",
              "      <td>0</td>\n",
              "      <td>0</td>\n",
              "      <td>0</td>\n",
              "      <td>0</td>\n",
              "      <td>0</td>\n",
              "      <td>0</td>\n",
              "      <td>...</td>\n",
              "      <td>0</td>\n",
              "      <td>0</td>\n",
              "      <td>0</td>\n",
              "      <td>0</td>\n",
              "      <td>0</td>\n",
              "      <td>0</td>\n",
              "      <td>0</td>\n",
              "      <td>0</td>\n",
              "      <td>0</td>\n",
              "      <td>0</td>\n",
              "      <td>0</td>\n",
              "      <td>0</td>\n",
              "      <td>0</td>\n",
              "      <td>0</td>\n",
              "      <td>0</td>\n",
              "      <td>0</td>\n",
              "      <td>0</td>\n",
              "      <td>0</td>\n",
              "      <td>0</td>\n",
              "      <td>0</td>\n",
              "      <td>0</td>\n",
              "      <td>0</td>\n",
              "      <td>0</td>\n",
              "      <td>0</td>\n",
              "      <td>0</td>\n",
              "      <td>1</td>\n",
              "      <td>0</td>\n",
              "      <td>1</td>\n",
              "      <td>0</td>\n",
              "      <td>0</td>\n",
              "      <td>0</td>\n",
              "      <td>0</td>\n",
              "      <td>0</td>\n",
              "      <td>0</td>\n",
              "      <td>1</td>\n",
              "      <td>0</td>\n",
              "      <td>1</td>\n",
              "      <td>0</td>\n",
              "      <td>0</td>\n",
              "      <td>1</td>\n",
              "    </tr>\n",
              "    <tr>\n",
              "      <th>1</th>\n",
              "      <td>Продажа от собственника, второй владелец, ПТС ...</td>\n",
              "      <td>0.357585</td>\n",
              "      <td>0.552008</td>\n",
              "      <td>0.182999</td>\n",
              "      <td>0.833333</td>\n",
              "      <td>850000.0</td>\n",
              "      <td>0.763158</td>\n",
              "      <td>0.118732</td>\n",
              "      <td>0.236833</td>\n",
              "      <td>1</td>\n",
              "      <td>0</td>\n",
              "      <td>0</td>\n",
              "      <td>0</td>\n",
              "      <td>0</td>\n",
              "      <td>0</td>\n",
              "      <td>0</td>\n",
              "      <td>0</td>\n",
              "      <td>0</td>\n",
              "      <td>0</td>\n",
              "      <td>0</td>\n",
              "      <td>1</td>\n",
              "      <td>0</td>\n",
              "      <td>0</td>\n",
              "      <td>1</td>\n",
              "      <td>0</td>\n",
              "      <td>0</td>\n",
              "      <td>0</td>\n",
              "      <td>0</td>\n",
              "      <td>0</td>\n",
              "      <td>0</td>\n",
              "      <td>0</td>\n",
              "      <td>0</td>\n",
              "      <td>0</td>\n",
              "      <td>0</td>\n",
              "      <td>0</td>\n",
              "      <td>0</td>\n",
              "      <td>0</td>\n",
              "      <td>1</td>\n",
              "      <td>0</td>\n",
              "      <td>0</td>\n",
              "      <td>...</td>\n",
              "      <td>0</td>\n",
              "      <td>0</td>\n",
              "      <td>0</td>\n",
              "      <td>0</td>\n",
              "      <td>0</td>\n",
              "      <td>0</td>\n",
              "      <td>0</td>\n",
              "      <td>0</td>\n",
              "      <td>0</td>\n",
              "      <td>0</td>\n",
              "      <td>0</td>\n",
              "      <td>0</td>\n",
              "      <td>0</td>\n",
              "      <td>0</td>\n",
              "      <td>0</td>\n",
              "      <td>0</td>\n",
              "      <td>0</td>\n",
              "      <td>0</td>\n",
              "      <td>0</td>\n",
              "      <td>0</td>\n",
              "      <td>0</td>\n",
              "      <td>0</td>\n",
              "      <td>0</td>\n",
              "      <td>0</td>\n",
              "      <td>0</td>\n",
              "      <td>1</td>\n",
              "      <td>0</td>\n",
              "      <td>0</td>\n",
              "      <td>1</td>\n",
              "      <td>0</td>\n",
              "      <td>0</td>\n",
              "      <td>0</td>\n",
              "      <td>0</td>\n",
              "      <td>1</td>\n",
              "      <td>0</td>\n",
              "      <td>0</td>\n",
              "      <td>1</td>\n",
              "      <td>0</td>\n",
              "      <td>1</td>\n",
              "      <td>0</td>\n",
              "    </tr>\n",
              "    <tr>\n",
              "      <th>2</th>\n",
              "      <td>Внимание! Только для клиентов AVILON Автомобил...</td>\n",
              "      <td>0.264526</td>\n",
              "      <td>0.370477</td>\n",
              "      <td>0.122732</td>\n",
              "      <td>0.791667</td>\n",
              "      <td>1325000.0</td>\n",
              "      <td>0.815789</td>\n",
              "      <td>0.432277</td>\n",
              "      <td>0.184163</td>\n",
              "      <td>1</td>\n",
              "      <td>0</td>\n",
              "      <td>0</td>\n",
              "      <td>0</td>\n",
              "      <td>0</td>\n",
              "      <td>0</td>\n",
              "      <td>0</td>\n",
              "      <td>0</td>\n",
              "      <td>0</td>\n",
              "      <td>0</td>\n",
              "      <td>0</td>\n",
              "      <td>1</td>\n",
              "      <td>0</td>\n",
              "      <td>0</td>\n",
              "      <td>0</td>\n",
              "      <td>0</td>\n",
              "      <td>1</td>\n",
              "      <td>0</td>\n",
              "      <td>0</td>\n",
              "      <td>0</td>\n",
              "      <td>0</td>\n",
              "      <td>0</td>\n",
              "      <td>0</td>\n",
              "      <td>0</td>\n",
              "      <td>0</td>\n",
              "      <td>0</td>\n",
              "      <td>0</td>\n",
              "      <td>0</td>\n",
              "      <td>0</td>\n",
              "      <td>0</td>\n",
              "      <td>0</td>\n",
              "      <td>...</td>\n",
              "      <td>0</td>\n",
              "      <td>0</td>\n",
              "      <td>0</td>\n",
              "      <td>0</td>\n",
              "      <td>0</td>\n",
              "      <td>0</td>\n",
              "      <td>0</td>\n",
              "      <td>0</td>\n",
              "      <td>0</td>\n",
              "      <td>0</td>\n",
              "      <td>0</td>\n",
              "      <td>0</td>\n",
              "      <td>0</td>\n",
              "      <td>0</td>\n",
              "      <td>0</td>\n",
              "      <td>0</td>\n",
              "      <td>0</td>\n",
              "      <td>0</td>\n",
              "      <td>0</td>\n",
              "      <td>0</td>\n",
              "      <td>0</td>\n",
              "      <td>0</td>\n",
              "      <td>0</td>\n",
              "      <td>0</td>\n",
              "      <td>0</td>\n",
              "      <td>1</td>\n",
              "      <td>0</td>\n",
              "      <td>1</td>\n",
              "      <td>0</td>\n",
              "      <td>0</td>\n",
              "      <td>0</td>\n",
              "      <td>0</td>\n",
              "      <td>0</td>\n",
              "      <td>0</td>\n",
              "      <td>1</td>\n",
              "      <td>0</td>\n",
              "      <td>1</td>\n",
              "      <td>0</td>\n",
              "      <td>0</td>\n",
              "      <td>1</td>\n",
              "    </tr>\n",
              "    <tr>\n",
              "      <th>3</th>\n",
              "      <td>В комплекте зимние колёса. 27.07.2020 Замена п...</td>\n",
              "      <td>0.497904</td>\n",
              "      <td>0.608045</td>\n",
              "      <td>0.150999</td>\n",
              "      <td>0.833333</td>\n",
              "      <td>815000.0</td>\n",
              "      <td>0.763158</td>\n",
              "      <td>0.077810</td>\n",
              "      <td>0.236833</td>\n",
              "      <td>1</td>\n",
              "      <td>0</td>\n",
              "      <td>0</td>\n",
              "      <td>0</td>\n",
              "      <td>0</td>\n",
              "      <td>0</td>\n",
              "      <td>0</td>\n",
              "      <td>0</td>\n",
              "      <td>0</td>\n",
              "      <td>0</td>\n",
              "      <td>0</td>\n",
              "      <td>1</td>\n",
              "      <td>0</td>\n",
              "      <td>0</td>\n",
              "      <td>1</td>\n",
              "      <td>0</td>\n",
              "      <td>0</td>\n",
              "      <td>0</td>\n",
              "      <td>1</td>\n",
              "      <td>0</td>\n",
              "      <td>0</td>\n",
              "      <td>0</td>\n",
              "      <td>0</td>\n",
              "      <td>0</td>\n",
              "      <td>0</td>\n",
              "      <td>0</td>\n",
              "      <td>0</td>\n",
              "      <td>0</td>\n",
              "      <td>0</td>\n",
              "      <td>0</td>\n",
              "      <td>0</td>\n",
              "      <td>...</td>\n",
              "      <td>0</td>\n",
              "      <td>0</td>\n",
              "      <td>0</td>\n",
              "      <td>0</td>\n",
              "      <td>0</td>\n",
              "      <td>0</td>\n",
              "      <td>0</td>\n",
              "      <td>0</td>\n",
              "      <td>0</td>\n",
              "      <td>0</td>\n",
              "      <td>0</td>\n",
              "      <td>0</td>\n",
              "      <td>0</td>\n",
              "      <td>0</td>\n",
              "      <td>0</td>\n",
              "      <td>0</td>\n",
              "      <td>0</td>\n",
              "      <td>0</td>\n",
              "      <td>0</td>\n",
              "      <td>0</td>\n",
              "      <td>0</td>\n",
              "      <td>0</td>\n",
              "      <td>0</td>\n",
              "      <td>0</td>\n",
              "      <td>0</td>\n",
              "      <td>1</td>\n",
              "      <td>0</td>\n",
              "      <td>0</td>\n",
              "      <td>1</td>\n",
              "      <td>0</td>\n",
              "      <td>0</td>\n",
              "      <td>0</td>\n",
              "      <td>0</td>\n",
              "      <td>0</td>\n",
              "      <td>1</td>\n",
              "      <td>0</td>\n",
              "      <td>1</td>\n",
              "      <td>0</td>\n",
              "      <td>1</td>\n",
              "      <td>0</td>\n",
              "    </tr>\n",
              "    <tr>\n",
              "      <th>4</th>\n",
              "      <td>Отличный авто, 2011 года выпуска, кроме передн...</td>\n",
              "      <td>0.541843</td>\n",
              "      <td>0.660777</td>\n",
              "      <td>0.139999</td>\n",
              "      <td>0.750000</td>\n",
              "      <td>810000.0</td>\n",
              "      <td>0.763158</td>\n",
              "      <td>0.060519</td>\n",
              "      <td>0.236833</td>\n",
              "      <td>1</td>\n",
              "      <td>0</td>\n",
              "      <td>0</td>\n",
              "      <td>0</td>\n",
              "      <td>0</td>\n",
              "      <td>0</td>\n",
              "      <td>0</td>\n",
              "      <td>1</td>\n",
              "      <td>0</td>\n",
              "      <td>0</td>\n",
              "      <td>0</td>\n",
              "      <td>0</td>\n",
              "      <td>0</td>\n",
              "      <td>0</td>\n",
              "      <td>1</td>\n",
              "      <td>0</td>\n",
              "      <td>0</td>\n",
              "      <td>0</td>\n",
              "      <td>1</td>\n",
              "      <td>0</td>\n",
              "      <td>0</td>\n",
              "      <td>0</td>\n",
              "      <td>0</td>\n",
              "      <td>0</td>\n",
              "      <td>0</td>\n",
              "      <td>0</td>\n",
              "      <td>0</td>\n",
              "      <td>0</td>\n",
              "      <td>0</td>\n",
              "      <td>0</td>\n",
              "      <td>0</td>\n",
              "      <td>...</td>\n",
              "      <td>0</td>\n",
              "      <td>0</td>\n",
              "      <td>0</td>\n",
              "      <td>0</td>\n",
              "      <td>0</td>\n",
              "      <td>0</td>\n",
              "      <td>0</td>\n",
              "      <td>0</td>\n",
              "      <td>0</td>\n",
              "      <td>0</td>\n",
              "      <td>0</td>\n",
              "      <td>0</td>\n",
              "      <td>0</td>\n",
              "      <td>0</td>\n",
              "      <td>0</td>\n",
              "      <td>0</td>\n",
              "      <td>0</td>\n",
              "      <td>0</td>\n",
              "      <td>0</td>\n",
              "      <td>0</td>\n",
              "      <td>0</td>\n",
              "      <td>0</td>\n",
              "      <td>0</td>\n",
              "      <td>0</td>\n",
              "      <td>0</td>\n",
              "      <td>0</td>\n",
              "      <td>1</td>\n",
              "      <td>0</td>\n",
              "      <td>1</td>\n",
              "      <td>0</td>\n",
              "      <td>0</td>\n",
              "      <td>0</td>\n",
              "      <td>0</td>\n",
              "      <td>0</td>\n",
              "      <td>1</td>\n",
              "      <td>0</td>\n",
              "      <td>1</td>\n",
              "      <td>0</td>\n",
              "      <td>1</td>\n",
              "      <td>0</td>\n",
              "    </tr>\n",
              "  </tbody>\n",
              "</table>\n",
              "<p>5 rows × 545 columns</p>\n",
              "</div>"
            ],
            "text/plain": [
              "                                         description  ...  drive_type_2\n",
              "0  Авто на бодром ходу.  Все работает отлично.  П...  ...             1\n",
              "1  Продажа от собственника, второй владелец, ПТС ...  ...             0\n",
              "2  Внимание! Только для клиентов AVILON Автомобил...  ...             1\n",
              "3  В комплекте зимние колёса. 27.07.2020 Замена п...  ...             0\n",
              "4  Отличный авто, 2011 года выпуска, кроме передн...  ...             0\n",
              "\n",
              "[5 rows x 545 columns]"
            ]
          },
          "metadata": {
            "tags": []
          },
          "execution_count": 9
        }
      ]
    },
    {
      "cell_type": "code",
      "metadata": {
        "id": "QNpjE1VOpJG5",
        "outputId": "c69e174b-990b-4c42-ac4e-acccf2b1476e",
        "colab": {
          "base_uri": "https://localhost:8080/"
        }
      },
      "source": [
        "text_df"
      ],
      "execution_count": 10,
      "outputs": [
        {
          "output_type": "execute_result",
          "data": {
            "text/plain": [
              "0       Авто на бодром ходу.  Все работает отлично.  П...\n",
              "1       Продажа от собственника, второй владелец, ПТС ...\n",
              "2       Внимание! Только для клиентов AVILON Автомобил...\n",
              "3       В комплекте зимние колёса. 27.07.2020 Замена п...\n",
              "4       Отличный авто, 2011 года выпуска, кроме передн...\n",
              "                              ...                        \n",
              "1666    Продаётся любимица семьи. Автомобилем неактивн...\n",
              "1667    В продаже автомобиль от компании АО ABTODOM, о...\n",
              "1668    Машина в идеальном техническом состоянии. Обсл...\n",
              "1669    Автомобиль приобретался новым у дилера Avilon ...\n",
              "1670    ID: 38887\\nКомплектация-Comfort\\nГод выпуска в...\n",
              "Name: description, Length: 8353, dtype: object"
            ]
          },
          "metadata": {
            "tags": []
          },
          "execution_count": 10
        }
      ]
    },
    {
      "cell_type": "markdown",
      "metadata": {
        "id": "8yPoPtcGpK9M"
      },
      "source": [
        "# TO DO LIST\n",
        "\n",
        "1. Удалить все нерелевантные символы (например, любые символы, не относящиеся к цифро-буквенным).\n",
        "2. Токенизировать текст, разделив его на индивидуальные слова.\n",
        "3. Удалить нерелевантные слова — например, упоминания в Twitter или URL-ы.\n",
        "4. Перевести все символы в нижний регистр для того, чтобы слова «привет», «Привет» и «ПРИВЕТ» считались одним и тем же словом.\n",
        "5. Рассмотрите возможность совмещения слов, написанных с ошибками, или имеющих альтернативное написание (например, «круто»/«круть»/ «круууто»)\n",
        "6. Рассмотрите возможность проведения лемматизации, т. е. сведения различных форм одного слова к словарной форме (например, «машина» вместо «машиной», «на машине», «машинах» и пр.)"
      ]
    },
    {
      "cell_type": "markdown",
      "metadata": {
        "id": "wl3yylDbK6jE"
      },
      "source": [
        "# TEXT PREPARING"
      ]
    },
    {
      "cell_type": "code",
      "metadata": {
        "id": "VWFcct2Pd6ae"
      },
      "source": [
        "# Создаем леммитайзер и список стоп-слов\n",
        "mystem = Mystem() \n",
        "russian_stopwords = stopwords.words(\"russian\")\n",
        "\n",
        "# Функция для лемматизации и удалении стоп-слов\n",
        "def preprocess_text(text):\n",
        "    tokens = mystem.lemmatize(text.lower())\n",
        "    tokens = [token for token in tokens if token not in russian_stopwords\\\n",
        "              and token != \" \" \\\n",
        "              and token.strip() not in punctuation]\n",
        "    \n",
        "    text = \" \".join(tokens)\n",
        "    \n",
        "    return text"
      ],
      "execution_count": 11,
      "outputs": []
    },
    {
      "cell_type": "code",
      "metadata": {
        "id": "23cG0NlwxcAJ",
        "outputId": "57bef33d-23b7-4c98-a697-637122a6894f",
        "colab": {
          "base_uri": "https://localhost:8080/",
          "height": 52
        }
      },
      "source": [
        "text_df.iloc[0]"
      ],
      "execution_count": 12,
      "outputs": [
        {
          "output_type": "execute_result",
          "data": {
            "application/vnd.google.colaboratory.intrinsic+json": {
              "type": "string"
            },
            "text/plain": [
              "'Авто на бодром ходу.  Все работает отлично.  По электрике,ходовой.,АКПП ДВС нареканий нет..,   Масло не ест. .!!!Салон ухожен. На запчасти денег не жалел. Жидкости все поменял. Крашена одна дверь левая задняя. Штрафов и ограничений нет. ..!  Торг при осмотре. Возможен обмен на внедорожник или коммерческий транспорт. '"
            ]
          },
          "metadata": {
            "tags": []
          },
          "execution_count": 12
        }
      ]
    },
    {
      "cell_type": "code",
      "metadata": {
        "id": "kipUDnFgtvpF"
      },
      "source": [
        "text_df = text_df.apply(preprocess_text)"
      ],
      "execution_count": 13,
      "outputs": []
    },
    {
      "cell_type": "code",
      "metadata": {
        "id": "3oeDmn6LxMfC",
        "outputId": "db5b392f-38c2-4672-f430-af9700cd8a9f",
        "colab": {
          "base_uri": "https://localhost:8080/",
          "height": 52
        }
      },
      "source": [
        "text_df.iloc[0]"
      ],
      "execution_count": 14,
      "outputs": [
        {
          "output_type": "execute_result",
          "data": {
            "application/vnd.google.colaboratory.intrinsic+json": {
              "type": "string"
            },
            "text/plain": [
              "'авто бодрый ход работать отлично электрика ходовой акпп двс нарекание .. масло .!!! салон уходить запчасть деньги жалеть жидкость поменять красить дверь левый задний штраф ограничение ..! торг осмотр возможный обмен внедорожник коммерческий транспорт'"
            ]
          },
          "metadata": {
            "tags": []
          },
          "execution_count": 14
        }
      ]
    },
    {
      "cell_type": "code",
      "metadata": {
        "id": "AparuAPiA5-0"
      },
      "source": [
        "def reg_exp(text):\n",
        "\n",
        "  temp = ' '.join(re.findall(r'\\w+',text))\n",
        "  final = re.sub(r'[a-z]', '', temp)\n",
        "\n",
        "  return final"
      ],
      "execution_count": 15,
      "outputs": []
    },
    {
      "cell_type": "code",
      "metadata": {
        "id": "4L6atXVw7Tmg"
      },
      "source": [
        "text_df = text_df.apply(reg_exp)"
      ],
      "execution_count": 16,
      "outputs": []
    },
    {
      "cell_type": "code",
      "metadata": {
        "id": "h2IyXvC7BWo3",
        "outputId": "631f7fa3-e367-4784-8c3d-4279321264ce",
        "colab": {
          "base_uri": "https://localhost:8080/",
          "height": 52
        }
      },
      "source": [
        "text_df.iloc[0]"
      ],
      "execution_count": 17,
      "outputs": [
        {
          "output_type": "execute_result",
          "data": {
            "application/vnd.google.colaboratory.intrinsic+json": {
              "type": "string"
            },
            "text/plain": [
              "'авто бодрый ход работать отлично электрика ходовой акпп двс нарекание масло салон уходить запчасть деньги жалеть жидкость поменять красить дверь левый задний штраф ограничение торг осмотр возможный обмен внедорожник коммерческий транспорт'"
            ]
          },
          "metadata": {
            "tags": []
          },
          "execution_count": 17
        }
      ]
    },
    {
      "cell_type": "markdown",
      "metadata": {
        "id": "xYzzx0DS0qB-"
      },
      "source": [
        "# SPLIT"
      ]
    },
    {
      "cell_type": "code",
      "metadata": {
        "id": "I1rip6tr0raT"
      },
      "source": [
        "X = df.query('sample==1').drop(columns=['description', 'price', 'sample'])\n",
        "y = df.query('sample==1').price.values\n",
        "test = df.query('sample==0').drop(columns=['description', 'price', 'sample'])\n",
        "\n",
        "# ############ Split #################\n",
        "X_train, X_test, y_train, y_test = train_test_split(X,y, test_size=0.1, shuffle=True, random_state=RANDOM_SEED)\n",
        "\n",
        "text_train = text_df.iloc[X_train.index]\n",
        "text_test = text_df.iloc[X_test.index]\n",
        "text_sub = text_df.iloc[test.index]"
      ],
      "execution_count": 18,
      "outputs": []
    },
    {
      "cell_type": "markdown",
      "metadata": {
        "id": "2QX8P8ebxmq-"
      },
      "source": [
        "# TOKENIZE"
      ]
    },
    {
      "cell_type": "markdown",
      "metadata": {
        "id": "b5RtNzLt6Sir"
      },
      "source": [
        "## Bag of words with tfidf 2-grams"
      ]
    },
    {
      "cell_type": "code",
      "metadata": {
        "id": "FsKolql7D8Wq"
      },
      "source": [
        "  MAX_WORDS=1500"
      ],
      "execution_count": 19,
      "outputs": []
    },
    {
      "cell_type": "code",
      "metadata": {
        "id": "CjgwuUMJ6O88"
      },
      "source": [
        "def bow_tfidf_2_grams(TEXT, TRAIN_DF, TEST_DF, SUB_DF):\n",
        "\n",
        "  tfidf_vectorizer=TfidfVectorizer(analyzer='word', ngram_range=(2,2), max_features=MAX_WORDS, use_idf=True, smooth_idf=True)\n",
        "  tfidf_vectorizer_vectors=tfidf_vectorizer.fit(TEXT)\n",
        "\n",
        "  train_tfidf = tfidf_vectorizer.transform(TRAIN_DF)\n",
        "  test_tfidf = tfidf_vectorizer.transform(TEST_DF)\n",
        "  text_sub_tfidf = tfidf_vectorizer.transform(SUB_DF)\n",
        "\n",
        "  print(train_tfidf.shape, test_tfidf.shape, text_sub_tfidf.shape, )\n",
        "\n",
        "  text_df_transform = tfidf_vectorizer.transform(text_df)\n",
        "\n",
        "  train=train_tfidf.todense()\n",
        "  test=test_tfidf.todense()\n",
        "  sub=text_sub_tfidf.todense()\n",
        "\n",
        "  return train, test, sub, text_df_transform"
      ],
      "execution_count": 28,
      "outputs": []
    },
    {
      "cell_type": "code",
      "metadata": {
        "id": "1YkK-XcZ7ICq",
        "outputId": "e9bda877-9c89-4bb0-c57b-24522be20186",
        "colab": {
          "base_uri": "https://localhost:8080/"
        }
      },
      "source": [
        "train_tfidf, test_tfidf, text_sub_tfidf, text = bow_tfidf_2_grams(text_df, text_train, text_test, text_sub)"
      ],
      "execution_count": 29,
      "outputs": [
        {
          "output_type": "stream",
          "text": [
            "(6013, 1500) (669, 1500) (1671, 1500)\n"
          ],
          "name": "stdout"
        }
      ]
    },
    {
      "cell_type": "code",
      "metadata": {
        "id": "aWlbieTAs7vG"
      },
      "source": [
        "# MAX_WORDS=1000"
      ],
      "execution_count": 134,
      "outputs": []
    },
    {
      "cell_type": "code",
      "metadata": {
        "id": "vcXZgRDFpAqe"
      },
      "source": [
        "# tfidf_vectorizer=TfidfVectorizer(analyzer='word', ngram_range=(2,2), max_features=MAX_WORDS, use_idf=True, smooth_idf=True)\n",
        "# tfidf_vectorizer_vectors=tfidf_vectorizer.fit(text_df)"
      ],
      "execution_count": 135,
      "outputs": []
    },
    {
      "cell_type": "code",
      "metadata": {
        "id": "ZfYgKkJOpR0F",
        "outputId": "cfb64b64-b72b-4fdd-858a-fff35a08e7ed",
        "colab": {
          "base_uri": "https://localhost:8080/"
        }
      },
      "source": [
        "# train_tfidf = tfidf_vectorizer.transform(text_train)\n",
        "# test_tfidf = tfidf_vectorizer.transform(text_test)\n",
        "# text_sub_tfidf = tfidf_vectorizer.transform(text_sub)\n",
        "\n",
        "# print(train_tfidf.shape, test_tfidf.shape, text_sub_tfidf.shape, )"
      ],
      "execution_count": 136,
      "outputs": [
        {
          "output_type": "stream",
          "text": [
            "(6013, 1000) (669, 1000) (1671, 1000)\n"
          ],
          "name": "stdout"
        }
      ]
    },
    {
      "cell_type": "code",
      "metadata": {
        "id": "V3NILLxbsEuv"
      },
      "source": [
        "# text_df_transform = tfidf_vectorizer.transform(text_df)"
      ],
      "execution_count": 137,
      "outputs": []
    },
    {
      "cell_type": "code",
      "metadata": {
        "id": "V0-ffAFPsKR5",
        "outputId": "1f784f99-550e-4adb-9d5e-a8b8194c0e30",
        "colab": {
          "base_uri": "https://localhost:8080/"
        }
      },
      "source": [
        "# text_df_transform.shape"
      ],
      "execution_count": 138,
      "outputs": [
        {
          "output_type": "execute_result",
          "data": {
            "text/plain": [
              "(8353, 1000)"
            ]
          },
          "metadata": {
            "tags": []
          },
          "execution_count": 138
        }
      ]
    },
    {
      "cell_type": "code",
      "metadata": {
        "id": "jx5-R8fBwoYT"
      },
      "source": [
        "# train_tfidf=train_tfidf.todense()\n",
        "# test_tfidf=test_tfidf.todense()\n",
        "# text_sub_tfidf=text_sub_tfidf.todense()"
      ],
      "execution_count": 139,
      "outputs": []
    },
    {
      "cell_type": "code",
      "metadata": {
        "id": "_RzyLPOp057F"
      },
      "source": [
        "# # The maximum number of words to be used. (most frequent)\n",
        "# MAX_WORDS = 1000\n",
        "# # Max number of words in each complaint.\n",
        "# MAX_SEQUENCE_LENGTH = 256"
      ],
      "execution_count": 64,
      "outputs": []
    },
    {
      "cell_type": "code",
      "metadata": {
        "id": "eV2uUECM1EZ_",
        "outputId": "5fa3c452-355f-4f35-d049-a3fa5a69e6c5",
        "colab": {
          "base_uri": "https://localhost:8080/"
        }
      },
      "source": [
        "# %%time\n",
        "# tokenize = Tokenizer(num_words=MAX_WORDS)\n",
        "# tokenize.fit_on_texts(text_df)"
      ],
      "execution_count": 73,
      "outputs": [
        {
          "output_type": "stream",
          "text": [
            "CPU times: user 991 ms, sys: 0 ns, total: 991 ms\n",
            "Wall time: 992 ms\n"
          ],
          "name": "stdout"
        }
      ]
    },
    {
      "cell_type": "code",
      "metadata": {
        "id": "KIAe88jBWB9Y",
        "outputId": "2eb86d95-b9d4-4895-8505-51a154236271",
        "colab": {
          "base_uri": "https://localhost:8080/"
        }
      },
      "source": [
        "# %%time\n",
        "# text_train_sequences = tokenize.texts_to_matrix(text_train, mode='tfidf')\n",
        "# text_test_sequences = tokenize.texts_to_matrix(text_test, mode='tfidf')\n",
        "# text_sub_sequences = tokenize.texts_to_matrix(text_sub, mode='tfidf')\n",
        "\n",
        "# print(text_train_sequences.shape, text_test_sequences.shape, text_sub_sequences.shape, )"
      ],
      "execution_count": 71,
      "outputs": [
        {
          "output_type": "stream",
          "text": [
            "(6013, 1000) (669, 1000) (1671, 1000)\n",
            "CPU times: user 2.65 s, sys: 0 ns, total: 2.65 s\n",
            "Wall time: 2.65 s\n"
          ],
          "name": "stdout"
        }
      ]
    },
    {
      "cell_type": "code",
      "metadata": {
        "id": "f6RewmJG1cjy"
      },
      "source": [
        "# %%time\n",
        "# text_train_sequences = sequence.pad_sequences(tokenize.texts_to_matrix(text_train), mode='tfidf', maxlen=MAX_SEQUENCE_LENGTH)\n",
        "# text_test_sequences = sequence.pad_sequences(tokenize.texts_to_matrix(text_test), mode='tfidf',  maxlen=MAX_SEQUENCE_LENGTH)\n",
        "# text_sub_sequences = sequence.pad_sequences(tokenize.texts_to_matrix(text_sub), mode='tfidf',  maxlen=MAX_SEQUENCE_LENGTH)\n",
        "\n",
        "# print(text_train_sequences.shape, text_test_sequences.shape, text_sub_sequences.shape, )"
      ],
      "execution_count": null,
      "outputs": []
    },
    {
      "cell_type": "code",
      "metadata": {
        "id": "hqnULXVf1ly0"
      },
      "source": [
        "# print(text_train.iloc[0])\n",
        "# print(text_train_sequences[0])"
      ],
      "execution_count": null,
      "outputs": []
    },
    {
      "cell_type": "markdown",
      "metadata": {
        "id": "W1Fckz8-17hd"
      },
      "source": [
        "# MODEL"
      ]
    },
    {
      "cell_type": "code",
      "metadata": {
        "id": "xr1PZuJk7-Bx"
      },
      "source": [
        "def mape(y_true, y_pred):\n",
        "    return np.mean(np.abs((y_pred-y_true)/y_true))"
      ],
      "execution_count": 22,
      "outputs": []
    },
    {
      "cell_type": "code",
      "metadata": {
        "id": "gzPeIwtU74SM"
      },
      "source": [
        "# def build_model(LR, EPOCHS, OPTIMIZER_TYPE):\n",
        "\n",
        "#   # ################## NLP model ####################\n",
        "#   model_nlp = Sequential()\n",
        "#   model_nlp.add(L.Input(shape=MAX_WORDS, name=\"seq_description\"))\n",
        "#   model_nlp.add(L.Embedding(len(tokenize.word_index)+1, MAX_WORDS,))\n",
        "#   model_nlp.add(L.LSTM(256, return_sequences=True))\n",
        "#   model_nlp.add(L.Dropout(0.5))\n",
        "#   model_nlp.add(L.LSTM(128,))\n",
        "#   model_nlp.add(L.Dropout(0.25))\n",
        "#   model_nlp.add(L.Dense(64, activation=\"relu\"))\n",
        "#   model_nlp.add(L.Dropout(0.25))\n",
        "\n",
        "#   # ################# Create simple neural network ####################\n",
        "#   model_mlp = Sequential()\n",
        "#   model_mlp.add(L.Dense(1090, input_dim=X_train.shape[1], activation=\"relu\", name='dense_1090'))\n",
        "#   model_mlp.add(L.Dropout(0.85))\n",
        "#   model_mlp.add(L.Dense(545, activation=\"relu\", name='dense_545'))\n",
        "#   model_mlp.add(L.Dense(1, activation=\"linear\", name='output_dense_1'))\n",
        "\n",
        "#   # ################# Concat models ######################\n",
        "#   combinedInput = L.concatenate([model_nlp.output, model_mlp.output])\n",
        "#   head = L.Dense(64, activation=\"relu\")(combinedInput)\n",
        "#   head = L.Dense(1, activation=\"linear\")(head)\n",
        "\n",
        "#   model = Model(inputs=[model_nlp.input, model_mlp.input], outputs=head)\n",
        "\n",
        "#   display(model.summary())\n",
        "\n",
        "#   # ################# Optimizer #######################\n",
        "#   if OPTIMIZER_TYPE == 'Adam':\n",
        "#     optimizer = tf.keras.optimizers.Adam(LR)\n",
        "#   elif OPTIMIZER_TYPE == 'Adamax':\n",
        "#     optimizer = tf.keras.optimizers.Adamax(LR)\n",
        "\n",
        "#   model.compile(loss='MAPE',optimizer=optimizer, metrics=['MAPE'])\n",
        "\n",
        "#   # ################# Checkpoints ######################\n",
        "#   checkpoint = ModelCheckpoint(DATA_PATH+'/best_model.hdf5', monitor='val_MAPE', verbose=1, save_best_only=True, mode='min')\n",
        "#   earlystop = EarlyStopping(monitor='val_MAPE', patience=10, restore_best_weights=True,)\n",
        "#   callbacks_list = [checkpoint, earlystop]\n",
        "\n",
        "#   # ######################## Fit model ##############################\n",
        "#   history = model.fit([text_train_sequences, X_train], y_train,\n",
        "#                     batch_size=512,\n",
        "#                     epochs=EPOCHS, \n",
        "#                     validation_data=([text_test_sequences, X_test], y_test),\n",
        "#                     callbacks=callbacks_list,\n",
        "#                     verbose=1\n",
        "#                    )\n",
        "\n",
        "#   # ######################## Show results ###########################\n",
        "#   plt.figure(figsize=(15,10))\n",
        "#   plt.title('Loss')\n",
        "#   plt.plot(history.history['MAPE'], label='train')\n",
        "#   plt.plot(history.history['val_MAPE'], label='test')\n",
        "#   plt.legend()\n",
        "#   plt.grid()\n",
        "#   plt.show()\n",
        "\n",
        "#   # ######################## Saving best model #####################\n",
        "#   model.load_weights(DATA_PATH+'/best_model.hdf5')\n",
        "#   model.save(DATA_PATH+'/nn_mlp_nlp.hdf5')\n",
        "\n",
        "#   test_predict_nn2 = model.predict([text_test_sequences, X_test])\n",
        "#   print(f\"TEST mape: {(mape(y_test, test_predict_nn2[:,0]))*100:0.2f}%\")\n",
        "\n",
        "#   return model, checkpoint, earlystop, callbacks_list, history"
      ],
      "execution_count": null,
      "outputs": []
    },
    {
      "cell_type": "code",
      "metadata": {
        "id": "KRNZlN-uGerh"
      },
      "source": [
        "def build_model(LR, EPOCHS, OPTIMIZER_TYPE):\n",
        "\n",
        "  # ################## NLP model ####################\n",
        "  model_nlp = Sequential()\n",
        "  model_nlp.add(L.Input(shape=MAX_WORDS, name=\"seq_description\"))\n",
        "  model_nlp.add(L.Embedding(text.shape[0]+1, 512,))\n",
        "  model_nlp.add(L.LSTM(256, return_sequences=True))\n",
        "  model_nlp.add(L.Dropout(0.5))\n",
        "  model_nlp.add(L.LSTM(128,))\n",
        "  model_nlp.add(L.Dropout(0.25))\n",
        "  model_nlp.add(L.Dense(64, activation=\"relu\"))\n",
        "  model_nlp.add(L.Dropout(0.25))\n",
        "\n",
        "  # ################# Create simple neural network ####################\n",
        "  model_mlp = Sequential()\n",
        "  model_mlp.add(L.Dense(1090, input_dim=X_train.shape[1], activation=\"relu\", name='dense_1090'))\n",
        "  model_mlp.add(L.Dropout(0.85))\n",
        "  model_mlp.add(L.Dense(545, activation=\"relu\", name='dense_545'))\n",
        "  model_mlp.add(L.Dense(1, activation=\"linear\", name='output_dense_1'))\n",
        "\n",
        "  # ################# Concat models ######################\n",
        "  combinedInput = L.concatenate([model_nlp.output, model_mlp.output])\n",
        "  head = L.Dense(64, activation=\"relu\")(combinedInput)\n",
        "  head = L.Dense(1, activation=\"linear\")(head)\n",
        "\n",
        "  model = Model(inputs=[model_nlp.input, model_mlp.input], outputs=head)\n",
        "\n",
        "  display(model.summary())\n",
        "\n",
        "  # ################# Optimizer #######################\n",
        "  if OPTIMIZER_TYPE == 'Adam':\n",
        "    optimizer = tf.keras.optimizers.Adam(LR)\n",
        "  elif OPTIMIZER_TYPE == 'Adamax':\n",
        "    optimizer = tf.keras.optimizers.Adamax(LR)\n",
        "\n",
        "  model.compile(loss='MAPE',optimizer=optimizer, metrics=['MAPE'])\n",
        "\n",
        "  # ################# Checkpoints ######################\n",
        "  checkpoint = ModelCheckpoint(DATA_PATH+'/best_model.hdf5', monitor='val_MAPE', verbose=1, save_best_only=True, mode='min')\n",
        "  earlystop = EarlyStopping(monitor='val_MAPE', patience=10, restore_best_weights=True,)\n",
        "  callbacks_list = [checkpoint, earlystop]\n",
        "\n",
        "  # ######################## Fit model ##############################\n",
        "  history = model.fit([train_tfidf, X_train], y_train,\n",
        "                    batch_size=512,\n",
        "                    epochs=EPOCHS, \n",
        "                    validation_data=([test_tfidf, X_test], y_test),\n",
        "                    callbacks=callbacks_list,\n",
        "                    verbose=1\n",
        "                   )\n",
        "\n",
        "  # ######################## Show results ###########################\n",
        "  plt.figure(figsize=(15,10))\n",
        "  plt.title('Loss')\n",
        "  plt.plot(history.history['MAPE'], label='train')\n",
        "  plt.plot(history.history['val_MAPE'], label='test')\n",
        "  plt.legend()\n",
        "  plt.grid()\n",
        "  plt.show()\n",
        "\n",
        "  # ######################## Saving best model #####################\n",
        "  model.load_weights(DATA_PATH+'/best_model.hdf5')\n",
        "  model.save(DATA_PATH+'/nn_mlp_nlp.hdf5')\n",
        "\n",
        "  test_predict_nn2 = model.predict([test_tfidf, X_test])\n",
        "  print(f\"TEST mape: {(mape(y_test, test_predict_nn2[:,0]))*100:0.2f}%\")\n",
        "\n",
        "  return model, checkpoint, earlystop, callbacks_list, history, test_predict_nn2"
      ],
      "execution_count": 32,
      "outputs": []
    },
    {
      "cell_type": "code",
      "metadata": {
        "id": "UmYrggiDnzU8",
        "outputId": "6cdcc891-03cd-4731-b136-9a40edc195ae",
        "colab": {
          "base_uri": "https://localhost:8080/",
          "height": 1000
        }
      },
      "source": [
        "model, checkpoint, earlystop, callbacks_list, history, test_predict_nn2 = build_model(LR=0.1, EPOCHS=500, OPTIMIZER_TYPE='Adamax')"
      ],
      "execution_count": 33,
      "outputs": [
        {
          "output_type": "stream",
          "text": [
            "Model: \"functional_3\"\n",
            "__________________________________________________________________________________________________\n",
            "Layer (type)                    Output Shape         Param #     Connected to                     \n",
            "==================================================================================================\n",
            "seq_description (InputLayer)    [(None, 1500)]       0                                            \n",
            "__________________________________________________________________________________________________\n",
            "embedding_1 (Embedding)         (None, 1500, 512)    4277248     seq_description[0][0]            \n",
            "__________________________________________________________________________________________________\n",
            "lstm_2 (LSTM)                   (None, 1500, 256)    787456      embedding_1[0][0]                \n",
            "__________________________________________________________________________________________________\n",
            "dropout_4 (Dropout)             (None, 1500, 256)    0           lstm_2[0][0]                     \n",
            "__________________________________________________________________________________________________\n",
            "dense_1090_input (InputLayer)   [(None, 542)]        0                                            \n",
            "__________________________________________________________________________________________________\n",
            "lstm_3 (LSTM)                   (None, 128)          197120      dropout_4[0][0]                  \n",
            "__________________________________________________________________________________________________\n",
            "dense_1090 (Dense)              (None, 1090)         591870      dense_1090_input[0][0]           \n",
            "__________________________________________________________________________________________________\n",
            "dropout_5 (Dropout)             (None, 128)          0           lstm_3[0][0]                     \n",
            "__________________________________________________________________________________________________\n",
            "dropout_7 (Dropout)             (None, 1090)         0           dense_1090[0][0]                 \n",
            "__________________________________________________________________________________________________\n",
            "dense_3 (Dense)                 (None, 64)           8256        dropout_5[0][0]                  \n",
            "__________________________________________________________________________________________________\n",
            "dense_545 (Dense)               (None, 545)          594595      dropout_7[0][0]                  \n",
            "__________________________________________________________________________________________________\n",
            "dropout_6 (Dropout)             (None, 64)           0           dense_3[0][0]                    \n",
            "__________________________________________________________________________________________________\n",
            "output_dense_1 (Dense)          (None, 1)            546         dense_545[0][0]                  \n",
            "__________________________________________________________________________________________________\n",
            "concatenate_1 (Concatenate)     (None, 65)           0           dropout_6[0][0]                  \n",
            "                                                                 output_dense_1[0][0]             \n",
            "__________________________________________________________________________________________________\n",
            "dense_4 (Dense)                 (None, 64)           4224        concatenate_1[0][0]              \n",
            "__________________________________________________________________________________________________\n",
            "dense_5 (Dense)                 (None, 1)            65          dense_4[0][0]                    \n",
            "==================================================================================================\n",
            "Total params: 6,461,380\n",
            "Trainable params: 6,461,380\n",
            "Non-trainable params: 0\n",
            "__________________________________________________________________________________________________\n"
          ],
          "name": "stdout"
        },
        {
          "output_type": "display_data",
          "data": {
            "text/plain": [
              "None"
            ]
          },
          "metadata": {
            "tags": []
          }
        },
        {
          "output_type": "stream",
          "text": [
            "Epoch 1/500\n",
            "12/12 [==============================] - ETA: 0s - loss: 82.8068 - MAPE: 82.8068\n",
            "Epoch 00001: val_MAPE improved from inf to 53.60194, saving model to /content/work_dir/best_model.hdf5\n",
            "12/12 [==============================] - 24s 2s/step - loss: 82.8068 - MAPE: 82.8068 - val_loss: 53.6019 - val_MAPE: 53.6019\n",
            "Epoch 2/500\n",
            "12/12 [==============================] - ETA: 0s - loss: 48.2259 - MAPE: 48.2259\n",
            "Epoch 00002: val_MAPE improved from 53.60194 to 41.87637, saving model to /content/work_dir/best_model.hdf5\n",
            "12/12 [==============================] - 24s 2s/step - loss: 48.2259 - MAPE: 48.2259 - val_loss: 41.8764 - val_MAPE: 41.8764\n",
            "Epoch 3/500\n",
            "12/12 [==============================] - ETA: 0s - loss: 40.0723 - MAPE: 40.0723\n",
            "Epoch 00003: val_MAPE improved from 41.87637 to 35.85868, saving model to /content/work_dir/best_model.hdf5\n",
            "12/12 [==============================] - 24s 2s/step - loss: 40.0723 - MAPE: 40.0723 - val_loss: 35.8587 - val_MAPE: 35.8587\n",
            "Epoch 4/500\n",
            "12/12 [==============================] - ETA: 0s - loss: 35.5979 - MAPE: 35.5979\n",
            "Epoch 00004: val_MAPE improved from 35.85868 to 32.85719, saving model to /content/work_dir/best_model.hdf5\n",
            "12/12 [==============================] - 24s 2s/step - loss: 35.5979 - MAPE: 35.5979 - val_loss: 32.8572 - val_MAPE: 32.8572\n",
            "Epoch 5/500\n",
            "12/12 [==============================] - ETA: 0s - loss: 33.2692 - MAPE: 33.2692\n",
            "Epoch 00005: val_MAPE improved from 32.85719 to 30.23545, saving model to /content/work_dir/best_model.hdf5\n",
            "12/12 [==============================] - 24s 2s/step - loss: 33.2692 - MAPE: 33.2692 - val_loss: 30.2354 - val_MAPE: 30.2354\n",
            "Epoch 6/500\n",
            "12/12 [==============================] - ETA: 0s - loss: 31.1063 - MAPE: 31.1063\n",
            "Epoch 00006: val_MAPE improved from 30.23545 to 28.03744, saving model to /content/work_dir/best_model.hdf5\n",
            "12/12 [==============================] - 24s 2s/step - loss: 31.1063 - MAPE: 31.1063 - val_loss: 28.0374 - val_MAPE: 28.0374\n",
            "Epoch 7/500\n",
            "12/12 [==============================] - ETA: 0s - loss: 29.3647 - MAPE: 29.3647\n",
            "Epoch 00007: val_MAPE improved from 28.03744 to 25.80468, saving model to /content/work_dir/best_model.hdf5\n",
            "12/12 [==============================] - 24s 2s/step - loss: 29.3647 - MAPE: 29.3647 - val_loss: 25.8047 - val_MAPE: 25.8047\n",
            "Epoch 8/500\n",
            "12/12 [==============================] - ETA: 0s - loss: 27.7779 - MAPE: 27.7779\n",
            "Epoch 00008: val_MAPE improved from 25.80468 to 24.11455, saving model to /content/work_dir/best_model.hdf5\n",
            "12/12 [==============================] - 24s 2s/step - loss: 27.7779 - MAPE: 27.7779 - val_loss: 24.1146 - val_MAPE: 24.1146\n",
            "Epoch 9/500\n",
            "12/12 [==============================] - ETA: 0s - loss: 25.9465 - MAPE: 25.9465\n",
            "Epoch 00009: val_MAPE improved from 24.11455 to 22.66049, saving model to /content/work_dir/best_model.hdf5\n",
            "12/12 [==============================] - 24s 2s/step - loss: 25.9465 - MAPE: 25.9465 - val_loss: 22.6605 - val_MAPE: 22.6605\n",
            "Epoch 10/500\n",
            "12/12 [==============================] - ETA: 0s - loss: 24.5193 - MAPE: 24.5193\n",
            "Epoch 00010: val_MAPE improved from 22.66049 to 21.52584, saving model to /content/work_dir/best_model.hdf5\n",
            "12/12 [==============================] - 24s 2s/step - loss: 24.5193 - MAPE: 24.5193 - val_loss: 21.5258 - val_MAPE: 21.5258\n",
            "Epoch 11/500\n",
            "12/12 [==============================] - ETA: 0s - loss: 23.7771 - MAPE: 23.7771\n",
            "Epoch 00011: val_MAPE improved from 21.52584 to 21.07537, saving model to /content/work_dir/best_model.hdf5\n",
            "12/12 [==============================] - 24s 2s/step - loss: 23.7771 - MAPE: 23.7771 - val_loss: 21.0754 - val_MAPE: 21.0754\n",
            "Epoch 12/500\n",
            "12/12 [==============================] - ETA: 0s - loss: 22.6231 - MAPE: 22.6231\n",
            "Epoch 00012: val_MAPE improved from 21.07537 to 19.78668, saving model to /content/work_dir/best_model.hdf5\n",
            "12/12 [==============================] - 24s 2s/step - loss: 22.6231 - MAPE: 22.6231 - val_loss: 19.7867 - val_MAPE: 19.7867\n",
            "Epoch 13/500\n",
            "12/12 [==============================] - ETA: 0s - loss: 21.5001 - MAPE: 21.5001\n",
            "Epoch 00013: val_MAPE improved from 19.78668 to 19.04520, saving model to /content/work_dir/best_model.hdf5\n",
            "12/12 [==============================] - 24s 2s/step - loss: 21.5001 - MAPE: 21.5001 - val_loss: 19.0452 - val_MAPE: 19.0452\n",
            "Epoch 14/500\n",
            "12/12 [==============================] - ETA: 0s - loss: 21.1447 - MAPE: 21.1447\n",
            "Epoch 00014: val_MAPE improved from 19.04520 to 18.24608, saving model to /content/work_dir/best_model.hdf5\n",
            "12/12 [==============================] - 24s 2s/step - loss: 21.1447 - MAPE: 21.1447 - val_loss: 18.2461 - val_MAPE: 18.2461\n",
            "Epoch 15/500\n",
            "12/12 [==============================] - ETA: 0s - loss: 20.3599 - MAPE: 20.3599\n",
            "Epoch 00015: val_MAPE improved from 18.24608 to 18.06005, saving model to /content/work_dir/best_model.hdf5\n",
            "12/12 [==============================] - 24s 2s/step - loss: 20.3599 - MAPE: 20.3599 - val_loss: 18.0601 - val_MAPE: 18.0601\n",
            "Epoch 16/500\n",
            "12/12 [==============================] - ETA: 0s - loss: 19.7497 - MAPE: 19.7497\n",
            "Epoch 00016: val_MAPE improved from 18.06005 to 16.75957, saving model to /content/work_dir/best_model.hdf5\n",
            "12/12 [==============================] - 24s 2s/step - loss: 19.7497 - MAPE: 19.7497 - val_loss: 16.7596 - val_MAPE: 16.7596\n",
            "Epoch 17/500\n",
            "12/12 [==============================] - ETA: 0s - loss: 19.3141 - MAPE: 19.3141\n",
            "Epoch 00017: val_MAPE improved from 16.75957 to 16.35886, saving model to /content/work_dir/best_model.hdf5\n",
            "12/12 [==============================] - 24s 2s/step - loss: 19.3141 - MAPE: 19.3141 - val_loss: 16.3589 - val_MAPE: 16.3589\n",
            "Epoch 18/500\n",
            "12/12 [==============================] - ETA: 0s - loss: 18.4900 - MAPE: 18.4900\n",
            "Epoch 00018: val_MAPE improved from 16.35886 to 15.63523, saving model to /content/work_dir/best_model.hdf5\n",
            "12/12 [==============================] - 24s 2s/step - loss: 18.4900 - MAPE: 18.4900 - val_loss: 15.6352 - val_MAPE: 15.6352\n",
            "Epoch 19/500\n",
            "12/12 [==============================] - ETA: 0s - loss: 18.0890 - MAPE: 18.0890\n",
            "Epoch 00019: val_MAPE did not improve from 15.63523\n",
            "12/12 [==============================] - 24s 2s/step - loss: 18.0890 - MAPE: 18.0890 - val_loss: 15.7052 - val_MAPE: 15.7052\n",
            "Epoch 20/500\n",
            "12/12 [==============================] - ETA: 0s - loss: 17.9206 - MAPE: 17.9206\n",
            "Epoch 00020: val_MAPE improved from 15.63523 to 14.69637, saving model to /content/work_dir/best_model.hdf5\n",
            "12/12 [==============================] - 24s 2s/step - loss: 17.9206 - MAPE: 17.9206 - val_loss: 14.6964 - val_MAPE: 14.6964\n",
            "Epoch 21/500\n",
            "12/12 [==============================] - ETA: 0s - loss: 17.1208 - MAPE: 17.1208\n",
            "Epoch 00021: val_MAPE improved from 14.69637 to 14.22960, saving model to /content/work_dir/best_model.hdf5\n",
            "12/12 [==============================] - 24s 2s/step - loss: 17.1208 - MAPE: 17.1208 - val_loss: 14.2296 - val_MAPE: 14.2296\n",
            "Epoch 22/500\n",
            "12/12 [==============================] - ETA: 0s - loss: 16.7799 - MAPE: 16.7799\n",
            "Epoch 00022: val_MAPE improved from 14.22960 to 13.85392, saving model to /content/work_dir/best_model.hdf5\n",
            "12/12 [==============================] - 24s 2s/step - loss: 16.7799 - MAPE: 16.7799 - val_loss: 13.8539 - val_MAPE: 13.8539\n",
            "Epoch 23/500\n",
            "12/12 [==============================] - ETA: 0s - loss: 16.5490 - MAPE: 16.5490\n",
            "Epoch 00023: val_MAPE improved from 13.85392 to 13.72461, saving model to /content/work_dir/best_model.hdf5\n",
            "12/12 [==============================] - 24s 2s/step - loss: 16.5490 - MAPE: 16.5490 - val_loss: 13.7246 - val_MAPE: 13.7246\n",
            "Epoch 24/500\n",
            "12/12 [==============================] - ETA: 0s - loss: 16.5428 - MAPE: 16.5428\n",
            "Epoch 00024: val_MAPE improved from 13.72461 to 13.38788, saving model to /content/work_dir/best_model.hdf5\n",
            "12/12 [==============================] - 24s 2s/step - loss: 16.5428 - MAPE: 16.5428 - val_loss: 13.3879 - val_MAPE: 13.3879\n",
            "Epoch 25/500\n",
            "12/12 [==============================] - ETA: 0s - loss: 16.2618 - MAPE: 16.2618\n",
            "Epoch 00025: val_MAPE improved from 13.38788 to 13.35719, saving model to /content/work_dir/best_model.hdf5\n",
            "12/12 [==============================] - 24s 2s/step - loss: 16.2618 - MAPE: 16.2618 - val_loss: 13.3572 - val_MAPE: 13.3572\n",
            "Epoch 26/500\n",
            "12/12 [==============================] - ETA: 0s - loss: 15.8433 - MAPE: 15.8433\n",
            "Epoch 00026: val_MAPE improved from 13.35719 to 13.19739, saving model to /content/work_dir/best_model.hdf5\n",
            "12/12 [==============================] - 24s 2s/step - loss: 15.8433 - MAPE: 15.8433 - val_loss: 13.1974 - val_MAPE: 13.1974\n",
            "Epoch 27/500\n",
            "12/12 [==============================] - ETA: 0s - loss: 15.7624 - MAPE: 15.7624\n",
            "Epoch 00027: val_MAPE improved from 13.19739 to 12.93573, saving model to /content/work_dir/best_model.hdf5\n",
            "12/12 [==============================] - 24s 2s/step - loss: 15.7624 - MAPE: 15.7624 - val_loss: 12.9357 - val_MAPE: 12.9357\n",
            "Epoch 28/500\n",
            "12/12 [==============================] - ETA: 0s - loss: 15.6071 - MAPE: 15.6071\n",
            "Epoch 00028: val_MAPE improved from 12.93573 to 12.91068, saving model to /content/work_dir/best_model.hdf5\n",
            "12/12 [==============================] - 24s 2s/step - loss: 15.6071 - MAPE: 15.6071 - val_loss: 12.9107 - val_MAPE: 12.9107\n",
            "Epoch 29/500\n",
            "12/12 [==============================] - ETA: 0s - loss: 15.5351 - MAPE: 15.5351\n",
            "Epoch 00029: val_MAPE did not improve from 12.91068\n",
            "12/12 [==============================] - 24s 2s/step - loss: 15.5351 - MAPE: 15.5351 - val_loss: 13.1036 - val_MAPE: 13.1036\n",
            "Epoch 30/500\n",
            "12/12 [==============================] - ETA: 0s - loss: 15.4194 - MAPE: 15.4194\n",
            "Epoch 00030: val_MAPE improved from 12.91068 to 12.65234, saving model to /content/work_dir/best_model.hdf5\n",
            "12/12 [==============================] - 24s 2s/step - loss: 15.4194 - MAPE: 15.4194 - val_loss: 12.6523 - val_MAPE: 12.6523\n",
            "Epoch 31/500\n",
            "12/12 [==============================] - ETA: 0s - loss: 15.4388 - MAPE: 15.4388\n",
            "Epoch 00031: val_MAPE improved from 12.65234 to 12.60320, saving model to /content/work_dir/best_model.hdf5\n",
            "12/12 [==============================] - 24s 2s/step - loss: 15.4388 - MAPE: 15.4388 - val_loss: 12.6032 - val_MAPE: 12.6032\n",
            "Epoch 32/500\n",
            "12/12 [==============================] - ETA: 0s - loss: 15.4123 - MAPE: 15.4123\n",
            "Epoch 00032: val_MAPE did not improve from 12.60320\n",
            "12/12 [==============================] - 24s 2s/step - loss: 15.4123 - MAPE: 15.4123 - val_loss: 12.6380 - val_MAPE: 12.6380\n",
            "Epoch 33/500\n",
            "12/12 [==============================] - ETA: 0s - loss: 15.2296 - MAPE: 15.2296\n",
            "Epoch 00033: val_MAPE improved from 12.60320 to 12.57500, saving model to /content/work_dir/best_model.hdf5\n",
            "12/12 [==============================] - 24s 2s/step - loss: 15.2296 - MAPE: 15.2296 - val_loss: 12.5750 - val_MAPE: 12.5750\n",
            "Epoch 34/500\n",
            "12/12 [==============================] - ETA: 0s - loss: 14.9060 - MAPE: 14.9060\n",
            "Epoch 00034: val_MAPE did not improve from 12.57500\n",
            "12/12 [==============================] - 24s 2s/step - loss: 14.9060 - MAPE: 14.9060 - val_loss: 12.6512 - val_MAPE: 12.6512\n",
            "Epoch 35/500\n",
            "12/12 [==============================] - ETA: 0s - loss: 15.0608 - MAPE: 15.0608\n",
            "Epoch 00035: val_MAPE improved from 12.57500 to 12.39159, saving model to /content/work_dir/best_model.hdf5\n",
            "12/12 [==============================] - 24s 2s/step - loss: 15.0608 - MAPE: 15.0608 - val_loss: 12.3916 - val_MAPE: 12.3916\n",
            "Epoch 36/500\n",
            "12/12 [==============================] - ETA: 0s - loss: 14.9156 - MAPE: 14.9156\n",
            "Epoch 00036: val_MAPE improved from 12.39159 to 12.31545, saving model to /content/work_dir/best_model.hdf5\n",
            "12/12 [==============================] - 24s 2s/step - loss: 14.9156 - MAPE: 14.9156 - val_loss: 12.3154 - val_MAPE: 12.3154\n",
            "Epoch 37/500\n",
            "12/12 [==============================] - ETA: 0s - loss: 14.8106 - MAPE: 14.8106\n",
            "Epoch 00037: val_MAPE improved from 12.31545 to 12.01783, saving model to /content/work_dir/best_model.hdf5\n",
            "12/12 [==============================] - 24s 2s/step - loss: 14.8106 - MAPE: 14.8106 - val_loss: 12.0178 - val_MAPE: 12.0178\n",
            "Epoch 38/500\n",
            "12/12 [==============================] - ETA: 0s - loss: 14.9963 - MAPE: 14.9963\n",
            "Epoch 00038: val_MAPE did not improve from 12.01783\n",
            "12/12 [==============================] - 24s 2s/step - loss: 14.9963 - MAPE: 14.9963 - val_loss: 12.1749 - val_MAPE: 12.1749\n",
            "Epoch 39/500\n",
            "12/12 [==============================] - ETA: 0s - loss: 15.0914 - MAPE: 15.0914\n",
            "Epoch 00039: val_MAPE did not improve from 12.01783\n",
            "12/12 [==============================] - 24s 2s/step - loss: 15.0914 - MAPE: 15.0914 - val_loss: 12.0237 - val_MAPE: 12.0237\n",
            "Epoch 40/500\n",
            "12/12 [==============================] - ETA: 0s - loss: 14.7000 - MAPE: 14.7000\n",
            "Epoch 00040: val_MAPE did not improve from 12.01783\n",
            "12/12 [==============================] - 24s 2s/step - loss: 14.7000 - MAPE: 14.7000 - val_loss: 12.0410 - val_MAPE: 12.0410\n",
            "Epoch 41/500\n",
            "12/12 [==============================] - ETA: 0s - loss: 14.3051 - MAPE: 14.3051\n",
            "Epoch 00041: val_MAPE improved from 12.01783 to 11.83292, saving model to /content/work_dir/best_model.hdf5\n",
            "12/12 [==============================] - 24s 2s/step - loss: 14.3051 - MAPE: 14.3051 - val_loss: 11.8329 - val_MAPE: 11.8329\n",
            "Epoch 42/500\n",
            "12/12 [==============================] - ETA: 0s - loss: 14.4575 - MAPE: 14.4575\n",
            "Epoch 00042: val_MAPE did not improve from 11.83292\n",
            "12/12 [==============================] - 24s 2s/step - loss: 14.4575 - MAPE: 14.4575 - val_loss: 11.8946 - val_MAPE: 11.8946\n",
            "Epoch 43/500\n",
            "12/12 [==============================] - ETA: 0s - loss: 14.5402 - MAPE: 14.5402\n",
            "Epoch 00043: val_MAPE did not improve from 11.83292\n",
            "12/12 [==============================] - 24s 2s/step - loss: 14.5402 - MAPE: 14.5402 - val_loss: 12.0886 - val_MAPE: 12.0886\n",
            "Epoch 44/500\n",
            "12/12 [==============================] - ETA: 0s - loss: 14.4288 - MAPE: 14.4288\n",
            "Epoch 00044: val_MAPE did not improve from 11.83292\n",
            "12/12 [==============================] - 24s 2s/step - loss: 14.4288 - MAPE: 14.4288 - val_loss: 12.3146 - val_MAPE: 12.3146\n",
            "Epoch 45/500\n",
            "12/12 [==============================] - ETA: 0s - loss: 14.6460 - MAPE: 14.6460\n",
            "Epoch 00045: val_MAPE did not improve from 11.83292\n",
            "12/12 [==============================] - 24s 2s/step - loss: 14.6460 - MAPE: 14.6460 - val_loss: 12.2967 - val_MAPE: 12.2967\n",
            "Epoch 46/500\n",
            "12/12 [==============================] - ETA: 0s - loss: 14.8030 - MAPE: 14.8030\n",
            "Epoch 00046: val_MAPE did not improve from 11.83292\n",
            "12/12 [==============================] - 24s 2s/step - loss: 14.8030 - MAPE: 14.8030 - val_loss: 11.8918 - val_MAPE: 11.8918\n",
            "Epoch 47/500\n",
            "12/12 [==============================] - ETA: 0s - loss: 14.3812 - MAPE: 14.3812\n",
            "Epoch 00047: val_MAPE did not improve from 11.83292\n",
            "12/12 [==============================] - 24s 2s/step - loss: 14.3812 - MAPE: 14.3812 - val_loss: 11.8886 - val_MAPE: 11.8886\n",
            "Epoch 48/500\n",
            "12/12 [==============================] - ETA: 0s - loss: 14.1193 - MAPE: 14.1193\n",
            "Epoch 00048: val_MAPE improved from 11.83292 to 11.64520, saving model to /content/work_dir/best_model.hdf5\n",
            "12/12 [==============================] - 24s 2s/step - loss: 14.1193 - MAPE: 14.1193 - val_loss: 11.6452 - val_MAPE: 11.6452\n",
            "Epoch 49/500\n",
            "12/12 [==============================] - ETA: 0s - loss: 14.2823 - MAPE: 14.2823\n",
            "Epoch 00049: val_MAPE did not improve from 11.64520\n",
            "12/12 [==============================] - 24s 2s/step - loss: 14.2823 - MAPE: 14.2823 - val_loss: 11.9804 - val_MAPE: 11.9804\n",
            "Epoch 50/500\n",
            "12/12 [==============================] - ETA: 0s - loss: 14.5756 - MAPE: 14.5756\n",
            "Epoch 00050: val_MAPE did not improve from 11.64520\n",
            "12/12 [==============================] - 24s 2s/step - loss: 14.5756 - MAPE: 14.5756 - val_loss: 13.8918 - val_MAPE: 13.8918\n",
            "Epoch 51/500\n",
            "12/12 [==============================] - ETA: 0s - loss: 14.8398 - MAPE: 14.8398\n",
            "Epoch 00051: val_MAPE did not improve from 11.64520\n",
            "12/12 [==============================] - 24s 2s/step - loss: 14.8398 - MAPE: 14.8398 - val_loss: 11.8386 - val_MAPE: 11.8386\n",
            "Epoch 52/500\n",
            "12/12 [==============================] - ETA: 0s - loss: 14.5492 - MAPE: 14.5492\n",
            "Epoch 00052: val_MAPE did not improve from 11.64520\n",
            "12/12 [==============================] - 24s 2s/step - loss: 14.5492 - MAPE: 14.5492 - val_loss: 11.8691 - val_MAPE: 11.8691\n",
            "Epoch 53/500\n",
            "12/12 [==============================] - ETA: 0s - loss: 14.8970 - MAPE: 14.8970\n",
            "Epoch 00053: val_MAPE did not improve from 11.64520\n",
            "12/12 [==============================] - 24s 2s/step - loss: 14.8970 - MAPE: 14.8970 - val_loss: 13.9248 - val_MAPE: 13.9248\n",
            "Epoch 54/500\n",
            "12/12 [==============================] - ETA: 0s - loss: 14.6523 - MAPE: 14.6523\n",
            "Epoch 00054: val_MAPE did not improve from 11.64520\n",
            "12/12 [==============================] - 24s 2s/step - loss: 14.6523 - MAPE: 14.6523 - val_loss: 11.7073 - val_MAPE: 11.7073\n",
            "Epoch 55/500\n",
            "12/12 [==============================] - ETA: 0s - loss: 14.1136 - MAPE: 14.1136\n",
            "Epoch 00055: val_MAPE improved from 11.64520 to 11.43253, saving model to /content/work_dir/best_model.hdf5\n",
            "12/12 [==============================] - 24s 2s/step - loss: 14.1136 - MAPE: 14.1136 - val_loss: 11.4325 - val_MAPE: 11.4325\n",
            "Epoch 56/500\n",
            "12/12 [==============================] - ETA: 0s - loss: 13.9916 - MAPE: 13.9916\n",
            "Epoch 00056: val_MAPE did not improve from 11.43253\n",
            "12/12 [==============================] - 24s 2s/step - loss: 13.9916 - MAPE: 13.9916 - val_loss: 11.4709 - val_MAPE: 11.4709\n",
            "Epoch 57/500\n",
            "12/12 [==============================] - ETA: 0s - loss: 13.9379 - MAPE: 13.9379\n",
            "Epoch 00057: val_MAPE did not improve from 11.43253\n",
            "12/12 [==============================] - 24s 2s/step - loss: 13.9379 - MAPE: 13.9379 - val_loss: 11.6287 - val_MAPE: 11.6287\n",
            "Epoch 58/500\n",
            "12/12 [==============================] - ETA: 0s - loss: 14.0699 - MAPE: 14.0699\n",
            "Epoch 00058: val_MAPE did not improve from 11.43253\n",
            "12/12 [==============================] - 24s 2s/step - loss: 14.0699 - MAPE: 14.0699 - val_loss: 11.4429 - val_MAPE: 11.4429\n",
            "Epoch 59/500\n",
            "12/12 [==============================] - ETA: 0s - loss: 13.8312 - MAPE: 13.8312\n",
            "Epoch 00059: val_MAPE did not improve from 11.43253\n",
            "12/12 [==============================] - 24s 2s/step - loss: 13.8312 - MAPE: 13.8312 - val_loss: 12.0029 - val_MAPE: 12.0029\n",
            "Epoch 60/500\n",
            "12/12 [==============================] - ETA: 0s - loss: 13.9158 - MAPE: 13.9158\n",
            "Epoch 00060: val_MAPE improved from 11.43253 to 11.34801, saving model to /content/work_dir/best_model.hdf5\n",
            "12/12 [==============================] - 24s 2s/step - loss: 13.9158 - MAPE: 13.9158 - val_loss: 11.3480 - val_MAPE: 11.3480\n",
            "Epoch 61/500\n",
            "12/12 [==============================] - ETA: 0s - loss: 13.5585 - MAPE: 13.5585\n",
            "Epoch 00061: val_MAPE did not improve from 11.34801\n",
            "12/12 [==============================] - 24s 2s/step - loss: 13.5585 - MAPE: 13.5585 - val_loss: 11.4121 - val_MAPE: 11.4121\n",
            "Epoch 62/500\n",
            "12/12 [==============================] - ETA: 0s - loss: 13.8352 - MAPE: 13.8352\n",
            "Epoch 00062: val_MAPE improved from 11.34801 to 11.25818, saving model to /content/work_dir/best_model.hdf5\n",
            "12/12 [==============================] - 24s 2s/step - loss: 13.8352 - MAPE: 13.8352 - val_loss: 11.2582 - val_MAPE: 11.2582\n",
            "Epoch 63/500\n",
            "12/12 [==============================] - ETA: 0s - loss: 14.0530 - MAPE: 14.0530\n",
            "Epoch 00063: val_MAPE did not improve from 11.25818\n",
            "12/12 [==============================] - 24s 2s/step - loss: 14.0530 - MAPE: 14.0530 - val_loss: 11.6812 - val_MAPE: 11.6812\n",
            "Epoch 64/500\n",
            "12/12 [==============================] - ETA: 0s - loss: 13.8639 - MAPE: 13.8639\n",
            "Epoch 00064: val_MAPE did not improve from 11.25818\n",
            "12/12 [==============================] - 24s 2s/step - loss: 13.8639 - MAPE: 13.8639 - val_loss: 11.5037 - val_MAPE: 11.5037\n",
            "Epoch 65/500\n",
            "12/12 [==============================] - ETA: 0s - loss: 13.7557 - MAPE: 13.7557\n",
            "Epoch 00065: val_MAPE did not improve from 11.25818\n",
            "12/12 [==============================] - 24s 2s/step - loss: 13.7557 - MAPE: 13.7557 - val_loss: 11.4471 - val_MAPE: 11.4471\n",
            "Epoch 66/500\n",
            "12/12 [==============================] - ETA: 0s - loss: 13.6708 - MAPE: 13.6708\n",
            "Epoch 00066: val_MAPE did not improve from 11.25818\n",
            "12/12 [==============================] - 24s 2s/step - loss: 13.6708 - MAPE: 13.6708 - val_loss: 11.5202 - val_MAPE: 11.5202\n",
            "Epoch 67/500\n",
            "12/12 [==============================] - ETA: 0s - loss: 13.9007 - MAPE: 13.9007\n",
            "Epoch 00067: val_MAPE improved from 11.25818 to 11.21382, saving model to /content/work_dir/best_model.hdf5\n",
            "12/12 [==============================] - 24s 2s/step - loss: 13.9007 - MAPE: 13.9007 - val_loss: 11.2138 - val_MAPE: 11.2138\n",
            "Epoch 68/500\n",
            "12/12 [==============================] - ETA: 0s - loss: 13.7939 - MAPE: 13.7939\n",
            "Epoch 00068: val_MAPE did not improve from 11.21382\n",
            "12/12 [==============================] - 24s 2s/step - loss: 13.7939 - MAPE: 13.7939 - val_loss: 11.3852 - val_MAPE: 11.3852\n",
            "Epoch 69/500\n",
            "12/12 [==============================] - ETA: 0s - loss: 13.9088 - MAPE: 13.9088\n",
            "Epoch 00069: val_MAPE did not improve from 11.21382\n",
            "12/12 [==============================] - 24s 2s/step - loss: 13.9088 - MAPE: 13.9088 - val_loss: 11.2852 - val_MAPE: 11.2852\n",
            "Epoch 70/500\n",
            "12/12 [==============================] - ETA: 0s - loss: 13.7568 - MAPE: 13.7568\n",
            "Epoch 00070: val_MAPE did not improve from 11.21382\n",
            "12/12 [==============================] - 24s 2s/step - loss: 13.7568 - MAPE: 13.7568 - val_loss: 11.6010 - val_MAPE: 11.6010\n",
            "Epoch 71/500\n",
            "12/12 [==============================] - ETA: 0s - loss: 13.7760 - MAPE: 13.7760\n",
            "Epoch 00071: val_MAPE did not improve from 11.21382\n",
            "12/12 [==============================] - 24s 2s/step - loss: 13.7760 - MAPE: 13.7760 - val_loss: 11.7603 - val_MAPE: 11.7603\n",
            "Epoch 72/500\n",
            "12/12 [==============================] - ETA: 0s - loss: 13.5559 - MAPE: 13.5559\n",
            "Epoch 00072: val_MAPE did not improve from 11.21382\n",
            "12/12 [==============================] - 24s 2s/step - loss: 13.5559 - MAPE: 13.5559 - val_loss: 11.2395 - val_MAPE: 11.2395\n",
            "Epoch 73/500\n",
            "12/12 [==============================] - ETA: 0s - loss: 13.6140 - MAPE: 13.6140\n",
            "Epoch 00073: val_MAPE did not improve from 11.21382\n",
            "12/12 [==============================] - 24s 2s/step - loss: 13.6140 - MAPE: 13.6140 - val_loss: 11.8650 - val_MAPE: 11.8650\n",
            "Epoch 74/500\n",
            "12/12 [==============================] - ETA: 0s - loss: 13.8068 - MAPE: 13.8068\n",
            "Epoch 00074: val_MAPE did not improve from 11.21382\n",
            "12/12 [==============================] - 24s 2s/step - loss: 13.8068 - MAPE: 13.8068 - val_loss: 11.4896 - val_MAPE: 11.4896\n",
            "Epoch 75/500\n",
            "12/12 [==============================] - ETA: 0s - loss: 13.5879 - MAPE: 13.5879\n",
            "Epoch 00075: val_MAPE did not improve from 11.21382\n",
            "12/12 [==============================] - 24s 2s/step - loss: 13.5879 - MAPE: 13.5879 - val_loss: 11.2796 - val_MAPE: 11.2796\n",
            "Epoch 76/500\n",
            "12/12 [==============================] - ETA: 0s - loss: 13.4228 - MAPE: 13.4228\n",
            "Epoch 00076: val_MAPE did not improve from 11.21382\n",
            "12/12 [==============================] - 24s 2s/step - loss: 13.4228 - MAPE: 13.4228 - val_loss: 11.6314 - val_MAPE: 11.6314\n",
            "Epoch 77/500\n",
            "12/12 [==============================] - ETA: 0s - loss: 13.6030 - MAPE: 13.6030\n",
            "Epoch 00077: val_MAPE did not improve from 11.21382\n",
            "12/12 [==============================] - 24s 2s/step - loss: 13.6030 - MAPE: 13.6030 - val_loss: 11.8774 - val_MAPE: 11.8774\n"
          ],
          "name": "stdout"
        },
        {
          "output_type": "display_data",
          "data": {
            "image/png": "[encoded data removed]",
            "text/plain": [
              "<Figure size 1080x720 with 1 Axes>"
            ]
          },
          "metadata": {
            "tags": [],
            "needs_background": "light"
          }
        },
        {
          "output_type": "stream",
          "text": [
            "TEST mape: 11.21%\n"
          ],
          "name": "stdout"
        }
      ]
    },
    {
      "cell_type": "markdown",
      "metadata": {
        "id": "zgHdtHv88XRM"
      },
      "source": [
        "# PREDICT"
      ]
    },
    {
      "cell_type": "code",
      "metadata": {
        "id": "1HygMPll8YBm",
        "outputId": "83b7d882-a354-482d-de29-adf9768af121",
        "colab": {
          "base_uri": "https://localhost:8080/",
          "height": 359
        }
      },
      "source": [
        "predict_submission = model.predict([text_sub_tfidf, test])\n",
        "\n",
        "sample_submission['price'] = predict_submission\n",
        "sample_submission.to_csv(DATA_PATH+f'/sub_nn2_{int(round(mape(y_test, test_predict_nn2[:,0])*10000))}.csv', index=False)\n",
        "display(sample_submission.head(10))"
      ],
      "execution_count": 46,
      "outputs": [
        {
          "output_type": "display_data",
          "data": {
            "text/html": [
              "<div>\n",
              "<style scoped>\n",
              "    .dataframe tbody tr th:only-of-type {\n",
              "        vertical-align: middle;\n",
              "    }\n",
              "\n",
              "    .dataframe tbody tr th {\n",
              "        vertical-align: top;\n",
              "    }\n",
              "\n",
              "    .dataframe thead th {\n",
              "        text-align: right;\n",
              "    }\n",
              "</style>\n",
              "<table border=\"1\" class=\"dataframe\">\n",
              "  <thead>\n",
              "    <tr style=\"text-align: right;\">\n",
              "      <th></th>\n",
              "      <th>sell_id</th>\n",
              "      <th>price</th>\n",
              "    </tr>\n",
              "  </thead>\n",
              "  <tbody>\n",
              "    <tr>\n",
              "      <th>0</th>\n",
              "      <td>1099427284</td>\n",
              "      <td>3.710055e+05</td>\n",
              "    </tr>\n",
              "    <tr>\n",
              "      <th>1</th>\n",
              "      <td>1096405886</td>\n",
              "      <td>2.686428e+06</td>\n",
              "    </tr>\n",
              "    <tr>\n",
              "      <th>2</th>\n",
              "      <td>1100195294</td>\n",
              "      <td>6.301424e+05</td>\n",
              "    </tr>\n",
              "    <tr>\n",
              "      <th>3</th>\n",
              "      <td>1099827282</td>\n",
              "      <td>5.066788e+05</td>\n",
              "    </tr>\n",
              "    <tr>\n",
              "      <th>4</th>\n",
              "      <td>1100076198</td>\n",
              "      <td>2.680684e+06</td>\n",
              "    </tr>\n",
              "    <tr>\n",
              "      <th>5</th>\n",
              "      <td>1090159352</td>\n",
              "      <td>3.268546e+06</td>\n",
              "    </tr>\n",
              "    <tr>\n",
              "      <th>6</th>\n",
              "      <td>1098987386</td>\n",
              "      <td>1.697842e+06</td>\n",
              "    </tr>\n",
              "    <tr>\n",
              "      <th>7</th>\n",
              "      <td>1098639040</td>\n",
              "      <td>1.572324e+06</td>\n",
              "    </tr>\n",
              "    <tr>\n",
              "      <th>8</th>\n",
              "      <td>1099933039</td>\n",
              "      <td>1.051417e+06</td>\n",
              "    </tr>\n",
              "    <tr>\n",
              "      <th>9</th>\n",
              "      <td>1099565572</td>\n",
              "      <td>4.911892e+05</td>\n",
              "    </tr>\n",
              "  </tbody>\n",
              "</table>\n",
              "</div>"
            ],
            "text/plain": [
              "      sell_id         price\n",
              "0  1099427284  3.710055e+05\n",
              "1  1096405886  2.686428e+06\n",
              "2  1100195294  6.301424e+05\n",
              "3  1099827282  5.066788e+05\n",
              "4  1100076198  2.680684e+06\n",
              "5  1090159352  3.268546e+06\n",
              "6  1098987386  1.697842e+06\n",
              "7  1098639040  1.572324e+06\n",
              "8  1099933039  1.051417e+06\n",
              "9  1099565572  4.911892e+05"
            ]
          },
          "metadata": {
            "tags": []
          }
        }
      ]
    }
  ]
}