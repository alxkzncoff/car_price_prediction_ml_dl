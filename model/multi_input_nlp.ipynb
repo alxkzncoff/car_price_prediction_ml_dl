{
  "nbformat": 4,
  "nbformat_minor": 0,
  "metadata": {
    "colab": {
      "name": "multi_input_nlp.ipynb",
      "provenance": [],
      "collapsed_sections": [],
      "toc_visible": true,
      "authorship_tag": "ABX9TyNi2VsQl1R3JVRL+TLS7euY",
      "include_colab_link": true
    },
    "kernelspec": {
      "name": "python3",
      "display_name": "Python 3"
    },
    "accelerator": "GPU"
  },
  "cells": [
    {
      "cell_type": "markdown",
      "metadata": {
        "id": "view-in-github",
        "colab_type": "text"
      },
      "source": [
        "<a href=\"https://colab.research.google.com/github/alxkzncoff/skillfactory_rds6_car_price_prediction_ml_dl/blob/main/model/multi_input_nlp.ipynb\" target=\"_parent\"><img src=\"https://colab.research.google.com/assets/colab-badge.svg\" alt=\"Open In Colab\"/></a>"
      ]
    },
    {
      "cell_type": "markdown",
      "metadata": {
        "id": "W7SlYtU5mQI0"
      },
      "source": [
        "# INSATLL"
      ]
    },
    {
      "cell_type": "code",
      "metadata": {
        "id": "ZN2lufZil_XA",
        "outputId": "38de91ed-5428-41d7-e977-7110bbdf5326",
        "colab": {
          "base_uri": "https://localhost:8080/"
        }
      },
      "source": [
        "!pip install -q tensorflow==2.3\n",
        "!pip install PyDrive\n",
        "!mkdir work_dir\n",
        "\n",
        "!pip install pymystem3"
      ],
      "execution_count": 1,
      "outputs": [
        {
          "output_type": "stream",
          "text": [
            "Requirement already satisfied: PyDrive in /usr/local/lib/python3.6/dist-packages (1.3.1)\n",
            "Requirement already satisfied: oauth2client>=4.0.0 in /usr/local/lib/python3.6/dist-packages (from PyDrive) (4.1.3)\n",
            "Requirement already satisfied: PyYAML>=3.0 in /usr/local/lib/python3.6/dist-packages (from PyDrive) (3.13)\n",
            "Requirement already satisfied: google-api-python-client>=1.2 in /usr/local/lib/python3.6/dist-packages (from PyDrive) (1.7.12)\n",
            "Requirement already satisfied: six>=1.6.1 in /usr/local/lib/python3.6/dist-packages (from oauth2client>=4.0.0->PyDrive) (1.15.0)\n",
            "Requirement already satisfied: httplib2>=0.9.1 in /usr/local/lib/python3.6/dist-packages (from oauth2client>=4.0.0->PyDrive) (0.17.4)\n",
            "Requirement already satisfied: pyasn1>=0.1.7 in /usr/local/lib/python3.6/dist-packages (from oauth2client>=4.0.0->PyDrive) (0.4.8)\n",
            "Requirement already satisfied: pyasn1-modules>=0.0.5 in /usr/local/lib/python3.6/dist-packages (from oauth2client>=4.0.0->PyDrive) (0.2.8)\n",
            "Requirement already satisfied: rsa>=3.1.4 in /usr/local/lib/python3.6/dist-packages (from oauth2client>=4.0.0->PyDrive) (4.6)\n",
            "Requirement already satisfied: google-auth-httplib2>=0.0.3 in /usr/local/lib/python3.6/dist-packages (from google-api-python-client>=1.2->PyDrive) (0.0.4)\n",
            "Requirement already satisfied: uritemplate<4dev,>=3.0.0 in /usr/local/lib/python3.6/dist-packages (from google-api-python-client>=1.2->PyDrive) (3.0.1)\n",
            "Requirement already satisfied: google-auth>=1.4.1 in /usr/local/lib/python3.6/dist-packages (from google-api-python-client>=1.2->PyDrive) (1.17.2)\n",
            "Requirement already satisfied: setuptools>=40.3.0 in /usr/local/lib/python3.6/dist-packages (from google-auth>=1.4.1->google-api-python-client>=1.2->PyDrive) (50.3.2)\n",
            "Requirement already satisfied: cachetools<5.0,>=2.0.0 in /usr/local/lib/python3.6/dist-packages (from google-auth>=1.4.1->google-api-python-client>=1.2->PyDrive) (4.1.1)\n",
            "Requirement already satisfied: pymystem3 in /usr/local/lib/python3.6/dist-packages (0.2.0)\n",
            "Requirement already satisfied: requests in /usr/local/lib/python3.6/dist-packages (from pymystem3) (2.23.0)\n",
            "Requirement already satisfied: idna<3,>=2.5 in /usr/local/lib/python3.6/dist-packages (from requests->pymystem3) (2.10)\n",
            "Requirement already satisfied: certifi>=2017.4.17 in /usr/local/lib/python3.6/dist-packages (from requests->pymystem3) (2020.6.20)\n",
            "Requirement already satisfied: urllib3!=1.25.0,!=1.25.1,<1.26,>=1.21.1 in /usr/local/lib/python3.6/dist-packages (from requests->pymystem3) (1.24.3)\n",
            "Requirement already satisfied: chardet<4,>=3.0.2 in /usr/local/lib/python3.6/dist-packages (from requests->pymystem3) (3.0.4)\n"
          ],
          "name": "stdout"
        }
      ]
    },
    {
      "cell_type": "markdown",
      "metadata": {
        "id": "36xj-lddmTKO"
      },
      "source": [
        "# DEFINE"
      ]
    },
    {
      "cell_type": "code",
      "metadata": {
        "id": "JbCIbylZmT8v"
      },
      "source": [
        "DATA_PATH                           = '/content/work_dir'\n",
        "RANDOM_SEED                         = 42"
      ],
      "execution_count": 159,
      "outputs": []
    },
    {
      "cell_type": "markdown",
      "metadata": {
        "id": "QK3tpRVjmEms"
      },
      "source": [
        "# IMPORT"
      ]
    },
    {
      "cell_type": "code",
      "metadata": {
        "id": "IgLP6pr9mFXq",
        "outputId": "1f864636-6000-4e66-cb68-10de949fd8b6",
        "colab": {
          "base_uri": "https://localhost:8080/"
        }
      },
      "source": [
        "# Data access\n",
        "from pydrive.auth import GoogleAuth\n",
        "from pydrive.drive import GoogleDrive\n",
        "from google.colab import auth\n",
        "from oauth2client.client import GoogleCredentials\n",
        "\n",
        "# General\n",
        "import random\n",
        "import numpy as np\n",
        "import pandas as pd\n",
        "import matplotlib.pyplot as plt\n",
        "import seaborn as sns\n",
        "import os\n",
        "import sys\n",
        "import PIL\n",
        "import cv2\n",
        "import re\n",
        "import keras\n",
        "\n",
        "# NLP\n",
        "import nltk\n",
        "nltk.download('punkt')\n",
        "nltk.download(\"stopwords\")\n",
        "\n",
        "from nltk.corpus import stopwords\n",
        "from pymystem3 import Mystem\n",
        "from string import punctuation\n",
        "import codecs\n",
        "\n",
        "# ML\n",
        "from sklearn.preprocessing import MinMaxScaler\n",
        "from sklearn.model_selection import train_test_split\n",
        "from sklearn.feature_extraction.text import CountVectorizer, TfidfVectorizer, TfidfTransformer\n",
        "\n",
        "# KERAS\n",
        "import tensorflow as tf\n",
        "import tensorflow.keras.layers as L\n",
        "from tensorflow.keras.models import Model, Sequential\n",
        "from tensorflow.keras.preprocessing.text import Tokenizer\n",
        "from tensorflow.keras.preprocessing import sequence\n",
        "from tensorflow.keras.callbacks import ModelCheckpoint, EarlyStopping"
      ],
      "execution_count": 158,
      "outputs": [
        {
          "output_type": "stream",
          "text": [
            "[nltk_data] Downloading package punkt to /root/nltk_data...\n",
            "[nltk_data]   Package punkt is already up-to-date!\n",
            "[nltk_data] Downloading package stopwords to /root/nltk_data...\n",
            "[nltk_data]   Package stopwords is already up-to-date!\n"
          ],
          "name": "stdout"
        }
      ]
    },
    {
      "cell_type": "code",
      "metadata": {
        "id": "BrUYPwlCKfY1",
        "outputId": "068599e5-12ef-46de-b253-ad1aac30c629",
        "colab": {
          "base_uri": "https://localhost:8080/"
        }
      },
      "source": [
        "# Чтобы Mystem библиотека работал корректно\n",
        "mystem = Mystem() \n",
        "!wget http://download.cdn.yandex.net/mystem/mystem-3.0-linux3.1-64bit.tar.gz\n",
        "!tar -xvf mystem-3.0-linux3.1-64bit.tar.gz\n",
        "!cp mystem /root/.local/bin/mystem"
      ],
      "execution_count": 4,
      "outputs": [
        {
          "output_type": "stream",
          "text": [
            "Installing mystem to /root/.local/bin/mystem from http://download.cdn.yandex.net/mystem/mystem-3.1-linux-64bit.tar.gz\n"
          ],
          "name": "stderr"
        },
        {
          "output_type": "stream",
          "text": [
            "--2020-11-07 11:48:16--  http://download.cdn.yandex.net/mystem/mystem-3.0-linux3.1-64bit.tar.gz\n",
            "Resolving download.cdn.yandex.net (download.cdn.yandex.net)... 5.45.205.244, 5.45.205.242, 5.45.205.241, ...\n",
            "Connecting to download.cdn.yandex.net (download.cdn.yandex.net)|5.45.205.244|:80... connected.\n",
            "HTTP request sent, awaiting response... 302 Found\n",
            "Location: http://cache-mskstoredata11.cdn.yandex.net/download.cdn.yandex.net/mystem/mystem-3.0-linux3.1-64bit.tar.gz [following]\n",
            "--2020-11-07 11:48:16--  http://cache-mskstoredata11.cdn.yandex.net/download.cdn.yandex.net/mystem/mystem-3.0-linux3.1-64bit.tar.gz\n",
            "Resolving cache-mskstoredata11.cdn.yandex.net (cache-mskstoredata11.cdn.yandex.net)... 37.9.96.22, 2a02:6b8:0:3706::38\n",
            "Connecting to cache-mskstoredata11.cdn.yandex.net (cache-mskstoredata11.cdn.yandex.net)|37.9.96.22|:80... connected.\n",
            "HTTP request sent, awaiting response... 200 OK\n",
            "Length: 16457938 (16M) [application/octet-stream]\n",
            "Saving to: ‘mystem-3.0-linux3.1-64bit.tar.gz’\n",
            "\n",
            "mystem-3.0-linux3.1 100%[===================>]  15.70M  9.48MB/s    in 1.7s    \n",
            "\n",
            "2020-11-07 11:48:19 (9.48 MB/s) - ‘mystem-3.0-linux3.1-64bit.tar.gz’ saved [16457938/16457938]\n",
            "\n",
            "mystem\n"
          ],
          "name": "stdout"
        }
      ]
    },
    {
      "cell_type": "markdown",
      "metadata": {
        "id": "Zyc-nQC4SENb"
      },
      "source": [
        "# DOWNLOAD DATA"
      ]
    },
    {
      "cell_type": "code",
      "metadata": {
        "id": "OLz6hwPHLc9r"
      },
      "source": [
        "# Authenticate and create the PyDrive client.\n",
        "auth.authenticate_user()\n",
        "gauth = GoogleAuth()\n",
        "gauth.credentials = GoogleCredentials.get_application_default()\n",
        "drive = GoogleDrive(gauth)"
      ],
      "execution_count": 160,
      "outputs": []
    },
    {
      "cell_type": "code",
      "metadata": {
        "id": "183lq3BzKnn0"
      },
      "source": [
        "# Download clear_train.csv from google drive to Colab VM.\n",
        "downloaded = drive.CreateFile({'id':\"1-3kiZxEddvuNFoRTfMA6cA8bu7LjP2b3\"}) # откуда берем файл\n",
        "downloaded.GetContentFile(DATA_PATH+'/clear_train.csv') # куда сохраняем файл в вирутальной машине колаба\n",
        "\n",
        "# Download clear_test.csv from google drive to Colab VM.\n",
        "downloaded = drive.CreateFile({'id':\"1-0yG59TcpJoDSeOclid1z-nc1Fh3yud2\"})\n",
        "downloaded.GetContentFile(DATA_PATH+'/clear_test.csv')\n",
        "\n",
        "# Download sample_submission from google drive to Colab VM.\n",
        "downloaded = drive.CreateFile({'id':\"1Edwuioev6uEyeXuCQuloPNQ70V5-3HZG\"})\n",
        "downloaded.GetContentFile(DATA_PATH+'/sample_submission.csv')"
      ],
      "execution_count": 161,
      "outputs": []
    },
    {
      "cell_type": "markdown",
      "metadata": {
        "id": "OhdswXt0Mgg-"
      },
      "source": [
        "Чтобы не забыть:\n",
        "\n",
        "`drive.CreateFile({'id':\"file ID\"})`, где file ID - это ID который можно найти в ссылке на файл. Например для сслыки **https://drive.google.com/file/d/1-3kiZxEddvuNFoRTfMA6cA8bu7LjP2b3/view?usp=sharing** ID будет `1-3kiZxEddvuNFoRTfMA6cA8bu7LjP2b3`.\n",
        "\n",
        "Данные с которыми будешь работать лучше сразу сохранять в ВМ колаба, чтобы обработка происходила быстрее, особенно когда работаем с изображениями (строим нейроки для Computer Vision).\n",
        "\n",
        "Как сохранять файлы хорошо расписано [тут](https://buomsoo-kim.github.io/colab/2018/04/16/Importing-files-from-Google-Drive-in-Google-Colab.md/) и [тут](https://stackoverflow.com/questions/48376580/google-colab-how-to-read-data-from-my-google-drive)."
      ]
    },
    {
      "cell_type": "code",
      "metadata": {
        "id": "F29f4KPZmbg_"
      },
      "source": [
        "train = pd.read_csv(DATA_PATH+'/clear_train.csv')\n",
        "test = pd.read_csv(DATA_PATH+'/clear_test.csv')\n",
        "sample_submission = pd.read_csv(DATA_PATH+'/sample_submission.csv')\n",
        "text_df = pd.concat([train.description, test.description])"
      ],
      "execution_count": 162,
      "outputs": []
    },
    {
      "cell_type": "markdown",
      "metadata": {
        "id": "mHI0mrAgyiXC"
      },
      "source": [
        "# PREPARETION"
      ]
    },
    {
      "cell_type": "code",
      "metadata": {
        "id": "wV1kycZ6ypWm"
      },
      "source": [
        "def data_prep(TRAIN_DF, TEST_DF):\n",
        "\n",
        "  # ################## Concat data ####################\n",
        "  df = pd.concat([TRAIN_DF, TEST_DF])\n",
        "\n",
        "  # ################## Tag data #####################\n",
        "  df.price.fillna(0, inplace=True)\n",
        "  df['sample'] = df.price.apply(lambda x:0 if x == 0 else 1)\n",
        "\n",
        "  # ################## Prepare numeric data (Logarithm) ####################\n",
        "  df.engine_displacement = df.engine_displacement.max() - np.log(df.engine_displacement)\n",
        "  df.engine_power = df.engine_power.max() - np.log(df.engine_power)\n",
        "  # df.model_date = df.model_date.max() - np.log(df.model_date)\n",
        "  # df.production_date = df.production_date.max() - np.log(df.production_date)\n",
        "  # df.days_in_use = df.days_in_use.max() - np.log(df.days_in_use)\n",
        "\n",
        "  categorical_features = ['body', 'brand', 'color', 'fuel', 'model_info', 'name',  'num_of_doors',  'transmission', 'owners', 'vehicle_title', 'drive_type']\n",
        "  numerical_features = ['engine_displacement', 'engine_power', 'mileage', 'model_date', 'production_date', 'tax', 'days_in_use']\n",
        "\n",
        "  # ############################## Label Encoding #####################################\n",
        "  for column in categorical_features:\n",
        "      df[column] = df[column].astype('category').cat.codes\n",
        "  \n",
        "  # ############################### One Hot encoding ###################################\n",
        "  df = pd.get_dummies(df, columns=categorical_features, dummy_na=False)\n",
        "\n",
        "  # ############################### Normalization ######################################\n",
        "  MMS = MinMaxScaler()\n",
        "\n",
        "  MMS.fit(df[numerical_features])\n",
        "  df[numerical_features] = MMS.transform(df[numerical_features])\n",
        "\n",
        "  return df"
      ],
      "execution_count": 163,
      "outputs": []
    },
    {
      "cell_type": "code",
      "metadata": {
        "id": "xAA8BDCqza4I",
        "outputId": "b24f17df-b9f7-47a8-eb1c-6549c314c682",
        "colab": {
          "base_uri": "https://localhost:8080/",
          "height": 576
        }
      },
      "source": [
        "df = data_prep(train, test)\n",
        "df.head()"
      ],
      "execution_count": 164,
      "outputs": [
        {
          "output_type": "execute_result",
          "data": {
            "text/html": [
              "<div>\n",
              "<style scoped>\n",
              "    .dataframe tbody tr th:only-of-type {\n",
              "        vertical-align: middle;\n",
              "    }\n",
              "\n",
              "    .dataframe tbody tr th {\n",
              "        vertical-align: top;\n",
              "    }\n",
              "\n",
              "    .dataframe thead th {\n",
              "        text-align: right;\n",
              "    }\n",
              "</style>\n",
              "<table border=\"1\" class=\"dataframe\">\n",
              "  <thead>\n",
              "    <tr style=\"text-align: right;\">\n",
              "      <th></th>\n",
              "      <th>description</th>\n",
              "      <th>engine_displacement</th>\n",
              "      <th>engine_power</th>\n",
              "      <th>mileage</th>\n",
              "      <th>model_date</th>\n",
              "      <th>price</th>\n",
              "      <th>production_date</th>\n",
              "      <th>tax</th>\n",
              "      <th>days_in_use</th>\n",
              "      <th>sample</th>\n",
              "      <th>body_0</th>\n",
              "      <th>body_1</th>\n",
              "      <th>body_2</th>\n",
              "      <th>body_3</th>\n",
              "      <th>body_4</th>\n",
              "      <th>body_5</th>\n",
              "      <th>body_6</th>\n",
              "      <th>body_7</th>\n",
              "      <th>body_8</th>\n",
              "      <th>body_9</th>\n",
              "      <th>body_10</th>\n",
              "      <th>body_11</th>\n",
              "      <th>body_12</th>\n",
              "      <th>brand_0</th>\n",
              "      <th>brand_1</th>\n",
              "      <th>brand_2</th>\n",
              "      <th>color_0</th>\n",
              "      <th>color_1</th>\n",
              "      <th>color_2</th>\n",
              "      <th>color_3</th>\n",
              "      <th>color_4</th>\n",
              "      <th>color_5</th>\n",
              "      <th>color_6</th>\n",
              "      <th>color_7</th>\n",
              "      <th>color_8</th>\n",
              "      <th>color_9</th>\n",
              "      <th>color_10</th>\n",
              "      <th>color_11</th>\n",
              "      <th>color_12</th>\n",
              "      <th>color_13</th>\n",
              "      <th>...</th>\n",
              "      <th>name_337</th>\n",
              "      <th>name_338</th>\n",
              "      <th>name_339</th>\n",
              "      <th>name_340</th>\n",
              "      <th>name_341</th>\n",
              "      <th>name_342</th>\n",
              "      <th>name_343</th>\n",
              "      <th>name_344</th>\n",
              "      <th>name_345</th>\n",
              "      <th>name_346</th>\n",
              "      <th>name_347</th>\n",
              "      <th>name_348</th>\n",
              "      <th>name_349</th>\n",
              "      <th>name_350</th>\n",
              "      <th>name_351</th>\n",
              "      <th>name_352</th>\n",
              "      <th>name_353</th>\n",
              "      <th>name_354</th>\n",
              "      <th>name_355</th>\n",
              "      <th>name_356</th>\n",
              "      <th>name_357</th>\n",
              "      <th>name_358</th>\n",
              "      <th>name_359</th>\n",
              "      <th>num_of_doors_0</th>\n",
              "      <th>num_of_doors_1</th>\n",
              "      <th>num_of_doors_2</th>\n",
              "      <th>num_of_doors_3</th>\n",
              "      <th>transmission_0</th>\n",
              "      <th>transmission_1</th>\n",
              "      <th>transmission_2</th>\n",
              "      <th>transmission_3</th>\n",
              "      <th>owners_0</th>\n",
              "      <th>owners_1</th>\n",
              "      <th>owners_2</th>\n",
              "      <th>owners_3</th>\n",
              "      <th>vehicle_title_0</th>\n",
              "      <th>vehicle_title_1</th>\n",
              "      <th>drive_type_0</th>\n",
              "      <th>drive_type_1</th>\n",
              "      <th>drive_type_2</th>\n",
              "    </tr>\n",
              "  </thead>\n",
              "  <tbody>\n",
              "    <tr>\n",
              "      <th>0</th>\n",
              "      <td>Авто на бодром ходу.  Все работает отлично.  П...</td>\n",
              "      <td>0.328812</td>\n",
              "      <td>0.423210</td>\n",
              "      <td>0.244999</td>\n",
              "      <td>0.750000</td>\n",
              "      <td>599000.0</td>\n",
              "      <td>0.657895</td>\n",
              "      <td>0.383285</td>\n",
              "      <td>0.342100</td>\n",
              "      <td>1</td>\n",
              "      <td>0</td>\n",
              "      <td>0</td>\n",
              "      <td>0</td>\n",
              "      <td>0</td>\n",
              "      <td>0</td>\n",
              "      <td>0</td>\n",
              "      <td>0</td>\n",
              "      <td>0</td>\n",
              "      <td>0</td>\n",
              "      <td>0</td>\n",
              "      <td>1</td>\n",
              "      <td>0</td>\n",
              "      <td>0</td>\n",
              "      <td>0</td>\n",
              "      <td>1</td>\n",
              "      <td>0</td>\n",
              "      <td>0</td>\n",
              "      <td>0</td>\n",
              "      <td>0</td>\n",
              "      <td>0</td>\n",
              "      <td>0</td>\n",
              "      <td>0</td>\n",
              "      <td>0</td>\n",
              "      <td>0</td>\n",
              "      <td>0</td>\n",
              "      <td>0</td>\n",
              "      <td>0</td>\n",
              "      <td>0</td>\n",
              "      <td>0</td>\n",
              "      <td>0</td>\n",
              "      <td>...</td>\n",
              "      <td>0</td>\n",
              "      <td>0</td>\n",
              "      <td>0</td>\n",
              "      <td>0</td>\n",
              "      <td>0</td>\n",
              "      <td>0</td>\n",
              "      <td>0</td>\n",
              "      <td>0</td>\n",
              "      <td>0</td>\n",
              "      <td>0</td>\n",
              "      <td>0</td>\n",
              "      <td>0</td>\n",
              "      <td>0</td>\n",
              "      <td>0</td>\n",
              "      <td>0</td>\n",
              "      <td>0</td>\n",
              "      <td>0</td>\n",
              "      <td>0</td>\n",
              "      <td>0</td>\n",
              "      <td>0</td>\n",
              "      <td>0</td>\n",
              "      <td>0</td>\n",
              "      <td>0</td>\n",
              "      <td>0</td>\n",
              "      <td>0</td>\n",
              "      <td>1</td>\n",
              "      <td>0</td>\n",
              "      <td>1</td>\n",
              "      <td>0</td>\n",
              "      <td>0</td>\n",
              "      <td>0</td>\n",
              "      <td>0</td>\n",
              "      <td>0</td>\n",
              "      <td>0</td>\n",
              "      <td>1</td>\n",
              "      <td>0</td>\n",
              "      <td>1</td>\n",
              "      <td>0</td>\n",
              "      <td>0</td>\n",
              "      <td>1</td>\n",
              "    </tr>\n",
              "    <tr>\n",
              "      <th>1</th>\n",
              "      <td>Продажа от собственника, второй владелец, ПТС ...</td>\n",
              "      <td>0.357585</td>\n",
              "      <td>0.552008</td>\n",
              "      <td>0.182999</td>\n",
              "      <td>0.833333</td>\n",
              "      <td>850000.0</td>\n",
              "      <td>0.763158</td>\n",
              "      <td>0.118732</td>\n",
              "      <td>0.236833</td>\n",
              "      <td>1</td>\n",
              "      <td>0</td>\n",
              "      <td>0</td>\n",
              "      <td>0</td>\n",
              "      <td>0</td>\n",
              "      <td>0</td>\n",
              "      <td>0</td>\n",
              "      <td>0</td>\n",
              "      <td>0</td>\n",
              "      <td>0</td>\n",
              "      <td>0</td>\n",
              "      <td>1</td>\n",
              "      <td>0</td>\n",
              "      <td>0</td>\n",
              "      <td>1</td>\n",
              "      <td>0</td>\n",
              "      <td>0</td>\n",
              "      <td>0</td>\n",
              "      <td>0</td>\n",
              "      <td>0</td>\n",
              "      <td>0</td>\n",
              "      <td>0</td>\n",
              "      <td>0</td>\n",
              "      <td>0</td>\n",
              "      <td>0</td>\n",
              "      <td>0</td>\n",
              "      <td>0</td>\n",
              "      <td>0</td>\n",
              "      <td>1</td>\n",
              "      <td>0</td>\n",
              "      <td>0</td>\n",
              "      <td>...</td>\n",
              "      <td>0</td>\n",
              "      <td>0</td>\n",
              "      <td>0</td>\n",
              "      <td>0</td>\n",
              "      <td>0</td>\n",
              "      <td>0</td>\n",
              "      <td>0</td>\n",
              "      <td>0</td>\n",
              "      <td>0</td>\n",
              "      <td>0</td>\n",
              "      <td>0</td>\n",
              "      <td>0</td>\n",
              "      <td>0</td>\n",
              "      <td>0</td>\n",
              "      <td>0</td>\n",
              "      <td>0</td>\n",
              "      <td>0</td>\n",
              "      <td>0</td>\n",
              "      <td>0</td>\n",
              "      <td>0</td>\n",
              "      <td>0</td>\n",
              "      <td>0</td>\n",
              "      <td>0</td>\n",
              "      <td>0</td>\n",
              "      <td>0</td>\n",
              "      <td>1</td>\n",
              "      <td>0</td>\n",
              "      <td>0</td>\n",
              "      <td>1</td>\n",
              "      <td>0</td>\n",
              "      <td>0</td>\n",
              "      <td>0</td>\n",
              "      <td>0</td>\n",
              "      <td>1</td>\n",
              "      <td>0</td>\n",
              "      <td>0</td>\n",
              "      <td>1</td>\n",
              "      <td>0</td>\n",
              "      <td>1</td>\n",
              "      <td>0</td>\n",
              "    </tr>\n",
              "    <tr>\n",
              "      <th>2</th>\n",
              "      <td>Внимание! Только для клиентов AVILON Автомобил...</td>\n",
              "      <td>0.264526</td>\n",
              "      <td>0.370477</td>\n",
              "      <td>0.122732</td>\n",
              "      <td>0.791667</td>\n",
              "      <td>1325000.0</td>\n",
              "      <td>0.815789</td>\n",
              "      <td>0.432277</td>\n",
              "      <td>0.184163</td>\n",
              "      <td>1</td>\n",
              "      <td>0</td>\n",
              "      <td>0</td>\n",
              "      <td>0</td>\n",
              "      <td>0</td>\n",
              "      <td>0</td>\n",
              "      <td>0</td>\n",
              "      <td>0</td>\n",
              "      <td>0</td>\n",
              "      <td>0</td>\n",
              "      <td>0</td>\n",
              "      <td>1</td>\n",
              "      <td>0</td>\n",
              "      <td>0</td>\n",
              "      <td>0</td>\n",
              "      <td>0</td>\n",
              "      <td>1</td>\n",
              "      <td>0</td>\n",
              "      <td>0</td>\n",
              "      <td>0</td>\n",
              "      <td>0</td>\n",
              "      <td>0</td>\n",
              "      <td>0</td>\n",
              "      <td>0</td>\n",
              "      <td>0</td>\n",
              "      <td>0</td>\n",
              "      <td>0</td>\n",
              "      <td>0</td>\n",
              "      <td>0</td>\n",
              "      <td>0</td>\n",
              "      <td>0</td>\n",
              "      <td>...</td>\n",
              "      <td>0</td>\n",
              "      <td>0</td>\n",
              "      <td>0</td>\n",
              "      <td>0</td>\n",
              "      <td>0</td>\n",
              "      <td>0</td>\n",
              "      <td>0</td>\n",
              "      <td>0</td>\n",
              "      <td>0</td>\n",
              "      <td>0</td>\n",
              "      <td>0</td>\n",
              "      <td>0</td>\n",
              "      <td>0</td>\n",
              "      <td>0</td>\n",
              "      <td>0</td>\n",
              "      <td>0</td>\n",
              "      <td>0</td>\n",
              "      <td>0</td>\n",
              "      <td>0</td>\n",
              "      <td>0</td>\n",
              "      <td>0</td>\n",
              "      <td>0</td>\n",
              "      <td>0</td>\n",
              "      <td>0</td>\n",
              "      <td>0</td>\n",
              "      <td>1</td>\n",
              "      <td>0</td>\n",
              "      <td>1</td>\n",
              "      <td>0</td>\n",
              "      <td>0</td>\n",
              "      <td>0</td>\n",
              "      <td>0</td>\n",
              "      <td>0</td>\n",
              "      <td>0</td>\n",
              "      <td>1</td>\n",
              "      <td>0</td>\n",
              "      <td>1</td>\n",
              "      <td>0</td>\n",
              "      <td>0</td>\n",
              "      <td>1</td>\n",
              "    </tr>\n",
              "    <tr>\n",
              "      <th>3</th>\n",
              "      <td>В комплекте зимние колёса. 27.07.2020 Замена п...</td>\n",
              "      <td>0.497904</td>\n",
              "      <td>0.608045</td>\n",
              "      <td>0.150999</td>\n",
              "      <td>0.833333</td>\n",
              "      <td>815000.0</td>\n",
              "      <td>0.763158</td>\n",
              "      <td>0.077810</td>\n",
              "      <td>0.236833</td>\n",
              "      <td>1</td>\n",
              "      <td>0</td>\n",
              "      <td>0</td>\n",
              "      <td>0</td>\n",
              "      <td>0</td>\n",
              "      <td>0</td>\n",
              "      <td>0</td>\n",
              "      <td>0</td>\n",
              "      <td>0</td>\n",
              "      <td>0</td>\n",
              "      <td>0</td>\n",
              "      <td>1</td>\n",
              "      <td>0</td>\n",
              "      <td>0</td>\n",
              "      <td>1</td>\n",
              "      <td>0</td>\n",
              "      <td>0</td>\n",
              "      <td>0</td>\n",
              "      <td>1</td>\n",
              "      <td>0</td>\n",
              "      <td>0</td>\n",
              "      <td>0</td>\n",
              "      <td>0</td>\n",
              "      <td>0</td>\n",
              "      <td>0</td>\n",
              "      <td>0</td>\n",
              "      <td>0</td>\n",
              "      <td>0</td>\n",
              "      <td>0</td>\n",
              "      <td>0</td>\n",
              "      <td>0</td>\n",
              "      <td>...</td>\n",
              "      <td>0</td>\n",
              "      <td>0</td>\n",
              "      <td>0</td>\n",
              "      <td>0</td>\n",
              "      <td>0</td>\n",
              "      <td>0</td>\n",
              "      <td>0</td>\n",
              "      <td>0</td>\n",
              "      <td>0</td>\n",
              "      <td>0</td>\n",
              "      <td>0</td>\n",
              "      <td>0</td>\n",
              "      <td>0</td>\n",
              "      <td>0</td>\n",
              "      <td>0</td>\n",
              "      <td>0</td>\n",
              "      <td>0</td>\n",
              "      <td>0</td>\n",
              "      <td>0</td>\n",
              "      <td>0</td>\n",
              "      <td>0</td>\n",
              "      <td>0</td>\n",
              "      <td>0</td>\n",
              "      <td>0</td>\n",
              "      <td>0</td>\n",
              "      <td>1</td>\n",
              "      <td>0</td>\n",
              "      <td>0</td>\n",
              "      <td>1</td>\n",
              "      <td>0</td>\n",
              "      <td>0</td>\n",
              "      <td>0</td>\n",
              "      <td>0</td>\n",
              "      <td>0</td>\n",
              "      <td>1</td>\n",
              "      <td>0</td>\n",
              "      <td>1</td>\n",
              "      <td>0</td>\n",
              "      <td>1</td>\n",
              "      <td>0</td>\n",
              "    </tr>\n",
              "    <tr>\n",
              "      <th>4</th>\n",
              "      <td>Отличный авто, 2011 года выпуска, кроме передн...</td>\n",
              "      <td>0.541843</td>\n",
              "      <td>0.660777</td>\n",
              "      <td>0.139999</td>\n",
              "      <td>0.750000</td>\n",
              "      <td>810000.0</td>\n",
              "      <td>0.763158</td>\n",
              "      <td>0.060519</td>\n",
              "      <td>0.236833</td>\n",
              "      <td>1</td>\n",
              "      <td>0</td>\n",
              "      <td>0</td>\n",
              "      <td>0</td>\n",
              "      <td>0</td>\n",
              "      <td>0</td>\n",
              "      <td>0</td>\n",
              "      <td>1</td>\n",
              "      <td>0</td>\n",
              "      <td>0</td>\n",
              "      <td>0</td>\n",
              "      <td>0</td>\n",
              "      <td>0</td>\n",
              "      <td>0</td>\n",
              "      <td>1</td>\n",
              "      <td>0</td>\n",
              "      <td>0</td>\n",
              "      <td>0</td>\n",
              "      <td>1</td>\n",
              "      <td>0</td>\n",
              "      <td>0</td>\n",
              "      <td>0</td>\n",
              "      <td>0</td>\n",
              "      <td>0</td>\n",
              "      <td>0</td>\n",
              "      <td>0</td>\n",
              "      <td>0</td>\n",
              "      <td>0</td>\n",
              "      <td>0</td>\n",
              "      <td>0</td>\n",
              "      <td>0</td>\n",
              "      <td>...</td>\n",
              "      <td>0</td>\n",
              "      <td>0</td>\n",
              "      <td>0</td>\n",
              "      <td>0</td>\n",
              "      <td>0</td>\n",
              "      <td>0</td>\n",
              "      <td>0</td>\n",
              "      <td>0</td>\n",
              "      <td>0</td>\n",
              "      <td>0</td>\n",
              "      <td>0</td>\n",
              "      <td>0</td>\n",
              "      <td>0</td>\n",
              "      <td>0</td>\n",
              "      <td>0</td>\n",
              "      <td>0</td>\n",
              "      <td>0</td>\n",
              "      <td>0</td>\n",
              "      <td>0</td>\n",
              "      <td>0</td>\n",
              "      <td>0</td>\n",
              "      <td>0</td>\n",
              "      <td>0</td>\n",
              "      <td>0</td>\n",
              "      <td>0</td>\n",
              "      <td>0</td>\n",
              "      <td>1</td>\n",
              "      <td>0</td>\n",
              "      <td>1</td>\n",
              "      <td>0</td>\n",
              "      <td>0</td>\n",
              "      <td>0</td>\n",
              "      <td>0</td>\n",
              "      <td>0</td>\n",
              "      <td>1</td>\n",
              "      <td>0</td>\n",
              "      <td>1</td>\n",
              "      <td>0</td>\n",
              "      <td>1</td>\n",
              "      <td>0</td>\n",
              "    </tr>\n",
              "  </tbody>\n",
              "</table>\n",
              "<p>5 rows × 545 columns</p>\n",
              "</div>"
            ],
            "text/plain": [
              "                                         description  ...  drive_type_2\n",
              "0  Авто на бодром ходу.  Все работает отлично.  П...  ...             1\n",
              "1  Продажа от собственника, второй владелец, ПТС ...  ...             0\n",
              "2  Внимание! Только для клиентов AVILON Автомобил...  ...             1\n",
              "3  В комплекте зимние колёса. 27.07.2020 Замена п...  ...             0\n",
              "4  Отличный авто, 2011 года выпуска, кроме передн...  ...             0\n",
              "\n",
              "[5 rows x 545 columns]"
            ]
          },
          "metadata": {
            "tags": []
          },
          "execution_count": 164
        }
      ]
    },
    {
      "cell_type": "code",
      "metadata": {
        "id": "QNpjE1VOpJG5",
        "outputId": "14785148-c6d7-40f7-fc8b-9eac6f1dfef2",
        "colab": {
          "base_uri": "https://localhost:8080/"
        }
      },
      "source": [
        "text_df"
      ],
      "execution_count": 165,
      "outputs": [
        {
          "output_type": "execute_result",
          "data": {
            "text/plain": [
              "0       Авто на бодром ходу.  Все работает отлично.  П...\n",
              "1       Продажа от собственника, второй владелец, ПТС ...\n",
              "2       Внимание! Только для клиентов AVILON Автомобил...\n",
              "3       В комплекте зимние колёса. 27.07.2020 Замена п...\n",
              "4       Отличный авто, 2011 года выпуска, кроме передн...\n",
              "                              ...                        \n",
              "1666    Продаётся любимица семьи. Автомобилем неактивн...\n",
              "1667    В продаже автомобиль от компании АО ABTODOM, о...\n",
              "1668    Машина в идеальном техническом состоянии. Обсл...\n",
              "1669    Автомобиль приобретался новым у дилера Avilon ...\n",
              "1670    ID: 38887\\nКомплектация-Comfort\\nГод выпуска в...\n",
              "Name: description, Length: 8353, dtype: object"
            ]
          },
          "metadata": {
            "tags": []
          },
          "execution_count": 165
        }
      ]
    },
    {
      "cell_type": "markdown",
      "metadata": {
        "id": "8yPoPtcGpK9M"
      },
      "source": [
        "# TO DO LIST\n",
        "\n",
        "1. Удалить все нерелевантные символы (например, любые символы, не относящиеся к цифро-буквенным).\n",
        "2. Токенизировать текст, разделив его на индивидуальные слова.\n",
        "3. Удалить нерелевантные слова — например, упоминания в Twitter или URL-ы.\n",
        "4. Перевести все символы в нижний регистр для того, чтобы слова «привет», «Привет» и «ПРИВЕТ» считались одним и тем же словом.\n",
        "5. Рассмотрите возможность совмещения слов, написанных с ошибками, или имеющих альтернативное написание (например, «круто»/«круть»/ «круууто»)\n",
        "6. Рассмотрите возможность проведения лемматизации, т. е. сведения различных форм одного слова к словарной форме (например, «машина» вместо «машиной», «на машине», «машинах» и пр.)"
      ]
    },
    {
      "cell_type": "markdown",
      "metadata": {
        "id": "wl3yylDbK6jE"
      },
      "source": [
        "# TEXT PREPARING"
      ]
    },
    {
      "cell_type": "code",
      "metadata": {
        "id": "VWFcct2Pd6ae"
      },
      "source": [
        "# Создаем леммитайзер и список стоп-слов\n",
        "mystem = Mystem() \n",
        "russian_stopwords = stopwords.words(\"russian\")\n",
        "\n",
        "# Функция для лемматизации и удалении стоп-слов\n",
        "def preprocess_text(text):\n",
        "    tokens = mystem.lemmatize(text.lower())\n",
        "    # tokens = [token for token in tokens if token not in russian_stopwords\\\n",
        "    #           and token != \" \" \\\n",
        "    #           and token.strip() not in punctuation]\n",
        "\n",
        "    tokens = [token for token in tokens if token != \" \" \\\n",
        "              and token.strip() not in punctuation]\n",
        "    \n",
        "    text = \" \".join(tokens)\n",
        "    \n",
        "    return text"
      ],
      "execution_count": 166,
      "outputs": []
    },
    {
      "cell_type": "code",
      "metadata": {
        "id": "23cG0NlwxcAJ",
        "outputId": "c93df251-bb5d-4850-d366-279986285ab8",
        "colab": {
          "base_uri": "https://localhost:8080/",
          "height": 52
        }
      },
      "source": [
        "text_df.iloc[303]"
      ],
      "execution_count": 167,
      "outputs": [
        {
          "output_type": "execute_result",
          "data": {
            "application/vnd.google.colaboratory.intrinsic+json": {
              "type": "string"
            },
            "text/plain": [
              "'Год выпуска: 2008. Пробег: 180\\xa0000\\xa0км. Кузов: купе. Цвет: синий. Двигатель: 1.8 л / 170\\xa0л.с. / Бензин. Налог: 7\\xa0650\\xa0₽ / год. Коробка: вариатор. Привод: передний. Руль: Левый. Состояние: Не требует ремонта. Владельцы: 3 или более. ПТС: Дубликат. Таможня: Растаможен. VIN: WAU**************. Госномер: ******|750. '"
            ]
          },
          "metadata": {
            "tags": []
          },
          "execution_count": 167
        }
      ]
    },
    {
      "cell_type": "code",
      "metadata": {
        "id": "kipUDnFgtvpF"
      },
      "source": [
        "text_df = text_df.apply(preprocess_text)"
      ],
      "execution_count": 168,
      "outputs": []
    },
    {
      "cell_type": "code",
      "metadata": {
        "id": "3oeDmn6LxMfC",
        "outputId": "8515a138-309d-4ec1-d145-d9b0acdf7f28",
        "colab": {
          "base_uri": "https://localhost:8080/",
          "height": 52
        }
      },
      "source": [
        "text_df.iloc[0]"
      ],
      "execution_count": 169,
      "outputs": [
        {
          "output_type": "execute_result",
          "data": {
            "application/vnd.google.colaboratory.intrinsic+json": {
              "type": "string"
            },
            "text/plain": [
              "'авто на бодрый ход все работать отлично по электрика ходовой акпп двс нарекание нет .. масло не есть .!!! салон уходить на запчасть деньги не жалеть жидкость все поменять красить один дверь левый задний штраф и ограничение нет ..! торг при осмотр возможный обмен на внедорожник или коммерческий транспорт'"
            ]
          },
          "metadata": {
            "tags": []
          },
          "execution_count": 169
        }
      ]
    },
    {
      "cell_type": "code",
      "metadata": {
        "id": "AparuAPiA5-0"
      },
      "source": [
        "def reg_exp(text):\n",
        "\n",
        "  nums_and_chars = ' '.join(re.findall(r'\\w+',text))\n",
        "  chars = ''.join(re.findall(r'\\D+',nums_and_chars))\n",
        "  only_chars = re.sub(r'[!\"#$%&\\'()*+,-./:;?@[\\\\]^_`{|}~]', '', chars)\n",
        "  final = re.sub(r'[a-z]', '', only_chars)\n",
        "\n",
        "  return final"
      ],
      "execution_count": 170,
      "outputs": []
    },
    {
      "cell_type": "code",
      "metadata": {
        "id": "4L6atXVw7Tmg"
      },
      "source": [
        "text_df = text_df.apply(reg_exp)"
      ],
      "execution_count": 171,
      "outputs": []
    },
    {
      "cell_type": "code",
      "metadata": {
        "id": "h2IyXvC7BWo3",
        "outputId": "7d9ea39e-4fa9-4893-fb17-710e06d23182",
        "colab": {
          "base_uri": "https://localhost:8080/",
          "height": 52
        }
      },
      "source": [
        "text_df.iloc[0]"
      ],
      "execution_count": 172,
      "outputs": [
        {
          "output_type": "execute_result",
          "data": {
            "application/vnd.google.colaboratory.intrinsic+json": {
              "type": "string"
            },
            "text/plain": [
              "'авто на бодрый ход все работать отлично по электрика ходовой акпп двс нарекание нет масло не есть салон уходить на запчасть деньги не жалеть жидкость все поменять красить один дверь левый задний штраф и ограничение нет торг при осмотр возможный обмен на внедорожник или коммерческий транспорт'"
            ]
          },
          "metadata": {
            "tags": []
          },
          "execution_count": 172
        }
      ]
    },
    {
      "cell_type": "markdown",
      "metadata": {
        "id": "xYzzx0DS0qB-"
      },
      "source": [
        "# SPLIT"
      ]
    },
    {
      "cell_type": "code",
      "metadata": {
        "id": "I1rip6tr0raT"
      },
      "source": [
        "X = df.query('sample==1').drop(columns=['description', 'price', 'sample'])\n",
        "y = df.query('sample==1').price.values\n",
        "test = df.query('sample==0').drop(columns=['description', 'price', 'sample'])\n",
        "\n",
        "# ############ Split #################\n",
        "X_train, X_test, y_train, y_test = train_test_split(X,y, test_size=0.1, shuffle=True, random_state=RANDOM_SEED)\n",
        "\n",
        "text_train = text_df.iloc[X_train.index]\n",
        "text_test = text_df.iloc[X_test.index]\n",
        "text_sub = text_df.iloc[test.index]"
      ],
      "execution_count": 173,
      "outputs": []
    },
    {
      "cell_type": "markdown",
      "metadata": {
        "id": "2QX8P8ebxmq-"
      },
      "source": [
        "# TOKENIZE"
      ]
    },
    {
      "cell_type": "markdown",
      "metadata": {
        "id": "b5RtNzLt6Sir"
      },
      "source": [
        "## Bag of words with tfidf 2-grams"
      ]
    },
    {
      "cell_type": "code",
      "metadata": {
        "id": "FsKolql7D8Wq"
      },
      "source": [
        "  MAX_WORDS=5000"
      ],
      "execution_count": 185,
      "outputs": []
    },
    {
      "cell_type": "code",
      "metadata": {
        "id": "CjgwuUMJ6O88"
      },
      "source": [
        "def bow_tfidf_2_grams(TEXT, TRAIN_DF, TEST_DF, SUB_DF):\n",
        "\n",
        "  tfidf_vectorizer=TfidfVectorizer(analyzer='word', ngram_range=(3,3), min_df=50, max_features=MAX_WORDS, use_idf=True, smooth_idf=True)\n",
        "  tfidf_vectorizer_vectors=tfidf_vectorizer.fit(TEXT)\n",
        "\n",
        "  train_tfidf = tfidf_vectorizer.transform(TRAIN_DF)\n",
        "  test_tfidf = tfidf_vectorizer.transform(TEST_DF)\n",
        "  text_sub_tfidf = tfidf_vectorizer.transform(SUB_DF)\n",
        "\n",
        "  print(train_tfidf.shape, test_tfidf.shape, text_sub_tfidf.shape, )\n",
        "\n",
        "  text_df_transform = tfidf_vectorizer.transform(text_df)\n",
        "\n",
        "  train=train_tfidf.todense()\n",
        "  test=test_tfidf.todense()\n",
        "  sub=text_sub_tfidf.todense()\n",
        "\n",
        "  return train, test, sub, text_df_transform, tfidf_vectorizer"
      ],
      "execution_count": 212,
      "outputs": []
    },
    {
      "cell_type": "code",
      "metadata": {
        "id": "1YkK-XcZ7ICq",
        "outputId": "b9d7d751-2a52-410d-f13f-efcc7ddc0769",
        "colab": {
          "base_uri": "https://localhost:8080/"
        }
      },
      "source": [
        "train_tfidf, test_tfidf, text_sub_tfidf, text, tfidf_vectorizer = bow_tfidf_2_grams(text_df, text_train, text_test, text_sub)"
      ],
      "execution_count": 213,
      "outputs": [
        {
          "output_type": "stream",
          "text": [
            "(6013, 1617) (669, 1617) (1671, 1617)\n"
          ],
          "name": "stdout"
        }
      ]
    },
    {
      "cell_type": "code",
      "metadata": {
        "id": "0tQCa6an6vJv",
        "outputId": "c8499c56-9034-49aa-b2d1-1652c1af9537",
        "colab": {
          "base_uri": "https://localhost:8080/"
        }
      },
      "source": [
        "tfidf_vectorizer.get_feature_names()[500:520]"
      ],
      "execution_count": 214,
      "outputs": [
        {
          "output_type": "execute_result",
          "data": {
            "text/plain": [
              "['зеркало климат контроль',\n",
              " 'зеркало кондиционер климат',\n",
              " 'зеркало навигационный система',\n",
              " 'зеркало обогрев задний',\n",
              " 'зеркало обогрев форсунка',\n",
              " 'зеркало электропривод крышка',\n",
              " 'зеркальный блеск потолок',\n",
              " 'зимний колесо на',\n",
              " 'зимний резина на',\n",
              " 'зимний резина подарок',\n",
              " 'зимний шина подарок',\n",
              " 'знак аварийный остановка',\n",
              " 'зонный вентиляция сидение',\n",
              " 'зонный климат контроль',\n",
              " 'зонный подогрев сидение',\n",
              " 'игрок российский авторитейл',\n",
              " 'идеальный технический состояние',\n",
              " 'из дом бесконтактный',\n",
              " 'из дом наш',\n",
              " 'из касса течение']"
            ]
          },
          "metadata": {
            "tags": []
          },
          "execution_count": 214
        }
      ]
    },
    {
      "cell_type": "code",
      "metadata": {
        "id": "NoEVe94iGJhh",
        "outputId": "e0a577f7-f7bd-48df-d810-39587e5e9daf",
        "colab": {
          "base_uri": "https://localhost:8080/"
        }
      },
      "source": [
        "len(tfidf_vectorizer.get_feature_names())"
      ],
      "execution_count": 194,
      "outputs": [
        {
          "output_type": "execute_result",
          "data": {
            "text/plain": [
              "2194"
            ]
          },
          "metadata": {
            "tags": []
          },
          "execution_count": 194
        }
      ]
    },
    {
      "cell_type": "markdown",
      "metadata": {
        "id": "ALQHoduLXlbN"
      },
      "source": [
        "## Bag of words with tfidf 1-gram"
      ]
    },
    {
      "cell_type": "code",
      "metadata": {
        "id": "vcXZgRDFpAqe"
      },
      "source": [
        "# tfidf_vectorizer=TfidfVectorizer(analyzer='word', ngram_range=(2,2), max_features=MAX_WORDS, use_idf=True, smooth_idf=True)\n",
        "# tfidf_vectorizer_vectors=tfidf_vectorizer.fit(text_df)"
      ],
      "execution_count": null,
      "outputs": []
    },
    {
      "cell_type": "code",
      "metadata": {
        "id": "ZfYgKkJOpR0F"
      },
      "source": [
        "# train_tfidf = tfidf_vectorizer.transform(text_train)\n",
        "# test_tfidf = tfidf_vectorizer.transform(text_test)\n",
        "# text_sub_tfidf = tfidf_vectorizer.transform(text_sub)\n",
        "\n",
        "# print(train_tfidf.shape, test_tfidf.shape, text_sub_tfidf.shape, )"
      ],
      "execution_count": null,
      "outputs": []
    },
    {
      "cell_type": "code",
      "metadata": {
        "id": "V3NILLxbsEuv"
      },
      "source": [
        "# text_df_transform = tfidf_vectorizer.transform(text_df)"
      ],
      "execution_count": null,
      "outputs": []
    },
    {
      "cell_type": "code",
      "metadata": {
        "id": "V0-ffAFPsKR5"
      },
      "source": [
        "# text_df_transform.shape"
      ],
      "execution_count": null,
      "outputs": []
    },
    {
      "cell_type": "code",
      "metadata": {
        "id": "jx5-R8fBwoYT"
      },
      "source": [
        "# train_tfidf=train_tfidf.todense()\n",
        "# test_tfidf=test_tfidf.todense()\n",
        "# text_sub_tfidf=text_sub_tfidf.todense()"
      ],
      "execution_count": null,
      "outputs": []
    },
    {
      "cell_type": "code",
      "metadata": {
        "id": "_RzyLPOp057F"
      },
      "source": [
        "# # The maximum number of words to be used. (most frequent)\n",
        "# MAX_WORDS = 10000\n",
        "# # Max number of words in each complaint.\n",
        "# MAX_SEQUENCE_LENGTH = 256"
      ],
      "execution_count": 16,
      "outputs": []
    },
    {
      "cell_type": "code",
      "metadata": {
        "id": "eV2uUECM1EZ_"
      },
      "source": [
        "# %%time\n",
        "# tokenize = Tokenizer(num_words=MAX_WORDS)\n",
        "# tokenize.fit_on_texts(text_df)"
      ],
      "execution_count": null,
      "outputs": []
    },
    {
      "cell_type": "code",
      "metadata": {
        "id": "wAUYZdZH2XiF"
      },
      "source": [
        "# len(tokenize.word_index)"
      ],
      "execution_count": null,
      "outputs": []
    },
    {
      "cell_type": "code",
      "metadata": {
        "id": "vr4jnBQbyoQf"
      },
      "source": [
        "# %%time\n",
        "# text_train_sequences = sequence.pad_sequences(tokenize.texts_to_sequences(text_train), maxlen=MAX_SEQUENCE_LENGTH)\n",
        "# text_test_sequences = sequence.pad_sequences(tokenize.texts_to_sequences(text_test), maxlen=MAX_SEQUENCE_LENGTH)\n",
        "# text_sub_sequences = sequence.pad_sequences(tokenize.texts_to_sequences(text_sub), maxlen=MAX_SEQUENCE_LENGTH)\n",
        "\n",
        "# print(text_train_sequences.shape, text_test_sequences.shape, text_sub_sequences.shape, )"
      ],
      "execution_count": null,
      "outputs": []
    },
    {
      "cell_type": "code",
      "metadata": {
        "id": "-Q6PftAnyso9"
      },
      "source": [
        "# %%time\n",
        "# text_train_tfidf = tokenize.texts_to_matrix(text_train, mode='tfidf')\n",
        "# text_test_tfidf = tokenize.texts_to_matrix(text_test, mode='tfidf')\n",
        "# text_sub_tfidf = tokenize.texts_to_matrix(text_sub, mode='tfidf')\n",
        "\n",
        "# print(text_train_tfidf.shape, text_test_tfidf.shape, text_sub_tfidf.shape, )"
      ],
      "execution_count": null,
      "outputs": []
    },
    {
      "cell_type": "code",
      "metadata": {
        "id": "sg53s9_byjPH"
      },
      "source": [
        ""
      ],
      "execution_count": null,
      "outputs": []
    },
    {
      "cell_type": "code",
      "metadata": {
        "id": "KIAe88jBWB9Y"
      },
      "source": [
        "# %%time\n",
        "# text_train_sequences = tokenize.texts_to_matrix(text_train, mode='tfidf')\n",
        "# text_test_sequences = tokenize.texts_to_matrix(text_test, mode='tfidf')\n",
        "# text_sub_sequences = tokenize.texts_to_matrix(text_sub, mode='tfidf')\n",
        "\n",
        "# print(text_train_sequences.shape, text_test_sequences.shape, text_sub_sequences.shape, )"
      ],
      "execution_count": null,
      "outputs": []
    },
    {
      "cell_type": "code",
      "metadata": {
        "id": "hqnULXVf1ly0"
      },
      "source": [
        "# print(text_train.iloc[0])\n",
        "# print(text_train_sequences[0])"
      ],
      "execution_count": 192,
      "outputs": []
    },
    {
      "cell_type": "markdown",
      "metadata": {
        "id": "W1Fckz8-17hd"
      },
      "source": [
        "# MODEL"
      ]
    },
    {
      "cell_type": "code",
      "metadata": {
        "id": "xr1PZuJk7-Bx"
      },
      "source": [
        "def mape(y_true, y_pred):\n",
        "    return np.mean(np.abs((y_pred-y_true)/y_true))"
      ],
      "execution_count": 193,
      "outputs": []
    },
    {
      "cell_type": "code",
      "metadata": {
        "id": "gzPeIwtU74SM"
      },
      "source": [
        "# def build_model(LR, EPOCHS, OPTIMIZER_TYPE):\n",
        "\n",
        "#   # ################## NLP model ####################\n",
        "#   model_nlp = Sequential()\n",
        "#   model_nlp.add(L.Input(shape=MAX_SEQUENCE_LENGTH, name=\"seq_description\"))\n",
        "#   model_nlp.add(L.Embedding(len(tokenize.word_index)+1, MAX_SEQUENCE_LENGTH,))\n",
        "#   model_nlp.add(L.LSTM(256, return_sequences=True))\n",
        "#   model_nlp.add(L.Dropout(0.5))\n",
        "#   model_nlp.add(L.LSTM(128,))\n",
        "#   model_nlp.add(L.Dropout(0.25))\n",
        "#   model_nlp.add(L.Dense(64, activation=\"relu\"))\n",
        "#   model_nlp.add(L.Dropout(0.25))\n",
        "\n",
        "#   # ################# Create simple neural network ####################\n",
        "#   model_mlp = Sequential()\n",
        "#   model_mlp.add(L.Dense(1090, input_dim=X_train.shape[1], activation=\"relu\", name='dense_1090'))\n",
        "#   model_mlp.add(L.Dropout(0.85))\n",
        "#   model_mlp.add(L.Dense(545, activation=\"relu\", name='dense_545'))\n",
        "#   model_mlp.add(L.Dense(1, activation=\"linear\", name='output_dense_1'))\n",
        "\n",
        "#   # ################# Concat models ######################\n",
        "#   combinedInput = L.concatenate([model_nlp.output, model_mlp.output])\n",
        "#   head = L.Dense(64, activation=\"relu\")(combinedInput)\n",
        "#   head = L.Dense(1, activation=\"linear\")(head)\n",
        "\n",
        "#   model = Model(inputs=[model_nlp.input, model_mlp.input], outputs=head)\n",
        "\n",
        "#   display(model.summary())\n",
        "\n",
        "#   # ################# Optimizer #######################\n",
        "#   if OPTIMIZER_TYPE == 'Adam':\n",
        "#     optimizer = tf.keras.optimizers.Adam(LR)\n",
        "#   elif OPTIMIZER_TYPE == 'Adamax':\n",
        "#     optimizer = tf.keras.optimizers.Adamax(LR)\n",
        "\n",
        "#   model.compile(loss='MAPE',optimizer=optimizer, metrics=['MAPE'])\n",
        "\n",
        "#   # ################# Checkpoints ######################\n",
        "#   checkpoint = ModelCheckpoint(DATA_PATH+'/best_model.hdf5', monitor='val_MAPE', verbose=1, save_best_only=True, mode='min')\n",
        "#   earlystop = EarlyStopping(monitor='val_MAPE', patience=10, restore_best_weights=True,)\n",
        "#   callbacks_list = [checkpoint, earlystop]\n",
        "\n",
        "#   # ######################## Fit model ##############################\n",
        "#   history = model.fit([text_train_sequences, X_train], y_train,\n",
        "#                     batch_size=512,\n",
        "#                     epochs=EPOCHS, \n",
        "#                     validation_data=([text_test_sequences, X_test], y_test),\n",
        "#                     callbacks=callbacks_list,\n",
        "#                     verbose=1\n",
        "#                    )\n",
        "\n",
        "#   # ######################## Show results ###########################\n",
        "#   plt.figure(figsize=(15,10))\n",
        "#   plt.title('Loss')\n",
        "#   plt.plot(history.history['MAPE'], label='train')\n",
        "#   plt.plot(history.history['val_MAPE'], label='test')\n",
        "#   plt.legend()\n",
        "#   plt.grid()\n",
        "#   plt.show()\n",
        "\n",
        "#   # ######################## Saving best model #####################\n",
        "#   model.load_weights(DATA_PATH+'/best_model.hdf5')\n",
        "#   model.save(DATA_PATH+'/nn_mlp_nlp.hdf5')\n",
        "\n",
        "#   test_predict_nn2 = model.predict([text_test_sequences, X_test])\n",
        "#   print(f\"TEST mape: {(mape(y_test, test_predict_nn2[:,0]))*100:0.2f}%\")\n",
        "\n",
        "#   return model, checkpoint, earlystop, callbacks_list, history, test_predict_nn2"
      ],
      "execution_count": 35,
      "outputs": []
    },
    {
      "cell_type": "code",
      "metadata": {
        "id": "KRNZlN-uGerh"
      },
      "source": [
        "def build_model(LR, EPOCHS, OPTIMIZER_TYPE):\n",
        "\n",
        "  # ################## NLP model ####################\n",
        "  model_nlp = Sequential()\n",
        "  model_nlp.add(L.Input(shape=len(tfidf_vectorizer.get_feature_names()), name=\"seq_description\"))\n",
        "  model_nlp.add(L.Embedding(len(tfidf_vectorizer.get_feature_names())+1, 256,))\n",
        "  model_nlp.add(L.LSTM(256, return_sequences=True))\n",
        "  model_nlp.add(L.Dropout(0.5))\n",
        "  model_nlp.add(L.LSTM(128,))\n",
        "  model_nlp.add(L.Dropout(0.25))\n",
        "  model_nlp.add(L.Dense(64, activation=\"relu\"))\n",
        "  model_nlp.add(L.Dropout(0.25))\n",
        "\n",
        "  # ################# Create simple neural network ####################\n",
        "  model_mlp = Sequential()\n",
        "  model_mlp.add(L.Dense(1090, input_dim=X_train.shape[1], activation=\"relu\", name='dense_1090'))\n",
        "  model_mlp.add(L.Dropout(0.85))\n",
        "  model_mlp.add(L.Dense(545, activation=\"relu\", name='dense_545'))\n",
        "  model_mlp.add(L.Dense(1, activation=\"linear\", name='output_dense_1'))\n",
        "\n",
        "  # ################# Concat models ######################\n",
        "  combinedInput = L.concatenate([model_nlp.output, model_mlp.output])\n",
        "  head = L.Dense(64, activation=\"relu\")(combinedInput)\n",
        "  head = L.Dense(1, activation=\"linear\")(head)\n",
        "\n",
        "  model = Model(inputs=[model_nlp.input, model_mlp.input], outputs=head)\n",
        "\n",
        "  display(model.summary())\n",
        "\n",
        "  # ################# Optimizer #######################\n",
        "  if OPTIMIZER_TYPE == 'Adam':\n",
        "    optimizer = tf.keras.optimizers.Adam(LR)\n",
        "  elif OPTIMIZER_TYPE == 'Adamax':\n",
        "    optimizer = tf.keras.optimizers.Adamax(LR)\n",
        "\n",
        "  model.compile(loss='MAPE',optimizer=optimizer, metrics=['MAPE'])\n",
        "\n",
        "  # ################# Checkpoints ######################\n",
        "  checkpoint = ModelCheckpoint(DATA_PATH+'/best_model.hdf5', monitor='val_MAPE', verbose=1, save_best_only=True, mode='min')\n",
        "  earlystop = EarlyStopping(monitor='val_MAPE', patience=10, restore_best_weights=True,)\n",
        "  callbacks_list = [checkpoint, earlystop]\n",
        "\n",
        "  # ######################## Fit model ##############################\n",
        "  history = model.fit([train_tfidf, X_train], y_train,\n",
        "                    batch_size=128,\n",
        "                    epochs=EPOCHS, \n",
        "                    validation_data=([test_tfidf, X_test], y_test),\n",
        "                    callbacks=callbacks_list,\n",
        "                    verbose=1\n",
        "                   )\n",
        "\n",
        "  # ######################## Show results ###########################\n",
        "  plt.figure(figsize=(15,10))\n",
        "  plt.title('Loss')\n",
        "  plt.plot(history.history['MAPE'], label='train')\n",
        "  plt.plot(history.history['val_MAPE'], label='test')\n",
        "  plt.legend()\n",
        "  plt.grid()\n",
        "  plt.show()\n",
        "\n",
        "  # ######################## Saving best model #####################\n",
        "  model.load_weights(DATA_PATH+'/best_model.hdf5')\n",
        "  model.save(DATA_PATH+'/nn_mlp_nlp.hdf5')\n",
        "\n",
        "  test_predict_nn2 = model.predict([test_tfidf, X_test])\n",
        "  print(f\"TEST mape: {(mape(y_test, test_predict_nn2[:,0]))*100:0.2f}%\")\n",
        "\n",
        "  return model, checkpoint, earlystop, callbacks_list, history, test_predict_nn2"
      ],
      "execution_count": 209,
      "outputs": []
    },
    {
      "cell_type": "code",
      "metadata": {
        "id": "UmYrggiDnzU8",
        "outputId": "a5a97dae-f1d8-45a5-c0d8-004d79fa68f3",
        "colab": {
          "base_uri": "https://localhost:8080/",
          "height": 1000
        }
      },
      "source": [
        "model, checkpoint, earlystop, callbacks_list, history, test_predict_nn2 = build_model(LR=0.1, EPOCHS=500, OPTIMIZER_TYPE='Adamax')"
      ],
      "execution_count": 215,
      "outputs": [
        {
          "output_type": "stream",
          "text": [
            "Model: \"functional_11\"\n",
            "__________________________________________________________________________________________________\n",
            "Layer (type)                    Output Shape         Param #     Connected to                     \n",
            "==================================================================================================\n",
            "seq_description (InputLayer)    [(None, 1617)]       0                                            \n",
            "__________________________________________________________________________________________________\n",
            "embedding_6 (Embedding)         (None, 1617, 512)    828416      seq_description[0][0]            \n",
            "__________________________________________________________________________________________________\n",
            "lstm_10 (LSTM)                  (None, 512)          2099200     embedding_6[0][0]                \n",
            "__________________________________________________________________________________________________\n",
            "dense_1090_input (InputLayer)   [(None, 542)]        0                                            \n",
            "__________________________________________________________________________________________________\n",
            "dropout_19 (Dropout)            (None, 512)          0           lstm_10[0][0]                    \n",
            "__________________________________________________________________________________________________\n",
            "dense_1090 (Dense)              (None, 1090)         591870      dense_1090_input[0][0]           \n",
            "__________________________________________________________________________________________________\n",
            "dense_16 (Dense)                (None, 256)          131328      dropout_19[0][0]                 \n",
            "__________________________________________________________________________________________________\n",
            "dropout_21 (Dropout)            (None, 1090)         0           dense_1090[0][0]                 \n",
            "__________________________________________________________________________________________________\n",
            "dropout_20 (Dropout)            (None, 256)          0           dense_16[0][0]                   \n",
            "__________________________________________________________________________________________________\n",
            "dense_545 (Dense)               (None, 545)          594595      dropout_21[0][0]                 \n",
            "__________________________________________________________________________________________________\n",
            "dense_17 (Dense)                (None, 128)          32896       dropout_20[0][0]                 \n",
            "__________________________________________________________________________________________________\n",
            "output_dense_1 (Dense)          (None, 1)            546         dense_545[0][0]                  \n",
            "__________________________________________________________________________________________________\n",
            "concatenate_5 (Concatenate)     (None, 129)          0           dense_17[0][0]                   \n",
            "                                                                 output_dense_1[0][0]             \n",
            "__________________________________________________________________________________________________\n",
            "dense_18 (Dense)                (None, 64)           8320        concatenate_5[0][0]              \n",
            "__________________________________________________________________________________________________\n",
            "dense_19 (Dense)                (None, 1)            65          dense_18[0][0]                   \n",
            "==================================================================================================\n",
            "Total params: 4,287,236\n",
            "Trainable params: 4,287,236\n",
            "Non-trainable params: 0\n",
            "__________________________________________________________________________________________________\n"
          ],
          "name": "stdout"
        },
        {
          "output_type": "display_data",
          "data": {
            "text/plain": [
              "None"
            ]
          },
          "metadata": {
            "tags": []
          }
        },
        {
          "output_type": "stream",
          "text": [
            "Epoch 1/500\n",
            "47/47 [==============================] - ETA: 0s - loss: 56.1876 - MAPE: 56.1876\n",
            "Epoch 00001: val_MAPE improved from inf to 50.58253, saving model to /content/work_dir/best_model.hdf5\n",
            "47/47 [==============================] - 43s 908ms/step - loss: 56.1876 - MAPE: 56.1876 - val_loss: 50.5825 - val_MAPE: 50.5825\n",
            "Epoch 2/500\n",
            "47/47 [==============================] - ETA: 0s - loss: 41.8382 - MAPE: 41.8382\n",
            "Epoch 00002: val_MAPE improved from 50.58253 to 32.84836, saving model to /content/work_dir/best_model.hdf5\n",
            "47/47 [==============================] - 42s 900ms/step - loss: 41.8382 - MAPE: 41.8382 - val_loss: 32.8484 - val_MAPE: 32.8484\n",
            "Epoch 3/500\n",
            "47/47 [==============================] - ETA: 0s - loss: 35.6001 - MAPE: 35.6001\n",
            "Epoch 00003: val_MAPE improved from 32.84836 to 29.17477, saving model to /content/work_dir/best_model.hdf5\n",
            "47/47 [==============================] - 42s 898ms/step - loss: 35.6001 - MAPE: 35.6001 - val_loss: 29.1748 - val_MAPE: 29.1748\n",
            "Epoch 4/500\n",
            "47/47 [==============================] - ETA: 0s - loss: 32.6133 - MAPE: 32.6133\n",
            "Epoch 00004: val_MAPE improved from 29.17477 to 26.96187, saving model to /content/work_dir/best_model.hdf5\n",
            "47/47 [==============================] - 42s 897ms/step - loss: 32.6133 - MAPE: 32.6133 - val_loss: 26.9619 - val_MAPE: 26.9619\n",
            "Epoch 5/500\n",
            "47/47 [==============================] - ETA: 0s - loss: 31.2460 - MAPE: 31.2460\n",
            "Epoch 00005: val_MAPE improved from 26.96187 to 23.62499, saving model to /content/work_dir/best_model.hdf5\n",
            "47/47 [==============================] - 42s 898ms/step - loss: 31.2460 - MAPE: 31.2460 - val_loss: 23.6250 - val_MAPE: 23.6250\n",
            "Epoch 6/500\n",
            "47/47 [==============================] - ETA: 0s - loss: 29.6827 - MAPE: 29.6827\n",
            "Epoch 00006: val_MAPE improved from 23.62499 to 20.77989, saving model to /content/work_dir/best_model.hdf5\n",
            "47/47 [==============================] - 42s 898ms/step - loss: 29.6827 - MAPE: 29.6827 - val_loss: 20.7799 - val_MAPE: 20.7799\n",
            "Epoch 7/500\n",
            "47/47 [==============================] - ETA: 0s - loss: 29.1938 - MAPE: 29.1938\n",
            "Epoch 00007: val_MAPE did not improve from 20.77989\n",
            "47/47 [==============================] - 42s 896ms/step - loss: 29.1938 - MAPE: 29.1938 - val_loss: 22.7665 - val_MAPE: 22.7665\n",
            "Epoch 8/500\n",
            "47/47 [==============================] - ETA: 0s - loss: 28.3287 - MAPE: 28.3287\n",
            "Epoch 00008: val_MAPE did not improve from 20.77989\n",
            "47/47 [==============================] - 42s 896ms/step - loss: 28.3287 - MAPE: 28.3287 - val_loss: 22.0504 - val_MAPE: 22.0504\n",
            "Epoch 9/500\n",
            "47/47 [==============================] - ETA: 0s - loss: 27.2719 - MAPE: 27.2719\n",
            "Epoch 00009: val_MAPE did not improve from 20.77989\n",
            "47/47 [==============================] - 42s 895ms/step - loss: 27.2719 - MAPE: 27.2719 - val_loss: 22.2541 - val_MAPE: 22.2541\n",
            "Epoch 10/500\n",
            "47/47 [==============================] - ETA: 0s - loss: 27.0268 - MAPE: 27.0268\n",
            "Epoch 00010: val_MAPE improved from 20.77989 to 20.55458, saving model to /content/work_dir/best_model.hdf5\n",
            "47/47 [==============================] - 42s 899ms/step - loss: 27.0268 - MAPE: 27.0268 - val_loss: 20.5546 - val_MAPE: 20.5546\n",
            "Epoch 11/500\n",
            "47/47 [==============================] - ETA: 0s - loss: 26.3397 - MAPE: 26.3397\n",
            "Epoch 00011: val_MAPE improved from 20.55458 to 19.29954, saving model to /content/work_dir/best_model.hdf5\n",
            "47/47 [==============================] - 42s 898ms/step - loss: 26.3397 - MAPE: 26.3397 - val_loss: 19.2995 - val_MAPE: 19.2995\n",
            "Epoch 12/500\n",
            "47/47 [==============================] - ETA: 0s - loss: 25.3905 - MAPE: 25.3905\n",
            "Epoch 00012: val_MAPE did not improve from 19.29954\n",
            "47/47 [==============================] - 42s 896ms/step - loss: 25.3905 - MAPE: 25.3905 - val_loss: 19.4929 - val_MAPE: 19.4929\n",
            "Epoch 13/500\n",
            "47/47 [==============================] - ETA: 0s - loss: 25.2033 - MAPE: 25.2033\n",
            "Epoch 00013: val_MAPE improved from 19.29954 to 17.97548, saving model to /content/work_dir/best_model.hdf5\n",
            "47/47 [==============================] - 42s 898ms/step - loss: 25.2033 - MAPE: 25.2033 - val_loss: 17.9755 - val_MAPE: 17.9755\n",
            "Epoch 14/500\n",
            "47/47 [==============================] - ETA: 0s - loss: 24.9795 - MAPE: 24.9795\n",
            "Epoch 00014: val_MAPE did not improve from 17.97548\n",
            "47/47 [==============================] - 42s 895ms/step - loss: 24.9795 - MAPE: 24.9795 - val_loss: 20.4563 - val_MAPE: 20.4563\n",
            "Epoch 15/500\n",
            "47/47 [==============================] - ETA: 0s - loss: 24.6859 - MAPE: 24.6859\n",
            "Epoch 00015: val_MAPE did not improve from 17.97548\n",
            "47/47 [==============================] - 42s 896ms/step - loss: 24.6859 - MAPE: 24.6859 - val_loss: 20.4174 - val_MAPE: 20.4174\n",
            "Epoch 16/500\n",
            "47/47 [==============================] - ETA: 0s - loss: 24.4719 - MAPE: 24.4719\n",
            "Epoch 00016: val_MAPE did not improve from 17.97548\n",
            "47/47 [==============================] - 42s 896ms/step - loss: 24.4719 - MAPE: 24.4719 - val_loss: 20.8795 - val_MAPE: 20.8795\n",
            "Epoch 17/500\n",
            "47/47 [==============================] - ETA: 0s - loss: 24.0851 - MAPE: 24.0851\n",
            "Epoch 00017: val_MAPE did not improve from 17.97548\n",
            "47/47 [==============================] - 42s 895ms/step - loss: 24.0851 - MAPE: 24.0851 - val_loss: 23.4610 - val_MAPE: 23.4610\n",
            "Epoch 18/500\n",
            "47/47 [==============================] - ETA: 0s - loss: 23.5449 - MAPE: 23.5449\n",
            "Epoch 00018: val_MAPE did not improve from 17.97548\n",
            "47/47 [==============================] - 42s 896ms/step - loss: 23.5449 - MAPE: 23.5449 - val_loss: 24.4083 - val_MAPE: 24.4083\n",
            "Epoch 19/500\n",
            "47/47 [==============================] - ETA: 0s - loss: 22.7213 - MAPE: 22.7213\n",
            "Epoch 00019: val_MAPE did not improve from 17.97548\n",
            "47/47 [==============================] - 42s 894ms/step - loss: 22.7213 - MAPE: 22.7213 - val_loss: 20.9711 - val_MAPE: 20.9711\n",
            "Epoch 20/500\n",
            "47/47 [==============================] - ETA: 0s - loss: 22.8991 - MAPE: 22.8991\n",
            "Epoch 00020: val_MAPE did not improve from 17.97548\n",
            "47/47 [==============================] - 42s 895ms/step - loss: 22.8991 - MAPE: 22.8991 - val_loss: 24.8613 - val_MAPE: 24.8613\n",
            "Epoch 21/500\n",
            "47/47 [==============================] - ETA: 0s - loss: 22.6506 - MAPE: 22.6506\n",
            "Epoch 00021: val_MAPE did not improve from 17.97548\n",
            "47/47 [==============================] - 42s 894ms/step - loss: 22.6506 - MAPE: 22.6506 - val_loss: 28.9380 - val_MAPE: 28.9380\n",
            "Epoch 22/500\n",
            "47/47 [==============================] - ETA: 0s - loss: 22.3986 - MAPE: 22.3986\n",
            "Epoch 00022: val_MAPE did not improve from 17.97548\n",
            "47/47 [==============================] - 42s 895ms/step - loss: 22.3986 - MAPE: 22.3986 - val_loss: 29.1680 - val_MAPE: 29.1680\n",
            "Epoch 23/500\n",
            "47/47 [==============================] - ETA: 0s - loss: 21.6884 - MAPE: 21.6884\n",
            "Epoch 00023: val_MAPE did not improve from 17.97548\n",
            "47/47 [==============================] - 42s 897ms/step - loss: 21.6884 - MAPE: 21.6884 - val_loss: 30.7353 - val_MAPE: 30.7353\n"
          ],
          "name": "stdout"
        },
        {
          "output_type": "display_data",
          "data": {
            "image/png": "[encoded data removed]",
            "text/plain": [
              "<Figure size 1080x720 with 1 Axes>"
            ]
          },
          "metadata": {
            "tags": [],
            "needs_background": "light"
          }
        },
        {
          "output_type": "stream",
          "text": [
            "TEST mape: 17.98%\n"
          ],
          "name": "stdout"
        }
      ]
    },
    {
      "cell_type": "markdown",
      "metadata": {
        "id": "zgHdtHv88XRM"
      },
      "source": [
        "# PREDICT"
      ]
    },
    {
      "cell_type": "code",
      "metadata": {
        "id": "1HygMPll8YBm",
        "outputId": "dc85fa8b-0ac6-4df8-d020-50889ec0e65d",
        "colab": {
          "base_uri": "https://localhost:8080/",
          "height": 359
        }
      },
      "source": [
        "predict_submission = model.predict([text_sub_tfidf, test])\n",
        "\n",
        "sample_submission['price'] = predict_submission\n",
        "sample_submission.to_csv(DATA_PATH+f'/sub_nn2_{round((mape(y_test, test_predict_nn2[:,0])*100),2)}.csv'.replace('.', '_', 1), index=False)\n",
        "display(sample_submission.head(10))"
      ],
      "execution_count": 211,
      "outputs": [
        {
          "output_type": "display_data",
          "data": {
            "text/html": [
              "<div>\n",
              "<style scoped>\n",
              "    .dataframe tbody tr th:only-of-type {\n",
              "        vertical-align: middle;\n",
              "    }\n",
              "\n",
              "    .dataframe tbody tr th {\n",
              "        vertical-align: top;\n",
              "    }\n",
              "\n",
              "    .dataframe thead th {\n",
              "        text-align: right;\n",
              "    }\n",
              "</style>\n",
              "<table border=\"1\" class=\"dataframe\">\n",
              "  <thead>\n",
              "    <tr style=\"text-align: right;\">\n",
              "      <th></th>\n",
              "      <th>sell_id</th>\n",
              "      <th>price</th>\n",
              "    </tr>\n",
              "  </thead>\n",
              "  <tbody>\n",
              "    <tr>\n",
              "      <th>0</th>\n",
              "      <td>1099427284</td>\n",
              "      <td>3.706083e+05</td>\n",
              "    </tr>\n",
              "    <tr>\n",
              "      <th>1</th>\n",
              "      <td>1096405886</td>\n",
              "      <td>2.563359e+06</td>\n",
              "    </tr>\n",
              "    <tr>\n",
              "      <th>2</th>\n",
              "      <td>1100195294</td>\n",
              "      <td>6.373309e+05</td>\n",
              "    </tr>\n",
              "    <tr>\n",
              "      <th>3</th>\n",
              "      <td>1099827282</td>\n",
              "      <td>5.116449e+05</td>\n",
              "    </tr>\n",
              "    <tr>\n",
              "      <th>4</th>\n",
              "      <td>1100076198</td>\n",
              "      <td>2.731862e+06</td>\n",
              "    </tr>\n",
              "    <tr>\n",
              "      <th>5</th>\n",
              "      <td>1090159352</td>\n",
              "      <td>3.061165e+06</td>\n",
              "    </tr>\n",
              "    <tr>\n",
              "      <th>6</th>\n",
              "      <td>1098987386</td>\n",
              "      <td>1.676722e+06</td>\n",
              "    </tr>\n",
              "    <tr>\n",
              "      <th>7</th>\n",
              "      <td>1098639040</td>\n",
              "      <td>1.488775e+06</td>\n",
              "    </tr>\n",
              "    <tr>\n",
              "      <th>8</th>\n",
              "      <td>1099933039</td>\n",
              "      <td>1.011585e+06</td>\n",
              "    </tr>\n",
              "    <tr>\n",
              "      <th>9</th>\n",
              "      <td>1099565572</td>\n",
              "      <td>5.322324e+05</td>\n",
              "    </tr>\n",
              "  </tbody>\n",
              "</table>\n",
              "</div>"
            ],
            "text/plain": [
              "      sell_id         price\n",
              "0  1099427284  3.706083e+05\n",
              "1  1096405886  2.563359e+06\n",
              "2  1100195294  6.373309e+05\n",
              "3  1099827282  5.116449e+05\n",
              "4  1100076198  2.731862e+06\n",
              "5  1090159352  3.061165e+06\n",
              "6  1098987386  1.676722e+06\n",
              "7  1098639040  1.488775e+06\n",
              "8  1099933039  1.011585e+06\n",
              "9  1099565572  5.322324e+05"
            ]
          },
          "metadata": {
            "tags": []
          }
        }
      ]
    },
    {
      "cell_type": "code",
      "metadata": {
        "id": "FAWri57bxdSE",
        "outputId": "6761d6b7-fe8a-4df7-d7df-05c6331a0113",
        "colab": {
          "base_uri": "https://localhost:8080/"
        }
      },
      "source": [
        "round((mape(y_test, test_predict_nn2[:,0])*100),2)"
      ],
      "execution_count": 206,
      "outputs": [
        {
          "output_type": "execute_result",
          "data": {
            "text/plain": [
              "11.04"
            ]
          },
          "metadata": {
            "tags": []
          },
          "execution_count": 206
        }
      ]
    }
  ]
}