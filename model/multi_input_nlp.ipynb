{
  "nbformat": 4,
  "nbformat_minor": 0,
  "metadata": {
    "colab": {
      "name": "multi_input_nlp.ipynb",
      "provenance": [],
      "collapsed_sections": [],
      "authorship_tag": "ABX9TyPIU4cs/4d+4MKsFq5ZKQym",
      "include_colab_link": true
    },
    "kernelspec": {
      "name": "python3",
      "display_name": "Python 3"
    },
    "accelerator": "GPU"
  },
  "cells": [
    {
      "cell_type": "markdown",
      "metadata": {
        "id": "view-in-github",
        "colab_type": "text"
      },
      "source": [
        "<a href=\"https://colab.research.google.com/github/alxkzncoff/skillfactory_rds6_car_price_prediction_ml_dl/blob/main/model/multi_input_nlp.ipynb\" target=\"_parent\"><img src=\"https://colab.research.google.com/assets/colab-badge.svg\" alt=\"Open In Colab\"/></a>"
      ]
    },
    {
      "cell_type": "markdown",
      "metadata": {
        "id": "W7SlYtU5mQI0"
      },
      "source": [
        "# INSATLL"
      ]
    },
    {
      "cell_type": "code",
      "metadata": {
        "id": "ZN2lufZil_XA",
        "outputId": "b81acc2e-85c7-4a0f-858e-ec9a19dd4c61",
        "colab": {
          "base_uri": "https://localhost:8080/"
        }
      },
      "source": [
        "!pip install -q tensorflow==2.3\n",
        "!pip install PyDrive\n",
        "!mkdir work_dir\n",
        "\n",
        "!pip install pymystem3"
      ],
      "execution_count": 1,
      "outputs": [
        {
          "output_type": "stream",
          "text": [
            "Requirement already satisfied: PyDrive in /usr/local/lib/python3.6/dist-packages (1.3.1)\n",
            "Requirement already satisfied: oauth2client>=4.0.0 in /usr/local/lib/python3.6/dist-packages (from PyDrive) (4.1.3)\n",
            "Requirement already satisfied: PyYAML>=3.0 in /usr/local/lib/python3.6/dist-packages (from PyDrive) (3.13)\n",
            "Requirement already satisfied: google-api-python-client>=1.2 in /usr/local/lib/python3.6/dist-packages (from PyDrive) (1.7.12)\n",
            "Requirement already satisfied: pyasn1-modules>=0.0.5 in /usr/local/lib/python3.6/dist-packages (from oauth2client>=4.0.0->PyDrive) (0.2.8)\n",
            "Requirement already satisfied: rsa>=3.1.4 in /usr/local/lib/python3.6/dist-packages (from oauth2client>=4.0.0->PyDrive) (4.6)\n",
            "Requirement already satisfied: six>=1.6.1 in /usr/local/lib/python3.6/dist-packages (from oauth2client>=4.0.0->PyDrive) (1.15.0)\n",
            "Requirement already satisfied: httplib2>=0.9.1 in /usr/local/lib/python3.6/dist-packages (from oauth2client>=4.0.0->PyDrive) (0.17.4)\n",
            "Requirement already satisfied: pyasn1>=0.1.7 in /usr/local/lib/python3.6/dist-packages (from oauth2client>=4.0.0->PyDrive) (0.4.8)\n",
            "Requirement already satisfied: google-auth-httplib2>=0.0.3 in /usr/local/lib/python3.6/dist-packages (from google-api-python-client>=1.2->PyDrive) (0.0.4)\n",
            "Requirement already satisfied: google-auth>=1.4.1 in /usr/local/lib/python3.6/dist-packages (from google-api-python-client>=1.2->PyDrive) (1.17.2)\n",
            "Requirement already satisfied: uritemplate<4dev,>=3.0.0 in /usr/local/lib/python3.6/dist-packages (from google-api-python-client>=1.2->PyDrive) (3.0.1)\n",
            "Requirement already satisfied: setuptools>=40.3.0 in /usr/local/lib/python3.6/dist-packages (from google-auth>=1.4.1->google-api-python-client>=1.2->PyDrive) (50.3.2)\n",
            "Requirement already satisfied: cachetools<5.0,>=2.0.0 in /usr/local/lib/python3.6/dist-packages (from google-auth>=1.4.1->google-api-python-client>=1.2->PyDrive) (4.1.1)\n",
            "Requirement already satisfied: pymystem3 in /usr/local/lib/python3.6/dist-packages (0.2.0)\n",
            "Requirement already satisfied: requests in /usr/local/lib/python3.6/dist-packages (from pymystem3) (2.23.0)\n",
            "Requirement already satisfied: certifi>=2017.4.17 in /usr/local/lib/python3.6/dist-packages (from requests->pymystem3) (2020.6.20)\n",
            "Requirement already satisfied: idna<3,>=2.5 in /usr/local/lib/python3.6/dist-packages (from requests->pymystem3) (2.10)\n",
            "Requirement already satisfied: chardet<4,>=3.0.2 in /usr/local/lib/python3.6/dist-packages (from requests->pymystem3) (3.0.4)\n",
            "Requirement already satisfied: urllib3!=1.25.0,!=1.25.1,<1.26,>=1.21.1 in /usr/local/lib/python3.6/dist-packages (from requests->pymystem3) (1.24.3)\n"
          ],
          "name": "stdout"
        }
      ]
    },
    {
      "cell_type": "markdown",
      "metadata": {
        "id": "36xj-lddmTKO"
      },
      "source": [
        "# DEFINE"
      ]
    },
    {
      "cell_type": "code",
      "metadata": {
        "id": "JbCIbylZmT8v"
      },
      "source": [
        "DATA_PATH                           = '/content/work_dir'\n",
        "RANDOM_SEED                         = 42"
      ],
      "execution_count": 1,
      "outputs": []
    },
    {
      "cell_type": "markdown",
      "metadata": {
        "id": "QK3tpRVjmEms"
      },
      "source": [
        "# IMPORT"
      ]
    },
    {
      "cell_type": "code",
      "metadata": {
        "id": "IgLP6pr9mFXq",
        "outputId": "6cdf361c-bea0-41f2-c405-c2bd12cc4d26",
        "colab": {
          "base_uri": "https://localhost:8080/"
        }
      },
      "source": [
        "# Data access\n",
        "from pydrive.auth import GoogleAuth\n",
        "from pydrive.drive import GoogleDrive\n",
        "from google.colab import auth\n",
        "from oauth2client.client import GoogleCredentials\n",
        "\n",
        "# General\n",
        "import random\n",
        "import numpy as np\n",
        "import pandas as pd\n",
        "import matplotlib.pyplot as plt\n",
        "import matplotlib.image as mpimg\n",
        "import seaborn as sns\n",
        "import os\n",
        "import sys\n",
        "import PIL\n",
        "import cv2\n",
        "import re\n",
        "import keras\n",
        "\n",
        "# NLP\n",
        "import nltk\n",
        "nltk.download('punkt')\n",
        "nltk.download(\"stopwords\")\n",
        "\n",
        "from nltk.corpus import stopwords\n",
        "from pymystem3 import Mystem\n",
        "from string import punctuation\n",
        "import codecs\n",
        "\n",
        "# ML\n",
        "from sklearn.preprocessing import MinMaxScaler\n",
        "from sklearn.model_selection import train_test_split\n",
        "from sklearn.feature_extraction.text import CountVectorizer, TfidfVectorizer, TfidfTransformer\n",
        "\n",
        "# KERAS\n",
        "import tensorflow as tf\n",
        "import tensorflow.keras.layers as L\n",
        "from tensorflow.keras.models import Model, Sequential\n",
        "from tensorflow.keras.preprocessing.text import Tokenizer\n",
        "from tensorflow.keras.preprocessing import sequence\n",
        "from tensorflow.keras.callbacks import ModelCheckpoint, EarlyStopping\n",
        "from keras.utils.vis_utils import plot_model"
      ],
      "execution_count": 2,
      "outputs": [
        {
          "output_type": "stream",
          "text": [
            "[nltk_data] Downloading package punkt to /root/nltk_data...\n",
            "[nltk_data]   Package punkt is already up-to-date!\n",
            "[nltk_data] Downloading package stopwords to /root/nltk_data...\n",
            "[nltk_data]   Package stopwords is already up-to-date!\n"
          ],
          "name": "stdout"
        }
      ]
    },
    {
      "cell_type": "code",
      "metadata": {
        "id": "BrUYPwlCKfY1",
        "outputId": "9358c6ce-b76f-4910-9423-141f9b1bbee2",
        "colab": {
          "base_uri": "https://localhost:8080/"
        }
      },
      "source": [
        "# Чтобы Mystem библиотека работал корректно\n",
        "mystem = Mystem() \n",
        "!wget http://download.cdn.yandex.net/mystem/mystem-3.0-linux3.1-64bit.tar.gz\n",
        "!tar -xvf mystem-3.0-linux3.1-64bit.tar.gz\n",
        "!cp mystem /root/.local/bin/mystem"
      ],
      "execution_count": 4,
      "outputs": [
        {
          "output_type": "stream",
          "text": [
            "Installing mystem to /root/.local/bin/mystem from http://download.cdn.yandex.net/mystem/mystem-3.1-linux-64bit.tar.gz\n"
          ],
          "name": "stderr"
        },
        {
          "output_type": "stream",
          "text": [
            "--2020-11-08 12:29:43--  http://download.cdn.yandex.net/mystem/mystem-3.0-linux3.1-64bit.tar.gz\n",
            "Resolving download.cdn.yandex.net (download.cdn.yandex.net)... 5.45.205.243, 5.45.205.245, 5.45.205.242, ...\n",
            "Connecting to download.cdn.yandex.net (download.cdn.yandex.net)|5.45.205.243|:80... connected.\n",
            "HTTP request sent, awaiting response... 302 Found\n",
            "Location: http://cache-mskmar11.cdn.yandex.net/download.cdn.yandex.net/mystem/mystem-3.0-linux3.1-64bit.tar.gz [following]\n",
            "--2020-11-08 12:29:43--  http://cache-mskmar11.cdn.yandex.net/download.cdn.yandex.net/mystem/mystem-3.0-linux3.1-64bit.tar.gz\n",
            "Resolving cache-mskmar11.cdn.yandex.net (cache-mskmar11.cdn.yandex.net)... 5.45.222.35, 2a02:6b8:0:2b03::eb\n",
            "Connecting to cache-mskmar11.cdn.yandex.net (cache-mskmar11.cdn.yandex.net)|5.45.222.35|:80... connected.\n",
            "HTTP request sent, awaiting response... 200 OK\n",
            "Length: 16457938 (16M) [application/octet-stream]\n",
            "Saving to: ‘mystem-3.0-linux3.1-64bit.tar.gz’\n",
            "\n",
            "mystem-3.0-linux3.1 100%[===================>]  15.70M  7.23MB/s    in 2.2s    \n",
            "\n",
            "2020-11-08 12:29:46 (7.23 MB/s) - ‘mystem-3.0-linux3.1-64bit.tar.gz’ saved [16457938/16457938]\n",
            "\n",
            "mystem\n"
          ],
          "name": "stdout"
        }
      ]
    },
    {
      "cell_type": "markdown",
      "metadata": {
        "id": "Zyc-nQC4SENb"
      },
      "source": [
        "# DOWNLOAD DATA"
      ]
    },
    {
      "cell_type": "code",
      "metadata": {
        "id": "OLz6hwPHLc9r"
      },
      "source": [
        "# Authenticate and create the PyDrive client.\n",
        "auth.authenticate_user()\n",
        "gauth = GoogleAuth()\n",
        "gauth.credentials = GoogleCredentials.get_application_default()\n",
        "drive = GoogleDrive(gauth)"
      ],
      "execution_count": 3,
      "outputs": []
    },
    {
      "cell_type": "code",
      "metadata": {
        "id": "183lq3BzKnn0"
      },
      "source": [
        "# Download clear_train.csv from google drive to Colab VM.\n",
        "downloaded = drive.CreateFile({'id':\"1-3kiZxEddvuNFoRTfMA6cA8bu7LjP2b3\"}) # откуда берем файл\n",
        "downloaded.GetContentFile(DATA_PATH+'/clear_train.csv') # куда сохраняем файл в вирутальной машине колаба\n",
        "\n",
        "# Download clear_test.csv from google drive to Colab VM.\n",
        "downloaded = drive.CreateFile({'id':\"1-0yG59TcpJoDSeOclid1z-nc1Fh3yud2\"})\n",
        "downloaded.GetContentFile(DATA_PATH+'/clear_test.csv')\n",
        "\n",
        "# Download sample_submission from google drive to Colab VM.\n",
        "downloaded = drive.CreateFile({'id':\"1Edwuioev6uEyeXuCQuloPNQ70V5-3HZG\"})\n",
        "downloaded.GetContentFile(DATA_PATH+'/sample_submission.csv')"
      ],
      "execution_count": 4,
      "outputs": []
    },
    {
      "cell_type": "markdown",
      "metadata": {
        "id": "OhdswXt0Mgg-"
      },
      "source": [
        "Чтобы не забыть:\n",
        "\n",
        "`drive.CreateFile({'id':\"file ID\"})`, где file ID - это ID который можно найти в ссылке на файл. Например для сслыки **https://drive.google.com/file/d/1-3kiZxEddvuNFoRTfMA6cA8bu7LjP2b3/view?usp=sharing** ID будет `1-3kiZxEddvuNFoRTfMA6cA8bu7LjP2b3`.\n",
        "\n",
        "Данные с которыми будешь работать лучше сразу сохранять в ВМ колаба, чтобы обработка происходила быстрее, особенно когда работаем с изображениями (строим нейроки для Computer Vision).\n",
        "\n",
        "Как сохранять файлы хорошо расписано [тут](https://buomsoo-kim.github.io/colab/2018/04/16/Importing-files-from-Google-Drive-in-Google-Colab.md/) и [тут](https://stackoverflow.com/questions/48376580/google-colab-how-to-read-data-from-my-google-drive)."
      ]
    },
    {
      "cell_type": "code",
      "metadata": {
        "id": "F29f4KPZmbg_"
      },
      "source": [
        "train = pd.read_csv(DATA_PATH+'/clear_train.csv')\n",
        "test = pd.read_csv(DATA_PATH+'/clear_test.csv')\n",
        "sample_submission = pd.read_csv(DATA_PATH+'/sample_submission.csv')\n",
        "text_df = pd.concat([train.description, test.description])"
      ],
      "execution_count": 5,
      "outputs": []
    },
    {
      "cell_type": "markdown",
      "metadata": {
        "id": "mHI0mrAgyiXC"
      },
      "source": [
        "# PREPARETION"
      ]
    },
    {
      "cell_type": "code",
      "metadata": {
        "id": "wV1kycZ6ypWm"
      },
      "source": [
        "def data_prep(TRAIN_DF, TEST_DF):\n",
        "\n",
        "  # ################## Concat data ####################\n",
        "  df = pd.concat([TRAIN_DF, TEST_DF])\n",
        "\n",
        "  # ################## Tag data #####################\n",
        "  df.price.fillna(0, inplace=True)\n",
        "  df['sample'] = df.price.apply(lambda x:0 if x == 0 else 1)\n",
        "\n",
        "  # ################## Prepare numeric data (Logarithm) ####################\n",
        "  df.engine_displacement = df.engine_displacement.max() - np.log(df.engine_displacement)\n",
        "  df.engine_power = df.engine_power.max() - np.log(df.engine_power)\n",
        "  # df.model_date = df.model_date.max() - np.log(df.model_date)\n",
        "  # df.production_date = df.production_date.max() - np.log(df.production_date)\n",
        "  # df.days_in_use = df.days_in_use.max() - np.log(df.days_in_use)\n",
        "\n",
        "  categorical_features = ['body', 'brand', 'color', 'fuel', 'model_info', 'name',  'num_of_doors',  'transmission', 'owners', 'vehicle_title', 'drive_type']\n",
        "  numerical_features = ['engine_displacement', 'engine_power', 'mileage', 'model_date', 'production_date', 'tax', 'days_in_use']\n",
        "\n",
        "  # ############################## Label Encoding #####################################\n",
        "  for column in categorical_features:\n",
        "      df[column] = df[column].astype('category').cat.codes\n",
        "  \n",
        "  # ############################### One Hot encoding ###################################\n",
        "  df = pd.get_dummies(df, columns=categorical_features, dummy_na=False)\n",
        "\n",
        "  # ############################### Normalization ######################################\n",
        "  MMS = MinMaxScaler()\n",
        "\n",
        "  MMS.fit(df[numerical_features])\n",
        "  df[numerical_features] = MMS.transform(df[numerical_features])\n",
        "\n",
        "  return df"
      ],
      "execution_count": 6,
      "outputs": []
    },
    {
      "cell_type": "code",
      "metadata": {
        "id": "xAA8BDCqza4I",
        "outputId": "fa877c3e-53b1-4b20-be10-9cac47f38b42",
        "colab": {
          "base_uri": "https://localhost:8080/",
          "height": 576
        }
      },
      "source": [
        "df = data_prep(train, test)\n",
        "df.head()"
      ],
      "execution_count": 7,
      "outputs": [
        {
          "output_type": "execute_result",
          "data": {
            "text/html": [
              "<div>\n",
              "<style scoped>\n",
              "    .dataframe tbody tr th:only-of-type {\n",
              "        vertical-align: middle;\n",
              "    }\n",
              "\n",
              "    .dataframe tbody tr th {\n",
              "        vertical-align: top;\n",
              "    }\n",
              "\n",
              "    .dataframe thead th {\n",
              "        text-align: right;\n",
              "    }\n",
              "</style>\n",
              "<table border=\"1\" class=\"dataframe\">\n",
              "  <thead>\n",
              "    <tr style=\"text-align: right;\">\n",
              "      <th></th>\n",
              "      <th>description</th>\n",
              "      <th>engine_displacement</th>\n",
              "      <th>engine_power</th>\n",
              "      <th>mileage</th>\n",
              "      <th>model_date</th>\n",
              "      <th>price</th>\n",
              "      <th>production_date</th>\n",
              "      <th>tax</th>\n",
              "      <th>days_in_use</th>\n",
              "      <th>sample</th>\n",
              "      <th>body_0</th>\n",
              "      <th>body_1</th>\n",
              "      <th>body_2</th>\n",
              "      <th>body_3</th>\n",
              "      <th>body_4</th>\n",
              "      <th>body_5</th>\n",
              "      <th>body_6</th>\n",
              "      <th>body_7</th>\n",
              "      <th>body_8</th>\n",
              "      <th>body_9</th>\n",
              "      <th>body_10</th>\n",
              "      <th>body_11</th>\n",
              "      <th>body_12</th>\n",
              "      <th>brand_0</th>\n",
              "      <th>brand_1</th>\n",
              "      <th>brand_2</th>\n",
              "      <th>color_0</th>\n",
              "      <th>color_1</th>\n",
              "      <th>color_2</th>\n",
              "      <th>color_3</th>\n",
              "      <th>color_4</th>\n",
              "      <th>color_5</th>\n",
              "      <th>color_6</th>\n",
              "      <th>color_7</th>\n",
              "      <th>color_8</th>\n",
              "      <th>color_9</th>\n",
              "      <th>color_10</th>\n",
              "      <th>color_11</th>\n",
              "      <th>color_12</th>\n",
              "      <th>color_13</th>\n",
              "      <th>...</th>\n",
              "      <th>name_337</th>\n",
              "      <th>name_338</th>\n",
              "      <th>name_339</th>\n",
              "      <th>name_340</th>\n",
              "      <th>name_341</th>\n",
              "      <th>name_342</th>\n",
              "      <th>name_343</th>\n",
              "      <th>name_344</th>\n",
              "      <th>name_345</th>\n",
              "      <th>name_346</th>\n",
              "      <th>name_347</th>\n",
              "      <th>name_348</th>\n",
              "      <th>name_349</th>\n",
              "      <th>name_350</th>\n",
              "      <th>name_351</th>\n",
              "      <th>name_352</th>\n",
              "      <th>name_353</th>\n",
              "      <th>name_354</th>\n",
              "      <th>name_355</th>\n",
              "      <th>name_356</th>\n",
              "      <th>name_357</th>\n",
              "      <th>name_358</th>\n",
              "      <th>name_359</th>\n",
              "      <th>num_of_doors_0</th>\n",
              "      <th>num_of_doors_1</th>\n",
              "      <th>num_of_doors_2</th>\n",
              "      <th>num_of_doors_3</th>\n",
              "      <th>transmission_0</th>\n",
              "      <th>transmission_1</th>\n",
              "      <th>transmission_2</th>\n",
              "      <th>transmission_3</th>\n",
              "      <th>owners_0</th>\n",
              "      <th>owners_1</th>\n",
              "      <th>owners_2</th>\n",
              "      <th>owners_3</th>\n",
              "      <th>vehicle_title_0</th>\n",
              "      <th>vehicle_title_1</th>\n",
              "      <th>drive_type_0</th>\n",
              "      <th>drive_type_1</th>\n",
              "      <th>drive_type_2</th>\n",
              "    </tr>\n",
              "  </thead>\n",
              "  <tbody>\n",
              "    <tr>\n",
              "      <th>0</th>\n",
              "      <td>Авто на бодром ходу.  Все работает отлично.  П...</td>\n",
              "      <td>0.328812</td>\n",
              "      <td>0.423210</td>\n",
              "      <td>0.244999</td>\n",
              "      <td>0.750000</td>\n",
              "      <td>599000.0</td>\n",
              "      <td>0.657895</td>\n",
              "      <td>0.383285</td>\n",
              "      <td>0.342100</td>\n",
              "      <td>1</td>\n",
              "      <td>0</td>\n",
              "      <td>0</td>\n",
              "      <td>0</td>\n",
              "      <td>0</td>\n",
              "      <td>0</td>\n",
              "      <td>0</td>\n",
              "      <td>0</td>\n",
              "      <td>0</td>\n",
              "      <td>0</td>\n",
              "      <td>0</td>\n",
              "      <td>1</td>\n",
              "      <td>0</td>\n",
              "      <td>0</td>\n",
              "      <td>0</td>\n",
              "      <td>1</td>\n",
              "      <td>0</td>\n",
              "      <td>0</td>\n",
              "      <td>0</td>\n",
              "      <td>0</td>\n",
              "      <td>0</td>\n",
              "      <td>0</td>\n",
              "      <td>0</td>\n",
              "      <td>0</td>\n",
              "      <td>0</td>\n",
              "      <td>0</td>\n",
              "      <td>0</td>\n",
              "      <td>0</td>\n",
              "      <td>0</td>\n",
              "      <td>0</td>\n",
              "      <td>0</td>\n",
              "      <td>...</td>\n",
              "      <td>0</td>\n",
              "      <td>0</td>\n",
              "      <td>0</td>\n",
              "      <td>0</td>\n",
              "      <td>0</td>\n",
              "      <td>0</td>\n",
              "      <td>0</td>\n",
              "      <td>0</td>\n",
              "      <td>0</td>\n",
              "      <td>0</td>\n",
              "      <td>0</td>\n",
              "      <td>0</td>\n",
              "      <td>0</td>\n",
              "      <td>0</td>\n",
              "      <td>0</td>\n",
              "      <td>0</td>\n",
              "      <td>0</td>\n",
              "      <td>0</td>\n",
              "      <td>0</td>\n",
              "      <td>0</td>\n",
              "      <td>0</td>\n",
              "      <td>0</td>\n",
              "      <td>0</td>\n",
              "      <td>0</td>\n",
              "      <td>0</td>\n",
              "      <td>1</td>\n",
              "      <td>0</td>\n",
              "      <td>1</td>\n",
              "      <td>0</td>\n",
              "      <td>0</td>\n",
              "      <td>0</td>\n",
              "      <td>0</td>\n",
              "      <td>0</td>\n",
              "      <td>0</td>\n",
              "      <td>1</td>\n",
              "      <td>0</td>\n",
              "      <td>1</td>\n",
              "      <td>0</td>\n",
              "      <td>0</td>\n",
              "      <td>1</td>\n",
              "    </tr>\n",
              "    <tr>\n",
              "      <th>1</th>\n",
              "      <td>Продажа от собственника, второй владелец, ПТС ...</td>\n",
              "      <td>0.357585</td>\n",
              "      <td>0.552008</td>\n",
              "      <td>0.182999</td>\n",
              "      <td>0.833333</td>\n",
              "      <td>850000.0</td>\n",
              "      <td>0.763158</td>\n",
              "      <td>0.118732</td>\n",
              "      <td>0.236833</td>\n",
              "      <td>1</td>\n",
              "      <td>0</td>\n",
              "      <td>0</td>\n",
              "      <td>0</td>\n",
              "      <td>0</td>\n",
              "      <td>0</td>\n",
              "      <td>0</td>\n",
              "      <td>0</td>\n",
              "      <td>0</td>\n",
              "      <td>0</td>\n",
              "      <td>0</td>\n",
              "      <td>1</td>\n",
              "      <td>0</td>\n",
              "      <td>0</td>\n",
              "      <td>1</td>\n",
              "      <td>0</td>\n",
              "      <td>0</td>\n",
              "      <td>0</td>\n",
              "      <td>0</td>\n",
              "      <td>0</td>\n",
              "      <td>0</td>\n",
              "      <td>0</td>\n",
              "      <td>0</td>\n",
              "      <td>0</td>\n",
              "      <td>0</td>\n",
              "      <td>0</td>\n",
              "      <td>0</td>\n",
              "      <td>0</td>\n",
              "      <td>1</td>\n",
              "      <td>0</td>\n",
              "      <td>0</td>\n",
              "      <td>...</td>\n",
              "      <td>0</td>\n",
              "      <td>0</td>\n",
              "      <td>0</td>\n",
              "      <td>0</td>\n",
              "      <td>0</td>\n",
              "      <td>0</td>\n",
              "      <td>0</td>\n",
              "      <td>0</td>\n",
              "      <td>0</td>\n",
              "      <td>0</td>\n",
              "      <td>0</td>\n",
              "      <td>0</td>\n",
              "      <td>0</td>\n",
              "      <td>0</td>\n",
              "      <td>0</td>\n",
              "      <td>0</td>\n",
              "      <td>0</td>\n",
              "      <td>0</td>\n",
              "      <td>0</td>\n",
              "      <td>0</td>\n",
              "      <td>0</td>\n",
              "      <td>0</td>\n",
              "      <td>0</td>\n",
              "      <td>0</td>\n",
              "      <td>0</td>\n",
              "      <td>1</td>\n",
              "      <td>0</td>\n",
              "      <td>0</td>\n",
              "      <td>1</td>\n",
              "      <td>0</td>\n",
              "      <td>0</td>\n",
              "      <td>0</td>\n",
              "      <td>0</td>\n",
              "      <td>1</td>\n",
              "      <td>0</td>\n",
              "      <td>0</td>\n",
              "      <td>1</td>\n",
              "      <td>0</td>\n",
              "      <td>1</td>\n",
              "      <td>0</td>\n",
              "    </tr>\n",
              "    <tr>\n",
              "      <th>2</th>\n",
              "      <td>Внимание! Только для клиентов AVILON Автомобил...</td>\n",
              "      <td>0.264526</td>\n",
              "      <td>0.370477</td>\n",
              "      <td>0.122732</td>\n",
              "      <td>0.791667</td>\n",
              "      <td>1325000.0</td>\n",
              "      <td>0.815789</td>\n",
              "      <td>0.432277</td>\n",
              "      <td>0.184163</td>\n",
              "      <td>1</td>\n",
              "      <td>0</td>\n",
              "      <td>0</td>\n",
              "      <td>0</td>\n",
              "      <td>0</td>\n",
              "      <td>0</td>\n",
              "      <td>0</td>\n",
              "      <td>0</td>\n",
              "      <td>0</td>\n",
              "      <td>0</td>\n",
              "      <td>0</td>\n",
              "      <td>1</td>\n",
              "      <td>0</td>\n",
              "      <td>0</td>\n",
              "      <td>0</td>\n",
              "      <td>0</td>\n",
              "      <td>1</td>\n",
              "      <td>0</td>\n",
              "      <td>0</td>\n",
              "      <td>0</td>\n",
              "      <td>0</td>\n",
              "      <td>0</td>\n",
              "      <td>0</td>\n",
              "      <td>0</td>\n",
              "      <td>0</td>\n",
              "      <td>0</td>\n",
              "      <td>0</td>\n",
              "      <td>0</td>\n",
              "      <td>0</td>\n",
              "      <td>0</td>\n",
              "      <td>0</td>\n",
              "      <td>...</td>\n",
              "      <td>0</td>\n",
              "      <td>0</td>\n",
              "      <td>0</td>\n",
              "      <td>0</td>\n",
              "      <td>0</td>\n",
              "      <td>0</td>\n",
              "      <td>0</td>\n",
              "      <td>0</td>\n",
              "      <td>0</td>\n",
              "      <td>0</td>\n",
              "      <td>0</td>\n",
              "      <td>0</td>\n",
              "      <td>0</td>\n",
              "      <td>0</td>\n",
              "      <td>0</td>\n",
              "      <td>0</td>\n",
              "      <td>0</td>\n",
              "      <td>0</td>\n",
              "      <td>0</td>\n",
              "      <td>0</td>\n",
              "      <td>0</td>\n",
              "      <td>0</td>\n",
              "      <td>0</td>\n",
              "      <td>0</td>\n",
              "      <td>0</td>\n",
              "      <td>1</td>\n",
              "      <td>0</td>\n",
              "      <td>1</td>\n",
              "      <td>0</td>\n",
              "      <td>0</td>\n",
              "      <td>0</td>\n",
              "      <td>0</td>\n",
              "      <td>0</td>\n",
              "      <td>0</td>\n",
              "      <td>1</td>\n",
              "      <td>0</td>\n",
              "      <td>1</td>\n",
              "      <td>0</td>\n",
              "      <td>0</td>\n",
              "      <td>1</td>\n",
              "    </tr>\n",
              "    <tr>\n",
              "      <th>3</th>\n",
              "      <td>В комплекте зимние колёса. 27.07.2020 Замена п...</td>\n",
              "      <td>0.497904</td>\n",
              "      <td>0.608045</td>\n",
              "      <td>0.150999</td>\n",
              "      <td>0.833333</td>\n",
              "      <td>815000.0</td>\n",
              "      <td>0.763158</td>\n",
              "      <td>0.077810</td>\n",
              "      <td>0.236833</td>\n",
              "      <td>1</td>\n",
              "      <td>0</td>\n",
              "      <td>0</td>\n",
              "      <td>0</td>\n",
              "      <td>0</td>\n",
              "      <td>0</td>\n",
              "      <td>0</td>\n",
              "      <td>0</td>\n",
              "      <td>0</td>\n",
              "      <td>0</td>\n",
              "      <td>0</td>\n",
              "      <td>1</td>\n",
              "      <td>0</td>\n",
              "      <td>0</td>\n",
              "      <td>1</td>\n",
              "      <td>0</td>\n",
              "      <td>0</td>\n",
              "      <td>0</td>\n",
              "      <td>1</td>\n",
              "      <td>0</td>\n",
              "      <td>0</td>\n",
              "      <td>0</td>\n",
              "      <td>0</td>\n",
              "      <td>0</td>\n",
              "      <td>0</td>\n",
              "      <td>0</td>\n",
              "      <td>0</td>\n",
              "      <td>0</td>\n",
              "      <td>0</td>\n",
              "      <td>0</td>\n",
              "      <td>0</td>\n",
              "      <td>...</td>\n",
              "      <td>0</td>\n",
              "      <td>0</td>\n",
              "      <td>0</td>\n",
              "      <td>0</td>\n",
              "      <td>0</td>\n",
              "      <td>0</td>\n",
              "      <td>0</td>\n",
              "      <td>0</td>\n",
              "      <td>0</td>\n",
              "      <td>0</td>\n",
              "      <td>0</td>\n",
              "      <td>0</td>\n",
              "      <td>0</td>\n",
              "      <td>0</td>\n",
              "      <td>0</td>\n",
              "      <td>0</td>\n",
              "      <td>0</td>\n",
              "      <td>0</td>\n",
              "      <td>0</td>\n",
              "      <td>0</td>\n",
              "      <td>0</td>\n",
              "      <td>0</td>\n",
              "      <td>0</td>\n",
              "      <td>0</td>\n",
              "      <td>0</td>\n",
              "      <td>1</td>\n",
              "      <td>0</td>\n",
              "      <td>0</td>\n",
              "      <td>1</td>\n",
              "      <td>0</td>\n",
              "      <td>0</td>\n",
              "      <td>0</td>\n",
              "      <td>0</td>\n",
              "      <td>0</td>\n",
              "      <td>1</td>\n",
              "      <td>0</td>\n",
              "      <td>1</td>\n",
              "      <td>0</td>\n",
              "      <td>1</td>\n",
              "      <td>0</td>\n",
              "    </tr>\n",
              "    <tr>\n",
              "      <th>4</th>\n",
              "      <td>Отличный авто, 2011 года выпуска, кроме передн...</td>\n",
              "      <td>0.541843</td>\n",
              "      <td>0.660777</td>\n",
              "      <td>0.139999</td>\n",
              "      <td>0.750000</td>\n",
              "      <td>810000.0</td>\n",
              "      <td>0.763158</td>\n",
              "      <td>0.060519</td>\n",
              "      <td>0.236833</td>\n",
              "      <td>1</td>\n",
              "      <td>0</td>\n",
              "      <td>0</td>\n",
              "      <td>0</td>\n",
              "      <td>0</td>\n",
              "      <td>0</td>\n",
              "      <td>0</td>\n",
              "      <td>1</td>\n",
              "      <td>0</td>\n",
              "      <td>0</td>\n",
              "      <td>0</td>\n",
              "      <td>0</td>\n",
              "      <td>0</td>\n",
              "      <td>0</td>\n",
              "      <td>1</td>\n",
              "      <td>0</td>\n",
              "      <td>0</td>\n",
              "      <td>0</td>\n",
              "      <td>1</td>\n",
              "      <td>0</td>\n",
              "      <td>0</td>\n",
              "      <td>0</td>\n",
              "      <td>0</td>\n",
              "      <td>0</td>\n",
              "      <td>0</td>\n",
              "      <td>0</td>\n",
              "      <td>0</td>\n",
              "      <td>0</td>\n",
              "      <td>0</td>\n",
              "      <td>0</td>\n",
              "      <td>0</td>\n",
              "      <td>...</td>\n",
              "      <td>0</td>\n",
              "      <td>0</td>\n",
              "      <td>0</td>\n",
              "      <td>0</td>\n",
              "      <td>0</td>\n",
              "      <td>0</td>\n",
              "      <td>0</td>\n",
              "      <td>0</td>\n",
              "      <td>0</td>\n",
              "      <td>0</td>\n",
              "      <td>0</td>\n",
              "      <td>0</td>\n",
              "      <td>0</td>\n",
              "      <td>0</td>\n",
              "      <td>0</td>\n",
              "      <td>0</td>\n",
              "      <td>0</td>\n",
              "      <td>0</td>\n",
              "      <td>0</td>\n",
              "      <td>0</td>\n",
              "      <td>0</td>\n",
              "      <td>0</td>\n",
              "      <td>0</td>\n",
              "      <td>0</td>\n",
              "      <td>0</td>\n",
              "      <td>0</td>\n",
              "      <td>1</td>\n",
              "      <td>0</td>\n",
              "      <td>1</td>\n",
              "      <td>0</td>\n",
              "      <td>0</td>\n",
              "      <td>0</td>\n",
              "      <td>0</td>\n",
              "      <td>0</td>\n",
              "      <td>1</td>\n",
              "      <td>0</td>\n",
              "      <td>1</td>\n",
              "      <td>0</td>\n",
              "      <td>1</td>\n",
              "      <td>0</td>\n",
              "    </tr>\n",
              "  </tbody>\n",
              "</table>\n",
              "<p>5 rows × 545 columns</p>\n",
              "</div>"
            ],
            "text/plain": [
              "                                         description  ...  drive_type_2\n",
              "0  Авто на бодром ходу.  Все работает отлично.  П...  ...             1\n",
              "1  Продажа от собственника, второй владелец, ПТС ...  ...             0\n",
              "2  Внимание! Только для клиентов AVILON Автомобил...  ...             1\n",
              "3  В комплекте зимние колёса. 27.07.2020 Замена п...  ...             0\n",
              "4  Отличный авто, 2011 года выпуска, кроме передн...  ...             0\n",
              "\n",
              "[5 rows x 545 columns]"
            ]
          },
          "metadata": {
            "tags": []
          },
          "execution_count": 7
        }
      ]
    },
    {
      "cell_type": "code",
      "metadata": {
        "id": "QNpjE1VOpJG5",
        "outputId": "023fb366-dbd7-45e8-99d5-dee615773270",
        "colab": {
          "base_uri": "https://localhost:8080/"
        }
      },
      "source": [
        "text_df"
      ],
      "execution_count": 10,
      "outputs": [
        {
          "output_type": "execute_result",
          "data": {
            "text/plain": [
              "0       Авто на бодром ходу.  Все работает отлично.  П...\n",
              "1       Продажа от собственника, второй владелец, ПТС ...\n",
              "2       Внимание! Только для клиентов AVILON Автомобил...\n",
              "3       В комплекте зимние колёса. 27.07.2020 Замена п...\n",
              "4       Отличный авто, 2011 года выпуска, кроме передн...\n",
              "                              ...                        \n",
              "1666    Продаётся любимица семьи. Автомобилем неактивн...\n",
              "1667    В продаже автомобиль от компании АО ABTODOM, о...\n",
              "1668    Машина в идеальном техническом состоянии. Обсл...\n",
              "1669    Автомобиль приобретался новым у дилера Avilon ...\n",
              "1670    ID: 38887\\nКомплектация-Comfort\\nГод выпуска в...\n",
              "Name: description, Length: 8353, dtype: object"
            ]
          },
          "metadata": {
            "tags": []
          },
          "execution_count": 10
        }
      ]
    },
    {
      "cell_type": "markdown",
      "metadata": {
        "id": "8yPoPtcGpK9M"
      },
      "source": [
        "# TO DO LIST\n",
        "\n",
        "1. Удалить все нерелевантные символы (например, любые символы, не относящиеся к цифро-буквенным).\n",
        "2. Токенизировать текст, разделив его на индивидуальные слова.\n",
        "3. Удалить нерелевантные слова — например, упоминания в Twitter или URL-ы.\n",
        "4. Перевести все символы в нижний регистр для того, чтобы слова «привет», «Привет» и «ПРИВЕТ» считались одним и тем же словом.\n",
        "5. Рассмотрите возможность совмещения слов, написанных с ошибками, или имеющих альтернативное написание (например, «круто»/«круть»/ «круууто»)\n",
        "6. Рассмотрите возможность проведения лемматизации, т. е. сведения различных форм одного слова к словарной форме (например, «машина» вместо «машиной», «на машине», «машинах» и пр.)"
      ]
    },
    {
      "cell_type": "markdown",
      "metadata": {
        "id": "wl3yylDbK6jE"
      },
      "source": [
        "# TEXT PREPARING"
      ]
    },
    {
      "cell_type": "code",
      "metadata": {
        "id": "VWFcct2Pd6ae"
      },
      "source": [
        "# Создаем леммитайзер и список стоп-слов\n",
        "mystem = Mystem() \n",
        "russian_stopwords = stopwords.words(\"russian\")\n",
        "\n",
        "# Функция для лемматизации и удалении стоп-слов\n",
        "def preprocess_text(text):\n",
        "    tokens = mystem.lemmatize(text.lower())\n",
        "    # tokens = [token for token in tokens if token not in russian_stopwords\\\n",
        "    #           and token != \" \" \\\n",
        "    #           and token.strip() not in punctuation]\n",
        "\n",
        "    tokens = [token for token in tokens if token != \" \" \\\n",
        "              and token.strip() not in punctuation]\n",
        "    \n",
        "    text = \" \".join(tokens)\n",
        "    \n",
        "    return text"
      ],
      "execution_count": 8,
      "outputs": []
    },
    {
      "cell_type": "code",
      "metadata": {
        "id": "23cG0NlwxcAJ",
        "outputId": "3843780a-e276-4c7e-9506-f504030ef24e",
        "colab": {
          "base_uri": "https://localhost:8080/",
          "height": 52
        }
      },
      "source": [
        "text_df.iloc[303]"
      ],
      "execution_count": 9,
      "outputs": [
        {
          "output_type": "execute_result",
          "data": {
            "application/vnd.google.colaboratory.intrinsic+json": {
              "type": "string"
            },
            "text/plain": [
              "'Год выпуска: 2008. Пробег: 180\\xa0000\\xa0км. Кузов: купе. Цвет: синий. Двигатель: 1.8 л / 170\\xa0л.с. / Бензин. Налог: 7\\xa0650\\xa0₽ / год. Коробка: вариатор. Привод: передний. Руль: Левый. Состояние: Не требует ремонта. Владельцы: 3 или более. ПТС: Дубликат. Таможня: Растаможен. VIN: WAU**************. Госномер: ******|750. '"
            ]
          },
          "metadata": {
            "tags": []
          },
          "execution_count": 9
        }
      ]
    },
    {
      "cell_type": "code",
      "metadata": {
        "id": "kipUDnFgtvpF"
      },
      "source": [
        "text_df = text_df.apply(preprocess_text)"
      ],
      "execution_count": 10,
      "outputs": []
    },
    {
      "cell_type": "code",
      "metadata": {
        "id": "3oeDmn6LxMfC",
        "outputId": "7fdc19d1-2a36-426d-822d-b2a1c3b1463d",
        "colab": {
          "base_uri": "https://localhost:8080/",
          "height": 52
        }
      },
      "source": [
        "text_df.iloc[0]"
      ],
      "execution_count": 11,
      "outputs": [
        {
          "output_type": "execute_result",
          "data": {
            "application/vnd.google.colaboratory.intrinsic+json": {
              "type": "string"
            },
            "text/plain": [
              "'авто на бодрый ход все работать отлично по электрика ходовой акпп двс нарекание нет .. масло не есть .!!! салон уходить на запчасть деньги не жалеть жидкость все поменять красить один дверь левый задний штраф и ограничение нет ..! торг при осмотр возможный обмен на внедорожник или коммерческий транспорт'"
            ]
          },
          "metadata": {
            "tags": []
          },
          "execution_count": 11
        }
      ]
    },
    {
      "cell_type": "code",
      "metadata": {
        "id": "AparuAPiA5-0"
      },
      "source": [
        "def reg_exp(text):\n",
        "\n",
        "  nums_and_chars = ' '.join(re.findall(r'\\w+',text))\n",
        "  chars = ''.join(re.findall(r'\\D+',nums_and_chars))\n",
        "  only_chars = re.sub(r'[!\"#$%&\\'()*+,-./:;?@[\\\\]^_`{|}~]', '', chars)\n",
        "  final = re.sub(r'[a-z]', '', only_chars)\n",
        "\n",
        "  return final"
      ],
      "execution_count": 12,
      "outputs": []
    },
    {
      "cell_type": "code",
      "metadata": {
        "id": "4L6atXVw7Tmg"
      },
      "source": [
        "text_df = text_df.apply(reg_exp)"
      ],
      "execution_count": 13,
      "outputs": []
    },
    {
      "cell_type": "code",
      "metadata": {
        "id": "h2IyXvC7BWo3",
        "outputId": "e8384360-e7c9-43ff-c95f-e384c7a0f687",
        "colab": {
          "base_uri": "https://localhost:8080/",
          "height": 52
        }
      },
      "source": [
        "text_df.iloc[0]"
      ],
      "execution_count": 14,
      "outputs": [
        {
          "output_type": "execute_result",
          "data": {
            "application/vnd.google.colaboratory.intrinsic+json": {
              "type": "string"
            },
            "text/plain": [
              "'авто на бодрый ход все работать отлично по электрика ходовой акпп двс нарекание нет масло не есть салон уходить на запчасть деньги не жалеть жидкость все поменять красить один дверь левый задний штраф и ограничение нет торг при осмотр возможный обмен на внедорожник или коммерческий транспорт'"
            ]
          },
          "metadata": {
            "tags": []
          },
          "execution_count": 14
        }
      ]
    },
    {
      "cell_type": "markdown",
      "metadata": {
        "id": "xYzzx0DS0qB-"
      },
      "source": [
        "# SPLIT"
      ]
    },
    {
      "cell_type": "code",
      "metadata": {
        "id": "I1rip6tr0raT"
      },
      "source": [
        "X = df.query('sample==1').drop(columns=['description', 'price', 'sample'])\n",
        "y = df.query('sample==1').price.values\n",
        "test = df.query('sample==0').drop(columns=['description', 'price', 'sample'])\n",
        "\n",
        "# ############ Split #################\n",
        "X_train, X_test, y_train, y_test = train_test_split(X,y, test_size=0.1, shuffle=True, random_state=RANDOM_SEED)\n",
        "\n",
        "text_train = text_df.iloc[X_train.index]\n",
        "text_test = text_df.iloc[X_test.index]\n",
        "text_sub = text_df.iloc[test.index]"
      ],
      "execution_count": 15,
      "outputs": []
    },
    {
      "cell_type": "markdown",
      "metadata": {
        "id": "2QX8P8ebxmq-"
      },
      "source": [
        "# TOKENIZE"
      ]
    },
    {
      "cell_type": "markdown",
      "metadata": {
        "id": "b5RtNzLt6Sir"
      },
      "source": [
        "## Bag of words with tfidf 2-grams"
      ]
    },
    {
      "cell_type": "code",
      "metadata": {
        "id": "FsKolql7D8Wq"
      },
      "source": [
        "  MAX_WORDS=100000"
      ],
      "execution_count": 16,
      "outputs": []
    },
    {
      "cell_type": "code",
      "metadata": {
        "id": "CjgwuUMJ6O88"
      },
      "source": [
        "def bow_tfidf_2_grams(text, train_df, test_df, sub_df):\n",
        "\n",
        "  tfidf_vectorizer=TfidfVectorizer(analyzer='word', ngram_range=(2,2), min_df=70, max_features=MAX_WORDS, use_idf=True, smooth_idf=True)\n",
        "  tfidf_vectorizer_vectors=tfidf_vectorizer.fit(text)\n",
        "\n",
        "  train_tfidf = tfidf_vectorizer.transform(train_df)\n",
        "  test_tfidf = tfidf_vectorizer.transform(test_df)\n",
        "  text_sub_tfidf = tfidf_vectorizer.transform(sub_df)\n",
        "\n",
        "  print(train_tfidf.shape, test_tfidf.shape, text_sub_tfidf.shape, )\n",
        "\n",
        "  text_df_transform = tfidf_vectorizer.transform(text_df)\n",
        "\n",
        "  train=train_tfidf.todense()\n",
        "  test=test_tfidf.todense()\n",
        "  sub=text_sub_tfidf.todense()\n",
        "\n",
        "  return train, test, sub, text_df_transform, tfidf_vectorizer"
      ],
      "execution_count": 17,
      "outputs": []
    },
    {
      "cell_type": "code",
      "metadata": {
        "id": "1YkK-XcZ7ICq",
        "outputId": "d4518c5b-9b26-4c9c-e4ad-bde87bbb0b49",
        "colab": {
          "base_uri": "https://localhost:8080/"
        }
      },
      "source": [
        "train_tfidf, test_tfidf, text_sub_tfidf, text, vocabulary = bow_tfidf_2_grams(text_df, text_train, text_test, text_sub)"
      ],
      "execution_count": 18,
      "outputs": [
        {
          "output_type": "stream",
          "text": [
            "(6013, 1532) (669, 1532) (1671, 1532)\n"
          ],
          "name": "stdout"
        }
      ]
    },
    {
      "cell_type": "code",
      "metadata": {
        "id": "0tQCa6an6vJv",
        "outputId": "011a7f9e-1304-4cac-d694-652d7d3b65bf",
        "colab": {
          "base_uri": "https://localhost:8080/"
        }
      },
      "source": [
        "vocabulary.get_feature_names()[500:520]"
      ],
      "execution_count": 19,
      "outputs": [
        {
          "output_type": "execute_result",
          "data": {
            "text/plain": [
              "['климатический установка',\n",
              " 'ключ документ',\n",
              " 'ключ комплект',\n",
              " 'ключ регулировка',\n",
              " 'ключ электрорегулировка',\n",
              " 'км автомобиль',\n",
              " 'км кузов',\n",
              " 'км назад',\n",
              " 'книжка свидетельство',\n",
              " 'кнопка система',\n",
              " 'коврик знак',\n",
              " 'код автомобиль',\n",
              " 'код для',\n",
              " 'кожа рычаг',\n",
              " 'кожа черный',\n",
              " 'кожаный обивка',\n",
              " 'кожаный рулевой',\n",
              " 'кожаный руль',\n",
              " 'кожаный салон',\n",
              " 'колесный болт']"
            ]
          },
          "metadata": {
            "tags": []
          },
          "execution_count": 19
        }
      ]
    },
    {
      "cell_type": "code",
      "metadata": {
        "id": "NoEVe94iGJhh",
        "outputId": "8e224699-6d65-472c-e49b-cbd3c4e9ecde",
        "colab": {
          "base_uri": "https://localhost:8080/"
        }
      },
      "source": [
        "vocabulary_size = len(vocabulary.get_feature_names())"
      ],
      "execution_count": 20,
      "outputs": [
        {
          "output_type": "execute_result",
          "data": {
            "text/plain": [
              "1532"
            ]
          },
          "metadata": {
            "tags": []
          },
          "execution_count": 20
        }
      ]
    },
    {
      "cell_type": "markdown",
      "metadata": {
        "id": "ALQHoduLXlbN"
      },
      "source": [
        "## Bag of words with tfidf 1-gram"
      ]
    },
    {
      "cell_type": "code",
      "metadata": {
        "id": "vcXZgRDFpAqe"
      },
      "source": [
        "# tfidf_vectorizer=TfidfVectorizer(analyzer='word', ngram_range=(2,2), max_features=MAX_WORDS, use_idf=True, smooth_idf=True)\n",
        "# tfidf_vectorizer_vectors=tfidf_vectorizer.fit(text_df)"
      ],
      "execution_count": null,
      "outputs": []
    },
    {
      "cell_type": "code",
      "metadata": {
        "id": "ZfYgKkJOpR0F"
      },
      "source": [
        "# train_tfidf = tfidf_vectorizer.transform(text_train)\n",
        "# test_tfidf = tfidf_vectorizer.transform(text_test)\n",
        "# text_sub_tfidf = tfidf_vectorizer.transform(text_sub)\n",
        "\n",
        "# print(train_tfidf.shape, test_tfidf.shape, text_sub_tfidf.shape, )"
      ],
      "execution_count": null,
      "outputs": []
    },
    {
      "cell_type": "code",
      "metadata": {
        "id": "V3NILLxbsEuv"
      },
      "source": [
        "# text_df_transform = tfidf_vectorizer.transform(text_df)"
      ],
      "execution_count": null,
      "outputs": []
    },
    {
      "cell_type": "code",
      "metadata": {
        "id": "V0-ffAFPsKR5"
      },
      "source": [
        "# text_df_transform.shape"
      ],
      "execution_count": null,
      "outputs": []
    },
    {
      "cell_type": "code",
      "metadata": {
        "id": "jx5-R8fBwoYT"
      },
      "source": [
        "# train_tfidf=train_tfidf.todense()\n",
        "# test_tfidf=test_tfidf.todense()\n",
        "# text_sub_tfidf=text_sub_tfidf.todense()"
      ],
      "execution_count": null,
      "outputs": []
    },
    {
      "cell_type": "code",
      "metadata": {
        "id": "_RzyLPOp057F"
      },
      "source": [
        "# # The maximum number of words to be used. (most frequent)\n",
        "# MAX_WORDS = 10000\n",
        "# # Max number of words in each complaint.\n",
        "# MAX_SEQUENCE_LENGTH = 256"
      ],
      "execution_count": null,
      "outputs": []
    },
    {
      "cell_type": "code",
      "metadata": {
        "id": "eV2uUECM1EZ_"
      },
      "source": [
        "# %%time\n",
        "# tokenize = Tokenizer(num_words=MAX_WORDS)\n",
        "# tokenize.fit_on_texts(text_df)"
      ],
      "execution_count": null,
      "outputs": []
    },
    {
      "cell_type": "code",
      "metadata": {
        "id": "wAUYZdZH2XiF"
      },
      "source": [
        "# len(tokenize.word_index)"
      ],
      "execution_count": null,
      "outputs": []
    },
    {
      "cell_type": "code",
      "metadata": {
        "id": "vr4jnBQbyoQf"
      },
      "source": [
        "# %%time\n",
        "# text_train_sequences = sequence.pad_sequences(tokenize.texts_to_sequences(text_train), maxlen=MAX_SEQUENCE_LENGTH)\n",
        "# text_test_sequences = sequence.pad_sequences(tokenize.texts_to_sequences(text_test), maxlen=MAX_SEQUENCE_LENGTH)\n",
        "# text_sub_sequences = sequence.pad_sequences(tokenize.texts_to_sequences(text_sub), maxlen=MAX_SEQUENCE_LENGTH)\n",
        "\n",
        "# print(text_train_sequences.shape, text_test_sequences.shape, text_sub_sequences.shape, )"
      ],
      "execution_count": null,
      "outputs": []
    },
    {
      "cell_type": "code",
      "metadata": {
        "id": "-Q6PftAnyso9"
      },
      "source": [
        "# %%time\n",
        "# text_train_tfidf = tokenize.texts_to_matrix(text_train, mode='tfidf')\n",
        "# text_test_tfidf = tokenize.texts_to_matrix(text_test, mode='tfidf')\n",
        "# text_sub_tfidf = tokenize.texts_to_matrix(text_sub, mode='tfidf')\n",
        "\n",
        "# print(text_train_tfidf.shape, text_test_tfidf.shape, text_sub_tfidf.shape, )"
      ],
      "execution_count": null,
      "outputs": []
    },
    {
      "cell_type": "code",
      "metadata": {
        "id": "sg53s9_byjPH"
      },
      "source": [
        ""
      ],
      "execution_count": null,
      "outputs": []
    },
    {
      "cell_type": "code",
      "metadata": {
        "id": "KIAe88jBWB9Y"
      },
      "source": [
        "# %%time\n",
        "# text_train_sequences = tokenize.texts_to_matrix(text_train, mode='tfidf')\n",
        "# text_test_sequences = tokenize.texts_to_matrix(text_test, mode='tfidf')\n",
        "# text_sub_sequences = tokenize.texts_to_matrix(text_sub, mode='tfidf')\n",
        "\n",
        "# print(text_train_sequences.shape, text_test_sequences.shape, text_sub_sequences.shape, )"
      ],
      "execution_count": null,
      "outputs": []
    },
    {
      "cell_type": "code",
      "metadata": {
        "id": "hqnULXVf1ly0"
      },
      "source": [
        "# print(text_train.iloc[0])\n",
        "# print(text_train_sequences[0])"
      ],
      "execution_count": null,
      "outputs": []
    },
    {
      "cell_type": "markdown",
      "metadata": {
        "id": "W1Fckz8-17hd"
      },
      "source": [
        "# MODEL"
      ]
    },
    {
      "cell_type": "code",
      "metadata": {
        "id": "xr1PZuJk7-Bx"
      },
      "source": [
        "# MAPE\n",
        "def mape(y_true, y_pred):\n",
        "    return np.mean(np.abs((y_pred-y_true)/y_true))"
      ],
      "execution_count": 21,
      "outputs": []
    },
    {
      "cell_type": "code",
      "metadata": {
        "id": "xkCSc7nYiTU3"
      },
      "source": [
        "# Один из способов вычислить необходимое количество нейронов в слоях\n",
        "def num_of_nodes_compute(neurons_input, neurons_output):\n",
        "  hidden_nodes = int(2/3*(neurons_input*neurons_output))\n",
        "  return hidden_nodes\n",
        "\n",
        "print('Numbers of nodes for LSTM layer:' num_of_nodes_compute(6013, 1532))\n",
        "print('Numbers of nodes for DENSE layer:' num_of_nodes_compute(6013, 542))\n",
        "print('Numbers of nodes for concatenate layer:' num_of_nodes_compute(6013, 1022))"
      ],
      "execution_count": null,
      "outputs": []
    },
    {
      "cell_type": "code",
      "metadata": {
        "id": "KRNZlN-uGerh"
      },
      "source": [
        "def build_model(LR, EPOCHS, OPTIMIZER_TYPE):\n",
        "\n",
        "  # ################## NLP model ####################\n",
        "  model_nlp = Sequential()\n",
        "  model_nlp.add(L.Input(shape=vocabulary_size, name=\"seq_description\"))\n",
        "  model_nlp.add(L.Embedding(vocabulary_size+1, 1021,))\n",
        "  model_nlp.add(L.LSTM(1021, return_sequences=False))\n",
        "  model_nlp.add(L.Dropout(0.2))\n",
        "  # model_nlp.add(L.LSTM(512,))\n",
        "  # model_nlp.add(L.Dropout(0.25))\n",
        "  model_nlp.add(L.Dense(1021,))\n",
        "  model_nlp.add(L.Activation('relu'))\n",
        "  # model_nlp.add(L.Dropout(0.25))\n",
        "\n",
        "  # ################# DENSE model ####################\n",
        "  model_mlp = Sequential()\n",
        "  model_mlp.add(L.Dense(361, input_dim=X_train.shape[1]))\n",
        "  model_mlp.add(L.Dropout(0.2))\n",
        "  model_mlp.add(L.Activation('relu'))\n",
        "  # model_mlp.add(L.Dense(545, activation=\"relu\")\n",
        "  model_mlp.add(L.Dense(1,))\n",
        "  model_mlp.add(L.Activation('linear'))\n",
        "\n",
        "  # ################# Concatenate models ######################\n",
        "  combinedInput = L.concatenate([model_nlp.output, model_mlp.output])\n",
        "  head = L.Dense(681, activation=\"relu\")(combinedInput)\n",
        "  head = L.Dense(1, activation=\"linear\")(head)\n",
        "\n",
        "  model = Model(inputs=[model_nlp.input, model_mlp.input], outputs=head)\n",
        "\n",
        "  # ################# Show model ###################\n",
        "  display(model.summary())\n",
        "\n",
        "  plt.figure(figsize=(20,15))\n",
        "  plot_model(model, to_file=DATA_PATH+'/model_plot.png', show_shapes=True, show_layer_names=True)\n",
        "  img = mpimg.imread(DATA_PATH+'/model_plot.png')\n",
        "  plt.imshow(img)\n",
        "  plt.show()\n",
        "\n",
        "  # ################# Optimizer #######################\n",
        "  if OPTIMIZER_TYPE == 'Adam':\n",
        "    optimizer = tf.keras.optimizers.Adam(LR)\n",
        "  elif OPTIMIZER_TYPE == 'Adamax':\n",
        "    optimizer = tf.keras.optimizers.Adamax(LR)\n",
        "\n",
        "  model.compile(loss='MAPE',optimizer=optimizer, metrics=['MAPE'])\n",
        "\n",
        "  # ################# Checkpoints ######################\n",
        "  checkpoint = ModelCheckpoint(DATA_PATH+'/best_model.hdf5', monitor='val_MAPE', verbose=1, save_best_only=True, mode='min')\n",
        "  earlystop = EarlyStopping(monitor='val_MAPE', patience=10, restore_best_weights=True,)\n",
        "  callbacks_list = [checkpoint, earlystop]\n",
        "\n",
        "  # ######################## Fit model ##############################\n",
        "  history = model.fit([train_tfidf, X_train], y_train,\n",
        "                    batch_size=128,\n",
        "                    epochs=EPOCHS, \n",
        "                    validation_data=([test_tfidf, X_test], y_test),\n",
        "                    callbacks=callbacks_list,\n",
        "                    verbose=1\n",
        "                   )\n",
        "\n",
        "  # ######################## Show results ###########################\n",
        "  plt.figure(figsize=(15,10))\n",
        "  plt.title('Loss')\n",
        "  plt.plot(history.history['MAPE'], label='train')\n",
        "  plt.plot(history.history['val_MAPE'], label='test')\n",
        "  plt.legend()\n",
        "  plt.grid()\n",
        "  plt.show()\n",
        "\n",
        "  # ######################## Saving best model #####################\n",
        "  model.load_weights(DATA_PATH+'/best_model.hdf5')\n",
        "  model.save(DATA_PATH+'/nn_mlp_nlp.hdf5')\n",
        "\n",
        "  test_predict_nn2 = model.predict([test_tfidf, X_test])\n",
        "  print(f\"TEST mape: {(mape(y_test, test_predict_nn2[:,0]))*100:0.2f}%\")\n",
        "\n",
        "  return model, checkpoint, earlystop, callbacks_list, history, test_predict_nn2"
      ],
      "execution_count": 58,
      "outputs": []
    },
    {
      "cell_type": "code",
      "metadata": {
        "id": "UmYrggiDnzU8",
        "outputId": "dfc4e44f-3296-4308-9432-2fa3e392fe9f",
        "colab": {
          "base_uri": "https://localhost:8080/",
          "height": 1000
        }
      },
      "source": [
        "model, checkpoint, earlystop, callbacks_list, history, test_predict_nn2 = build_model(LR=0.1, EPOCHS=500, OPTIMIZER_TYPE='Adamax')"
      ],
      "execution_count": null,
      "outputs": [
        {
          "output_type": "stream",
          "text": [
            "Model: \"functional_13\"\n",
            "__________________________________________________________________________________________________\n",
            "Layer (type)                    Output Shape         Param #     Connected to                     \n",
            "==================================================================================================\n",
            "seq_description (InputLayer)    [(None, 1532)]       0                                            \n",
            "__________________________________________________________________________________________________\n",
            "dense_32_input (InputLayer)     [(None, 542)]        0                                            \n",
            "__________________________________________________________________________________________________\n",
            "embedding_7 (Embedding)         (None, 1532, 1021)   1565193     seq_description[0][0]            \n",
            "__________________________________________________________________________________________________\n",
            "dense_32 (Dense)                (None, 361)          196023      dense_32_input[0][0]             \n",
            "__________________________________________________________________________________________________\n",
            "lstm_8 (LSTM)                   (None, 1021)         8343612     embedding_7[0][0]                \n",
            "__________________________________________________________________________________________________\n",
            "dropout_16 (Dropout)            (None, 361)          0           dense_32[0][0]                   \n",
            "__________________________________________________________________________________________________\n",
            "dropout_15 (Dropout)            (None, 1021)         0           lstm_8[0][0]                     \n",
            "__________________________________________________________________________________________________\n",
            "activation_19 (Activation)      (None, 361)          0           dropout_16[0][0]                 \n",
            "__________________________________________________________________________________________________\n",
            "dense_31 (Dense)                (None, 1021)         1043462     dropout_15[0][0]                 \n",
            "__________________________________________________________________________________________________\n",
            "dense_33 (Dense)                (None, 1)            362         activation_19[0][0]              \n",
            "__________________________________________________________________________________________________\n",
            "activation_18 (Activation)      (None, 1021)         0           dense_31[0][0]                   \n",
            "__________________________________________________________________________________________________\n",
            "activation_20 (Activation)      (None, 1)            0           dense_33[0][0]                   \n",
            "__________________________________________________________________________________________________\n",
            "concatenate_7 (Concatenate)     (None, 1022)         0           activation_18[0][0]              \n",
            "                                                                 activation_20[0][0]              \n",
            "__________________________________________________________________________________________________\n",
            "dense_34 (Dense)                (None, 681)          696663      concatenate_7[0][0]              \n",
            "__________________________________________________________________________________________________\n",
            "dense_35 (Dense)                (None, 1)            682         dense_34[0][0]                   \n",
            "==================================================================================================\n",
            "Total params: 11,845,997\n",
            "Trainable params: 11,845,997\n",
            "Non-trainable params: 0\n",
            "__________________________________________________________________________________________________\n"
          ],
          "name": "stdout"
        },
        {
          "output_type": "display_data",
          "data": {
            "text/plain": [
              "None"
            ]
          },
          "metadata": {
            "tags": []
          }
        },
        {
          "output_type": "display_data",
          "data": {
            "image/png": "[encoded data removed]",
            "text/plain": [
              "<Figure size 1440x1080 with 1 Axes>"
            ]
          },
          "metadata": {
            "tags": [],
            "needs_background": "light"
          }
        },
        {
          "output_type": "stream",
          "text": [
            "Epoch 1/500\n",
            "47/47 [==============================] - ETA: 0s - loss: 54.8949 - MAPE: 54.8949\n",
            "Epoch 00001: val_MAPE improved from inf to 46.00296, saving model to /content/work_dir/best_model.hdf5\n",
            "47/47 [==============================] - 91s 2s/step - loss: 54.8949 - MAPE: 54.8949 - val_loss: 46.0030 - val_MAPE: 46.0030\n",
            "Epoch 2/500\n",
            "47/47 [==============================] - ETA: 0s - loss: 35.7892 - MAPE: 35.7892\n",
            "Epoch 00002: val_MAPE improved from 46.00296 to 29.84089, saving model to /content/work_dir/best_model.hdf5\n",
            "47/47 [==============================] - 90s 2s/step - loss: 35.7892 - MAPE: 35.7892 - val_loss: 29.8409 - val_MAPE: 29.8409\n",
            "Epoch 3/500\n",
            "47/47 [==============================] - ETA: 0s - loss: 27.8750 - MAPE: 27.8750\n",
            "Epoch 00003: val_MAPE improved from 29.84089 to 24.64460, saving model to /content/work_dir/best_model.hdf5\n",
            "47/47 [==============================] - 90s 2s/step - loss: 27.8750 - MAPE: 27.8750 - val_loss: 24.6446 - val_MAPE: 24.6446\n",
            "Epoch 4/500\n",
            "47/47 [==============================] - ETA: 0s - loss: 22.9014 - MAPE: 22.9014\n",
            "Epoch 00004: val_MAPE improved from 24.64460 to 19.54708, saving model to /content/work_dir/best_model.hdf5\n",
            "47/47 [==============================] - 89s 2s/step - loss: 22.9014 - MAPE: 22.9014 - val_loss: 19.5471 - val_MAPE: 19.5471\n",
            "Epoch 5/500\n",
            "47/47 [==============================] - ETA: 0s - loss: 19.5324 - MAPE: 19.5324\n",
            "Epoch 00005: val_MAPE improved from 19.54708 to 17.59777, saving model to /content/work_dir/best_model.hdf5\n",
            "47/47 [==============================] - 90s 2s/step - loss: 19.5324 - MAPE: 19.5324 - val_loss: 17.5978 - val_MAPE: 17.5978\n",
            "Epoch 6/500\n",
            "47/47 [==============================] - ETA: 0s - loss: 17.2261 - MAPE: 17.2261\n",
            "Epoch 00006: val_MAPE improved from 17.59777 to 15.32446, saving model to /content/work_dir/best_model.hdf5\n",
            "47/47 [==============================] - 89s 2s/step - loss: 17.2261 - MAPE: 17.2261 - val_loss: 15.3245 - val_MAPE: 15.3245\n",
            "Epoch 7/500\n",
            " 7/47 [===>..........................] - ETA: 1:04 - loss: 14.8082 - MAPE: 14.8082"
          ],
          "name": "stdout"
        }
      ]
    },
    {
      "cell_type": "markdown",
      "metadata": {
        "id": "zgHdtHv88XRM"
      },
      "source": [
        "# PREDICT"
      ]
    },
    {
      "cell_type": "code",
      "metadata": {
        "id": "1HygMPll8YBm",
        "outputId": "6ca066a7-32fa-47d0-e606-48ae01526ae7",
        "colab": {
          "base_uri": "https://localhost:8080/",
          "height": 359
        }
      },
      "source": [
        "predict_submission = model.predict([text_sub_tfidf, test])\n",
        "\n",
        "sample_submission['price'] = predict_submission\n",
        "sample_submission.to_csv(DATA_PATH+f'/sub_nn2_{round((mape(y_test, test_predict_nn2[:,0])*100),2)}.csv'.replace('.', '_', 1), index=False)\n",
        "display(sample_submission.head(10))"
      ],
      "execution_count": 50,
      "outputs": [
        {
          "output_type": "display_data",
          "data": {
            "text/html": [
              "<div>\n",
              "<style scoped>\n",
              "    .dataframe tbody tr th:only-of-type {\n",
              "        vertical-align: middle;\n",
              "    }\n",
              "\n",
              "    .dataframe tbody tr th {\n",
              "        vertical-align: top;\n",
              "    }\n",
              "\n",
              "    .dataframe thead th {\n",
              "        text-align: right;\n",
              "    }\n",
              "</style>\n",
              "<table border=\"1\" class=\"dataframe\">\n",
              "  <thead>\n",
              "    <tr style=\"text-align: right;\">\n",
              "      <th></th>\n",
              "      <th>sell_id</th>\n",
              "      <th>price</th>\n",
              "    </tr>\n",
              "  </thead>\n",
              "  <tbody>\n",
              "    <tr>\n",
              "      <th>0</th>\n",
              "      <td>1099427284</td>\n",
              "      <td>4.331097e+05</td>\n",
              "    </tr>\n",
              "    <tr>\n",
              "      <th>1</th>\n",
              "      <td>1096405886</td>\n",
              "      <td>2.632759e+06</td>\n",
              "    </tr>\n",
              "    <tr>\n",
              "      <th>2</th>\n",
              "      <td>1100195294</td>\n",
              "      <td>6.125112e+05</td>\n",
              "    </tr>\n",
              "    <tr>\n",
              "      <th>3</th>\n",
              "      <td>1099827282</td>\n",
              "      <td>5.101877e+05</td>\n",
              "    </tr>\n",
              "    <tr>\n",
              "      <th>4</th>\n",
              "      <td>1100076198</td>\n",
              "      <td>2.679667e+06</td>\n",
              "    </tr>\n",
              "    <tr>\n",
              "      <th>5</th>\n",
              "      <td>1090159352</td>\n",
              "      <td>3.131039e+06</td>\n",
              "    </tr>\n",
              "    <tr>\n",
              "      <th>6</th>\n",
              "      <td>1098987386</td>\n",
              "      <td>1.742261e+06</td>\n",
              "    </tr>\n",
              "    <tr>\n",
              "      <th>7</th>\n",
              "      <td>1098639040</td>\n",
              "      <td>1.492658e+06</td>\n",
              "    </tr>\n",
              "    <tr>\n",
              "      <th>8</th>\n",
              "      <td>1099933039</td>\n",
              "      <td>1.109488e+06</td>\n",
              "    </tr>\n",
              "    <tr>\n",
              "      <th>9</th>\n",
              "      <td>1099565572</td>\n",
              "      <td>5.229515e+05</td>\n",
              "    </tr>\n",
              "  </tbody>\n",
              "</table>\n",
              "</div>"
            ],
            "text/plain": [
              "      sell_id         price\n",
              "0  1099427284  4.331097e+05\n",
              "1  1096405886  2.632759e+06\n",
              "2  1100195294  6.125112e+05\n",
              "3  1099827282  5.101877e+05\n",
              "4  1100076198  2.679667e+06\n",
              "5  1090159352  3.131039e+06\n",
              "6  1098987386  1.742261e+06\n",
              "7  1098639040  1.492658e+06\n",
              "8  1099933039  1.109488e+06\n",
              "9  1099565572  5.229515e+05"
            ]
          },
          "metadata": {
            "tags": []
          }
        }
      ]
    }
  ]
}