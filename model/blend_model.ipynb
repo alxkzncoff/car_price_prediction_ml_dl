{
  "nbformat": 4,
  "nbformat_minor": 0,
  "metadata": {
    "colab": {
      "name": "blend_model.ipynb",
      "provenance": [],
      "collapsed_sections": [],
      "toc_visible": true,
      "authorship_tag": "ABX9TyN+SCRz79wP8rFPgDk7GXv2",
      "include_colab_link": true
    },
    "kernelspec": {
      "name": "python3",
      "display_name": "Python 3"
    },
    "accelerator": "GPU",
    "widgets": {
      "application/vnd.jupyter.widget-state+json": {
        "e697ac49cf1d4fc6a39d423b753d57c5": {
          "model_module": "@jupyter-widgets/controls",
          "model_name": "HBoxModel",
          "state": {
            "_view_name": "HBoxView",
            "_dom_classes": [],
            "_model_name": "HBoxModel",
            "_view_module": "@jupyter-widgets/controls",
            "_model_module_version": "1.5.0",
            "_view_count": null,
            "_view_module_version": "1.5.0",
            "box_style": "",
            "layout": "IPY_MODEL_6d2bb52cff9b4dbd84765be777265aa5",
            "_model_module": "@jupyter-widgets/controls",
            "children": [
              "IPY_MODEL_bd15970ea8f44fb89e01b28b03d240c9",
              "IPY_MODEL_c9f690662e6148c3b67d44bd5032f6af"
            ]
          }
        },
        "6d2bb52cff9b4dbd84765be777265aa5": {
          "model_module": "@jupyter-widgets/base",
          "model_name": "LayoutModel",
          "state": {
            "_view_name": "LayoutView",
            "grid_template_rows": null,
            "right": null,
            "justify_content": null,
            "_view_module": "@jupyter-widgets/base",
            "overflow": null,
            "_model_module_version": "1.2.0",
            "_view_count": null,
            "flex_flow": null,
            "width": null,
            "min_width": null,
            "border": null,
            "align_items": null,
            "bottom": null,
            "_model_module": "@jupyter-widgets/base",
            "top": null,
            "grid_column": null,
            "overflow_y": null,
            "overflow_x": null,
            "grid_auto_flow": null,
            "grid_area": null,
            "grid_template_columns": null,
            "flex": null,
            "_model_name": "LayoutModel",
            "justify_items": null,
            "grid_row": null,
            "max_height": null,
            "align_content": null,
            "visibility": null,
            "align_self": null,
            "height": null,
            "min_height": null,
            "padding": null,
            "grid_auto_rows": null,
            "grid_gap": null,
            "max_width": null,
            "order": null,
            "_view_module_version": "1.2.0",
            "grid_template_areas": null,
            "object_position": null,
            "object_fit": null,
            "grid_auto_columns": null,
            "margin": null,
            "display": null,
            "left": null
          }
        },
        "bd15970ea8f44fb89e01b28b03d240c9": {
          "model_module": "@jupyter-widgets/controls",
          "model_name": "FloatProgressModel",
          "state": {
            "_view_name": "ProgressView",
            "style": "IPY_MODEL_034e5438745c454d81b9d1b69a87148f",
            "_dom_classes": [],
            "description": "100%",
            "_model_name": "FloatProgressModel",
            "bar_style": "success",
            "max": 10,
            "_view_module": "@jupyter-widgets/controls",
            "_model_module_version": "1.5.0",
            "value": 10,
            "_view_count": null,
            "_view_module_version": "1.5.0",
            "orientation": "horizontal",
            "min": 0,
            "description_tooltip": null,
            "_model_module": "@jupyter-widgets/controls",
            "layout": "IPY_MODEL_5ee6727880014829aa5a9b20da88d2e4"
          }
        },
        "c9f690662e6148c3b67d44bd5032f6af": {
          "model_module": "@jupyter-widgets/controls",
          "model_name": "HTMLModel",
          "state": {
            "_view_name": "HTMLView",
            "style": "IPY_MODEL_f602fb52c94f45288d9ff6b603367aef",
            "_dom_classes": [],
            "description": "",
            "_model_name": "HTMLModel",
            "placeholder": "​",
            "_view_module": "@jupyter-widgets/controls",
            "_model_module_version": "1.5.0",
            "value": " 10/10 [12:55&lt;00:00, 77.56s/it]",
            "_view_count": null,
            "_view_module_version": "1.5.0",
            "description_tooltip": null,
            "_model_module": "@jupyter-widgets/controls",
            "layout": "IPY_MODEL_4228e2df45804e35a67b9f015b93731f"
          }
        },
        "034e5438745c454d81b9d1b69a87148f": {
          "model_module": "@jupyter-widgets/controls",
          "model_name": "ProgressStyleModel",
          "state": {
            "_view_name": "StyleView",
            "_model_name": "ProgressStyleModel",
            "description_width": "initial",
            "_view_module": "@jupyter-widgets/base",
            "_model_module_version": "1.5.0",
            "_view_count": null,
            "_view_module_version": "1.2.0",
            "bar_color": null,
            "_model_module": "@jupyter-widgets/controls"
          }
        },
        "5ee6727880014829aa5a9b20da88d2e4": {
          "model_module": "@jupyter-widgets/base",
          "model_name": "LayoutModel",
          "state": {
            "_view_name": "LayoutView",
            "grid_template_rows": null,
            "right": null,
            "justify_content": null,
            "_view_module": "@jupyter-widgets/base",
            "overflow": null,
            "_model_module_version": "1.2.0",
            "_view_count": null,
            "flex_flow": null,
            "width": null,
            "min_width": null,
            "border": null,
            "align_items": null,
            "bottom": null,
            "_model_module": "@jupyter-widgets/base",
            "top": null,
            "grid_column": null,
            "overflow_y": null,
            "overflow_x": null,
            "grid_auto_flow": null,
            "grid_area": null,
            "grid_template_columns": null,
            "flex": null,
            "_model_name": "LayoutModel",
            "justify_items": null,
            "grid_row": null,
            "max_height": null,
            "align_content": null,
            "visibility": null,
            "align_self": null,
            "height": null,
            "min_height": null,
            "padding": null,
            "grid_auto_rows": null,
            "grid_gap": null,
            "max_width": null,
            "order": null,
            "_view_module_version": "1.2.0",
            "grid_template_areas": null,
            "object_position": null,
            "object_fit": null,
            "grid_auto_columns": null,
            "margin": null,
            "display": null,
            "left": null
          }
        },
        "f602fb52c94f45288d9ff6b603367aef": {
          "model_module": "@jupyter-widgets/controls",
          "model_name": "DescriptionStyleModel",
          "state": {
            "_view_name": "StyleView",
            "_model_name": "DescriptionStyleModel",
            "description_width": "",
            "_view_module": "@jupyter-widgets/base",
            "_model_module_version": "1.5.0",
            "_view_count": null,
            "_view_module_version": "1.2.0",
            "_model_module": "@jupyter-widgets/controls"
          }
        },
        "4228e2df45804e35a67b9f015b93731f": {
          "model_module": "@jupyter-widgets/base",
          "model_name": "LayoutModel",
          "state": {
            "_view_name": "LayoutView",
            "grid_template_rows": null,
            "right": null,
            "justify_content": null,
            "_view_module": "@jupyter-widgets/base",
            "overflow": null,
            "_model_module_version": "1.2.0",
            "_view_count": null,
            "flex_flow": null,
            "width": null,
            "min_width": null,
            "border": null,
            "align_items": null,
            "bottom": null,
            "_model_module": "@jupyter-widgets/base",
            "top": null,
            "grid_column": null,
            "overflow_y": null,
            "overflow_x": null,
            "grid_auto_flow": null,
            "grid_area": null,
            "grid_template_columns": null,
            "flex": null,
            "_model_name": "LayoutModel",
            "justify_items": null,
            "grid_row": null,
            "max_height": null,
            "align_content": null,
            "visibility": null,
            "align_self": null,
            "height": null,
            "min_height": null,
            "padding": null,
            "grid_auto_rows": null,
            "grid_gap": null,
            "max_width": null,
            "order": null,
            "_view_module_version": "1.2.0",
            "grid_template_areas": null,
            "object_position": null,
            "object_fit": null,
            "grid_auto_columns": null,
            "margin": null,
            "display": null,
            "left": null
          }
        },
        "086b48e133694d5fa42e61fe0f259c60": {
          "model_module": "@jupyter-widgets/controls",
          "model_name": "HBoxModel",
          "state": {
            "_view_name": "HBoxView",
            "_dom_classes": [],
            "_model_name": "HBoxModel",
            "_view_module": "@jupyter-widgets/controls",
            "_model_module_version": "1.5.0",
            "_view_count": null,
            "_view_module_version": "1.5.0",
            "box_style": "",
            "layout": "IPY_MODEL_e7f721809cf443f387eaae0ded3f69ef",
            "_model_module": "@jupyter-widgets/controls",
            "children": [
              "IPY_MODEL_c0510491a1014207be0811f73f109149",
              "IPY_MODEL_f2b5f326c4df44c3bf627c26df0e13f6"
            ]
          }
        },
        "e7f721809cf443f387eaae0ded3f69ef": {
          "model_module": "@jupyter-widgets/base",
          "model_name": "LayoutModel",
          "state": {
            "_view_name": "LayoutView",
            "grid_template_rows": null,
            "right": null,
            "justify_content": null,
            "_view_module": "@jupyter-widgets/base",
            "overflow": null,
            "_model_module_version": "1.2.0",
            "_view_count": null,
            "flex_flow": null,
            "width": null,
            "min_width": null,
            "border": null,
            "align_items": null,
            "bottom": null,
            "_model_module": "@jupyter-widgets/base",
            "top": null,
            "grid_column": null,
            "overflow_y": null,
            "overflow_x": null,
            "grid_auto_flow": null,
            "grid_area": null,
            "grid_template_columns": null,
            "flex": null,
            "_model_name": "LayoutModel",
            "justify_items": null,
            "grid_row": null,
            "max_height": null,
            "align_content": null,
            "visibility": null,
            "align_self": null,
            "height": null,
            "min_height": null,
            "padding": null,
            "grid_auto_rows": null,
            "grid_gap": null,
            "max_width": null,
            "order": null,
            "_view_module_version": "1.2.0",
            "grid_template_areas": null,
            "object_position": null,
            "object_fit": null,
            "grid_auto_columns": null,
            "margin": null,
            "display": null,
            "left": null
          }
        },
        "c0510491a1014207be0811f73f109149": {
          "model_module": "@jupyter-widgets/controls",
          "model_name": "FloatProgressModel",
          "state": {
            "_view_name": "ProgressView",
            "style": "IPY_MODEL_1b2489698903487aaf08f922c5b5cfde",
            "_dom_classes": [],
            "description": "100%",
            "_model_name": "FloatProgressModel",
            "bar_style": "success",
            "max": 10,
            "_view_module": "@jupyter-widgets/controls",
            "_model_module_version": "1.5.0",
            "value": 10,
            "_view_count": null,
            "_view_module_version": "1.5.0",
            "orientation": "horizontal",
            "min": 0,
            "description_tooltip": null,
            "_model_module": "@jupyter-widgets/controls",
            "layout": "IPY_MODEL_bf719efe6f4b41969652d497aaafd7c6"
          }
        },
        "f2b5f326c4df44c3bf627c26df0e13f6": {
          "model_module": "@jupyter-widgets/controls",
          "model_name": "HTMLModel",
          "state": {
            "_view_name": "HTMLView",
            "style": "IPY_MODEL_02787ce53333440bbcd62b37219a0139",
            "_dom_classes": [],
            "description": "",
            "_model_name": "HTMLModel",
            "placeholder": "​",
            "_view_module": "@jupyter-widgets/controls",
            "_model_module_version": "1.5.0",
            "value": " 10/10 [06:44&lt;00:00, 40.46s/it]",
            "_view_count": null,
            "_view_module_version": "1.5.0",
            "description_tooltip": null,
            "_model_module": "@jupyter-widgets/controls",
            "layout": "IPY_MODEL_2d8d6e3bf8ad4bffa8dcb2bc7c72e55b"
          }
        },
        "1b2489698903487aaf08f922c5b5cfde": {
          "model_module": "@jupyter-widgets/controls",
          "model_name": "ProgressStyleModel",
          "state": {
            "_view_name": "StyleView",
            "_model_name": "ProgressStyleModel",
            "description_width": "initial",
            "_view_module": "@jupyter-widgets/base",
            "_model_module_version": "1.5.0",
            "_view_count": null,
            "_view_module_version": "1.2.0",
            "bar_color": null,
            "_model_module": "@jupyter-widgets/controls"
          }
        },
        "bf719efe6f4b41969652d497aaafd7c6": {
          "model_module": "@jupyter-widgets/base",
          "model_name": "LayoutModel",
          "state": {
            "_view_name": "LayoutView",
            "grid_template_rows": null,
            "right": null,
            "justify_content": null,
            "_view_module": "@jupyter-widgets/base",
            "overflow": null,
            "_model_module_version": "1.2.0",
            "_view_count": null,
            "flex_flow": null,
            "width": null,
            "min_width": null,
            "border": null,
            "align_items": null,
            "bottom": null,
            "_model_module": "@jupyter-widgets/base",
            "top": null,
            "grid_column": null,
            "overflow_y": null,
            "overflow_x": null,
            "grid_auto_flow": null,
            "grid_area": null,
            "grid_template_columns": null,
            "flex": null,
            "_model_name": "LayoutModel",
            "justify_items": null,
            "grid_row": null,
            "max_height": null,
            "align_content": null,
            "visibility": null,
            "align_self": null,
            "height": null,
            "min_height": null,
            "padding": null,
            "grid_auto_rows": null,
            "grid_gap": null,
            "max_width": null,
            "order": null,
            "_view_module_version": "1.2.0",
            "grid_template_areas": null,
            "object_position": null,
            "object_fit": null,
            "grid_auto_columns": null,
            "margin": null,
            "display": null,
            "left": null
          }
        },
        "02787ce53333440bbcd62b37219a0139": {
          "model_module": "@jupyter-widgets/controls",
          "model_name": "DescriptionStyleModel",
          "state": {
            "_view_name": "StyleView",
            "_model_name": "DescriptionStyleModel",
            "description_width": "",
            "_view_module": "@jupyter-widgets/base",
            "_model_module_version": "1.5.0",
            "_view_count": null,
            "_view_module_version": "1.2.0",
            "_model_module": "@jupyter-widgets/controls"
          }
        },
        "2d8d6e3bf8ad4bffa8dcb2bc7c72e55b": {
          "model_module": "@jupyter-widgets/base",
          "model_name": "LayoutModel",
          "state": {
            "_view_name": "LayoutView",
            "grid_template_rows": null,
            "right": null,
            "justify_content": null,
            "_view_module": "@jupyter-widgets/base",
            "overflow": null,
            "_model_module_version": "1.2.0",
            "_view_count": null,
            "flex_flow": null,
            "width": null,
            "min_width": null,
            "border": null,
            "align_items": null,
            "bottom": null,
            "_model_module": "@jupyter-widgets/base",
            "top": null,
            "grid_column": null,
            "overflow_y": null,
            "overflow_x": null,
            "grid_auto_flow": null,
            "grid_area": null,
            "grid_template_columns": null,
            "flex": null,
            "_model_name": "LayoutModel",
            "justify_items": null,
            "grid_row": null,
            "max_height": null,
            "align_content": null,
            "visibility": null,
            "align_self": null,
            "height": null,
            "min_height": null,
            "padding": null,
            "grid_auto_rows": null,
            "grid_gap": null,
            "max_width": null,
            "order": null,
            "_view_module_version": "1.2.0",
            "grid_template_areas": null,
            "object_position": null,
            "object_fit": null,
            "grid_auto_columns": null,
            "margin": null,
            "display": null,
            "left": null
          }
        }
      }
    }
  },
  "cells": [
    {
      "cell_type": "markdown",
      "metadata": {
        "id": "view-in-github",
        "colab_type": "text"
      },
      "source": [
        "<a href=\"https://colab.research.google.com/github/alxkzncoff/skillfactory_rds6_car_price_prediction_ml_dl/blob/main/model/blend_model.ipynb\" target=\"_parent\"><img src=\"https://colab.research.google.com/assets/colab-badge.svg\" alt=\"Open In Colab\"/></a>"
      ]
    },
    {
      "cell_type": "markdown",
      "metadata": {
        "id": "Sy6Cwt-miydf"
      },
      "source": [
        "# INSATLL"
      ]
    },
    {
      "cell_type": "code",
      "metadata": {
        "colab": {
          "base_uri": "https://localhost:8080/"
        },
        "id": "DT0OdR-bimTl",
        "outputId": "1d537b28-2e20-4ef7-dfdd-6d9af0ada056"
      },
      "source": [
        "!pip install PyDrive\n",
        "!mkdir work_dir\n",
        "!pip install -q -U keras-tuner\n",
        "!pip install catboost"
      ],
      "execution_count": 1,
      "outputs": [
        {
          "output_type": "stream",
          "text": [
            "Requirement already satisfied: PyDrive in /usr/local/lib/python3.6/dist-packages (1.3.1)\n",
            "Requirement already satisfied: google-api-python-client>=1.2 in /usr/local/lib/python3.6/dist-packages (from PyDrive) (1.7.12)\n",
            "Requirement already satisfied: PyYAML>=3.0 in /usr/local/lib/python3.6/dist-packages (from PyDrive) (3.13)\n",
            "Requirement already satisfied: oauth2client>=4.0.0 in /usr/local/lib/python3.6/dist-packages (from PyDrive) (4.1.3)\n",
            "Requirement already satisfied: httplib2<1dev,>=0.17.0 in /usr/local/lib/python3.6/dist-packages (from google-api-python-client>=1.2->PyDrive) (0.17.4)\n",
            "Requirement already satisfied: six<2dev,>=1.6.1 in /usr/local/lib/python3.6/dist-packages (from google-api-python-client>=1.2->PyDrive) (1.15.0)\n",
            "Requirement already satisfied: uritemplate<4dev,>=3.0.0 in /usr/local/lib/python3.6/dist-packages (from google-api-python-client>=1.2->PyDrive) (3.0.1)\n",
            "Requirement already satisfied: google-auth-httplib2>=0.0.3 in /usr/local/lib/python3.6/dist-packages (from google-api-python-client>=1.2->PyDrive) (0.0.4)\n",
            "Requirement already satisfied: google-auth>=1.4.1 in /usr/local/lib/python3.6/dist-packages (from google-api-python-client>=1.2->PyDrive) (1.17.2)\n",
            "Requirement already satisfied: rsa>=3.1.4 in /usr/local/lib/python3.6/dist-packages (from oauth2client>=4.0.0->PyDrive) (4.6)\n",
            "Requirement already satisfied: pyasn1-modules>=0.0.5 in /usr/local/lib/python3.6/dist-packages (from oauth2client>=4.0.0->PyDrive) (0.2.8)\n",
            "Requirement already satisfied: pyasn1>=0.1.7 in /usr/local/lib/python3.6/dist-packages (from oauth2client>=4.0.0->PyDrive) (0.4.8)\n",
            "Requirement already satisfied: setuptools>=40.3.0 in /usr/local/lib/python3.6/dist-packages (from google-auth>=1.4.1->google-api-python-client>=1.2->PyDrive) (50.3.2)\n",
            "Requirement already satisfied: cachetools<5.0,>=2.0.0 in /usr/local/lib/python3.6/dist-packages (from google-auth>=1.4.1->google-api-python-client>=1.2->PyDrive) (4.1.1)\n",
            "\u001b[K     |████████████████████████████████| 61kB 5.1MB/s \n",
            "\u001b[?25h  Building wheel for keras-tuner (setup.py) ... \u001b[?25l\u001b[?25hdone\n",
            "  Building wheel for terminaltables (setup.py) ... \u001b[?25l\u001b[?25hdone\n",
            "Collecting catboost\n",
            "\u001b[?25l  Downloading https://files.pythonhosted.org/packages/52/39/128fff65072c8327371e3c594f3c826d29c85b21cb6485980353b168e0e4/catboost-0.24.2-cp36-none-manylinux1_x86_64.whl (66.1MB)\n",
            "\u001b[K     |████████████████████████████████| 66.2MB 44kB/s \n",
            "\u001b[?25hRequirement already satisfied: graphviz in /usr/local/lib/python3.6/dist-packages (from catboost) (0.10.1)\n",
            "Requirement already satisfied: plotly in /usr/local/lib/python3.6/dist-packages (from catboost) (4.4.1)\n",
            "Requirement already satisfied: six in /usr/local/lib/python3.6/dist-packages (from catboost) (1.15.0)\n",
            "Requirement already satisfied: pandas>=0.24.0 in /usr/local/lib/python3.6/dist-packages (from catboost) (1.1.4)\n",
            "Requirement already satisfied: scipy in /usr/local/lib/python3.6/dist-packages (from catboost) (1.4.1)\n",
            "Requirement already satisfied: matplotlib in /usr/local/lib/python3.6/dist-packages (from catboost) (3.2.2)\n",
            "Requirement already satisfied: numpy>=1.16.0 in /usr/local/lib/python3.6/dist-packages (from catboost) (1.18.5)\n",
            "Requirement already satisfied: retrying>=1.3.3 in /usr/local/lib/python3.6/dist-packages (from plotly->catboost) (1.3.3)\n",
            "Requirement already satisfied: pytz>=2017.2 in /usr/local/lib/python3.6/dist-packages (from pandas>=0.24.0->catboost) (2018.9)\n",
            "Requirement already satisfied: python-dateutil>=2.7.3 in /usr/local/lib/python3.6/dist-packages (from pandas>=0.24.0->catboost) (2.8.1)\n",
            "Requirement already satisfied: cycler>=0.10 in /usr/local/lib/python3.6/dist-packages (from matplotlib->catboost) (0.10.0)\n",
            "Requirement already satisfied: kiwisolver>=1.0.1 in /usr/local/lib/python3.6/dist-packages (from matplotlib->catboost) (1.3.1)\n",
            "Requirement already satisfied: pyparsing!=2.0.4,!=2.1.2,!=2.1.6,>=2.0.1 in /usr/local/lib/python3.6/dist-packages (from matplotlib->catboost) (2.4.7)\n",
            "Installing collected packages: catboost\n",
            "Successfully installed catboost-0.24.2\n"
          ],
          "name": "stdout"
        }
      ]
    },
    {
      "cell_type": "markdown",
      "metadata": {
        "id": "UjRvrdcoi0MJ"
      },
      "source": [
        "# DEFINE"
      ]
    },
    {
      "cell_type": "code",
      "metadata": {
        "id": "svyeREBri1du"
      },
      "source": [
        "DATA_PATH                           = '/content/work_dir'\n",
        "RANDOM_SEED                         = 42"
      ],
      "execution_count": 2,
      "outputs": []
    },
    {
      "cell_type": "markdown",
      "metadata": {
        "id": "pNpsuonui2ut"
      },
      "source": [
        "# INPUT"
      ]
    },
    {
      "cell_type": "code",
      "metadata": {
        "id": "7ptsIPVOi3k6"
      },
      "source": [
        "# Data access\n",
        "from pydrive.auth import GoogleAuth\n",
        "from pydrive.drive import GoogleDrive\n",
        "from google.colab import auth\n",
        "from oauth2client.client import GoogleCredentials\n",
        "\n",
        "# General\n",
        "import random\n",
        "import numpy as np\n",
        "import pandas as pd\n",
        "import matplotlib.pyplot as plt\n",
        "import matplotlib.image as mpimg\n",
        "import seaborn as sns\n",
        "import os\n",
        "import sys\n",
        "import PIL\n",
        "import cv2\n",
        "import re\n",
        "import IPython\n",
        "from tqdm.notebook import tqdm\n",
        "\n",
        "# ml\n",
        "from sklearn.preprocessing import MinMaxScaler\n",
        "from sklearn.model_selection import train_test_split\n",
        "from scipy.stats import lognorm\n",
        "from scipy.stats import shapiro\n",
        "from sklearn.model_selection import StratifiedKFold, KFold\n",
        "from catboost import CatBoostRegressor\n",
        "from catboost import Pool\n",
        "from catboost import cv\n",
        "\n",
        "# keras\n",
        "import tensorflow as tf\n",
        "import tensorflow.keras.layers as L\n",
        "from tensorflow.keras.models import Model, Sequential\n",
        "from tensorflow.keras.preprocessing.text import Tokenizer\n",
        "from tensorflow.keras.preprocessing import sequence\n",
        "from tensorflow.keras.callbacks import ModelCheckpoint, EarlyStopping\n",
        "from keras.utils.vis_utils import plot_model\n",
        "import kerastuner as kt"
      ],
      "execution_count": 3,
      "outputs": []
    },
    {
      "cell_type": "markdown",
      "metadata": {
        "id": "XpCvpxrkjGb1"
      },
      "source": [
        "# DOWNLOAD DATA"
      ]
    },
    {
      "cell_type": "code",
      "metadata": {
        "id": "HT3kb6IQjHTh"
      },
      "source": [
        "# Authenticate and create the PyDrive client.\n",
        "auth.authenticate_user()\n",
        "gauth = GoogleAuth()\n",
        "gauth.credentials = GoogleCredentials.get_application_default()\n",
        "drive = GoogleDrive(gauth)"
      ],
      "execution_count": 4,
      "outputs": []
    },
    {
      "cell_type": "code",
      "metadata": {
        "id": "6Coj2kF8jJzo"
      },
      "source": [
        "# Download clear_train.csv from google drive to Colab VM.\n",
        "downloaded = drive.CreateFile({'id':\"1-3kiZxEddvuNFoRTfMA6cA8bu7LjP2b3\"}) # откуда берем файл\n",
        "downloaded.GetContentFile(DATA_PATH+'/clear_train.csv') # куда сохраняем файл в вирутальной машине колаба\n",
        "\n",
        "# Download clear_test.csv from google drive to Colab VM.\n",
        "downloaded = drive.CreateFile({'id':\"1-0yG59TcpJoDSeOclid1z-nc1Fh3yud2\"})\n",
        "downloaded.GetContentFile(DATA_PATH+'/clear_test.csv')\n",
        "\n",
        "# Download sample_submission from google drive to Colab VM.\n",
        "downloaded = drive.CreateFile({'id':\"1Edwuioev6uEyeXuCQuloPNQ70V5-3HZG\"})\n",
        "downloaded.GetContentFile(DATA_PATH+'/sample_submission.csv')"
      ],
      "execution_count": 5,
      "outputs": []
    },
    {
      "cell_type": "markdown",
      "metadata": {
        "id": "_0HDEAJ8jxmq"
      },
      "source": [
        "# ML CatBoost"
      ]
    },
    {
      "cell_type": "code",
      "metadata": {
        "id": "7BJI6Ks9jPBL"
      },
      "source": [
        "train = pd.read_csv(DATA_PATH+'/clear_train.csv')\n",
        "test = pd.read_csv(DATA_PATH+'/clear_test.csv')\n",
        "sample_submission = pd.read_csv(DATA_PATH+'/sample_submission.csv')"
      ],
      "execution_count": 6,
      "outputs": []
    },
    {
      "cell_type": "code",
      "metadata": {
        "id": "qk_IjXbBj8RT"
      },
      "source": [
        "train.num_of_doors = train.num_of_doors.astype(str)\n",
        "test.num_of_doors = test.num_of_doors.astype(str)"
      ],
      "execution_count": 7,
      "outputs": []
    },
    {
      "cell_type": "markdown",
      "metadata": {
        "id": "UeFTmtPdjULY"
      },
      "source": [
        "## PREPARING"
      ]
    },
    {
      "cell_type": "code",
      "metadata": {
        "id": "HcoUBaoojQ_-"
      },
      "source": [
        "df = pd.concat([train, test])"
      ],
      "execution_count": 8,
      "outputs": []
    },
    {
      "cell_type": "code",
      "metadata": {
        "id": "jQ_AAP3mjeix"
      },
      "source": [
        "df.price.fillna(0, inplace=True)\n",
        "df['sample'] = df.price.apply(lambda x:0 if x == 0 else 1)"
      ],
      "execution_count": 9,
      "outputs": []
    },
    {
      "cell_type": "code",
      "metadata": {
        "id": "J_AZYcj3jhLZ"
      },
      "source": [
        "def data_prep(df):\n",
        "\n",
        "  categorical_features = ['body', 'brand', 'color', 'fuel', 'model_info', 'name',  'num_of_doors',  'transmission', 'owners', 'vehicle_title', 'drive_type']\n",
        "  numerical_features = ['engine_displacement', 'engine_power', 'mileage', 'model_date', 'production_date', 'tax', 'days_in_use']\n",
        "\n",
        "  # ############################### Normalization ######################################\n",
        "  MMS = MinMaxScaler()\n",
        "\n",
        "  MMS.fit(df[numerical_features])\n",
        "  df[numerical_features] = MMS.transform(df[numerical_features])\n",
        "\n",
        "  return df, categorical_features "
      ],
      "execution_count": 10,
      "outputs": []
    },
    {
      "cell_type": "code",
      "metadata": {
        "colab": {
          "base_uri": "https://localhost:8080/"
        },
        "id": "_fQgdLwEkWXd",
        "outputId": "a7166cb4-dd86-4b6c-866d-b75559431df3"
      },
      "source": [
        "df, cat_features = data_prep(df)\n",
        "df.shape"
      ],
      "execution_count": 11,
      "outputs": [
        {
          "output_type": "execute_result",
          "data": {
            "text/plain": [
              "(8353, 22)"
            ]
          },
          "metadata": {
            "tags": []
          },
          "execution_count": 11
        }
      ]
    },
    {
      "cell_type": "markdown",
      "metadata": {
        "id": "cPaQV16GmwW6"
      },
      "source": [
        "## SPLIT"
      ]
    },
    {
      "cell_type": "code",
      "metadata": {
        "id": "ZZv9AaozkHun"
      },
      "source": [
        "X = df.query('sample==1').drop(columns=['description', 'price', 'sample', 'sell_id'])\n",
        "y = df.query('sample==1').price.values\n",
        "test = df.query('sample==0').drop(columns=['description', 'price', 'sample', 'sell_id'])\n",
        "\n",
        "# ############ Split #################\n",
        "X_train, X_test, y_train, y_test = train_test_split(X,y, test_size=0.1, shuffle=True, random_state=RANDOM_SEED)"
      ],
      "execution_count": 12,
      "outputs": []
    },
    {
      "cell_type": "code",
      "metadata": {
        "id": "MGJC-mCukKKt"
      },
      "source": [
        "train_data = Pool(data = X_train,\n",
        "                  label = y_train,\n",
        "                  cat_features =  cat_features)\n",
        "\n",
        "test_data = Pool(data = X_test,\n",
        "                 label = y_test,\n",
        "                  cat_features =  cat_features)"
      ],
      "execution_count": 13,
      "outputs": []
    },
    {
      "cell_type": "markdown",
      "metadata": {
        "id": "D6lE1rrZkY4C"
      },
      "source": [
        "## MODEL"
      ]
    },
    {
      "cell_type": "code",
      "metadata": {
        "id": "olIa1SxlkcFM"
      },
      "source": [
        "def mape(y_true, y_pred):\n",
        "    return np.mean(np.abs((y_pred-y_true)/y_true))"
      ],
      "execution_count": 14,
      "outputs": []
    },
    {
      "cell_type": "code",
      "metadata": {
        "colab": {
          "base_uri": "https://localhost:8080/"
        },
        "id": "XbnueMGSkdUZ",
        "outputId": "18c465b6-2d62-4ccd-f67d-f5aaae563d61"
      },
      "source": [
        "ctb = CatBoostRegressor( loss_function = 'MAE',\n",
        "                         eval_metric = 'MAPE',\n",
        "                         learning_rate=0.002,\n",
        "                         iterations=30000, # обучаем до overfitting'a\n",
        "                         l2_leaf_reg=2,\n",
        "                         depth=5,\n",
        "                         bootstrap_type = 'Bernoulli', # Bayesian Bernoulli\n",
        "                         one_hot_max_size = 360,\n",
        "                         random_seed=RANDOM_SEED,\n",
        "                         od_type='Iter',\n",
        "                         od_wait=500,\n",
        "                         task_type='CPU')\n",
        "\n",
        "\n",
        "ml_model = ctb.fit(train_data,\n",
        "                eval_set=test_data,\n",
        "                verbose_eval=500,\n",
        "                use_best_model=True)\n",
        "#                plot=True)\n",
        "print(ml_model)\n",
        "\n",
        "test_predict_cat = ml_model.predict(X_test)\n",
        "print(f\"TEST mape: {(mape(y_test, test_predict_cat))*100:0.2f}%\")"
      ],
      "execution_count": 15,
      "outputs": [
        {
          "output_type": "stream",
          "text": [
            "0:\tlearn: 0.6290616\ttest: 0.6430650\tbest: 0.6430650 (0)\ttotal: 48.9ms\tremaining: 24m 27s\n",
            "500:\tlearn: 0.3211629\ttest: 0.3252184\tbest: 0.3252184 (500)\ttotal: 1.12s\tremaining: 1m 5s\n",
            "1000:\tlearn: 0.2137563\ttest: 0.2141180\tbest: 0.2141180 (1000)\ttotal: 2.16s\tremaining: 1m 2s\n",
            "1500:\tlearn: 0.1732567\ttest: 0.1731448\tbest: 0.1731448 (1500)\ttotal: 3.2s\tremaining: 1m\n",
            "2000:\tlearn: 0.1562711\ttest: 0.1557745\tbest: 0.1557745 (2000)\ttotal: 4.23s\tremaining: 59.1s\n",
            "2500:\tlearn: 0.1472348\ttest: 0.1463100\tbest: 0.1463100 (2500)\ttotal: 5.29s\tremaining: 58.2s\n",
            "3000:\tlearn: 0.1410992\ttest: 0.1399390\tbest: 0.1399390 (3000)\ttotal: 6.31s\tremaining: 56.8s\n",
            "3500:\tlearn: 0.1368810\ttest: 0.1351242\tbest: 0.1351242 (3500)\ttotal: 7.33s\tremaining: 55.5s\n",
            "4000:\tlearn: 0.1335575\ttest: 0.1319117\tbest: 0.1319117 (4000)\ttotal: 8.35s\tremaining: 54.3s\n",
            "4500:\tlearn: 0.1306541\ttest: 0.1291945\tbest: 0.1291945 (4500)\ttotal: 9.4s\tremaining: 53.2s\n",
            "5000:\tlearn: 0.1280759\ttest: 0.1269137\tbest: 0.1269137 (5000)\ttotal: 10.4s\tremaining: 52s\n",
            "5500:\tlearn: 0.1258226\ttest: 0.1251233\tbest: 0.1251230 (5499)\ttotal: 11.4s\tremaining: 50.8s\n",
            "6000:\tlearn: 0.1238287\ttest: 0.1236346\tbest: 0.1236346 (6000)\ttotal: 12.4s\tremaining: 49.6s\n",
            "6500:\tlearn: 0.1222413\ttest: 0.1223641\tbest: 0.1223641 (6500)\ttotal: 13.4s\tremaining: 48.5s\n",
            "7000:\tlearn: 0.1207849\ttest: 0.1212992\tbest: 0.1212992 (7000)\ttotal: 14.4s\tremaining: 47.5s\n",
            "7500:\tlearn: 0.1193525\ttest: 0.1202727\tbest: 0.1202718 (7498)\ttotal: 15.5s\tremaining: 46.4s\n",
            "8000:\tlearn: 0.1180289\ttest: 0.1192907\tbest: 0.1192907 (8000)\ttotal: 16.5s\tremaining: 45.4s\n",
            "8500:\tlearn: 0.1168639\ttest: 0.1183069\tbest: 0.1183069 (8500)\ttotal: 17.5s\tremaining: 44.3s\n",
            "9000:\tlearn: 0.1158521\ttest: 0.1175278\tbest: 0.1175273 (8999)\ttotal: 18.6s\tremaining: 43.4s\n",
            "9500:\tlearn: 0.1149191\ttest: 0.1168080\tbest: 0.1168080 (9500)\ttotal: 19.6s\tremaining: 42.4s\n",
            "10000:\tlearn: 0.1140545\ttest: 0.1162478\tbest: 0.1162478 (10000)\ttotal: 20.7s\tremaining: 41.5s\n",
            "10500:\tlearn: 0.1131735\ttest: 0.1155675\tbest: 0.1155675 (10500)\ttotal: 21.8s\tremaining: 40.4s\n",
            "11000:\tlearn: 0.1123500\ttest: 0.1150364\tbest: 0.1150290 (10960)\ttotal: 22.8s\tremaining: 39.4s\n",
            "11500:\tlearn: 0.1115639\ttest: 0.1144795\tbest: 0.1144790 (11499)\ttotal: 23.9s\tremaining: 38.4s\n",
            "12000:\tlearn: 0.1108075\ttest: 0.1140104\tbest: 0.1140076 (11993)\ttotal: 24.9s\tremaining: 37.4s\n",
            "12500:\tlearn: 0.1100695\ttest: 0.1136426\tbest: 0.1136426 (12500)\ttotal: 26s\tremaining: 36.4s\n",
            "13000:\tlearn: 0.1093691\ttest: 0.1132093\tbest: 0.1132084 (12998)\ttotal: 27s\tremaining: 35.3s\n",
            "13500:\tlearn: 0.1087463\ttest: 0.1129400\tbest: 0.1129400 (13500)\ttotal: 28.1s\tremaining: 34.3s\n",
            "14000:\tlearn: 0.1081041\ttest: 0.1125912\tbest: 0.1125912 (14000)\ttotal: 29.1s\tremaining: 33.2s\n",
            "14500:\tlearn: 0.1075234\ttest: 0.1123331\tbest: 0.1123321 (14492)\ttotal: 30.2s\tremaining: 32.2s\n",
            "15000:\tlearn: 0.1069550\ttest: 0.1120253\tbest: 0.1120253 (15000)\ttotal: 31.2s\tremaining: 31.2s\n",
            "15500:\tlearn: 0.1064082\ttest: 0.1119027\tbest: 0.1119003 (15488)\ttotal: 32.2s\tremaining: 30.1s\n",
            "16000:\tlearn: 0.1058826\ttest: 0.1116807\tbest: 0.1116807 (16000)\ttotal: 33.2s\tremaining: 29s\n",
            "16500:\tlearn: 0.1053994\ttest: 0.1114942\tbest: 0.1114942 (16500)\ttotal: 34.2s\tremaining: 28s\n",
            "17000:\tlearn: 0.1048877\ttest: 0.1113303\tbest: 0.1113251 (16964)\ttotal: 35.2s\tremaining: 26.9s\n",
            "17500:\tlearn: 0.1044143\ttest: 0.1112132\tbest: 0.1112132 (17500)\ttotal: 36.2s\tremaining: 25.8s\n",
            "18000:\tlearn: 0.1039408\ttest: 0.1111355\tbest: 0.1111354 (17997)\ttotal: 37.2s\tremaining: 24.8s\n",
            "18500:\tlearn: 0.1035027\ttest: 0.1110648\tbest: 0.1110515 (18328)\ttotal: 38.2s\tremaining: 23.7s\n",
            "19000:\tlearn: 0.1030915\ttest: 0.1109661\tbest: 0.1109618 (18977)\ttotal: 39.2s\tremaining: 22.7s\n",
            "19500:\tlearn: 0.1026521\ttest: 0.1108379\tbest: 0.1108379 (19500)\ttotal: 40.2s\tremaining: 21.6s\n",
            "20000:\tlearn: 0.1022270\ttest: 0.1107318\tbest: 0.1107318 (20000)\ttotal: 41.2s\tremaining: 20.6s\n",
            "20500:\tlearn: 0.1018047\ttest: 0.1106930\tbest: 0.1106873 (20254)\ttotal: 42.2s\tremaining: 19.5s\n",
            "21000:\tlearn: 0.1014017\ttest: 0.1106134\tbest: 0.1106134 (21000)\ttotal: 43.2s\tremaining: 18.5s\n",
            "21500:\tlearn: 0.1010288\ttest: 0.1105331\tbest: 0.1105315 (21497)\ttotal: 44.2s\tremaining: 17.5s\n",
            "22000:\tlearn: 0.1006486\ttest: 0.1104642\tbest: 0.1104472 (21993)\ttotal: 45.2s\tremaining: 16.4s\n",
            "22500:\tlearn: 0.1002715\ttest: 0.1103550\tbest: 0.1103487 (22485)\ttotal: 46.2s\tremaining: 15.4s\n",
            "23000:\tlearn: 0.0998987\ttest: 0.1102514\tbest: 0.1102465 (22936)\ttotal: 47.2s\tremaining: 14.4s\n",
            "23500:\tlearn: 0.0995354\ttest: 0.1101894\tbest: 0.1101787 (23484)\ttotal: 48.2s\tremaining: 13.3s\n",
            "24000:\tlearn: 0.0991809\ttest: 0.1101357\tbest: 0.1101295 (23996)\ttotal: 49.3s\tremaining: 12.3s\n",
            "24500:\tlearn: 0.0988223\ttest: 0.1100543\tbest: 0.1100543 (24500)\ttotal: 50.3s\tremaining: 11.3s\n",
            "25000:\tlearn: 0.0984765\ttest: 0.1100046\tbest: 0.1099785 (24972)\ttotal: 51.3s\tremaining: 10.3s\n",
            "Stopped by overfitting detector  (500 iterations wait)\n",
            "\n",
            "bestTest = 0.1099785216\n",
            "bestIteration = 24972\n",
            "\n",
            "Shrink model to first 24973 iterations.\n",
            "<catboost.core.CatBoostRegressor object at 0x7f53a082d9e8>\n",
            "TEST mape: 11.00%\n"
          ],
          "name": "stdout"
        }
      ]
    },
    {
      "cell_type": "code",
      "metadata": {
        "colab": {
          "base_uri": "https://localhost:8080/",
          "height": 607
        },
        "id": "SMicjz_Vke-1",
        "outputId": "2ec1520b-ec11-4bab-f9e4-f6d5ec4108ef"
      },
      "source": [
        "plt.figure(figsize=(15,10))\n",
        "plt.title('MAPE')\n",
        "plt.plot(ml_model.evals_result_['learn']['MAE'], label='train')\n",
        "plt.plot(ml_model.evals_result_['validation']['MAE'], label='test')\n",
        "plt.legend()\n",
        "plt.grid()\n",
        "plt.show()"
      ],
      "execution_count": 16,
      "outputs": [
        {
          "output_type": "display_data",
          "data": {
            "image/png": "[encoded data removed]",
            "text/plain": [
              "<Figure size 1080x720 with 1 Axes>"
            ]
          },
          "metadata": {
            "tags": [],
            "needs_background": "light"
          }
        }
      ]
    },
    {
      "cell_type": "markdown",
      "metadata": {
        "id": "3YQxlabBnTZ3"
      },
      "source": [
        "## PREDICT"
      ]
    },
    {
      "cell_type": "code",
      "metadata": {
        "id": "hLdRzQxlklnb"
      },
      "source": [
        "predict_data = Pool(data = test,\n",
        "                    cat_features =  cat_features)\n",
        "\n",
        "ml_predict = ml_model.predict(predict_data)"
      ],
      "execution_count": 17,
      "outputs": []
    },
    {
      "cell_type": "code",
      "metadata": {
        "colab": {
          "base_uri": "https://localhost:8080/",
          "height": 359
        },
        "id": "x9fOQJOVl-b0",
        "outputId": "d813b1a4-290a-4000-9937-b007107373af"
      },
      "source": [
        "sample_submission_ml = pd.DataFrame(columns=['price'])\n",
        "sample_submission_ml['price'] = sample_submission['price']\n",
        "sample_submission_ml['price'] = ml_predict\n",
        "sample_submission_ml.to_csv(DATA_PATH+f'/sub_cat_{round((mape(y_test, test_predict_cat)*100),2)}.csv'.replace('.', '_', 1), index=False)\n",
        "display(sample_submission_ml.head(10))"
      ],
      "execution_count": 18,
      "outputs": [
        {
          "output_type": "display_data",
          "data": {
            "text/html": [
              "<div>\n",
              "<style scoped>\n",
              "    .dataframe tbody tr th:only-of-type {\n",
              "        vertical-align: middle;\n",
              "    }\n",
              "\n",
              "    .dataframe tbody tr th {\n",
              "        vertical-align: top;\n",
              "    }\n",
              "\n",
              "    .dataframe thead th {\n",
              "        text-align: right;\n",
              "    }\n",
              "</style>\n",
              "<table border=\"1\" class=\"dataframe\">\n",
              "  <thead>\n",
              "    <tr style=\"text-align: right;\">\n",
              "      <th></th>\n",
              "      <th>price</th>\n",
              "    </tr>\n",
              "  </thead>\n",
              "  <tbody>\n",
              "    <tr>\n",
              "      <th>0</th>\n",
              "      <td>5.751651e+05</td>\n",
              "    </tr>\n",
              "    <tr>\n",
              "      <th>1</th>\n",
              "      <td>2.606512e+06</td>\n",
              "    </tr>\n",
              "    <tr>\n",
              "      <th>2</th>\n",
              "      <td>6.487584e+05</td>\n",
              "    </tr>\n",
              "    <tr>\n",
              "      <th>3</th>\n",
              "      <td>4.739163e+05</td>\n",
              "    </tr>\n",
              "    <tr>\n",
              "      <th>4</th>\n",
              "      <td>2.648820e+06</td>\n",
              "    </tr>\n",
              "    <tr>\n",
              "      <th>5</th>\n",
              "      <td>3.126302e+06</td>\n",
              "    </tr>\n",
              "    <tr>\n",
              "      <th>6</th>\n",
              "      <td>1.594280e+06</td>\n",
              "    </tr>\n",
              "    <tr>\n",
              "      <th>7</th>\n",
              "      <td>1.160705e+06</td>\n",
              "    </tr>\n",
              "    <tr>\n",
              "      <th>8</th>\n",
              "      <td>1.068080e+06</td>\n",
              "    </tr>\n",
              "    <tr>\n",
              "      <th>9</th>\n",
              "      <td>5.011271e+05</td>\n",
              "    </tr>\n",
              "  </tbody>\n",
              "</table>\n",
              "</div>"
            ],
            "text/plain": [
              "          price\n",
              "0  5.751651e+05\n",
              "1  2.606512e+06\n",
              "2  6.487584e+05\n",
              "3  4.739163e+05\n",
              "4  2.648820e+06\n",
              "5  3.126302e+06\n",
              "6  1.594280e+06\n",
              "7  1.160705e+06\n",
              "8  1.068080e+06\n",
              "9  5.011271e+05"
            ]
          },
          "metadata": {
            "tags": []
          }
        }
      ]
    },
    {
      "cell_type": "markdown",
      "metadata": {
        "id": "PqNUypYimZ6Y"
      },
      "source": [
        "# NN"
      ]
    },
    {
      "cell_type": "markdown",
      "metadata": {
        "id": "IugIdTuImb6D"
      },
      "source": [
        "## PREPARING"
      ]
    },
    {
      "cell_type": "code",
      "metadata": {
        "id": "J61MSIeGmfYh"
      },
      "source": [
        "train = pd.read_csv(DATA_PATH+'/clear_train.csv')\n",
        "test = pd.read_csv(DATA_PATH+'/clear_test.csv')"
      ],
      "execution_count": 19,
      "outputs": []
    },
    {
      "cell_type": "code",
      "metadata": {
        "id": "t4vxLvmcmjqt"
      },
      "source": [
        "df = pd.concat([train, test])"
      ],
      "execution_count": 20,
      "outputs": []
    },
    {
      "cell_type": "code",
      "metadata": {
        "id": "vxXihWHAmlO6"
      },
      "source": [
        "df.price.fillna(0, inplace=True)\n",
        "df['sample'] = df.price.apply(lambda x:0 if x == 0 else 1)"
      ],
      "execution_count": 21,
      "outputs": []
    },
    {
      "cell_type": "code",
      "metadata": {
        "id": "Lu8C2FYamm2e"
      },
      "source": [
        "# ##################### Логорифмируем ######################\n",
        "df.engine_displacement = df.engine_displacement.max() - np.log(df.engine_displacement)\n",
        "df.engine_power = df.engine_power.max() - np.log(df.engine_power)"
      ],
      "execution_count": 22,
      "outputs": []
    },
    {
      "cell_type": "code",
      "metadata": {
        "id": "aWgtIDN-mo3d"
      },
      "source": [
        "def data_prep(df):\n",
        "\n",
        "  categorical_features = ['body', 'brand', 'color', 'fuel', 'model_info', 'name',  'num_of_doors',  'transmission', 'owners', 'vehicle_title', 'drive_type']\n",
        "  numerical_features = ['engine_displacement', 'engine_power', 'mileage', 'model_date', 'production_date', 'tax', 'days_in_use']\n",
        "\n",
        "  # ############################## Label Encoding #####################################\n",
        "  for column in categorical_features:\n",
        "      df[column] = df[column].astype('category').cat.codes\n",
        "  \n",
        "  # ############################### One Hot encoding ###################################\n",
        "  df = pd.get_dummies(df, columns=categorical_features, dummy_na=False)\n",
        "\n",
        "  # ############################### Normalization ######################################\n",
        "  MMS = MinMaxScaler()\n",
        "\n",
        "  MMS.fit(df[numerical_features])\n",
        "  df[numerical_features] = MMS.transform(df[numerical_features])\n",
        "\n",
        "  return df"
      ],
      "execution_count": 23,
      "outputs": []
    },
    {
      "cell_type": "code",
      "metadata": {
        "colab": {
          "base_uri": "https://localhost:8080/"
        },
        "id": "BnAdKBmGmqck",
        "outputId": "fbd5e31e-02c8-4691-91df-d4ac4b35b39d"
      },
      "source": [
        "df = data_prep(df)\n",
        "df.shape"
      ],
      "execution_count": 24,
      "outputs": [
        {
          "output_type": "execute_result",
          "data": {
            "text/plain": [
              "(8353, 546)"
            ]
          },
          "metadata": {
            "tags": []
          },
          "execution_count": 24
        }
      ]
    },
    {
      "cell_type": "markdown",
      "metadata": {
        "id": "PKXifl34mt0k"
      },
      "source": [
        "## SPLIT"
      ]
    },
    {
      "cell_type": "code",
      "metadata": {
        "id": "5DzY2D0YmrtK"
      },
      "source": [
        "X = df.query('sample==1').drop(columns=['description', 'price', 'sample', 'sell_id'])\n",
        "y = df.query('sample==1').price.values\n",
        "test = df.query('sample==0').drop(columns=['description', 'price', 'sample', 'sell_id'])\n",
        "\n",
        "# ############ Split #################\n",
        "X_train, X_test, y_train, y_test = train_test_split(X,y, test_size=0.1, shuffle=True, random_state=RANDOM_SEED)"
      ],
      "execution_count": 25,
      "outputs": []
    },
    {
      "cell_type": "markdown",
      "metadata": {
        "id": "fKGxRcuBte0x"
      },
      "source": [
        "## MODEL"
      ]
    },
    {
      "cell_type": "code",
      "metadata": {
        "id": "-5RrqnH2myKW"
      },
      "source": [
        "def build_model(LR, EPOCHS, OPTIMIZER_TYPE):\n",
        "\n",
        "  # ######################### Create simple neural network #############################\n",
        "  nn_model = Sequential()\n",
        "  nn_model.add(L.Dense(1090, input_dim=X_train.shape[1], activation=\"relu\", name='dense_1090'))\n",
        "  nn_model.add(L.Dropout(0.85))\n",
        "  nn_model.add(L.Dense(545, activation=\"relu\", name='dense_545'))\n",
        "  nn_model.add(L.Dense(1, activation=\"linear\", name='output_dense_1'))\n",
        "\n",
        "  display(nn_model.summary())\n",
        "\n",
        "  plt.figure(figsize=(20,15))\n",
        "  plot_model(nn_model, to_file=DATA_PATH+'/model_plot.png', show_shapes=True, show_layer_names=True)\n",
        "  img = mpimg.imread(DATA_PATH+'/model_plot.png')\n",
        "  plt.imshow(img)\n",
        "  plt.show()\n",
        "\n",
        "  # ######################### Optimizer ##############################\n",
        "  if OPTIMIZER_TYPE == 'Adam':\n",
        "    optimizer = tf.keras.optimizers.Adam(LR)\n",
        "  elif OPTIMIZER_TYPE == 'Adamax':\n",
        "    optimizer = tf.keras.optimizers.Adamax(LR)\n",
        "\n",
        "  nn_model.compile(loss='MAPE',optimizer=optimizer, metrics=['MAPE'])\n",
        "\n",
        "  # ######################## Checkpoints #############################\n",
        "  checkpoint = ModelCheckpoint(DATA_PATH+'/best_model.hdf5' , monitor='val_MAPE', verbose=0  , mode='min', save_best_only=True)\n",
        "  earlystop = EarlyStopping(monitor='val_MAPE', patience=50, restore_best_weights=True,)\n",
        "  callbacks_list = [checkpoint, earlystop]\n",
        "\n",
        "  # ######################## Fit model ##############################\n",
        "  history = nn_model.fit(X_train, y_train,\n",
        "                    batch_size=512,\n",
        "                    epochs=EPOCHS, \n",
        "                    validation_data=(X_test, y_test),\n",
        "                    callbacks=callbacks_list,\n",
        "                    verbose=0\n",
        "                   )\n",
        "  \n",
        "  # ######################## Saving best model #####################\n",
        "  nn_model.load_weights(DATA_PATH+'/best_model.hdf5')\n",
        "  nn_model.save(DATA_PATH+'/nn_1.hdf5')\n",
        "\n",
        "  # ######################## Show results ###########################\n",
        "  plt.figure(figsize=(15,10))\n",
        "  plt.title('Loss')\n",
        "  plt.plot(history.history['MAPE'], label='train')\n",
        "  plt.plot(history.history['val_MAPE'], label='test')\n",
        "  plt.legend()\n",
        "  plt.grid()\n",
        "  plt.show()\n",
        "\n",
        "  test_predict_nn = nn_model.predict(X_test)\n",
        "  print(f\"TEST mape: {(mape(y_test, test_predict_nn[:,0]))*100:0.2f}%\")\n",
        "\n",
        "  return nn_model, checkpoint, earlystop, callbacks_list, history, test_predict_nn"
      ],
      "execution_count": 26,
      "outputs": []
    },
    {
      "cell_type": "code",
      "metadata": {
        "colab": {
          "base_uri": "https://localhost:8080/",
          "height": 1000
        },
        "id": "cZzsOcJznFEm",
        "outputId": "964f0904-3e34-44cf-9cc8-2d0ae4906400"
      },
      "source": [
        "nn_model, checkpoint, earlystop, callbacks_list, history, test_predict_nn = build_model(LR=0.1, EPOCHS=2000, OPTIMIZER_TYPE='Adamax')"
      ],
      "execution_count": 27,
      "outputs": [
        {
          "output_type": "stream",
          "text": [
            "Model: \"sequential\"\n",
            "_________________________________________________________________\n",
            "Layer (type)                 Output Shape              Param #   \n",
            "=================================================================\n",
            "dense_1090 (Dense)           (None, 1090)              591870    \n",
            "_________________________________________________________________\n",
            "dropout (Dropout)            (None, 1090)              0         \n",
            "_________________________________________________________________\n",
            "dense_545 (Dense)            (None, 545)               594595    \n",
            "_________________________________________________________________\n",
            "output_dense_1 (Dense)       (None, 1)                 546       \n",
            "=================================================================\n",
            "Total params: 1,187,011\n",
            "Trainable params: 1,187,011\n",
            "Non-trainable params: 0\n",
            "_________________________________________________________________\n"
          ],
          "name": "stdout"
        },
        {
          "output_type": "display_data",
          "data": {
            "text/plain": [
              "None"
            ]
          },
          "metadata": {
            "tags": []
          }
        },
        {
          "output_type": "display_data",
          "data": {
            "image/png": "[encoded data removed]",
            "text/plain": [
              "<Figure size 1440x1080 with 1 Axes>"
            ]
          },
          "metadata": {
            "tags": [],
            "needs_background": "light"
          }
        },
        {
          "output_type": "display_data",
          "data": {
            "image/png": "[encoded data removed]",
            "text/plain": [
              "<Figure size 1080x720 with 1 Axes>"
            ]
          },
          "metadata": {
            "tags": [],
            "needs_background": "light"
          }
        },
        {
          "output_type": "stream",
          "text": [
            "TEST mape: 10.86%\n"
          ],
          "name": "stdout"
        }
      ]
    },
    {
      "cell_type": "markdown",
      "metadata": {
        "id": "kNyFbC94nP84"
      },
      "source": [
        "## PREDICT"
      ]
    },
    {
      "cell_type": "code",
      "metadata": {
        "id": "ocY7U5-EoZ0u"
      },
      "source": [
        "nn_predict = nn_model.predict(test)"
      ],
      "execution_count": 28,
      "outputs": []
    },
    {
      "cell_type": "code",
      "metadata": {
        "colab": {
          "base_uri": "https://localhost:8080/",
          "height": 359
        },
        "id": "dMPWkhv7ojkK",
        "outputId": "5ae10ac0-b101-4cb1-d9e9-9613093eb76a"
      },
      "source": [
        "sample_submission_nn = pd.DataFrame(columns=['price'])\n",
        "sample_submission_nn['price'] = sample_submission['price']\n",
        "sample_submission_nn['price'] = nn_predict\n",
        "sample_submission_nn.to_csv(DATA_PATH+f'/sub_nn_{round((mape(y_test, test_predict_nn[:,0])*100),2)}.csv'.replace('.', '_', 1), index=False)\n",
        "display(sample_submission_nn.head(10))"
      ],
      "execution_count": 30,
      "outputs": [
        {
          "output_type": "display_data",
          "data": {
            "text/html": [
              "<div>\n",
              "<style scoped>\n",
              "    .dataframe tbody tr th:only-of-type {\n",
              "        vertical-align: middle;\n",
              "    }\n",
              "\n",
              "    .dataframe tbody tr th {\n",
              "        vertical-align: top;\n",
              "    }\n",
              "\n",
              "    .dataframe thead th {\n",
              "        text-align: right;\n",
              "    }\n",
              "</style>\n",
              "<table border=\"1\" class=\"dataframe\">\n",
              "  <thead>\n",
              "    <tr style=\"text-align: right;\">\n",
              "      <th></th>\n",
              "      <th>price</th>\n",
              "    </tr>\n",
              "  </thead>\n",
              "  <tbody>\n",
              "    <tr>\n",
              "      <th>0</th>\n",
              "      <td>4.932820e+05</td>\n",
              "    </tr>\n",
              "    <tr>\n",
              "      <th>1</th>\n",
              "      <td>2.580260e+06</td>\n",
              "    </tr>\n",
              "    <tr>\n",
              "      <th>2</th>\n",
              "      <td>6.659696e+05</td>\n",
              "    </tr>\n",
              "    <tr>\n",
              "      <th>3</th>\n",
              "      <td>5.034076e+05</td>\n",
              "    </tr>\n",
              "    <tr>\n",
              "      <th>4</th>\n",
              "      <td>2.727043e+06</td>\n",
              "    </tr>\n",
              "    <tr>\n",
              "      <th>5</th>\n",
              "      <td>3.046926e+06</td>\n",
              "    </tr>\n",
              "    <tr>\n",
              "      <th>6</th>\n",
              "      <td>1.614375e+06</td>\n",
              "    </tr>\n",
              "    <tr>\n",
              "      <th>7</th>\n",
              "      <td>1.532765e+06</td>\n",
              "    </tr>\n",
              "    <tr>\n",
              "      <th>8</th>\n",
              "      <td>1.096277e+06</td>\n",
              "    </tr>\n",
              "    <tr>\n",
              "      <th>9</th>\n",
              "      <td>5.048557e+05</td>\n",
              "    </tr>\n",
              "  </tbody>\n",
              "</table>\n",
              "</div>"
            ],
            "text/plain": [
              "          price\n",
              "0  4.932820e+05\n",
              "1  2.580260e+06\n",
              "2  6.659696e+05\n",
              "3  5.034076e+05\n",
              "4  2.727043e+06\n",
              "5  3.046926e+06\n",
              "6  1.614375e+06\n",
              "7  1.532765e+06\n",
              "8  1.096277e+06\n",
              "9  5.048557e+05"
            ]
          },
          "metadata": {
            "tags": []
          }
        }
      ]
    },
    {
      "cell_type": "markdown",
      "metadata": {
        "id": "ooLN-8lrpOPk"
      },
      "source": [
        "# BLEND"
      ]
    },
    {
      "cell_type": "code",
      "metadata": {
        "colab": {
          "base_uri": "https://localhost:8080/"
        },
        "id": "EFHODZ0opPBD",
        "outputId": "27d8b198-085a-4cb3-bd94-c0849e04a770"
      },
      "source": [
        "test_blend_predict = (test_predict_cat + test_predict_nn[:,0]) / 2"
      ],
      "execution_count": 32,
      "outputs": [
        {
          "output_type": "stream",
          "text": [
            "TEST mape: 10.30%\n"
          ],
          "name": "stdout"
        }
      ]
    },
    {
      "cell_type": "code",
      "metadata": {
        "colab": {
          "base_uri": "https://localhost:8080/",
          "height": 359
        },
        "id": "SK9PmT0ipb9s",
        "outputId": "837979f5-7a5d-4710-e734-600384535448"
      },
      "source": [
        "sample_submission_blend = pd.DataFrame(columns=['sell_id','price'])\n",
        "sample_submission_blend[['sell_id','price']] = sample_submission[['sell_id','price']]\n",
        "blend_predict = (ml_predict + nn_predict[:,0]) / 2\n",
        "sample_submission_blend['price'] = blend_predict\n",
        "sample_submission_blend.to_csv(DATA_PATH+f'/sub_blend.csv', index=False)\n",
        "sample_submission_blend.head(10)"
      ],
      "execution_count": 38,
      "outputs": [
        {
          "output_type": "execute_result",
          "data": {
            "text/html": [
              "<div>\n",
              "<style scoped>\n",
              "    .dataframe tbody tr th:only-of-type {\n",
              "        vertical-align: middle;\n",
              "    }\n",
              "\n",
              "    .dataframe tbody tr th {\n",
              "        vertical-align: top;\n",
              "    }\n",
              "\n",
              "    .dataframe thead th {\n",
              "        text-align: right;\n",
              "    }\n",
              "</style>\n",
              "<table border=\"1\" class=\"dataframe\">\n",
              "  <thead>\n",
              "    <tr style=\"text-align: right;\">\n",
              "      <th></th>\n",
              "      <th>sell_id</th>\n",
              "      <th>price</th>\n",
              "    </tr>\n",
              "  </thead>\n",
              "  <tbody>\n",
              "    <tr>\n",
              "      <th>0</th>\n",
              "      <td>1099427284</td>\n",
              "      <td>5.342236e+05</td>\n",
              "    </tr>\n",
              "    <tr>\n",
              "      <th>1</th>\n",
              "      <td>1096405886</td>\n",
              "      <td>2.593386e+06</td>\n",
              "    </tr>\n",
              "    <tr>\n",
              "      <th>2</th>\n",
              "      <td>1100195294</td>\n",
              "      <td>6.573640e+05</td>\n",
              "    </tr>\n",
              "    <tr>\n",
              "      <th>3</th>\n",
              "      <td>1099827282</td>\n",
              "      <td>4.886620e+05</td>\n",
              "    </tr>\n",
              "    <tr>\n",
              "      <th>4</th>\n",
              "      <td>1100076198</td>\n",
              "      <td>2.687931e+06</td>\n",
              "    </tr>\n",
              "    <tr>\n",
              "      <th>5</th>\n",
              "      <td>1090159352</td>\n",
              "      <td>3.086614e+06</td>\n",
              "    </tr>\n",
              "    <tr>\n",
              "      <th>6</th>\n",
              "      <td>1098987386</td>\n",
              "      <td>1.604327e+06</td>\n",
              "    </tr>\n",
              "    <tr>\n",
              "      <th>7</th>\n",
              "      <td>1098639040</td>\n",
              "      <td>1.346735e+06</td>\n",
              "    </tr>\n",
              "    <tr>\n",
              "      <th>8</th>\n",
              "      <td>1099933039</td>\n",
              "      <td>1.082179e+06</td>\n",
              "    </tr>\n",
              "    <tr>\n",
              "      <th>9</th>\n",
              "      <td>1099565572</td>\n",
              "      <td>5.029914e+05</td>\n",
              "    </tr>\n",
              "  </tbody>\n",
              "</table>\n",
              "</div>"
            ],
            "text/plain": [
              "      sell_id         price\n",
              "0  1099427284  5.342236e+05\n",
              "1  1096405886  2.593386e+06\n",
              "2  1100195294  6.573640e+05\n",
              "3  1099827282  4.886620e+05\n",
              "4  1100076198  2.687931e+06\n",
              "5  1090159352  3.086614e+06\n",
              "6  1098987386  1.604327e+06\n",
              "7  1098639040  1.346735e+06\n",
              "8  1099933039  1.082179e+06\n",
              "9  1099565572  5.029914e+05"
            ]
          },
          "metadata": {
            "tags": []
          },
          "execution_count": 38
        }
      ]
    },
    {
      "cell_type": "markdown",
      "metadata": {
        "id": "SO4a3MgGr1x9"
      },
      "source": [
        "# CROSS VALIDATION"
      ]
    },
    {
      "cell_type": "markdown",
      "metadata": {
        "id": "R8gPBav1r3pd"
      },
      "source": [
        "## ML"
      ]
    },
    {
      "cell_type": "code",
      "metadata": {
        "id": "EaibgCN0soSa"
      },
      "source": [
        "train = pd.read_csv(DATA_PATH+'/clear_train.csv')\n",
        "test = pd.read_csv(DATA_PATH+'/clear_test.csv')\n",
        "train.num_of_doors = train.num_of_doors.astype(str)\n",
        "test.num_of_doors = test.num_of_doors.astype(str)"
      ],
      "execution_count": 43,
      "outputs": []
    },
    {
      "cell_type": "markdown",
      "metadata": {
        "id": "9ArkhAq1soSb"
      },
      "source": [
        "### PREPARING"
      ]
    },
    {
      "cell_type": "code",
      "metadata": {
        "colab": {
          "base_uri": "https://localhost:8080/"
        },
        "id": "QlyGHcuTsoSb",
        "outputId": "fa9acd63-3931-476a-9e2b-3fa6fc316418"
      },
      "source": [
        "df = pd.concat([train, test])\n",
        "\n",
        "df.price.fillna(0, inplace=True)\n",
        "df['sample'] = df.price.apply(lambda x:0 if x == 0 else 1)\n",
        "\n",
        "def data_prep(df):\n",
        "\n",
        "  categorical_features = ['body', 'brand', 'color', 'fuel', 'model_info', 'name',  'num_of_doors',  'transmission', 'owners', 'vehicle_title', 'drive_type']\n",
        "  numerical_features = ['engine_displacement', 'engine_power', 'mileage', 'model_date', 'production_date', 'tax', 'days_in_use']\n",
        "\n",
        "  # ############################### Normalization ######################################\n",
        "  MMS = MinMaxScaler()\n",
        "\n",
        "  MMS.fit(df[numerical_features])\n",
        "  df[numerical_features] = MMS.transform(df[numerical_features])\n",
        "\n",
        "  return df, categorical_features \n",
        "\n",
        "df, cat_features = data_prep(df)\n",
        "df.shape"
      ],
      "execution_count": 44,
      "outputs": [
        {
          "output_type": "execute_result",
          "data": {
            "text/plain": [
              "(8353, 22)"
            ]
          },
          "metadata": {
            "tags": []
          },
          "execution_count": 44
        }
      ]
    },
    {
      "cell_type": "markdown",
      "metadata": {
        "id": "n0dKldxUsoSe"
      },
      "source": [
        "### SPLIT"
      ]
    },
    {
      "cell_type": "code",
      "metadata": {
        "id": "26N0WbrysoSe"
      },
      "source": [
        "X = df.query('sample==1').drop(columns=['description', 'price', 'sample', 'sell_id'])\n",
        "y = df.query('sample==1').price.values\n",
        "test = df.query('sample==0').drop(columns=['description', 'price', 'sample', 'sell_id'])\n",
        "\n",
        "# ############ Split #################\n",
        "X_train, X_test, y_train, y_test = train_test_split(X,y, test_size=0.1, shuffle=True, random_state=RANDOM_SEED)\n",
        "\n",
        "train_data = Pool(data = X_train,\n",
        "                  label = y_train,\n",
        "                  cat_features =  cat_features)\n",
        "\n",
        "test_data = Pool(data = X_test,\n",
        "                 label = y_test,\n",
        "                  cat_features =  cat_features)"
      ],
      "execution_count": 45,
      "outputs": []
    },
    {
      "cell_type": "markdown",
      "metadata": {
        "id": "ABSDw3AHtjR-"
      },
      "source": [
        "### MODEL"
      ]
    },
    {
      "cell_type": "code",
      "metadata": {
        "id": "c_R9pn3JsAbP"
      },
      "source": [
        "def cat_model(y_train, X_train, X_test, y_test):\n",
        "    model = CatBoostRegressor( loss_function = 'MAE',\n",
        "                         eval_metric = 'MAPE',\n",
        "                         learning_rate=0.002,\n",
        "                         iterations=30000, # обучаем до overfitting'a\n",
        "                         l2_leaf_reg=2,\n",
        "                         depth=5,\n",
        "                         bootstrap_type = 'Bernoulli', # Bayesian Bernoulli\n",
        "                         one_hot_max_size = 360,\n",
        "                         random_seed=RANDOM_SEED,\n",
        "                         od_type='Iter',\n",
        "                         od_wait=500,\n",
        "                         task_type='CPU')\n",
        "\n",
        "    model.fit(X_train, y_train,\n",
        "              cat_features = cat_features,\n",
        "              eval_set=(X_test, y_test),\n",
        "              verbose_eval=False,\n",
        "              use_best_model=True,\n",
        "              plot=False)\n",
        "    \n",
        "    return(model)"
      ],
      "execution_count": 46,
      "outputs": []
    },
    {
      "cell_type": "code",
      "metadata": {
        "colab": {
          "base_uri": "https://localhost:8080/",
          "height": 304,
          "referenced_widgets": [
            "e697ac49cf1d4fc6a39d423b753d57c5",
            "6d2bb52cff9b4dbd84765be777265aa5",
            "bd15970ea8f44fb89e01b28b03d240c9",
            "c9f690662e6148c3b67d44bd5032f6af",
            "034e5438745c454d81b9d1b69a87148f",
            "5ee6727880014829aa5a9b20da88d2e4",
            "f602fb52c94f45288d9ff6b603367aef",
            "4228e2df45804e35a67b9f015b93731f"
          ]
        },
        "id": "B0NMemiZsE8l",
        "outputId": "ec18ee32-8cec-4c48-c367-74b778040015"
      },
      "source": [
        "cv_submissions = pd.DataFrame(0,columns=[\"sub_1\"], index=sample_submission.index)\n",
        "score_ls = []\n",
        "splits = list(KFold(n_splits=10, shuffle=True, random_state=RANDOM_SEED).split(X, y))\n",
        "\n",
        "for idx, (train_idx, test_idx) in tqdm(enumerate(splits), total=10,):\n",
        "\n",
        "    X_train, y_train, X_test, y_test = X.iloc[train_idx], y[train_idx], X.iloc[test_idx], y[test_idx]\n",
        "\n",
        "    model = cat_model(y_train, X_train, X_test, y_test,)\n",
        "\n",
        "    test_predict_cat_cv = model.predict(X_test)\n",
        "    test_score = mape(y_test, test_predict_cat_cv)\n",
        "    score_ls.append(test_score)\n",
        "    print(f\"{idx+1} Fold Test MAPE: {mape(y_test, test_predict_cat_cv):0.3f}\")\n",
        "\n",
        "    cv_submissions[f'sub_{idx+1}'] = model.predict(predict_data)\n",
        "    model.save_model(f'catboost_fold_{idx+1}.model')\n",
        "    \n",
        "print(f'Mean Score: {np.mean(score_ls):0.3f}')\n",
        "print(f'Std Score: {np.std(score_ls):0.4f}')\n",
        "print(f'Max Score: {np.max(score_ls):0.3f}')\n",
        "print(f'Min Score: {np.min(score_ls):0.3f}')"
      ],
      "execution_count": 47,
      "outputs": [
        {
          "output_type": "display_data",
          "data": {
            "application/vnd.jupyter.widget-view+json": {
              "model_id": "e697ac49cf1d4fc6a39d423b753d57c5",
              "version_minor": 0,
              "version_major": 2
            },
            "text/plain": [
              "HBox(children=(FloatProgress(value=0.0, max=10.0), HTML(value='')))"
            ]
          },
          "metadata": {
            "tags": []
          }
        },
        {
          "output_type": "stream",
          "text": [
            "1 Fold Test MAPE: 0.110\n",
            "2 Fold Test MAPE: 0.116\n",
            "3 Fold Test MAPE: 0.121\n",
            "4 Fold Test MAPE: 0.111\n",
            "5 Fold Test MAPE: 0.114\n",
            "6 Fold Test MAPE: 0.115\n",
            "7 Fold Test MAPE: 0.115\n",
            "8 Fold Test MAPE: 0.123\n",
            "9 Fold Test MAPE: 0.117\n",
            "10 Fold Test MAPE: 0.112\n",
            "\n",
            "Mean Score: 0.115\n",
            "Std Score: 0.0039\n",
            "Max Score: 0.123\n",
            "Min Score: 0.110\n"
          ],
          "name": "stdout"
        }
      ]
    },
    {
      "cell_type": "code",
      "metadata": {
        "colab": {
          "base_uri": "https://localhost:8080/",
          "height": 359
        },
        "id": "I-6UZU7etxfJ",
        "outputId": "7c2e7c01-f1bb-4de8-a429-947cdbe16f49"
      },
      "source": [
        "ml_cv_submission = pd.DataFrame(columns=['sell_id','price'])\n",
        "ml_cv_submission[['sell_id','price']] = sample_submission[['sell_id','price']]\n",
        "ml_cv_submission['price'] = (cv_submissions.sum(axis=1)/len(cv_submissions.columns))\n",
        "display(ml_cv_submission.head(10))"
      ],
      "execution_count": 48,
      "outputs": [
        {
          "output_type": "display_data",
          "data": {
            "text/html": [
              "<div>\n",
              "<style scoped>\n",
              "    .dataframe tbody tr th:only-of-type {\n",
              "        vertical-align: middle;\n",
              "    }\n",
              "\n",
              "    .dataframe tbody tr th {\n",
              "        vertical-align: top;\n",
              "    }\n",
              "\n",
              "    .dataframe thead th {\n",
              "        text-align: right;\n",
              "    }\n",
              "</style>\n",
              "<table border=\"1\" class=\"dataframe\">\n",
              "  <thead>\n",
              "    <tr style=\"text-align: right;\">\n",
              "      <th></th>\n",
              "      <th>sell_id</th>\n",
              "      <th>price</th>\n",
              "    </tr>\n",
              "  </thead>\n",
              "  <tbody>\n",
              "    <tr>\n",
              "      <th>0</th>\n",
              "      <td>1099427284</td>\n",
              "      <td>6.168143e+05</td>\n",
              "    </tr>\n",
              "    <tr>\n",
              "      <th>1</th>\n",
              "      <td>1096405886</td>\n",
              "      <td>2.649476e+06</td>\n",
              "    </tr>\n",
              "    <tr>\n",
              "      <th>2</th>\n",
              "      <td>1100195294</td>\n",
              "      <td>6.467175e+05</td>\n",
              "    </tr>\n",
              "    <tr>\n",
              "      <th>3</th>\n",
              "      <td>1099827282</td>\n",
              "      <td>4.779328e+05</td>\n",
              "    </tr>\n",
              "    <tr>\n",
              "      <th>4</th>\n",
              "      <td>1100076198</td>\n",
              "      <td>2.654055e+06</td>\n",
              "    </tr>\n",
              "    <tr>\n",
              "      <th>5</th>\n",
              "      <td>1090159352</td>\n",
              "      <td>3.174359e+06</td>\n",
              "    </tr>\n",
              "    <tr>\n",
              "      <th>6</th>\n",
              "      <td>1098987386</td>\n",
              "      <td>1.581870e+06</td>\n",
              "    </tr>\n",
              "    <tr>\n",
              "      <th>7</th>\n",
              "      <td>1098639040</td>\n",
              "      <td>1.160119e+06</td>\n",
              "    </tr>\n",
              "    <tr>\n",
              "      <th>8</th>\n",
              "      <td>1099933039</td>\n",
              "      <td>1.073847e+06</td>\n",
              "    </tr>\n",
              "    <tr>\n",
              "      <th>9</th>\n",
              "      <td>1099565572</td>\n",
              "      <td>5.133416e+05</td>\n",
              "    </tr>\n",
              "  </tbody>\n",
              "</table>\n",
              "</div>"
            ],
            "text/plain": [
              "      sell_id         price\n",
              "0  1099427284  6.168143e+05\n",
              "1  1096405886  2.649476e+06\n",
              "2  1100195294  6.467175e+05\n",
              "3  1099827282  4.779328e+05\n",
              "4  1100076198  2.654055e+06\n",
              "5  1090159352  3.174359e+06\n",
              "6  1098987386  1.581870e+06\n",
              "7  1098639040  1.160119e+06\n",
              "8  1099933039  1.073847e+06\n",
              "9  1099565572  5.133416e+05"
            ]
          },
          "metadata": {
            "tags": []
          }
        }
      ]
    },
    {
      "cell_type": "markdown",
      "metadata": {
        "id": "XiXQ6_wkuJw3"
      },
      "source": [
        "## NN"
      ]
    },
    {
      "cell_type": "markdown",
      "metadata": {
        "id": "yKMPH_aZuKqu"
      },
      "source": [
        "### PREPARING"
      ]
    },
    {
      "cell_type": "code",
      "metadata": {
        "id": "lYzeaVXhvwwN"
      },
      "source": [
        "train = pd.read_csv(DATA_PATH+'/clear_train.csv')\n",
        "test = pd.read_csv(DATA_PATH+'/clear_test.csv')"
      ],
      "execution_count": 50,
      "outputs": []
    },
    {
      "cell_type": "code",
      "metadata": {
        "id": "bRcNN3mov20-"
      },
      "source": [
        "df = pd.concat([train, test])"
      ],
      "execution_count": 51,
      "outputs": []
    },
    {
      "cell_type": "code",
      "metadata": {
        "colab": {
          "base_uri": "https://localhost:8080/"
        },
        "id": "dan6P5owv4Ty",
        "outputId": "cf24a7f6-ffc9-4bb7-a415-27c051608379"
      },
      "source": [
        "df.price.fillna(0, inplace=True)\n",
        "df['sample'] = df.price.apply(lambda x:0 if x == 0 else 1)\n",
        "\n",
        "# ##################### Логорифмируем ######################\n",
        "df.engine_displacement = df.engine_displacement.max() - np.log(df.engine_displacement)\n",
        "df.engine_power = df.engine_power.max() - np.log(df.engine_power)\n",
        "\n",
        "def data_prep(df):\n",
        "\n",
        "  categorical_features = ['body', 'brand', 'color', 'fuel', 'model_info', 'name',  'num_of_doors',  'transmission', 'owners', 'vehicle_title', 'drive_type']\n",
        "  numerical_features = ['engine_displacement', 'engine_power', 'mileage', 'model_date', 'production_date', 'tax', 'days_in_use']\n",
        "\n",
        "  # ############################## Label Encoding #####################################\n",
        "  for column in categorical_features:\n",
        "      df[column] = df[column].astype('category').cat.codes\n",
        "  \n",
        "  # ############################### One Hot encoding ###################################\n",
        "  df = pd.get_dummies(df, columns=categorical_features, dummy_na=False)\n",
        "\n",
        "  # ############################### Normalization ######################################\n",
        "  MMS = MinMaxScaler()\n",
        "\n",
        "  MMS.fit(df[numerical_features])\n",
        "  df[numerical_features] = MMS.transform(df[numerical_features])\n",
        "\n",
        "  return df\n",
        "\n",
        "df = data_prep(df)\n",
        "df.shape"
      ],
      "execution_count": 52,
      "outputs": [
        {
          "output_type": "execute_result",
          "data": {
            "text/plain": [
              "(8353, 546)"
            ]
          },
          "metadata": {
            "tags": []
          },
          "execution_count": 52
        }
      ]
    },
    {
      "cell_type": "markdown",
      "metadata": {
        "id": "PQM3iwP6wApp"
      },
      "source": [
        "### SPLIT"
      ]
    },
    {
      "cell_type": "code",
      "metadata": {
        "id": "gqR7OfAMwB-M"
      },
      "source": [
        "X = df.query('sample==1').drop(columns=['description', 'price', 'sample', 'sell_id'])\n",
        "y = df.query('sample==1').price.values\n",
        "test = df.query('sample==0').drop(columns=['description', 'price', 'sample', 'sell_id'])\n",
        "\n",
        "# ############ Split #################\n",
        "X_train, X_test, y_train, y_test = train_test_split(X,y, test_size=0.1, shuffle=True, random_state=RANDOM_SEED)"
      ],
      "execution_count": 53,
      "outputs": []
    },
    {
      "cell_type": "markdown",
      "metadata": {
        "id": "Imq0-LdxwHqj"
      },
      "source": [
        "### MODEL"
      ]
    },
    {
      "cell_type": "code",
      "metadata": {
        "colab": {
          "base_uri": "https://localhost:8080/",
          "height": 304,
          "referenced_widgets": [
            "086b48e133694d5fa42e61fe0f259c60",
            "e7f721809cf443f387eaae0ded3f69ef",
            "c0510491a1014207be0811f73f109149",
            "f2b5f326c4df44c3bf627c26df0e13f6",
            "1b2489698903487aaf08f922c5b5cfde",
            "bf719efe6f4b41969652d497aaafd7c6",
            "02787ce53333440bbcd62b37219a0139",
            "2d8d6e3bf8ad4bffa8dcb2bc7c72e55b"
          ]
        },
        "id": "9DvHhPqdwIYu",
        "outputId": "abd054e3-2b57-4ec8-b623-0d123b109644"
      },
      "source": [
        "cv_submissions = pd.DataFrame(0,columns=[\"sub_1\"], index=sample_submission.index) \n",
        "score_ls = []\n",
        "splits = list(KFold(n_splits=10, shuffle=True, random_state=RANDOM_SEED).split(X, y))\n",
        "\n",
        "def simple_nn_model_cv(X_train, y_train, X_test, y_test):\n",
        "\n",
        "  model = Sequential()\n",
        "  model.add(L.Dense(1090, input_dim=X_train.shape[1], activation=\"relu\", name='dense_1090'))\n",
        "  model.add(L.Dropout(0.85))\n",
        "  model.add(L.Dense(545, activation=\"relu\", name='dense_545'))\n",
        "  model.add(L.Dense(1, activation=\"linear\", name='output_dense_1'))\n",
        "\n",
        "  # ######################### Optimizer ##############################\n",
        "  optimizer = tf.keras.optimizers.Adamax(0.1)\n",
        "  model.compile(loss='MAPE',optimizer=optimizer, metrics='MAPE')\n",
        "\n",
        "  # ######################## Checkpoints #############################\n",
        "  checkpoint = ModelCheckpoint(DATA_PATH+'/best_model.hdf5' , monitor='val_MAPE', verbose=0  , mode='min', save_best_only=True)\n",
        "  earlystop = EarlyStopping(monitor='val_MAPE', patience=50, restore_best_weights=True,)\n",
        "  callbacks_list = [checkpoint, earlystop]\n",
        "\n",
        "  # ######################## Fit model ##############################\n",
        "  history = model.fit(X_train, y_train,\n",
        "                    batch_size=512,\n",
        "                    epochs=2000, \n",
        "                    validation_data=(X_test, y_test),\n",
        "                    callbacks=callbacks_list,\n",
        "                    verbose=0\n",
        "                   )\n",
        "  \n",
        "  # ######################## Saving best model #####################\n",
        "  model.load_weights(DATA_PATH+'/best_model.hdf5')\n",
        "  model.save(DATA_PATH+'/nn_1.hdf5')\n",
        "\n",
        "  return model\n",
        "\n",
        "for idx, (train_idx, test_idx) in tqdm(enumerate(splits), total=10,):\n",
        "\n",
        "  X_train, y_train, X_test, y_test = X.iloc[train_idx], y[train_idx], X.iloc[test_idx], y[test_idx]\n",
        "\n",
        "  model = simple_nn_model_cv(X_train, y_train, X_test, y_test,)\n",
        "\n",
        "  cv_test_predict_nn = model.predict(X_test)\n",
        "  test_score = mape(y_test, cv_test_predict_nn)\n",
        "  score_ls.append(test_score)\n",
        "  print(f\"{idx+1} Fold TEST mape: {(mape(y_test, cv_test_predict_nn[:,0]))*100:0.2f}%\")\n",
        "\n",
        "  cv_submissions[f'sub_{idx+1}'] = model.predict(test)\n",
        "\n",
        "print(f'Mean Score: {np.mean(score_ls):0.3f}')\n",
        "print(f'Std Score: {np.std(score_ls):0.4f}')\n",
        "print(f'Max Score: {np.max(score_ls):0.3f}')\n",
        "print(f'Min Score: {np.min(score_ls):0.3f}')"
      ],
      "execution_count": 55,
      "outputs": [
        {
          "output_type": "display_data",
          "data": {
            "application/vnd.jupyter.widget-view+json": {
              "model_id": "086b48e133694d5fa42e61fe0f259c60",
              "version_minor": 0,
              "version_major": 2
            },
            "text/plain": [
              "HBox(children=(FloatProgress(value=0.0, max=10.0), HTML(value='')))"
            ]
          },
          "metadata": {
            "tags": []
          }
        },
        {
          "output_type": "stream",
          "text": [
            "1 Fold TEST mape: 10.92%\n",
            "2 Fold TEST mape: 12.33%\n",
            "3 Fold TEST mape: 11.46%\n",
            "4 Fold TEST mape: 11.63%\n",
            "5 Fold TEST mape: 11.49%\n",
            "6 Fold TEST mape: 11.35%\n",
            "7 Fold TEST mape: 10.83%\n",
            "8 Fold TEST mape: 11.66%\n",
            "9 Fold TEST mape: 11.83%\n",
            "10 Fold TEST mape: 11.99%\n",
            "\n",
            "Mean Score: 1.144\n",
            "Std Score: 0.0569\n",
            "Max Score: 1.224\n",
            "Min Score: 1.042\n"
          ],
          "name": "stdout"
        }
      ]
    },
    {
      "cell_type": "code",
      "metadata": {
        "colab": {
          "base_uri": "https://localhost:8080/",
          "height": 359
        },
        "id": "X7UUxfh_ws2p",
        "outputId": "65ccb898-5ad3-4eaf-bb66-86aed3ce1da1"
      },
      "source": [
        "nn_cv_submission = pd.DataFrame(columns=['sell_id','price'])\n",
        "nn_cv_submission[['sell_id','price']] = sample_submission[['sell_id','price']]\n",
        "nn_cv_submission['price'] = (cv_submissions.sum(axis=1)/len(cv_submissions.columns))\n",
        "display(nn_cv_submission.head(10))"
      ],
      "execution_count": 56,
      "outputs": [
        {
          "output_type": "display_data",
          "data": {
            "text/html": [
              "<div>\n",
              "<style scoped>\n",
              "    .dataframe tbody tr th:only-of-type {\n",
              "        vertical-align: middle;\n",
              "    }\n",
              "\n",
              "    .dataframe tbody tr th {\n",
              "        vertical-align: top;\n",
              "    }\n",
              "\n",
              "    .dataframe thead th {\n",
              "        text-align: right;\n",
              "    }\n",
              "</style>\n",
              "<table border=\"1\" class=\"dataframe\">\n",
              "  <thead>\n",
              "    <tr style=\"text-align: right;\">\n",
              "      <th></th>\n",
              "      <th>sell_id</th>\n",
              "      <th>price</th>\n",
              "    </tr>\n",
              "  </thead>\n",
              "  <tbody>\n",
              "    <tr>\n",
              "      <th>0</th>\n",
              "      <td>1099427284</td>\n",
              "      <td>4.854671e+05</td>\n",
              "    </tr>\n",
              "    <tr>\n",
              "      <th>1</th>\n",
              "      <td>1096405886</td>\n",
              "      <td>2.639290e+06</td>\n",
              "    </tr>\n",
              "    <tr>\n",
              "      <th>2</th>\n",
              "      <td>1100195294</td>\n",
              "      <td>6.331941e+05</td>\n",
              "    </tr>\n",
              "    <tr>\n",
              "      <th>3</th>\n",
              "      <td>1099827282</td>\n",
              "      <td>4.918398e+05</td>\n",
              "    </tr>\n",
              "    <tr>\n",
              "      <th>4</th>\n",
              "      <td>1100076198</td>\n",
              "      <td>2.717684e+06</td>\n",
              "    </tr>\n",
              "    <tr>\n",
              "      <th>5</th>\n",
              "      <td>1090159352</td>\n",
              "      <td>3.117681e+06</td>\n",
              "    </tr>\n",
              "    <tr>\n",
              "      <th>6</th>\n",
              "      <td>1098987386</td>\n",
              "      <td>1.624375e+06</td>\n",
              "    </tr>\n",
              "    <tr>\n",
              "      <th>7</th>\n",
              "      <td>1098639040</td>\n",
              "      <td>1.544044e+06</td>\n",
              "    </tr>\n",
              "    <tr>\n",
              "      <th>8</th>\n",
              "      <td>1099933039</td>\n",
              "      <td>1.085622e+06</td>\n",
              "    </tr>\n",
              "    <tr>\n",
              "      <th>9</th>\n",
              "      <td>1099565572</td>\n",
              "      <td>5.187512e+05</td>\n",
              "    </tr>\n",
              "  </tbody>\n",
              "</table>\n",
              "</div>"
            ],
            "text/plain": [
              "      sell_id         price\n",
              "0  1099427284  4.854671e+05\n",
              "1  1096405886  2.639290e+06\n",
              "2  1100195294  6.331941e+05\n",
              "3  1099827282  4.918398e+05\n",
              "4  1100076198  2.717684e+06\n",
              "5  1090159352  3.117681e+06\n",
              "6  1098987386  1.624375e+06\n",
              "7  1098639040  1.544044e+06\n",
              "8  1099933039  1.085622e+06\n",
              "9  1099565572  5.187512e+05"
            ]
          },
          "metadata": {
            "tags": []
          }
        }
      ]
    },
    {
      "cell_type": "markdown",
      "metadata": {
        "id": "dDmC57LRwxZy"
      },
      "source": [
        "# BLED CV"
      ]
    },
    {
      "cell_type": "code",
      "metadata": {
        "colab": {
          "base_uri": "https://localhost:8080/",
          "height": 359
        },
        "id": "Art8AH9xwzen",
        "outputId": "83c60cf1-7331-4686-ccdc-63c0d2b5b81f"
      },
      "source": [
        "cv_submission_blend = pd.DataFrame(columns=['sell_id','price'])\n",
        "cv_submission_blend[['sell_id','price']] = sample_submission[['sell_id','price']]\n",
        "cv_blend_predict = (ml_cv_submission['price'] + nn_cv_submission['price']) / 2\n",
        "cv_submission_blend['price'] = cv_blend_predict\n",
        "cv_submission_blend.to_csv(DATA_PATH+f'/sub_blend_cv.csv', index=False)\n",
        "cv_submission_blend.head(10)"
      ],
      "execution_count": 57,
      "outputs": [
        {
          "output_type": "execute_result",
          "data": {
            "text/html": [
              "<div>\n",
              "<style scoped>\n",
              "    .dataframe tbody tr th:only-of-type {\n",
              "        vertical-align: middle;\n",
              "    }\n",
              "\n",
              "    .dataframe tbody tr th {\n",
              "        vertical-align: top;\n",
              "    }\n",
              "\n",
              "    .dataframe thead th {\n",
              "        text-align: right;\n",
              "    }\n",
              "</style>\n",
              "<table border=\"1\" class=\"dataframe\">\n",
              "  <thead>\n",
              "    <tr style=\"text-align: right;\">\n",
              "      <th></th>\n",
              "      <th>sell_id</th>\n",
              "      <th>price</th>\n",
              "    </tr>\n",
              "  </thead>\n",
              "  <tbody>\n",
              "    <tr>\n",
              "      <th>0</th>\n",
              "      <td>1099427284</td>\n",
              "      <td>5.511407e+05</td>\n",
              "    </tr>\n",
              "    <tr>\n",
              "      <th>1</th>\n",
              "      <td>1096405886</td>\n",
              "      <td>2.644383e+06</td>\n",
              "    </tr>\n",
              "    <tr>\n",
              "      <th>2</th>\n",
              "      <td>1100195294</td>\n",
              "      <td>6.399558e+05</td>\n",
              "    </tr>\n",
              "    <tr>\n",
              "      <th>3</th>\n",
              "      <td>1099827282</td>\n",
              "      <td>4.848863e+05</td>\n",
              "    </tr>\n",
              "    <tr>\n",
              "      <th>4</th>\n",
              "      <td>1100076198</td>\n",
              "      <td>2.685870e+06</td>\n",
              "    </tr>\n",
              "    <tr>\n",
              "      <th>5</th>\n",
              "      <td>1090159352</td>\n",
              "      <td>3.146020e+06</td>\n",
              "    </tr>\n",
              "    <tr>\n",
              "      <th>6</th>\n",
              "      <td>1098987386</td>\n",
              "      <td>1.603122e+06</td>\n",
              "    </tr>\n",
              "    <tr>\n",
              "      <th>7</th>\n",
              "      <td>1098639040</td>\n",
              "      <td>1.352082e+06</td>\n",
              "    </tr>\n",
              "    <tr>\n",
              "      <th>8</th>\n",
              "      <td>1099933039</td>\n",
              "      <td>1.079735e+06</td>\n",
              "    </tr>\n",
              "    <tr>\n",
              "      <th>9</th>\n",
              "      <td>1099565572</td>\n",
              "      <td>5.160464e+05</td>\n",
              "    </tr>\n",
              "  </tbody>\n",
              "</table>\n",
              "</div>"
            ],
            "text/plain": [
              "      sell_id         price\n",
              "0  1099427284  5.511407e+05\n",
              "1  1096405886  2.644383e+06\n",
              "2  1100195294  6.399558e+05\n",
              "3  1099827282  4.848863e+05\n",
              "4  1100076198  2.685870e+06\n",
              "5  1090159352  3.146020e+06\n",
              "6  1098987386  1.603122e+06\n",
              "7  1098639040  1.352082e+06\n",
              "8  1099933039  1.079735e+06\n",
              "9  1099565572  5.160464e+05"
            ]
          },
          "metadata": {
            "tags": []
          },
          "execution_count": 57
        }
      ]
    }
  ]
}