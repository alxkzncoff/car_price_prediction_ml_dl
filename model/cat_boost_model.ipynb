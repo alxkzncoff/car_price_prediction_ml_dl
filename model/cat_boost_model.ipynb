{
  "nbformat": 4,
  "nbformat_minor": 0,
  "metadata": {
    "colab": {
      "name": "cat_boost_model.ipynb",
      "provenance": [],
      "collapsed_sections": [],
      "toc_visible": true,
      "mount_file_id": "1lYyGvcdQ3fsuyX6NJPUBfXiyGhn_Lh18",
      "authorship_tag": "ABX9TyO/kI/7ABytscYY/I+9ag3K",
      "include_colab_link": true
    },
    "kernelspec": {
      "name": "python3",
      "display_name": "Python 3"
    },
    "widgets": {
      "application/vnd.jupyter.widget-state+json": {
        "fc489852cd5b445a897d69c89bb19c32": {
          "model_module": "@jupyter-widgets/controls",
          "model_name": "HBoxModel",
          "state": {
            "_view_name": "HBoxView",
            "_dom_classes": [],
            "_model_name": "HBoxModel",
            "_view_module": "@jupyter-widgets/controls",
            "_model_module_version": "1.5.0",
            "_view_count": null,
            "_view_module_version": "1.5.0",
            "box_style": "",
            "layout": "IPY_MODEL_9270aceef1b94f348182a4f15d705356",
            "_model_module": "@jupyter-widgets/controls",
            "children": [
              "IPY_MODEL_2c2aca4b9bf34df28a18fa905af4d35d",
              "IPY_MODEL_8916168b29a24471bf51a6036672ae2c"
            ]
          }
        },
        "9270aceef1b94f348182a4f15d705356": {
          "model_module": "@jupyter-widgets/base",
          "model_name": "LayoutModel",
          "state": {
            "_view_name": "LayoutView",
            "grid_template_rows": null,
            "right": null,
            "justify_content": null,
            "_view_module": "@jupyter-widgets/base",
            "overflow": null,
            "_model_module_version": "1.2.0",
            "_view_count": null,
            "flex_flow": null,
            "width": null,
            "min_width": null,
            "border": null,
            "align_items": null,
            "bottom": null,
            "_model_module": "@jupyter-widgets/base",
            "top": null,
            "grid_column": null,
            "overflow_y": null,
            "overflow_x": null,
            "grid_auto_flow": null,
            "grid_area": null,
            "grid_template_columns": null,
            "flex": null,
            "_model_name": "LayoutModel",
            "justify_items": null,
            "grid_row": null,
            "max_height": null,
            "align_content": null,
            "visibility": null,
            "align_self": null,
            "height": null,
            "min_height": null,
            "padding": null,
            "grid_auto_rows": null,
            "grid_gap": null,
            "max_width": null,
            "order": null,
            "_view_module_version": "1.2.0",
            "grid_template_areas": null,
            "object_position": null,
            "object_fit": null,
            "grid_auto_columns": null,
            "margin": null,
            "display": null,
            "left": null
          }
        },
        "2c2aca4b9bf34df28a18fa905af4d35d": {
          "model_module": "@jupyter-widgets/controls",
          "model_name": "FloatProgressModel",
          "state": {
            "_view_name": "ProgressView",
            "style": "IPY_MODEL_8bb19d6e18434083b37e41b29544c440",
            "_dom_classes": [],
            "description": "100%",
            "_model_name": "FloatProgressModel",
            "bar_style": "success",
            "max": 10,
            "_view_module": "@jupyter-widgets/controls",
            "_model_module_version": "1.5.0",
            "value": 10,
            "_view_count": null,
            "_view_module_version": "1.5.0",
            "orientation": "horizontal",
            "min": 0,
            "description_tooltip": null,
            "_model_module": "@jupyter-widgets/controls",
            "layout": "IPY_MODEL_d5db26314201487b8555179b921bdfed"
          }
        },
        "8916168b29a24471bf51a6036672ae2c": {
          "model_module": "@jupyter-widgets/controls",
          "model_name": "HTMLModel",
          "state": {
            "_view_name": "HTMLView",
            "style": "IPY_MODEL_9ebed75b65d243d3867528ef50150d15",
            "_dom_classes": [],
            "description": "",
            "_model_name": "HTMLModel",
            "placeholder": "​",
            "_view_module": "@jupyter-widgets/controls",
            "_model_module_version": "1.5.0",
            "value": " 10/10 [10:47&lt;00:00, 64.75s/it]",
            "_view_count": null,
            "_view_module_version": "1.5.0",
            "description_tooltip": null,
            "_model_module": "@jupyter-widgets/controls",
            "layout": "IPY_MODEL_7f3a8c35ae574129a88f1d1f9e660d4e"
          }
        },
        "8bb19d6e18434083b37e41b29544c440": {
          "model_module": "@jupyter-widgets/controls",
          "model_name": "ProgressStyleModel",
          "state": {
            "_view_name": "StyleView",
            "_model_name": "ProgressStyleModel",
            "description_width": "initial",
            "_view_module": "@jupyter-widgets/base",
            "_model_module_version": "1.5.0",
            "_view_count": null,
            "_view_module_version": "1.2.0",
            "bar_color": null,
            "_model_module": "@jupyter-widgets/controls"
          }
        },
        "d5db26314201487b8555179b921bdfed": {
          "model_module": "@jupyter-widgets/base",
          "model_name": "LayoutModel",
          "state": {
            "_view_name": "LayoutView",
            "grid_template_rows": null,
            "right": null,
            "justify_content": null,
            "_view_module": "@jupyter-widgets/base",
            "overflow": null,
            "_model_module_version": "1.2.0",
            "_view_count": null,
            "flex_flow": null,
            "width": null,
            "min_width": null,
            "border": null,
            "align_items": null,
            "bottom": null,
            "_model_module": "@jupyter-widgets/base",
            "top": null,
            "grid_column": null,
            "overflow_y": null,
            "overflow_x": null,
            "grid_auto_flow": null,
            "grid_area": null,
            "grid_template_columns": null,
            "flex": null,
            "_model_name": "LayoutModel",
            "justify_items": null,
            "grid_row": null,
            "max_height": null,
            "align_content": null,
            "visibility": null,
            "align_self": null,
            "height": null,
            "min_height": null,
            "padding": null,
            "grid_auto_rows": null,
            "grid_gap": null,
            "max_width": null,
            "order": null,
            "_view_module_version": "1.2.0",
            "grid_template_areas": null,
            "object_position": null,
            "object_fit": null,
            "grid_auto_columns": null,
            "margin": null,
            "display": null,
            "left": null
          }
        },
        "9ebed75b65d243d3867528ef50150d15": {
          "model_module": "@jupyter-widgets/controls",
          "model_name": "DescriptionStyleModel",
          "state": {
            "_view_name": "StyleView",
            "_model_name": "DescriptionStyleModel",
            "description_width": "",
            "_view_module": "@jupyter-widgets/base",
            "_model_module_version": "1.5.0",
            "_view_count": null,
            "_view_module_version": "1.2.0",
            "_model_module": "@jupyter-widgets/controls"
          }
        },
        "7f3a8c35ae574129a88f1d1f9e660d4e": {
          "model_module": "@jupyter-widgets/base",
          "model_name": "LayoutModel",
          "state": {
            "_view_name": "LayoutView",
            "grid_template_rows": null,
            "right": null,
            "justify_content": null,
            "_view_module": "@jupyter-widgets/base",
            "overflow": null,
            "_model_module_version": "1.2.0",
            "_view_count": null,
            "flex_flow": null,
            "width": null,
            "min_width": null,
            "border": null,
            "align_items": null,
            "bottom": null,
            "_model_module": "@jupyter-widgets/base",
            "top": null,
            "grid_column": null,
            "overflow_y": null,
            "overflow_x": null,
            "grid_auto_flow": null,
            "grid_area": null,
            "grid_template_columns": null,
            "flex": null,
            "_model_name": "LayoutModel",
            "justify_items": null,
            "grid_row": null,
            "max_height": null,
            "align_content": null,
            "visibility": null,
            "align_self": null,
            "height": null,
            "min_height": null,
            "padding": null,
            "grid_auto_rows": null,
            "grid_gap": null,
            "max_width": null,
            "order": null,
            "_view_module_version": "1.2.0",
            "grid_template_areas": null,
            "object_position": null,
            "object_fit": null,
            "grid_auto_columns": null,
            "margin": null,
            "display": null,
            "left": null
          }
        }
      }
    }
  },
  "cells": [
    {
      "cell_type": "markdown",
      "metadata": {
        "id": "view-in-github",
        "colab_type": "text"
      },
      "source": [
        "<a href=\"https://colab.research.google.com/github/alxkzncoff/skillfactory_rds6_car_price_prediction_ml_dl/blob/main/model/cat_boost_model.ipynb\" target=\"_parent\"><img src=\"https://colab.research.google.com/assets/colab-badge.svg\" alt=\"Open In Colab\"/></a>"
      ]
    },
    {
      "cell_type": "markdown",
      "metadata": {
        "id": "wUbSpoCbK7T5"
      },
      "source": [
        "# INSTALL"
      ]
    },
    {
      "cell_type": "code",
      "metadata": {
        "id": "ekOjS8edK-HA",
        "outputId": "1d36d5fa-f7d5-4de2-c0d3-8917eb10bda3",
        "colab": {
          "base_uri": "https://localhost:8080/"
        }
      },
      "source": [
        "!pip install catboost\n",
        "!pip install PyDrive\n",
        "!mkdir work_dir"
      ],
      "execution_count": 1,
      "outputs": [
        {
          "output_type": "stream",
          "text": [
            "Collecting catboost\n",
            "\u001b[?25l  Downloading https://files.pythonhosted.org/packages/52/39/128fff65072c8327371e3c594f3c826d29c85b21cb6485980353b168e0e4/catboost-0.24.2-cp36-none-manylinux1_x86_64.whl (66.1MB)\n",
            "\u001b[K     |████████████████████████████████| 66.2MB 57kB/s \n",
            "\u001b[?25hRequirement already satisfied: six in /usr/local/lib/python3.6/dist-packages (from catboost) (1.15.0)\n",
            "Requirement already satisfied: scipy in /usr/local/lib/python3.6/dist-packages (from catboost) (1.4.1)\n",
            "Requirement already satisfied: plotly in /usr/local/lib/python3.6/dist-packages (from catboost) (4.4.1)\n",
            "Requirement already satisfied: graphviz in /usr/local/lib/python3.6/dist-packages (from catboost) (0.10.1)\n",
            "Requirement already satisfied: pandas>=0.24.0 in /usr/local/lib/python3.6/dist-packages (from catboost) (1.1.4)\n",
            "Requirement already satisfied: matplotlib in /usr/local/lib/python3.6/dist-packages (from catboost) (3.2.2)\n",
            "Requirement already satisfied: numpy>=1.16.0 in /usr/local/lib/python3.6/dist-packages (from catboost) (1.18.5)\n",
            "Requirement already satisfied: retrying>=1.3.3 in /usr/local/lib/python3.6/dist-packages (from plotly->catboost) (1.3.3)\n",
            "Requirement already satisfied: python-dateutil>=2.7.3 in /usr/local/lib/python3.6/dist-packages (from pandas>=0.24.0->catboost) (2.8.1)\n",
            "Requirement already satisfied: pytz>=2017.2 in /usr/local/lib/python3.6/dist-packages (from pandas>=0.24.0->catboost) (2018.9)\n",
            "Requirement already satisfied: cycler>=0.10 in /usr/local/lib/python3.6/dist-packages (from matplotlib->catboost) (0.10.0)\n",
            "Requirement already satisfied: pyparsing!=2.0.4,!=2.1.2,!=2.1.6,>=2.0.1 in /usr/local/lib/python3.6/dist-packages (from matplotlib->catboost) (2.4.7)\n",
            "Requirement already satisfied: kiwisolver>=1.0.1 in /usr/local/lib/python3.6/dist-packages (from matplotlib->catboost) (1.3.1)\n",
            "Installing collected packages: catboost\n",
            "Successfully installed catboost-0.24.2\n",
            "Requirement already satisfied: PyDrive in /usr/local/lib/python3.6/dist-packages (1.3.1)\n",
            "Requirement already satisfied: google-api-python-client>=1.2 in /usr/local/lib/python3.6/dist-packages (from PyDrive) (1.7.12)\n",
            "Requirement already satisfied: PyYAML>=3.0 in /usr/local/lib/python3.6/dist-packages (from PyDrive) (3.13)\n",
            "Requirement already satisfied: oauth2client>=4.0.0 in /usr/local/lib/python3.6/dist-packages (from PyDrive) (4.1.3)\n",
            "Requirement already satisfied: six<2dev,>=1.6.1 in /usr/local/lib/python3.6/dist-packages (from google-api-python-client>=1.2->PyDrive) (1.15.0)\n",
            "Requirement already satisfied: google-auth-httplib2>=0.0.3 in /usr/local/lib/python3.6/dist-packages (from google-api-python-client>=1.2->PyDrive) (0.0.4)\n",
            "Requirement already satisfied: uritemplate<4dev,>=3.0.0 in /usr/local/lib/python3.6/dist-packages (from google-api-python-client>=1.2->PyDrive) (3.0.1)\n",
            "Requirement already satisfied: google-auth>=1.4.1 in /usr/local/lib/python3.6/dist-packages (from google-api-python-client>=1.2->PyDrive) (1.17.2)\n",
            "Requirement already satisfied: httplib2<1dev,>=0.17.0 in /usr/local/lib/python3.6/dist-packages (from google-api-python-client>=1.2->PyDrive) (0.17.4)\n",
            "Requirement already satisfied: pyasn1-modules>=0.0.5 in /usr/local/lib/python3.6/dist-packages (from oauth2client>=4.0.0->PyDrive) (0.2.8)\n",
            "Requirement already satisfied: rsa>=3.1.4 in /usr/local/lib/python3.6/dist-packages (from oauth2client>=4.0.0->PyDrive) (4.6)\n",
            "Requirement already satisfied: pyasn1>=0.1.7 in /usr/local/lib/python3.6/dist-packages (from oauth2client>=4.0.0->PyDrive) (0.4.8)\n",
            "Requirement already satisfied: cachetools<5.0,>=2.0.0 in /usr/local/lib/python3.6/dist-packages (from google-auth>=1.4.1->google-api-python-client>=1.2->PyDrive) (4.1.1)\n",
            "Requirement already satisfied: setuptools>=40.3.0 in /usr/local/lib/python3.6/dist-packages (from google-auth>=1.4.1->google-api-python-client>=1.2->PyDrive) (50.3.2)\n"
          ],
          "name": "stdout"
        }
      ]
    },
    {
      "cell_type": "markdown",
      "metadata": {
        "id": "Hg5br99zLUvu"
      },
      "source": [
        "# DEFINE"
      ]
    },
    {
      "cell_type": "code",
      "metadata": {
        "id": "xHlFTcEOLWxq"
      },
      "source": [
        "# DEFINE\n",
        "DATA_PATH                   = '/content/work_dir'\n",
        "RANDOM_SEED                 = 42"
      ],
      "execution_count": 9,
      "outputs": []
    },
    {
      "cell_type": "markdown",
      "metadata": {
        "id": "_XJwkl12J4yu"
      },
      "source": [
        "# IMPORT"
      ]
    },
    {
      "cell_type": "code",
      "metadata": {
        "id": "Ur2lQ37YJ_XV"
      },
      "source": [
        "# Data access\n",
        "from pydrive.auth import GoogleAuth\n",
        "from pydrive.drive import GoogleDrive\n",
        "from google.colab import auth\n",
        "from oauth2client.client import GoogleCredentials\n",
        "\n",
        "# General\n",
        "import numpy as np\n",
        "import pandas as pd\n",
        "import matplotlib.pyplot as plt\n",
        "from tqdm.notebook import tqdm\n",
        "\n",
        "pd.set_option('display.max_rows', 200)\n",
        "pd.set_option('display.max_columns', 50)\n",
        "\n",
        "# ML\n",
        "from sklearn.preprocessing import MinMaxScaler\n",
        "from sklearn.preprocessing import StandardScaler\n",
        "\n",
        "from catboost import CatBoostRegressor\n",
        "from catboost import Pool\n",
        "from catboost import cv\n",
        "from sklearn.model_selection import train_test_split\n",
        "from sklearn.model_selection import KFold"
      ],
      "execution_count": 150,
      "outputs": []
    },
    {
      "cell_type": "code",
      "metadata": {
        "id": "4A7HCGMaHgDb"
      },
      "source": [
        "# Authenticate and create the PyDrive client.\n",
        "auth.authenticate_user()\n",
        "gauth = GoogleAuth()\n",
        "gauth.credentials = GoogleCredentials.get_application_default()\n",
        "drive = GoogleDrive(gauth)"
      ],
      "execution_count": 6,
      "outputs": []
    },
    {
      "cell_type": "code",
      "metadata": {
        "id": "ev2PtlKWHgfh"
      },
      "source": [
        "# Download clear_train.csv from google drive to Colab VM.\n",
        "downloaded = drive.CreateFile({'id':\"1-3kiZxEddvuNFoRTfMA6cA8bu7LjP2b3\"}) # откуда берем файл\n",
        "downloaded.GetContentFile(DATA_PATH+'/clear_train.csv') # куда сохраняем файл в вирутальной машине колаба\n",
        "\n",
        "# Download clear_test.csv from google drive to Colab VM.\n",
        "downloaded = drive.CreateFile({'id':\"1-0yG59TcpJoDSeOclid1z-nc1Fh3yud2\"})\n",
        "downloaded.GetContentFile(DATA_PATH+'/clear_test.csv')\n",
        "\n",
        "# Download sample_submission from google drive to Colab VM.\n",
        "downloaded = drive.CreateFile({'id':\"1Edwuioev6uEyeXuCQuloPNQ70V5-3HZG\"})\n",
        "downloaded.GetContentFile(DATA_PATH+'/sample_submission.csv')"
      ],
      "execution_count": 10,
      "outputs": []
    },
    {
      "cell_type": "code",
      "metadata": {
        "id": "IKgN-OAnLJk1"
      },
      "source": [
        "train = pd.read_csv(DATA_PATH+'/clear_train.csv')\n",
        "test = pd.read_csv(DATA_PATH+'/clear_test.csv')\n",
        "sample_submission = pd.read_csv(DATA_PATH+'/sample_submission.csv')"
      ],
      "execution_count": 57,
      "outputs": []
    },
    {
      "cell_type": "code",
      "metadata": {
        "id": "oxKXV8TIO0A3"
      },
      "source": [
        "train.num_of_doors = train.num_of_doors.astype(str)\n",
        "test.num_of_doors = test.num_of_doors.astype(str)"
      ],
      "execution_count": 58,
      "outputs": []
    },
    {
      "cell_type": "code",
      "metadata": {
        "id": "NfXXOOyXO9Ci",
        "outputId": "602480a4-745e-41e2-98ee-3c70456ded9b",
        "colab": {
          "base_uri": "https://localhost:8080/",
          "height": 986
        }
      },
      "source": [
        "display(train.info())\n",
        "display(test.info())"
      ],
      "execution_count": 59,
      "outputs": [
        {
          "output_type": "stream",
          "text": [
            "<class 'pandas.core.frame.DataFrame'>\n",
            "RangeIndex: 6682 entries, 0 to 6681\n",
            "Data columns (total 21 columns):\n",
            " #   Column               Non-Null Count  Dtype  \n",
            "---  ------               --------------  -----  \n",
            " 0   body                 6682 non-null   object \n",
            " 1   brand                6682 non-null   object \n",
            " 2   color                6682 non-null   object \n",
            " 3   description          6682 non-null   object \n",
            " 4   engine_displacement  6682 non-null   float64\n",
            " 5   engine_power         6682 non-null   float64\n",
            " 6   fuel                 6682 non-null   object \n",
            " 7   mileage              6682 non-null   int64  \n",
            " 8   model_date           6682 non-null   int64  \n",
            " 9   model_info           6682 non-null   object \n",
            " 10  name                 6682 non-null   object \n",
            " 11  num_of_doors         6682 non-null   object \n",
            " 12  price                6682 non-null   float64\n",
            " 13  production_date      6682 non-null   int64  \n",
            " 14  sell_id              6682 non-null   int64  \n",
            " 15  transmission         6682 non-null   object \n",
            " 16  owners               6682 non-null   object \n",
            " 17  vehicle_title        6682 non-null   object \n",
            " 18  drive_type           6682 non-null   object \n",
            " 19  tax                  6682 non-null   float64\n",
            " 20  days_in_use          6682 non-null   int64  \n",
            "dtypes: float64(4), int64(5), object(12)\n",
            "memory usage: 1.1+ MB\n"
          ],
          "name": "stdout"
        },
        {
          "output_type": "display_data",
          "data": {
            "text/plain": [
              "None"
            ]
          },
          "metadata": {
            "tags": []
          }
        },
        {
          "output_type": "stream",
          "text": [
            "<class 'pandas.core.frame.DataFrame'>\n",
            "RangeIndex: 1671 entries, 0 to 1670\n",
            "Data columns (total 20 columns):\n",
            " #   Column               Non-Null Count  Dtype  \n",
            "---  ------               --------------  -----  \n",
            " 0   body                 1671 non-null   object \n",
            " 1   brand                1671 non-null   object \n",
            " 2   color                1671 non-null   object \n",
            " 3   description          1671 non-null   object \n",
            " 4   engine_displacement  1671 non-null   float64\n",
            " 5   engine_power         1671 non-null   float64\n",
            " 6   fuel                 1671 non-null   object \n",
            " 7   mileage              1671 non-null   int64  \n",
            " 8   model_date           1671 non-null   int64  \n",
            " 9   model_info           1671 non-null   object \n",
            " 10  name                 1671 non-null   object \n",
            " 11  num_of_doors         1671 non-null   object \n",
            " 12  production_date      1671 non-null   int64  \n",
            " 13  sell_id              1671 non-null   int64  \n",
            " 14  transmission         1671 non-null   object \n",
            " 15  owners               1671 non-null   object \n",
            " 16  vehicle_title        1671 non-null   object \n",
            " 17  drive_type           1671 non-null   object \n",
            " 18  tax                  1671 non-null   float64\n",
            " 19  days_in_use          1671 non-null   int64  \n",
            "dtypes: float64(3), int64(5), object(12)\n",
            "memory usage: 261.2+ KB\n"
          ],
          "name": "stdout"
        },
        {
          "output_type": "display_data",
          "data": {
            "text/plain": [
              "None"
            ]
          },
          "metadata": {
            "tags": []
          }
        }
      ]
    },
    {
      "cell_type": "markdown",
      "metadata": {
        "id": "HudHLtTRLmgQ"
      },
      "source": [
        "# DATA PREPARING"
      ]
    },
    {
      "cell_type": "code",
      "metadata": {
        "id": "lgzr3A7vMeEh"
      },
      "source": [
        "df = pd.concat([train, test])"
      ],
      "execution_count": 60,
      "outputs": []
    },
    {
      "cell_type": "code",
      "metadata": {
        "id": "RWb5CgpcNEyH"
      },
      "source": [
        "df.price.fillna(0, inplace=True)\n",
        "df['sample'] = df.price.apply(lambda x:0 if x == 0 else 1)"
      ],
      "execution_count": 61,
      "outputs": []
    },
    {
      "cell_type": "code",
      "metadata": {
        "id": "vQu6YS62MmpO"
      },
      "source": [
        "# # ##################### Логорифмируем ######################\n",
        "df.engine_displacement = df.engine_displacement.max() - np.log(df.engine_displacement)\n",
        "df.engine_power = df.engine_power.max() - np.log(df.engine_power)"
      ],
      "execution_count": 62,
      "outputs": []
    },
    {
      "cell_type": "code",
      "metadata": {
        "id": "UZobv-UCMV1a"
      },
      "source": [
        "def data_prep(df):\n",
        "\n",
        "  categorical_features = ['body', 'brand', 'color', 'fuel', 'model_info', 'name',  'num_of_doors',  'transmission', 'owners', 'vehicle_title', 'drive_type']\n",
        "  numerical_features = ['engine_displacement', 'engine_power', 'mileage', 'model_date', 'production_date', 'tax', 'days_in_use']\n",
        "\n",
        "  # ############################### Normalization ######################################\n",
        "  MMS = MinMaxScaler()\n",
        "\n",
        "  MMS.fit(df[numerical_features])\n",
        "  df[numerical_features] = MMS.transform(df[numerical_features])\n",
        "\n",
        "  return df, categorical_features "
      ],
      "execution_count": 63,
      "outputs": []
    },
    {
      "cell_type": "code",
      "metadata": {
        "id": "I9AGgKMzMrSX",
        "outputId": "959b3074-e4f6-480f-e983-270a1905dae5",
        "colab": {
          "base_uri": "https://localhost:8080/"
        }
      },
      "source": [
        "df, cat_features = data_prep(df)\n",
        "df.shape"
      ],
      "execution_count": 64,
      "outputs": [
        {
          "output_type": "execute_result",
          "data": {
            "text/plain": [
              "(8353, 22)"
            ]
          },
          "metadata": {
            "tags": []
          },
          "execution_count": 64
        }
      ]
    },
    {
      "cell_type": "code",
      "metadata": {
        "id": "d73Cb7BnRYz1",
        "outputId": "65b5c0a0-d38c-403c-ae19-1fe444452e86",
        "colab": {
          "base_uri": "https://localhost:8080/",
          "height": 390
        }
      },
      "source": [
        "# Узнаем количество уникальных значений для каждого категориального признака.\n",
        "# Это нужно для параметра one_hot_max_size, при построении модели\n",
        "cat_unique_df = pd.DataFrame(columns=['unique_values'], index=[cat_features])\n",
        "\n",
        "for column in df[cat_features]:\n",
        "  cat_unique_df.at[column, 'unique_values'] = df[column].nunique()\n",
        "\n",
        "cat_unique_df"
      ],
      "execution_count": 103,
      "outputs": [
        {
          "output_type": "execute_result",
          "data": {
            "text/html": [
              "<div>\n",
              "<style scoped>\n",
              "    .dataframe tbody tr th:only-of-type {\n",
              "        vertical-align: middle;\n",
              "    }\n",
              "\n",
              "    .dataframe tbody tr th {\n",
              "        vertical-align: top;\n",
              "    }\n",
              "\n",
              "    .dataframe thead th {\n",
              "        text-align: right;\n",
              "    }\n",
              "</style>\n",
              "<table border=\"1\" class=\"dataframe\">\n",
              "  <thead>\n",
              "    <tr style=\"text-align: right;\">\n",
              "      <th></th>\n",
              "      <th>unique_values</th>\n",
              "    </tr>\n",
              "  </thead>\n",
              "  <tbody>\n",
              "    <tr>\n",
              "      <th>body</th>\n",
              "      <td>13</td>\n",
              "    </tr>\n",
              "    <tr>\n",
              "      <th>brand</th>\n",
              "      <td>3</td>\n",
              "    </tr>\n",
              "    <tr>\n",
              "      <th>color</th>\n",
              "      <td>16</td>\n",
              "    </tr>\n",
              "    <tr>\n",
              "      <th>fuel</th>\n",
              "      <td>4</td>\n",
              "    </tr>\n",
              "    <tr>\n",
              "      <th>model_info</th>\n",
              "      <td>122</td>\n",
              "    </tr>\n",
              "    <tr>\n",
              "      <th>name</th>\n",
              "      <td>360</td>\n",
              "    </tr>\n",
              "    <tr>\n",
              "      <th>num_of_doors</th>\n",
              "      <td>4</td>\n",
              "    </tr>\n",
              "    <tr>\n",
              "      <th>transmission</th>\n",
              "      <td>4</td>\n",
              "    </tr>\n",
              "    <tr>\n",
              "      <th>owners</th>\n",
              "      <td>4</td>\n",
              "    </tr>\n",
              "    <tr>\n",
              "      <th>vehicle_title</th>\n",
              "      <td>2</td>\n",
              "    </tr>\n",
              "    <tr>\n",
              "      <th>drive_type</th>\n",
              "      <td>3</td>\n",
              "    </tr>\n",
              "  </tbody>\n",
              "</table>\n",
              "</div>"
            ],
            "text/plain": [
              "              unique_values\n",
              "body                     13\n",
              "brand                     3\n",
              "color                    16\n",
              "fuel                      4\n",
              "model_info              122\n",
              "name                    360\n",
              "num_of_doors              4\n",
              "transmission              4\n",
              "owners                    4\n",
              "vehicle_title             2\n",
              "drive_type                3"
            ]
          },
          "metadata": {
            "tags": []
          },
          "execution_count": 103
        }
      ]
    },
    {
      "cell_type": "markdown",
      "metadata": {
        "id": "f1dtZ9xXPozS"
      },
      "source": [
        "# SPLIT"
      ]
    },
    {
      "cell_type": "code",
      "metadata": {
        "id": "2zIeeNevM8rC"
      },
      "source": [
        "X = df.query('sample==1').drop(columns=['description', 'price', 'sample', 'sell_id'])\n",
        "y = df.query('sample==1').price.values\n",
        "test = df.query('sample==0').drop(columns=['description', 'price', 'sample', 'sell_id'])\n",
        "\n",
        "# ############ Split #################\n",
        "X_train, X_test, y_train, y_test = train_test_split(X,y, test_size=0.1, shuffle=True, random_state=RANDOM_SEED)"
      ],
      "execution_count": 65,
      "outputs": []
    },
    {
      "cell_type": "code",
      "metadata": {
        "id": "5ANPqLn-zXaY"
      },
      "source": [
        "# gsctb = CatBoostRegressor()\n",
        "\n",
        "# params_grid = {'iterations':[1500, 2000, 4000, 5500],\n",
        "#                'learning_rate':[0.5, 0.1, 0.05, 0.03, 0.005],\n",
        "#                'l2_leaf_reg':[1, 2, 4, 6, 8],\n",
        "#                'bootstrap_type': ['Bayesian','Bernoulli']}\n",
        "\n",
        "# grid_search_result = gsctb.grid_search(params_grid,\n",
        "#                                      train_data,\n",
        "#                                      cv=5,\n",
        "#                                      partition_random_seed=RANDOM_SEED,\n",
        "#                                      calc_cv_statistics=True,\n",
        "#                                      search_by_train_test_split=True,\n",
        "#                                      refit=True,\n",
        "#                                      shuffle=True,\n",
        "#                                      train_size=0.8,\n",
        "#                                      verbose=500,\n",
        "#                                      plot=True)"
      ],
      "execution_count": null,
      "outputs": []
    },
    {
      "cell_type": "code",
      "metadata": {
        "id": "9xyG0BxmQntT"
      },
      "source": [
        "train_data = Pool(data = X_train,\n",
        "                  label = y_train,\n",
        "                  cat_features =  cat_features)\n",
        "\n",
        "test_data = Pool(data = X_test,\n",
        "                 label = y_test,\n",
        "                  cat_features =  cat_features)"
      ],
      "execution_count": 66,
      "outputs": []
    },
    {
      "cell_type": "markdown",
      "metadata": {
        "id": "DepfyynWS8l2"
      },
      "source": [
        "# MODEL"
      ]
    },
    {
      "cell_type": "code",
      "metadata": {
        "id": "ObJOY8sPaS2l"
      },
      "source": [
        "def mape(y_true, y_pred):\n",
        "    return np.mean(np.abs((y_pred-y_true)/y_true))"
      ],
      "execution_count": 157,
      "outputs": []
    },
    {
      "cell_type": "code",
      "metadata": {
        "id": "qp43oCPHRiJz",
        "outputId": "2628703d-ceea-4582-a2f8-ab56148227c5",
        "colab": {
          "base_uri": "https://localhost:8080/"
        }
      },
      "source": [
        "ctb = CatBoostRegressor( loss_function = 'MAE',\n",
        "                         eval_metric = 'MAPE',\n",
        "                         learning_rate=0.002,\n",
        "                         iterations=25000, # обучаем до overfitting'a\n",
        "                         l2_leaf_reg=2,\n",
        "                         depth=5,\n",
        "                         bootstrap_type = 'Bernoulli', # Bayesian Bernoulli\n",
        "                         one_hot_max_size = 360,\n",
        "                         random_seed=RANDOM_SEED,\n",
        "                         od_type='Iter',\n",
        "                         od_wait=500,\n",
        "                         task_type='CPU')\n",
        "\n",
        "\n",
        "model = ctb.fit(train_data,\n",
        "                eval_set=test_data,\n",
        "                verbose_eval=500,\n",
        "                use_best_model=True)\n",
        "#                plot=True)\n",
        "print(model)\n",
        "\n",
        "test_predict_cat = model.predict(X_test)\n",
        "print(f\"TEST mape: {(mape(y_test, test_predict_cat))*100:0.2f}%\")"
      ],
      "execution_count": 115,
      "outputs": [
        {
          "output_type": "stream",
          "text": [
            "0:\tlearn: 0.6290641\ttest: 0.6430628\tbest: 0.6430628 (0)\ttotal: 2.95ms\tremaining: 1m 13s\n",
            "500:\tlearn: 0.3209311\ttest: 0.3249708\tbest: 0.3249708 (500)\ttotal: 1.33s\tremaining: 1m 5s\n",
            "1000:\tlearn: 0.2134205\ttest: 0.2138003\tbest: 0.2138003 (1000)\ttotal: 2.62s\tremaining: 1m 2s\n",
            "1500:\tlearn: 0.1731648\ttest: 0.1728946\tbest: 0.1728946 (1500)\ttotal: 3.9s\tremaining: 1m 1s\n",
            "2000:\tlearn: 0.1561105\ttest: 0.1554015\tbest: 0.1554015 (2000)\ttotal: 5.16s\tremaining: 59.3s\n",
            "2500:\tlearn: 0.1470962\ttest: 0.1457395\tbest: 0.1457395 (2500)\ttotal: 6.42s\tremaining: 57.8s\n",
            "3000:\tlearn: 0.1412335\ttest: 0.1396105\tbest: 0.1396105 (3000)\ttotal: 7.69s\tremaining: 56.3s\n",
            "3500:\tlearn: 0.1368790\ttest: 0.1348112\tbest: 0.1348112 (3500)\ttotal: 8.94s\tremaining: 54.9s\n",
            "4000:\tlearn: 0.1337240\ttest: 0.1317239\tbest: 0.1317239 (4000)\ttotal: 10.2s\tremaining: 53.6s\n",
            "4500:\tlearn: 0.1307827\ttest: 0.1290613\tbest: 0.1290613 (4500)\ttotal: 11.5s\tremaining: 52.3s\n",
            "5000:\tlearn: 0.1282293\ttest: 0.1268744\tbest: 0.1268744 (5000)\ttotal: 12.8s\tremaining: 51s\n",
            "5500:\tlearn: 0.1258948\ttest: 0.1249198\tbest: 0.1249198 (5500)\ttotal: 14s\tremaining: 49.7s\n",
            "6000:\tlearn: 0.1238695\ttest: 0.1233249\tbest: 0.1233249 (6000)\ttotal: 15.3s\tremaining: 48.3s\n",
            "6500:\tlearn: 0.1222856\ttest: 0.1220875\tbest: 0.1220875 (6500)\ttotal: 16.5s\tremaining: 47.1s\n",
            "7000:\tlearn: 0.1208701\ttest: 0.1209603\tbest: 0.1209603 (7000)\ttotal: 17.8s\tremaining: 45.8s\n",
            "7500:\tlearn: 0.1194873\ttest: 0.1200822\tbest: 0.1200822 (7500)\ttotal: 19.1s\tremaining: 44.5s\n",
            "8000:\tlearn: 0.1182130\ttest: 0.1190867\tbest: 0.1190867 (8000)\ttotal: 20.3s\tremaining: 43.2s\n",
            "8500:\tlearn: 0.1170941\ttest: 0.1182269\tbest: 0.1182269 (8500)\ttotal: 21.6s\tremaining: 41.9s\n",
            "9000:\tlearn: 0.1160661\ttest: 0.1174296\tbest: 0.1174296 (9000)\ttotal: 22.8s\tremaining: 40.6s\n",
            "9500:\tlearn: 0.1151231\ttest: 0.1167481\tbest: 0.1167481 (9500)\ttotal: 24.1s\tremaining: 39.3s\n",
            "10000:\tlearn: 0.1142151\ttest: 0.1160900\tbest: 0.1160900 (10000)\ttotal: 25.3s\tremaining: 38s\n",
            "10500:\tlearn: 0.1133336\ttest: 0.1154545\tbest: 0.1154545 (10500)\ttotal: 26.6s\tremaining: 36.7s\n",
            "11000:\tlearn: 0.1124756\ttest: 0.1148258\tbest: 0.1148258 (11000)\ttotal: 27.9s\tremaining: 35.5s\n",
            "11500:\tlearn: 0.1116758\ttest: 0.1143391\tbest: 0.1143391 (11500)\ttotal: 29.1s\tremaining: 34.2s\n",
            "12000:\tlearn: 0.1109249\ttest: 0.1140700\tbest: 0.1140700 (12000)\ttotal: 30.4s\tremaining: 32.9s\n",
            "12500:\tlearn: 0.1102007\ttest: 0.1137231\tbest: 0.1137231 (12500)\ttotal: 31.6s\tremaining: 31.6s\n",
            "13000:\tlearn: 0.1095305\ttest: 0.1133685\tbest: 0.1133670 (12996)\ttotal: 32.9s\tremaining: 30.3s\n",
            "13500:\tlearn: 0.1088701\ttest: 0.1131566\tbest: 0.1131566 (13500)\ttotal: 34.1s\tremaining: 29s\n",
            "14000:\tlearn: 0.1082648\ttest: 0.1128493\tbest: 0.1128475 (13999)\ttotal: 35.3s\tremaining: 27.8s\n",
            "14500:\tlearn: 0.1076645\ttest: 0.1125939\tbest: 0.1125939 (14500)\ttotal: 36.6s\tremaining: 26.5s\n",
            "15000:\tlearn: 0.1071116\ttest: 0.1124512\tbest: 0.1124512 (15000)\ttotal: 37.9s\tremaining: 25.2s\n",
            "15500:\tlearn: 0.1065432\ttest: 0.1122342\tbest: 0.1122313 (15490)\ttotal: 39.1s\tremaining: 24s\n",
            "16000:\tlearn: 0.1060025\ttest: 0.1119291\tbest: 0.1119291 (16000)\ttotal: 40.4s\tremaining: 22.7s\n",
            "16500:\tlearn: 0.1054869\ttest: 0.1117085\tbest: 0.1117078 (16498)\ttotal: 41.6s\tremaining: 21.4s\n",
            "17000:\tlearn: 0.1050071\ttest: 0.1114997\tbest: 0.1114997 (17000)\ttotal: 42.9s\tremaining: 20.2s\n",
            "17500:\tlearn: 0.1045328\ttest: 0.1113474\tbest: 0.1113474 (17500)\ttotal: 44.1s\tremaining: 18.9s\n",
            "18000:\tlearn: 0.1040824\ttest: 0.1112250\tbest: 0.1112245 (17992)\ttotal: 45.3s\tremaining: 17.6s\n",
            "18500:\tlearn: 0.1036518\ttest: 0.1110834\tbest: 0.1110834 (18500)\ttotal: 46.6s\tremaining: 16.4s\n",
            "19000:\tlearn: 0.1032170\ttest: 0.1109428\tbest: 0.1109409 (18998)\ttotal: 47.9s\tremaining: 15.1s\n",
            "19500:\tlearn: 0.1027890\ttest: 0.1108144\tbest: 0.1108133 (19486)\ttotal: 49.1s\tremaining: 13.9s\n",
            "20000:\tlearn: 0.1023976\ttest: 0.1107384\tbest: 0.1107197 (19846)\ttotal: 50.4s\tremaining: 12.6s\n",
            "Stopped by overfitting detector  (500 iterations wait)\n",
            "\n",
            "bestTest = 0.1107196745\n",
            "bestIteration = 19846\n",
            "\n",
            "Shrink model to first 19847 iterations.\n",
            "<catboost.core.CatBoostRegressor object at 0x7f2a25a68f60>\n"
          ],
          "name": "stdout"
        }
      ]
    },
    {
      "cell_type": "code",
      "metadata": {
        "id": "VmCKi9ZDcueM",
        "outputId": "ee434944-839e-4672-cd71-cddb5852a75d",
        "colab": {
          "base_uri": "https://localhost:8080/",
          "height": 607
        }
      },
      "source": [
        "plt.figure(figsize=(15,10))\n",
        "plt.title('MAPE')\n",
        "plt.plot(model.evals_result_['learn']['MAE'], label='train')\n",
        "plt.plot(model.evals_result_['validation']['MAE'], label='test')\n",
        "plt.legend()\n",
        "plt.grid()\n",
        "plt.show()"
      ],
      "execution_count": 149,
      "outputs": [
        {
          "output_type": "display_data",
          "data": {
            "image/png": "[encoded data removed]",
            "text/plain": [
              "<Figure size 1080x720 with 1 Axes>"
            ]
          },
          "metadata": {
            "tags": [],
            "needs_background": "light"
          }
        }
      ]
    },
    {
      "cell_type": "markdown",
      "metadata": {
        "id": "epOeWlTNTBY8"
      },
      "source": [
        "# PREDICTION"
      ]
    },
    {
      "cell_type": "code",
      "metadata": {
        "id": "Q6abKREgTsA_"
      },
      "source": [
        "predict_data = Pool(data = test,\n",
        "                    cat_features =  cat_features)\n",
        "\n",
        "predict_submission = model.predict(predict_data)"
      ],
      "execution_count": 127,
      "outputs": []
    },
    {
      "cell_type": "markdown",
      "metadata": {
        "id": "IP1kI7jqYgCL"
      },
      "source": [
        "# MAKE SUBMISSION\n"
      ]
    },
    {
      "cell_type": "code",
      "metadata": {
        "id": "_H1V5KL4Zg3R",
        "outputId": "53a6d9fc-3ef1-48c5-b25d-5c57c8cba4d0",
        "colab": {
          "base_uri": "https://localhost:8080/",
          "height": 359
        }
      },
      "source": [
        "sample_submission['price'] = predict_submission\n",
        "sample_submission.to_csv(DATA_PATH+f'/sub_cat_{round((mape(y_test, test_predict_cat)*100),2)}.csv'.replace('.', '_', 1), index=False)\n",
        "display(sample_submission.head(10))"
      ],
      "execution_count": 129,
      "outputs": [
        {
          "output_type": "display_data",
          "data": {
            "text/html": [
              "<div>\n",
              "<style scoped>\n",
              "    .dataframe tbody tr th:only-of-type {\n",
              "        vertical-align: middle;\n",
              "    }\n",
              "\n",
              "    .dataframe tbody tr th {\n",
              "        vertical-align: top;\n",
              "    }\n",
              "\n",
              "    .dataframe thead th {\n",
              "        text-align: right;\n",
              "    }\n",
              "</style>\n",
              "<table border=\"1\" class=\"dataframe\">\n",
              "  <thead>\n",
              "    <tr style=\"text-align: right;\">\n",
              "      <th></th>\n",
              "      <th>sell_id</th>\n",
              "      <th>price</th>\n",
              "    </tr>\n",
              "  </thead>\n",
              "  <tbody>\n",
              "    <tr>\n",
              "      <th>0</th>\n",
              "      <td>1099427284</td>\n",
              "      <td>5.593298e+05</td>\n",
              "    </tr>\n",
              "    <tr>\n",
              "      <th>1</th>\n",
              "      <td>1096405886</td>\n",
              "      <td>2.622844e+06</td>\n",
              "    </tr>\n",
              "    <tr>\n",
              "      <th>2</th>\n",
              "      <td>1100195294</td>\n",
              "      <td>6.487938e+05</td>\n",
              "    </tr>\n",
              "    <tr>\n",
              "      <th>3</th>\n",
              "      <td>1099827282</td>\n",
              "      <td>4.710850e+05</td>\n",
              "    </tr>\n",
              "    <tr>\n",
              "      <th>4</th>\n",
              "      <td>1100076198</td>\n",
              "      <td>2.640428e+06</td>\n",
              "    </tr>\n",
              "    <tr>\n",
              "      <th>5</th>\n",
              "      <td>1090159352</td>\n",
              "      <td>3.120887e+06</td>\n",
              "    </tr>\n",
              "    <tr>\n",
              "      <th>6</th>\n",
              "      <td>1098987386</td>\n",
              "      <td>1.586746e+06</td>\n",
              "    </tr>\n",
              "    <tr>\n",
              "      <th>7</th>\n",
              "      <td>1098639040</td>\n",
              "      <td>1.131575e+06</td>\n",
              "    </tr>\n",
              "    <tr>\n",
              "      <th>8</th>\n",
              "      <td>1099933039</td>\n",
              "      <td>1.062284e+06</td>\n",
              "    </tr>\n",
              "    <tr>\n",
              "      <th>9</th>\n",
              "      <td>1099565572</td>\n",
              "      <td>5.000182e+05</td>\n",
              "    </tr>\n",
              "  </tbody>\n",
              "</table>\n",
              "</div>"
            ],
            "text/plain": [
              "      sell_id         price\n",
              "0  1099427284  5.593298e+05\n",
              "1  1096405886  2.622844e+06\n",
              "2  1100195294  6.487938e+05\n",
              "3  1099827282  4.710850e+05\n",
              "4  1100076198  2.640428e+06\n",
              "5  1090159352  3.120887e+06\n",
              "6  1098987386  1.586746e+06\n",
              "7  1098639040  1.131575e+06\n",
              "8  1099933039  1.062284e+06\n",
              "9  1099565572  5.000182e+05"
            ]
          },
          "metadata": {
            "tags": []
          }
        }
      ]
    },
    {
      "cell_type": "markdown",
      "metadata": {
        "id": "ADRhcrBac2h-"
      },
      "source": [
        "# CROSS_VALIDATION"
      ]
    },
    {
      "cell_type": "code",
      "metadata": {
        "id": "ZVPX05YcdkgF"
      },
      "source": [
        "def cat_model(y_train, X_train, X_test, y_test):\n",
        "    model = CatBoostRegressor( loss_function = 'MAE',\n",
        "                         eval_metric = 'MAPE',\n",
        "                         learning_rate=0.002,\n",
        "                         iterations=25000, # обучаем до overfitting'a\n",
        "                         l2_leaf_reg=2,\n",
        "                         depth=5,\n",
        "                         bootstrap_type = 'Bernoulli', # Bayesian Bernoulli\n",
        "                         one_hot_max_size = 360,\n",
        "                         random_seed=RANDOM_SEED,\n",
        "                         od_type='Iter',\n",
        "                         od_wait=500,\n",
        "                         task_type='CPU')\n",
        "\n",
        "    model.fit(X_train, y_train,\n",
        "              cat_features = cat_features,\n",
        "              eval_set=(X_test, y_test),\n",
        "              verbose_eval=False,\n",
        "              use_best_model=True,\n",
        "              plot=False)\n",
        "    \n",
        "    return(model)"
      ],
      "execution_count": 151,
      "outputs": []
    },
    {
      "cell_type": "code",
      "metadata": {
        "id": "NEDxmxf9eArG",
        "outputId": "e408f560-2560-45c2-be86-bd3796c368d3",
        "colab": {
          "base_uri": "https://localhost:8080/",
          "height": 304,
          "referenced_widgets": [
            "fc489852cd5b445a897d69c89bb19c32",
            "9270aceef1b94f348182a4f15d705356",
            "2c2aca4b9bf34df28a18fa905af4d35d",
            "8916168b29a24471bf51a6036672ae2c",
            "8bb19d6e18434083b37e41b29544c440",
            "d5db26314201487b8555179b921bdfed",
            "9ebed75b65d243d3867528ef50150d15",
            "7f3a8c35ae574129a88f1d1f9e660d4e"
          ]
        }
      },
      "source": [
        "cv_submissions = pd.DataFrame(0,columns=[\"sub_1\"], index=sample_submission.index)\n",
        "score_ls = []\n",
        "splits = list(KFold(n_splits=10, shuffle=True, random_state=RANDOM_SEED).split(X, y))\n",
        "\n",
        "for idx, (train_idx, test_idx) in tqdm(enumerate(splits), total=10,):\n",
        "\n",
        "    X_train, y_train, X_test, y_test = X.iloc[train_idx], y[train_idx], X.iloc[test_idx], y[test_idx]\n",
        "\n",
        "    model = cat_model(y_train, X_train, X_test, y_test,)\n",
        "\n",
        "    test_predict_cat_cv = model.predict(X_test)\n",
        "    test_score = mape(y_test, test_predict_cat_cv)\n",
        "    score_ls.append(test_score)\n",
        "    print(f\"{idx+1} Fold Test MAPE: {mape(y_test, test_predict_cat_cv):0.3f}\")\n",
        "\n",
        "    cv_submissions[f'sub_{idx+1}'] = model.predict(predict_data)\n",
        "    model.save_model(f'catboost_fold_{idx+1}.model')\n",
        "    \n",
        "print(f'Mean Score: {np.mean(score_ls):0.3f}')\n",
        "print(f'Std Score: {np.std(score_ls):0.4f}')\n",
        "print(f'Max Score: {np.max(score_ls):0.3f}')\n",
        "print(f'Min Score: {np.min(score_ls):0.3f}')"
      ],
      "execution_count": 154,
      "outputs": [
        {
          "output_type": "display_data",
          "data": {
            "application/vnd.jupyter.widget-view+json": {
              "model_id": "fc489852cd5b445a897d69c89bb19c32",
              "version_minor": 0,
              "version_major": 2
            },
            "text/plain": [
              "HBox(children=(FloatProgress(value=0.0, max=10.0), HTML(value='')))"
            ]
          },
          "metadata": {
            "tags": []
          }
        },
        {
          "output_type": "stream",
          "text": [
            "1 Fold Test MAPE: 0.110\n",
            "2 Fold Test MAPE: 0.116\n",
            "3 Fold Test MAPE: 0.122\n",
            "4 Fold Test MAPE: 0.111\n",
            "5 Fold Test MAPE: 0.116\n",
            "6 Fold Test MAPE: 0.116\n",
            "7 Fold Test MAPE: 0.116\n",
            "8 Fold Test MAPE: 0.124\n",
            "9 Fold Test MAPE: 0.118\n",
            "10 Fold Test MAPE: 0.113\n",
            "\n",
            "Mean Score: 0.116\n",
            "Std Score: 0.0042\n",
            "Max Score: 0.124\n",
            "Min Score: 0.110\n"
          ],
          "name": "stdout"
        }
      ]
    },
    {
      "cell_type": "code",
      "metadata": {
        "id": "gewDnYxXe99B",
        "outputId": "4765847e-8b51-47f8-cd25-58b6940f20d3",
        "colab": {
          "base_uri": "https://localhost:8080/",
          "height": 359
        }
      },
      "source": [
        "cv_submissions.head(10)"
      ],
      "execution_count": 155,
      "outputs": [
        {
          "output_type": "execute_result",
          "data": {
            "text/html": [
              "<div>\n",
              "<style scoped>\n",
              "    .dataframe tbody tr th:only-of-type {\n",
              "        vertical-align: middle;\n",
              "    }\n",
              "\n",
              "    .dataframe tbody tr th {\n",
              "        vertical-align: top;\n",
              "    }\n",
              "\n",
              "    .dataframe thead th {\n",
              "        text-align: right;\n",
              "    }\n",
              "</style>\n",
              "<table border=\"1\" class=\"dataframe\">\n",
              "  <thead>\n",
              "    <tr style=\"text-align: right;\">\n",
              "      <th></th>\n",
              "      <th>sub_1</th>\n",
              "      <th>sub_2</th>\n",
              "      <th>sub_3</th>\n",
              "      <th>sub_4</th>\n",
              "      <th>sub_5</th>\n",
              "      <th>sub_6</th>\n",
              "      <th>sub_7</th>\n",
              "      <th>sub_8</th>\n",
              "      <th>sub_9</th>\n",
              "      <th>sub_10</th>\n",
              "    </tr>\n",
              "  </thead>\n",
              "  <tbody>\n",
              "    <tr>\n",
              "      <th>0</th>\n",
              "      <td>5.433590e+05</td>\n",
              "      <td>6.682696e+05</td>\n",
              "      <td>6.654378e+05</td>\n",
              "      <td>6.008724e+05</td>\n",
              "      <td>6.051422e+05</td>\n",
              "      <td>6.079627e+05</td>\n",
              "      <td>6.108982e+05</td>\n",
              "      <td>6.203338e+05</td>\n",
              "      <td>6.181714e+05</td>\n",
              "      <td>5.870106e+05</td>\n",
              "    </tr>\n",
              "    <tr>\n",
              "      <th>1</th>\n",
              "      <td>2.589885e+06</td>\n",
              "      <td>2.666680e+06</td>\n",
              "      <td>2.629554e+06</td>\n",
              "      <td>2.694092e+06</td>\n",
              "      <td>2.626366e+06</td>\n",
              "      <td>2.624242e+06</td>\n",
              "      <td>2.632663e+06</td>\n",
              "      <td>2.681922e+06</td>\n",
              "      <td>2.734216e+06</td>\n",
              "      <td>2.683710e+06</td>\n",
              "    </tr>\n",
              "    <tr>\n",
              "      <th>2</th>\n",
              "      <td>6.492972e+05</td>\n",
              "      <td>6.539836e+05</td>\n",
              "      <td>6.452942e+05</td>\n",
              "      <td>6.443631e+05</td>\n",
              "      <td>6.449268e+05</td>\n",
              "      <td>6.538890e+05</td>\n",
              "      <td>6.471207e+05</td>\n",
              "      <td>6.488200e+05</td>\n",
              "      <td>6.458497e+05</td>\n",
              "      <td>6.509623e+05</td>\n",
              "    </tr>\n",
              "    <tr>\n",
              "      <th>3</th>\n",
              "      <td>4.702253e+05</td>\n",
              "      <td>4.837059e+05</td>\n",
              "      <td>4.808036e+05</td>\n",
              "      <td>4.806267e+05</td>\n",
              "      <td>4.864937e+05</td>\n",
              "      <td>4.656737e+05</td>\n",
              "      <td>4.737458e+05</td>\n",
              "      <td>4.785433e+05</td>\n",
              "      <td>4.755608e+05</td>\n",
              "      <td>4.756869e+05</td>\n",
              "    </tr>\n",
              "    <tr>\n",
              "      <th>4</th>\n",
              "      <td>2.643594e+06</td>\n",
              "      <td>2.662310e+06</td>\n",
              "      <td>2.634423e+06</td>\n",
              "      <td>2.677798e+06</td>\n",
              "      <td>2.655091e+06</td>\n",
              "      <td>2.623377e+06</td>\n",
              "      <td>2.659149e+06</td>\n",
              "      <td>2.660140e+06</td>\n",
              "      <td>2.624911e+06</td>\n",
              "      <td>2.644252e+06</td>\n",
              "    </tr>\n",
              "    <tr>\n",
              "      <th>5</th>\n",
              "      <td>3.135606e+06</td>\n",
              "      <td>3.161623e+06</td>\n",
              "      <td>3.197013e+06</td>\n",
              "      <td>3.165529e+06</td>\n",
              "      <td>3.168977e+06</td>\n",
              "      <td>3.163585e+06</td>\n",
              "      <td>3.187748e+06</td>\n",
              "      <td>3.174781e+06</td>\n",
              "      <td>3.199831e+06</td>\n",
              "      <td>3.122172e+06</td>\n",
              "    </tr>\n",
              "    <tr>\n",
              "      <th>6</th>\n",
              "      <td>1.585772e+06</td>\n",
              "      <td>1.580914e+06</td>\n",
              "      <td>1.583452e+06</td>\n",
              "      <td>1.567527e+06</td>\n",
              "      <td>1.581591e+06</td>\n",
              "      <td>1.579723e+06</td>\n",
              "      <td>1.584517e+06</td>\n",
              "      <td>1.588745e+06</td>\n",
              "      <td>1.575816e+06</td>\n",
              "      <td>1.582892e+06</td>\n",
              "    </tr>\n",
              "    <tr>\n",
              "      <th>7</th>\n",
              "      <td>1.130641e+06</td>\n",
              "      <td>1.155412e+06</td>\n",
              "      <td>1.151078e+06</td>\n",
              "      <td>1.167025e+06</td>\n",
              "      <td>1.179572e+06</td>\n",
              "      <td>1.126332e+06</td>\n",
              "      <td>1.176027e+06</td>\n",
              "      <td>1.099274e+06</td>\n",
              "      <td>1.131712e+06</td>\n",
              "      <td>1.141261e+06</td>\n",
              "    </tr>\n",
              "    <tr>\n",
              "      <th>8</th>\n",
              "      <td>1.071642e+06</td>\n",
              "      <td>1.069483e+06</td>\n",
              "      <td>1.075131e+06</td>\n",
              "      <td>1.074740e+06</td>\n",
              "      <td>1.068171e+06</td>\n",
              "      <td>1.082646e+06</td>\n",
              "      <td>1.063779e+06</td>\n",
              "      <td>1.057474e+06</td>\n",
              "      <td>1.076195e+06</td>\n",
              "      <td>1.063919e+06</td>\n",
              "    </tr>\n",
              "    <tr>\n",
              "      <th>9</th>\n",
              "      <td>5.008603e+05</td>\n",
              "      <td>5.161245e+05</td>\n",
              "      <td>5.231730e+05</td>\n",
              "      <td>5.105087e+05</td>\n",
              "      <td>5.124644e+05</td>\n",
              "      <td>5.107866e+05</td>\n",
              "      <td>5.191320e+05</td>\n",
              "      <td>5.094915e+05</td>\n",
              "      <td>5.172248e+05</td>\n",
              "      <td>5.098484e+05</td>\n",
              "    </tr>\n",
              "  </tbody>\n",
              "</table>\n",
              "</div>"
            ],
            "text/plain": [
              "          sub_1         sub_2         sub_3         sub_4         sub_5  \\\n",
              "0  5.433590e+05  6.682696e+05  6.654378e+05  6.008724e+05  6.051422e+05   \n",
              "1  2.589885e+06  2.666680e+06  2.629554e+06  2.694092e+06  2.626366e+06   \n",
              "2  6.492972e+05  6.539836e+05  6.452942e+05  6.443631e+05  6.449268e+05   \n",
              "3  4.702253e+05  4.837059e+05  4.808036e+05  4.806267e+05  4.864937e+05   \n",
              "4  2.643594e+06  2.662310e+06  2.634423e+06  2.677798e+06  2.655091e+06   \n",
              "5  3.135606e+06  3.161623e+06  3.197013e+06  3.165529e+06  3.168977e+06   \n",
              "6  1.585772e+06  1.580914e+06  1.583452e+06  1.567527e+06  1.581591e+06   \n",
              "7  1.130641e+06  1.155412e+06  1.151078e+06  1.167025e+06  1.179572e+06   \n",
              "8  1.071642e+06  1.069483e+06  1.075131e+06  1.074740e+06  1.068171e+06   \n",
              "9  5.008603e+05  5.161245e+05  5.231730e+05  5.105087e+05  5.124644e+05   \n",
              "\n",
              "          sub_6         sub_7         sub_8         sub_9        sub_10  \n",
              "0  6.079627e+05  6.108982e+05  6.203338e+05  6.181714e+05  5.870106e+05  \n",
              "1  2.624242e+06  2.632663e+06  2.681922e+06  2.734216e+06  2.683710e+06  \n",
              "2  6.538890e+05  6.471207e+05  6.488200e+05  6.458497e+05  6.509623e+05  \n",
              "3  4.656737e+05  4.737458e+05  4.785433e+05  4.755608e+05  4.756869e+05  \n",
              "4  2.623377e+06  2.659149e+06  2.660140e+06  2.624911e+06  2.644252e+06  \n",
              "5  3.163585e+06  3.187748e+06  3.174781e+06  3.199831e+06  3.122172e+06  \n",
              "6  1.579723e+06  1.584517e+06  1.588745e+06  1.575816e+06  1.582892e+06  \n",
              "7  1.126332e+06  1.176027e+06  1.099274e+06  1.131712e+06  1.141261e+06  \n",
              "8  1.082646e+06  1.063779e+06  1.057474e+06  1.076195e+06  1.063919e+06  \n",
              "9  5.107866e+05  5.191320e+05  5.094915e+05  5.172248e+05  5.098484e+05  "
            ]
          },
          "metadata": {
            "tags": []
          },
          "execution_count": 155
        }
      ]
    },
    {
      "cell_type": "code",
      "metadata": {
        "id": "UQsr1sH7hdIs",
        "outputId": "8b611d59-a37d-472c-a1a1-f835e5ef2319",
        "colab": {
          "base_uri": "https://localhost:8080/",
          "height": 359
        }
      },
      "source": [
        "sample_submission['price'] = (cv_submissions.sum(axis=1)/len(cv_submissions.columns))\n",
        "sample_submission.to_csv(DATA_PATH+'/sub_cat_cv.csv', index=False)\n",
        "display(sample_submission.head(10))"
      ],
      "execution_count": 156,
      "outputs": [
        {
          "output_type": "display_data",
          "data": {
            "text/html": [
              "<div>\n",
              "<style scoped>\n",
              "    .dataframe tbody tr th:only-of-type {\n",
              "        vertical-align: middle;\n",
              "    }\n",
              "\n",
              "    .dataframe tbody tr th {\n",
              "        vertical-align: top;\n",
              "    }\n",
              "\n",
              "    .dataframe thead th {\n",
              "        text-align: right;\n",
              "    }\n",
              "</style>\n",
              "<table border=\"1\" class=\"dataframe\">\n",
              "  <thead>\n",
              "    <tr style=\"text-align: right;\">\n",
              "      <th></th>\n",
              "      <th>sell_id</th>\n",
              "      <th>price</th>\n",
              "    </tr>\n",
              "  </thead>\n",
              "  <tbody>\n",
              "    <tr>\n",
              "      <th>0</th>\n",
              "      <td>1099427284</td>\n",
              "      <td>6.127458e+05</td>\n",
              "    </tr>\n",
              "    <tr>\n",
              "      <th>1</th>\n",
              "      <td>1096405886</td>\n",
              "      <td>2.656333e+06</td>\n",
              "    </tr>\n",
              "    <tr>\n",
              "      <th>2</th>\n",
              "      <td>1100195294</td>\n",
              "      <td>6.484507e+05</td>\n",
              "    </tr>\n",
              "    <tr>\n",
              "      <th>3</th>\n",
              "      <td>1099827282</td>\n",
              "      <td>4.771066e+05</td>\n",
              "    </tr>\n",
              "    <tr>\n",
              "      <th>4</th>\n",
              "      <td>1100076198</td>\n",
              "      <td>2.648505e+06</td>\n",
              "    </tr>\n",
              "    <tr>\n",
              "      <th>5</th>\n",
              "      <td>1090159352</td>\n",
              "      <td>3.167686e+06</td>\n",
              "    </tr>\n",
              "    <tr>\n",
              "      <th>6</th>\n",
              "      <td>1098987386</td>\n",
              "      <td>1.581095e+06</td>\n",
              "    </tr>\n",
              "    <tr>\n",
              "      <th>7</th>\n",
              "      <td>1098639040</td>\n",
              "      <td>1.145834e+06</td>\n",
              "    </tr>\n",
              "    <tr>\n",
              "      <th>8</th>\n",
              "      <td>1099933039</td>\n",
              "      <td>1.070318e+06</td>\n",
              "    </tr>\n",
              "    <tr>\n",
              "      <th>9</th>\n",
              "      <td>1099565572</td>\n",
              "      <td>5.129614e+05</td>\n",
              "    </tr>\n",
              "  </tbody>\n",
              "</table>\n",
              "</div>"
            ],
            "text/plain": [
              "      sell_id         price\n",
              "0  1099427284  6.127458e+05\n",
              "1  1096405886  2.656333e+06\n",
              "2  1100195294  6.484507e+05\n",
              "3  1099827282  4.771066e+05\n",
              "4  1100076198  2.648505e+06\n",
              "5  1090159352  3.167686e+06\n",
              "6  1098987386  1.581095e+06\n",
              "7  1098639040  1.145834e+06\n",
              "8  1099933039  1.070318e+06\n",
              "9  1099565572  5.129614e+05"
            ]
          },
          "metadata": {
            "tags": []
          }
        }
      ]
    }
  ]
}