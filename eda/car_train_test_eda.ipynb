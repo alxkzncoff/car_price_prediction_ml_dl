{
  "nbformat": 4,
  "nbformat_minor": 0,
  "metadata": {
    "colab": {
      "name": "car_train_test_eda.ipynb",
      "provenance": [],
      "collapsed_sections": [],
      "toc_visible": true,
      "include_colab_link": true
    },
    "kernelspec": {
      "display_name": "Python 3",
      "language": "python",
      "name": "python3"
    },
    "language_info": {
      "codemirror_mode": {
        "name": "ipython",
        "version": 3
      },
      "file_extension": ".py",
      "mimetype": "text/x-python",
      "name": "python",
      "nbconvert_exporter": "python",
      "pygments_lexer": "ipython3",
      "version": "3.8.3"
    }
  },
  "cells": [
    {
      "cell_type": "markdown",
      "metadata": {
        "id": "view-in-github",
        "colab_type": "text"
      },
      "source": [
        "<a href=\"https://colab.research.google.com/github/alxkzncoff/skillfactory_rds6_car_price_prediction_ml_dl/blob/main/eda/car_train_test_eda.ipynb\" target=\"_parent\"><img src=\"https://colab.research.google.com/assets/colab-badge.svg\" alt=\"Open In Colab\"/></a>"
      ]
    },
    {
      "cell_type": "markdown",
      "metadata": {
        "id": "DWA_ijlGC9zz"
      },
      "source": [
        "# DEFINE"
      ]
    },
    {
      "cell_type": "code",
      "metadata": {
        "id": "tilImQpnbhs8"
      },
      "source": [
        "# DEFINE\n",
        "DATA_PATH                   = '/content/drive/My Drive/skill_factory_car_price_prediction_ml_dl'\n",
        "RANDOM_SEED                 = 42"
      ],
      "execution_count": 109,
      "outputs": []
    },
    {
      "cell_type": "markdown",
      "metadata": {
        "id": "iechtW-TC6Ta"
      },
      "source": [
        "# IMPORT"
      ]
    },
    {
      "cell_type": "code",
      "metadata": {
        "id": "QOYo0KGEGy-M",
        "outputId": "4667fbd2-6ee1-4404-80e9-ce1843e79962",
        "colab": {
          "base_uri": "https://localhost:8080/"
        }
      },
      "source": [
        "from google.colab import drive\n",
        "drive.mount('/content/drive')"
      ],
      "execution_count": 110,
      "outputs": [
        {
          "output_type": "stream",
          "text": [
            "Drive already mounted at /content/drive; to attempt to forcibly remount, call drive.mount(\"/content/drive\", force_remount=True).\n"
          ],
          "name": "stdout"
        }
      ]
    },
    {
      "cell_type": "code",
      "metadata": {
        "id": "cdI8D7DbWobJ"
      },
      "source": [
        "import re\n",
        "from datetime import datetime\n",
        "\n",
        "# Analyse\n",
        "import pandas as pd\n",
        "pd.set_option('max_rows', None)\n",
        "\n",
        "import numpy as np\n",
        "import matplotlib.pyplot as plt\n",
        "import seaborn as sns\n",
        "\n",
        "# ML\n",
        "from sklearn.model_selection import train_test_split"
      ],
      "execution_count": 111,
      "outputs": []
    },
    {
      "cell_type": "code",
      "metadata": {
        "id": "zQGjcc4MbZrE"
      },
      "source": [
        "train = pd.read_csv(DATA_PATH+'/train.csv')\n",
        "test = pd.read_csv(DATA_PATH+'/test.csv')\n",
        "# train = pd.read_csv('train.csv')\n",
        "# test = pd.read_csv('test.csv')"
      ],
      "execution_count": 112,
      "outputs": []
    },
    {
      "cell_type": "markdown",
      "metadata": {
        "id": "ky9pFoLgd4B3"
      },
      "source": [
        "# FEATURES DESCRIBE\n",
        "\n",
        "- **bodyType** - категориальный\n",
        "- **brand** - категориальный\n",
        "- **color** - категориальный\n",
        "- **description** - текстовый\n",
        "- **engineDisplacement** - числовой, представленный как текст\n",
        "- **enginePower** - числовой, представленный как текст\n",
        "- **fuelType** - категориальный\n",
        "- **mileage** - числовой\n",
        "- **modelDate** - числовой\n",
        "- **model_info** - категориальный\n",
        "- **name** - категориальный, желательно сократить размерность\n",
        "- **numberOfDoors** - категориальный\n",
        "- **price** - числовой, целевой\n",
        "- **productionDate** - числовой\n",
        "- **sell_id** - изображение (файл доступен по адресу, основанному на sell_id)\n",
        "- **vehicleConfiguration** - не используется (комбинация других столбцов)\n",
        "- **vehicleTransmission** - категориальный\n",
        "- **Владельцы** - категориальный\n",
        "- **Владение** - числовой, представленный как текст\n",
        "- **ПТС** - категориальный\n",
        "- **Привод** - категориальный\n",
        "- **Руль** - категориальный"
      ]
    },
    {
      "cell_type": "code",
      "metadata": {
        "id": "B1V3WVY6cD8i",
        "outputId": "ef809577-a8a2-4614-f540-c15a63de2757",
        "colab": {
          "base_uri": "https://localhost:8080/"
        }
      },
      "source": [
        "train.info()"
      ],
      "execution_count": 113,
      "outputs": [
        {
          "output_type": "stream",
          "text": [
            "<class 'pandas.core.frame.DataFrame'>\n",
            "RangeIndex: 6682 entries, 0 to 6681\n",
            "Data columns (total 22 columns):\n",
            " #   Column                Non-Null Count  Dtype  \n",
            "---  ------                --------------  -----  \n",
            " 0   bodyType              6682 non-null   object \n",
            " 1   brand                 6682 non-null   object \n",
            " 2   color                 6682 non-null   object \n",
            " 3   description           6682 non-null   object \n",
            " 4   engineDisplacement    6682 non-null   object \n",
            " 5   enginePower           6682 non-null   object \n",
            " 6   fuelType              6682 non-null   object \n",
            " 7   mileage               6682 non-null   int64  \n",
            " 8   modelDate             6682 non-null   int64  \n",
            " 9   model_info            6682 non-null   object \n",
            " 10  name                  6682 non-null   object \n",
            " 11  numberOfDoors         6682 non-null   int64  \n",
            " 12  price                 6682 non-null   float64\n",
            " 13  productionDate        6682 non-null   int64  \n",
            " 14  sell_id               6682 non-null   int64  \n",
            " 15  vehicleConfiguration  6682 non-null   object \n",
            " 16  vehicleTransmission   6682 non-null   object \n",
            " 17  Владельцы             6681 non-null   object \n",
            " 18  Владение              2356 non-null   object \n",
            " 19  ПТС                   6682 non-null   object \n",
            " 20  Привод                6682 non-null   object \n",
            " 21  Руль                  6682 non-null   object \n",
            "dtypes: float64(1), int64(5), object(16)\n",
            "memory usage: 1.1+ MB\n"
          ],
          "name": "stdout"
        }
      ]
    },
    {
      "cell_type": "code",
      "metadata": {
        "id": "eeZojG4qlr6y",
        "outputId": "ff9c969e-8ed0-424e-a199-659cf398bfb9",
        "colab": {
          "base_uri": "https://localhost:8080/",
          "height": 598
        }
      },
      "source": [
        "train.head(5)"
      ],
      "execution_count": 114,
      "outputs": [
        {
          "output_type": "execute_result",
          "data": {
            "text/html": [
              "<div>\n",
              "<style scoped>\n",
              "    .dataframe tbody tr th:only-of-type {\n",
              "        vertical-align: middle;\n",
              "    }\n",
              "\n",
              "    .dataframe tbody tr th {\n",
              "        vertical-align: top;\n",
              "    }\n",
              "\n",
              "    .dataframe thead th {\n",
              "        text-align: right;\n",
              "    }\n",
              "</style>\n",
              "<table border=\"1\" class=\"dataframe\">\n",
              "  <thead>\n",
              "    <tr style=\"text-align: right;\">\n",
              "      <th></th>\n",
              "      <th>bodyType</th>\n",
              "      <th>brand</th>\n",
              "      <th>color</th>\n",
              "      <th>description</th>\n",
              "      <th>engineDisplacement</th>\n",
              "      <th>enginePower</th>\n",
              "      <th>fuelType</th>\n",
              "      <th>mileage</th>\n",
              "      <th>modelDate</th>\n",
              "      <th>model_info</th>\n",
              "      <th>name</th>\n",
              "      <th>numberOfDoors</th>\n",
              "      <th>price</th>\n",
              "      <th>productionDate</th>\n",
              "      <th>sell_id</th>\n",
              "      <th>vehicleConfiguration</th>\n",
              "      <th>vehicleTransmission</th>\n",
              "      <th>Владельцы</th>\n",
              "      <th>Владение</th>\n",
              "      <th>ПТС</th>\n",
              "      <th>Привод</th>\n",
              "      <th>Руль</th>\n",
              "    </tr>\n",
              "  </thead>\n",
              "  <tbody>\n",
              "    <tr>\n",
              "      <th>0</th>\n",
              "      <td>седан</td>\n",
              "      <td>BMW</td>\n",
              "      <td>чёрный</td>\n",
              "      <td>Авто на бодром ходу.  Все работает отлично.  П...</td>\n",
              "      <td>3.0 LTR</td>\n",
              "      <td>272 N12</td>\n",
              "      <td>бензин</td>\n",
              "      <td>245000</td>\n",
              "      <td>2007</td>\n",
              "      <td>5ER</td>\n",
              "      <td>530xi 3.0 AT (272 л.с.) 4WD</td>\n",
              "      <td>4</td>\n",
              "      <td>599000.0</td>\n",
              "      <td>2007</td>\n",
              "      <td>1099980990</td>\n",
              "      <td>SEDAN AUTOMATIC 3.0</td>\n",
              "      <td>автоматическая</td>\n",
              "      <td>3 или более</td>\n",
              "      <td>NaN</td>\n",
              "      <td>Оригинал</td>\n",
              "      <td>полный</td>\n",
              "      <td>Левый</td>\n",
              "    </tr>\n",
              "    <tr>\n",
              "      <th>1</th>\n",
              "      <td>седан</td>\n",
              "      <td>AUDI</td>\n",
              "      <td>серебристый</td>\n",
              "      <td>Продажа от собственника, второй владелец, ПТС ...</td>\n",
              "      <td>2.8 LTR</td>\n",
              "      <td>204 N12</td>\n",
              "      <td>бензин</td>\n",
              "      <td>183000</td>\n",
              "      <td>2011</td>\n",
              "      <td>A6</td>\n",
              "      <td>2.8 CVT (204 л.с.)</td>\n",
              "      <td>4</td>\n",
              "      <td>850000.0</td>\n",
              "      <td>2011</td>\n",
              "      <td>1095836906</td>\n",
              "      <td>SEDAN VARIATOR 2.8</td>\n",
              "      <td>вариатор</td>\n",
              "      <td>2 владельца</td>\n",
              "      <td>8 лет и 6 месяцев</td>\n",
              "      <td>Оригинал</td>\n",
              "      <td>передний</td>\n",
              "      <td>Левый</td>\n",
              "    </tr>\n",
              "    <tr>\n",
              "      <th>2</th>\n",
              "      <td>седан</td>\n",
              "      <td>MERCEDES</td>\n",
              "      <td>чёрный</td>\n",
              "      <td>Внимание! Только для клиентов AVILON Автомобил...</td>\n",
              "      <td>3.5 LTR</td>\n",
              "      <td>306 N12</td>\n",
              "      <td>бензин</td>\n",
              "      <td>122733</td>\n",
              "      <td>2009</td>\n",
              "      <td>E_KLASSE</td>\n",
              "      <td>350 3.5 AT (306 л.с.) 4WD</td>\n",
              "      <td>4</td>\n",
              "      <td>1325000.0</td>\n",
              "      <td>2013</td>\n",
              "      <td>1100195530</td>\n",
              "      <td>SEDAN AUTOMATIC 3.5</td>\n",
              "      <td>автоматическая</td>\n",
              "      <td>3 или более</td>\n",
              "      <td>NaN</td>\n",
              "      <td>Оригинал</td>\n",
              "      <td>полный</td>\n",
              "      <td>Левый</td>\n",
              "    </tr>\n",
              "    <tr>\n",
              "      <th>3</th>\n",
              "      <td>седан</td>\n",
              "      <td>AUDI</td>\n",
              "      <td>белый</td>\n",
              "      <td>В комплекте зимние колёса. 27.07.2020 Замена п...</td>\n",
              "      <td>2.0 LTR</td>\n",
              "      <td>180 N12</td>\n",
              "      <td>бензин</td>\n",
              "      <td>151000</td>\n",
              "      <td>2011</td>\n",
              "      <td>A6</td>\n",
              "      <td>2.0 CVT (180 л.с.)</td>\n",
              "      <td>4</td>\n",
              "      <td>815000.0</td>\n",
              "      <td>2011</td>\n",
              "      <td>1099880662</td>\n",
              "      <td>SEDAN VARIATOR 2.0</td>\n",
              "      <td>вариатор</td>\n",
              "      <td>3 или более</td>\n",
              "      <td>4 года и 9 месяцев</td>\n",
              "      <td>Оригинал</td>\n",
              "      <td>передний</td>\n",
              "      <td>Левый</td>\n",
              "    </tr>\n",
              "    <tr>\n",
              "      <th>4</th>\n",
              "      <td>лифтбек</td>\n",
              "      <td>AUDI</td>\n",
              "      <td>белый</td>\n",
              "      <td>Отличный авто, 2011 года выпуска, кроме передн...</td>\n",
              "      <td>1.8 LTR</td>\n",
              "      <td>160 N12</td>\n",
              "      <td>бензин</td>\n",
              "      <td>140000</td>\n",
              "      <td>2007</td>\n",
              "      <td>A5</td>\n",
              "      <td>1.8 CVT (160 л.с.)</td>\n",
              "      <td>5</td>\n",
              "      <td>810000.0</td>\n",
              "      <td>2011</td>\n",
              "      <td>1083244610</td>\n",
              "      <td>LIFTBACK VARIATOR 1.8</td>\n",
              "      <td>вариатор</td>\n",
              "      <td>3 или более</td>\n",
              "      <td>2 года и 9 месяцев</td>\n",
              "      <td>Оригинал</td>\n",
              "      <td>передний</td>\n",
              "      <td>Левый</td>\n",
              "    </tr>\n",
              "  </tbody>\n",
              "</table>\n",
              "</div>"
            ],
            "text/plain": [
              "  bodyType     brand        color  ...       ПТС    Привод   Руль\n",
              "0    седан       BMW       чёрный  ...  Оригинал    полный  Левый\n",
              "1    седан      AUDI  серебристый  ...  Оригинал  передний  Левый\n",
              "2    седан  MERCEDES       чёрный  ...  Оригинал    полный  Левый\n",
              "3    седан      AUDI        белый  ...  Оригинал  передний  Левый\n",
              "4  лифтбек      AUDI        белый  ...  Оригинал  передний  Левый\n",
              "\n",
              "[5 rows x 22 columns]"
            ]
          },
          "metadata": {
            "tags": []
          },
          "execution_count": 114
        }
      ]
    },
    {
      "cell_type": "markdown",
      "metadata": {
        "id": "mkjofNYdjE_B"
      },
      "source": [
        "Построим *наивную* модель, чтобы понять в какую сторону двигаемся - к **улучшению** или к **ухудшению**.\n",
        "\n",
        "Модель будет предсказывать среднюю цену авто по модели и году выпуска.\n"
      ]
    },
    {
      "cell_type": "code",
      "metadata": {
        "id": "CMRVKs_Fl6oA"
      },
      "source": [
        "def mape(y_true, y_pred):\n",
        "    return np.mean(np.abs((y_pred-y_true)/y_true))"
      ],
      "execution_count": 115,
      "outputs": []
    },
    {
      "cell_type": "code",
      "metadata": {
        "id": "IzFCdLtUj5qf"
      },
      "source": [
        "train_data, test_data = train_test_split(train, test_size=0.15, shuffle=True, random_state=RANDOM_SEED)"
      ],
      "execution_count": 116,
      "outputs": []
    },
    {
      "cell_type": "code",
      "metadata": {
        "id": "-h16w8vnlgAe",
        "outputId": "d3a4f6d5-1408-4ec2-91a6-e3fc3eeca38e",
        "colab": {
          "base_uri": "https://localhost:8080/"
        }
      },
      "source": [
        "# Вместо iterrows() лучше всего использовать \"Vectorization with Pandas series\" и \"Vectorization with NumPy arrays\", так как\n",
        "# они работают намного быстрее чем \"iterrows()\" и \"apply()\". В данном случае воспользуемся \"iterrows()\" так как датасет не такой большой.\n",
        "\n",
        "predicts = []\n",
        "for index, row in pd.DataFrame(test_data[['model_info', 'productionDate']]).iterrows():\n",
        "    query = f\"model_info == '{row[0]}' and productionDate == '{row[1]}'\"\n",
        "    predicts.append(train_data.query(query)['price'].median())\n",
        "\n",
        "# заполним не найденные совпадения\n",
        "predicts = pd.DataFrame(predicts)\n",
        "predicts = predicts.fillna(predicts.median())\n",
        "\n",
        "# округлим\n",
        "predicts = (predicts // 1000) * 1000\n",
        "\n",
        "#оцениваем точность\n",
        "print(f\"Точность наивной модели по метрике MAPE: {(mape(test_data['price'], predicts.values[:, 0]))*100:0.2f}%\")"
      ],
      "execution_count": 117,
      "outputs": [
        {
          "output_type": "stream",
          "text": [
            "Точность наивной модели по метрике MAPE: 19.88%\n"
          ],
          "name": "stdout"
        }
      ]
    },
    {
      "cell_type": "markdown",
      "metadata": {
        "id": "PRrqmc4kmiv4"
      },
      "source": [
        "По поводу итераций подробно расписано [здесь](https://stackoverflow.com/questions/16476924/how-to-iterate-over-rows-in-a-dataframe-in-pandas)"
      ]
    },
    {
      "cell_type": "markdown",
      "metadata": {
        "id": "cI6RgyiTmyNk"
      },
      "source": [
        "# EDA AND PREPROCCESING"
      ]
    },
    {
      "cell_type": "markdown",
      "metadata": {
        "id": "1MWLtiS-EyS2"
      },
      "source": [
        "Для удобства переименнуем признаки"
      ]
    },
    {
      "cell_type": "code",
      "metadata": {
        "id": "jkp-kCQ2EyS2"
      },
      "source": [
        "train.rename(columns={'bodyType': 'body',\n",
        "                     'engineDisplacement': 'engine_displacement',\n",
        "                     'enginePower': 'engine_power',\n",
        "                     'fuelType': 'fuel',\n",
        "                     'modelDate': 'model_date',\n",
        "                     'numberOfDoors': 'num_of_doors',\n",
        "                     'productionDate': 'production_date',\n",
        "                     'vehicleConfiguration': 'vehicle_configuration',\n",
        "                     'vehicleTransmission': 'transmission',\n",
        "                     'Владельцы': 'owners',\n",
        "                     'ПТС': 'vehicle_title',\n",
        "                     'Владение': 'ownership',\n",
        "                     'Привод': 'drive_type',\n",
        "                     'Руль': 'wheel'}, inplace=True)\n",
        "\n",
        "test.rename(columns={'bodyType': 'body',\n",
        "                     'engineDisplacement': 'engine_displacement',\n",
        "                     'enginePower': 'engine_power',\n",
        "                     'fuelType': 'fuel',\n",
        "                     'modelDate': 'model_date',\n",
        "                     'numberOfDoors': 'num_of_doors',\n",
        "                     'productionDate': 'production_date',\n",
        "                     'vehicleConfiguration': 'vehicle_configuration',\n",
        "                     'vehicleTransmission': 'transmission',\n",
        "                     'Владельцы': 'owners',\n",
        "                     'ПТС': 'vehicle_title',\n",
        "                     'Владение': 'ownership',\n",
        "                     'Привод': 'drive_type',\n",
        "                     'Руль': 'wheel'}, inplace=True)"
      ],
      "execution_count": 118,
      "outputs": []
    },
    {
      "cell_type": "code",
      "metadata": {
        "id": "3_KpbrQ2x5ax"
      },
      "source": [
        "# Анализ признаков\n",
        "def column_info(column): \n",
        "\n",
        "    if column.dtype == 'O':\n",
        "        print(column.describe())\n",
        "        print('-----------------------------')\n",
        "        print(column.value_counts())\n",
        "\n",
        "    else:\n",
        "        print(column.describe())\n",
        "        plt.figure(figsize=(11,6))\n",
        "        column.plot(kind='hist', bins=20, edgecolor='black' ,linewidth=1.2)"
      ],
      "execution_count": 119,
      "outputs": []
    },
    {
      "cell_type": "code",
      "metadata": {
        "id": "s-VPlDFuiGDP",
        "outputId": "ccbc85a6-98ee-4c77-8b3f-a4c4dc702ee9",
        "colab": {
          "base_uri": "https://localhost:8080/"
        }
      },
      "source": [
        "train.duplicated().value_counts()"
      ],
      "execution_count": 120,
      "outputs": [
        {
          "output_type": "execute_result",
          "data": {
            "text/plain": [
              "False    6682\n",
              "dtype: int64"
            ]
          },
          "metadata": {
            "tags": []
          },
          "execution_count": 120
        }
      ]
    },
    {
      "cell_type": "code",
      "metadata": {
        "id": "Jh1XxYdiiUmQ",
        "outputId": "f8b28fa8-4dad-435b-fa9b-3fa2029ed9c0",
        "colab": {
          "base_uri": "https://localhost:8080/"
        }
      },
      "source": [
        "test.duplicated().value_counts()"
      ],
      "execution_count": 121,
      "outputs": [
        {
          "output_type": "execute_result",
          "data": {
            "text/plain": [
              "False    1671\n",
              "dtype: int64"
            ]
          },
          "metadata": {
            "tags": []
          },
          "execution_count": 121
        }
      ]
    },
    {
      "cell_type": "markdown",
      "metadata": {
        "id": "DtcsvhWH4pst"
      },
      "source": [
        "## body"
      ]
    },
    {
      "cell_type": "code",
      "metadata": {
        "id": "9hkDpJSPzIbi",
        "outputId": "bff52851-e8de-4bbe-85cd-8f8655b770e6",
        "colab": {
          "base_uri": "https://localhost:8080/"
        }
      },
      "source": [
        "column_info(train.body)"
      ],
      "execution_count": 122,
      "outputs": [
        {
          "output_type": "stream",
          "text": [
            "count      6682\n",
            "unique       17\n",
            "top       седан\n",
            "freq       2843\n",
            "Name: body, dtype: object\n",
            "-----------------------------\n",
            "седан                   2843\n",
            "внедорожник 5 дв.       2315\n",
            "купе                     427\n",
            "хэтчбек 5 дв.            296\n",
            "лифтбек                  245\n",
            "универсал 5 дв.          153\n",
            "минивэн                  146\n",
            "купе-хардтоп              91\n",
            "родстер                   60\n",
            "кабриолет                 44\n",
            "хэтчбек 3 дв.             41\n",
            "компактвэн                 8\n",
            "лимузин                    5\n",
            "внедорожник 3 дв.          3\n",
            "пикап двойная кабина       2\n",
            "внедорожник открытый       2\n",
            "седан 2 дв.                1\n",
            "Name: body, dtype: int64\n"
          ],
          "name": "stdout"
        }
      ]
    },
    {
      "cell_type": "code",
      "metadata": {
        "id": "TPELLS2fEyS9",
        "outputId": "077a26d7-d449-4918-d179-c29585d89dc6",
        "colab": {
          "base_uri": "https://localhost:8080/"
        }
      },
      "source": [
        "column_info(test.body)"
      ],
      "execution_count": 123,
      "outputs": [
        {
          "output_type": "stream",
          "text": [
            "count      1671\n",
            "unique       14\n",
            "top       седан\n",
            "freq        698\n",
            "Name: body, dtype: object\n",
            "-----------------------------\n",
            "седан                   698\n",
            "внедорожник 5 дв.       581\n",
            "купе                    116\n",
            "хэтчбек 5 дв.            68\n",
            "лифтбек                  54\n",
            "универсал 5 дв.          43\n",
            "минивэн                  32\n",
            "родстер                  28\n",
            "купе-хардтоп             20\n",
            "хэтчбек 3 дв.            16\n",
            "кабриолет                10\n",
            "внедорожник 3 дв.         2\n",
            "внедорожник открытый      2\n",
            "пикап двойная кабина      1\n",
            "Name: body, dtype: int64\n"
          ],
          "name": "stdout"
        }
      ]
    },
    {
      "cell_type": "markdown",
      "metadata": {
        "id": "oVDXHQIJ6fic"
      },
      "source": [
        "## brand"
      ]
    },
    {
      "cell_type": "code",
      "metadata": {
        "id": "jKthb6UW6gn9",
        "outputId": "985fd448-41c6-4714-bd6e-4e8f11fd9d57",
        "colab": {
          "base_uri": "https://localhost:8080/"
        }
      },
      "source": [
        "column_info(train.brand)"
      ],
      "execution_count": 124,
      "outputs": [
        {
          "output_type": "stream",
          "text": [
            "count     6682\n",
            "unique       3\n",
            "top        BMW\n",
            "freq      2805\n",
            "Name: brand, dtype: object\n",
            "-----------------------------\n",
            "BMW         2805\n",
            "MERCEDES    2294\n",
            "AUDI        1583\n",
            "Name: brand, dtype: int64\n"
          ],
          "name": "stdout"
        }
      ]
    },
    {
      "cell_type": "code",
      "metadata": {
        "id": "REwFJqHiEyTF",
        "outputId": "eb53e4bf-be50-466d-8369-58e922e57776",
        "colab": {
          "base_uri": "https://localhost:8080/"
        }
      },
      "source": [
        "column_info(test.brand)"
      ],
      "execution_count": 125,
      "outputs": [
        {
          "output_type": "stream",
          "text": [
            "count     1671\n",
            "unique       3\n",
            "top        BMW\n",
            "freq       730\n",
            "Name: brand, dtype: object\n",
            "-----------------------------\n",
            "BMW         730\n",
            "MERCEDES    552\n",
            "AUDI        389\n",
            "Name: brand, dtype: int64\n"
          ],
          "name": "stdout"
        }
      ]
    },
    {
      "cell_type": "markdown",
      "metadata": {
        "id": "aoPhKiHI6nrS"
      },
      "source": [
        "## color"
      ]
    },
    {
      "cell_type": "code",
      "metadata": {
        "id": "VryJ3sWd6nHj",
        "scrolled": false,
        "outputId": "0d4b0142-f6b3-45fc-a5e6-5e0aeb2390e8",
        "colab": {
          "base_uri": "https://localhost:8080/"
        }
      },
      "source": [
        "column_info(train.color)"
      ],
      "execution_count": 126,
      "outputs": [
        {
          "output_type": "stream",
          "text": [
            "count       6682\n",
            "unique        16\n",
            "top       чёрный\n",
            "freq        2805\n",
            "Name: color, dtype: object\n",
            "-----------------------------\n",
            "чёрный         2805\n",
            "белый          1263\n",
            "серый           733\n",
            "синий           685\n",
            "серебристый     341\n",
            "коричневый      307\n",
            "красный         203\n",
            "бежевый          76\n",
            "голубой          72\n",
            "зелёный          70\n",
            "фиолетовый       37\n",
            "пурпурный        30\n",
            "оранжевый        22\n",
            "золотистый       21\n",
            "жёлтый           16\n",
            "розовый           1\n",
            "Name: color, dtype: int64\n"
          ],
          "name": "stdout"
        }
      ]
    },
    {
      "cell_type": "code",
      "metadata": {
        "id": "IyUtQEoeEyTL",
        "outputId": "46c1ce07-e201-4895-e685-18e10d392de8",
        "colab": {
          "base_uri": "https://localhost:8080/"
        }
      },
      "source": [
        "column_info(test.color)"
      ],
      "execution_count": 127,
      "outputs": [
        {
          "output_type": "stream",
          "text": [
            "count       1671\n",
            "unique        15\n",
            "top       чёрный\n",
            "freq         663\n",
            "Name: color, dtype: object\n",
            "-----------------------------\n",
            "чёрный         663\n",
            "белый          344\n",
            "серый          192\n",
            "синий          178\n",
            "серебристый     79\n",
            "коричневый      79\n",
            "красный         63\n",
            "голубой         19\n",
            "зелёный         16\n",
            "фиолетовый       9\n",
            "бежевый          9\n",
            "пурпурный        8\n",
            "оранжевый        8\n",
            "золотистый       3\n",
            "жёлтый           1\n",
            "Name: color, dtype: int64\n"
          ],
          "name": "stdout"
        }
      ]
    },
    {
      "cell_type": "markdown",
      "metadata": {
        "id": "BK56QTP46w1s"
      },
      "source": [
        "## engine_displacement"
      ]
    },
    {
      "cell_type": "code",
      "metadata": {
        "id": "76i4gDxV619c",
        "scrolled": true,
        "outputId": "b1ce2ba3-d4ec-4325-8b84-d22eb57c2a46",
        "colab": {
          "base_uri": "https://localhost:8080/"
        }
      },
      "source": [
        "column_info(train.engine_displacement)"
      ],
      "execution_count": 128,
      "outputs": [
        {
          "output_type": "stream",
          "text": [
            "count        6682\n",
            "unique         48\n",
            "top       2.0 LTR\n",
            "freq         1929\n",
            "Name: engine_displacement, dtype: object\n",
            "-----------------------------\n",
            "2.0 LTR          1929\n",
            "3.0 LTR          1862\n",
            "1.8 LTR           329\n",
            "1.6 LTR           327\n",
            "4.4 LTR           260\n",
            "5.5 LTR           227\n",
            "3.5 LTR           208\n",
            "2.5 LTR           203\n",
            "2.1 LTR           181\n",
            "4.0 LTR           121\n",
            "4.7 LTR           109\n",
            "2.8 LTR            89\n",
            "1.4 LTR            82\n",
            "4.2 LTR            80\n",
            "1.5 LTR            61\n",
            "5.0 LTR            60\n",
            "3.2 LTR            49\n",
            "2.2 LTR            44\n",
            "2.9 LTR            43\n",
            "4.8 LTR            41\n",
            "3.1 LTR            39\n",
            "2.4 LTR            38\n",
            "6.2 LTR            31\n",
            "1.3 LTR            30\n",
            "6.0 LTR            30\n",
            "5.4 LTR            27\n",
            "1.2 LTR            26\n",
            "2.7 LTR            22\n",
            "4.1 LTR            19\n",
            "3.6 LTR            18\n",
            "1.7 LTR            11\n",
            "3.7 LTR            11\n",
            "5.2 LTR            10\n",
            "5.9 LTR            10\n",
            "2.6 LTR             7\n",
            "4.6 LTR             5\n",
            "2.3 LTR             5\n",
            "0.7 LTR             5\n",
            "undefined LTR       5\n",
            "3.4 LTR             4\n",
            "1.9 LTR             4\n",
            "6.6 LTR             4\n",
            "5.8 LTR             3\n",
            "6.3 LTR             3\n",
            "5.6 LTR             3\n",
            "4.3 LTR             3\n",
            "4.9 LTR             2\n",
            "3.8 LTR             2\n",
            "Name: engine_displacement, dtype: int64\n"
          ],
          "name": "stdout"
        }
      ]
    },
    {
      "cell_type": "code",
      "metadata": {
        "id": "KPtu8WpuEyTQ",
        "outputId": "af997ae6-a33a-49dd-a238-63207c07ff52",
        "colab": {
          "base_uri": "https://localhost:8080/"
        }
      },
      "source": [
        "column_info(test.engine_displacement)"
      ],
      "execution_count": 129,
      "outputs": [
        {
          "output_type": "stream",
          "text": [
            "count        1671\n",
            "unique         43\n",
            "top       2.0 LTR\n",
            "freq          501\n",
            "Name: engine_displacement, dtype: object\n",
            "-----------------------------\n",
            "2.0 LTR          501\n",
            "3.0 LTR          487\n",
            "1.6 LTR           83\n",
            "1.8 LTR           82\n",
            "4.4 LTR           69\n",
            "2.5 LTR           45\n",
            "3.5 LTR           42\n",
            "5.5 LTR           41\n",
            "2.1 LTR           40\n",
            "4.0 LTR           32\n",
            "4.7 LTR           28\n",
            "1.4 LTR           24\n",
            "4.2 LTR           23\n",
            "2.8 LTR           17\n",
            "4.8 LTR           16\n",
            "2.2 LTR           14\n",
            "5.0 LTR           14\n",
            "1.5 LTR           12\n",
            "3.2 LTR           11\n",
            "2.3 LTR            9\n",
            "6.2 LTR            9\n",
            "2.9 LTR            7\n",
            "1.2 LTR            7\n",
            "6.0 LTR            7\n",
            "2.4 LTR            6\n",
            "5.4 LTR            6\n",
            "3.1 LTR            5\n",
            "3.6 LTR            5\n",
            "1.7 LTR            4\n",
            "4.1 LTR            4\n",
            "5.2 LTR            3\n",
            "3.7 LTR            3\n",
            "1.3 LTR            2\n",
            "5.8 LTR            2\n",
            "2.7 LTR            2\n",
            "2.6 LTR            2\n",
            "undefined LTR      1\n",
            "1.9 LTR            1\n",
            "4.3 LTR            1\n",
            "6.6 LTR            1\n",
            "5.9 LTR            1\n",
            "0.7 LTR            1\n",
            "3.8 LTR            1\n",
            "Name: engine_displacement, dtype: int64\n"
          ],
          "name": "stdout"
        }
      ]
    },
    {
      "cell_type": "code",
      "metadata": {
        "id": "9MHBEiti7FMT",
        "outputId": "9b129c61-9e27-4b0c-e19f-69a3b20408f3",
        "colab": {
          "base_uri": "https://localhost:8080/",
          "height": 496
        }
      },
      "source": [
        "train[train.engine_displacement=='undefined LTR']"
      ],
      "execution_count": 130,
      "outputs": [
        {
          "output_type": "execute_result",
          "data": {
            "text/html": [
              "<div>\n",
              "<style scoped>\n",
              "    .dataframe tbody tr th:only-of-type {\n",
              "        vertical-align: middle;\n",
              "    }\n",
              "\n",
              "    .dataframe tbody tr th {\n",
              "        vertical-align: top;\n",
              "    }\n",
              "\n",
              "    .dataframe thead th {\n",
              "        text-align: right;\n",
              "    }\n",
              "</style>\n",
              "<table border=\"1\" class=\"dataframe\">\n",
              "  <thead>\n",
              "    <tr style=\"text-align: right;\">\n",
              "      <th></th>\n",
              "      <th>body</th>\n",
              "      <th>brand</th>\n",
              "      <th>color</th>\n",
              "      <th>description</th>\n",
              "      <th>engine_displacement</th>\n",
              "      <th>engine_power</th>\n",
              "      <th>fuel</th>\n",
              "      <th>mileage</th>\n",
              "      <th>model_date</th>\n",
              "      <th>model_info</th>\n",
              "      <th>name</th>\n",
              "      <th>num_of_doors</th>\n",
              "      <th>price</th>\n",
              "      <th>production_date</th>\n",
              "      <th>sell_id</th>\n",
              "      <th>vehicle_configuration</th>\n",
              "      <th>transmission</th>\n",
              "      <th>owners</th>\n",
              "      <th>ownership</th>\n",
              "      <th>vehicle_title</th>\n",
              "      <th>drive_type</th>\n",
              "      <th>wheel</th>\n",
              "    </tr>\n",
              "  </thead>\n",
              "  <tbody>\n",
              "    <tr>\n",
              "      <th>2296</th>\n",
              "      <td>хэтчбек 5 дв.</td>\n",
              "      <td>BMW</td>\n",
              "      <td>чёрный</td>\n",
              "      <td>Автомобиль в наличии Москве , с ПТС , производ...</td>\n",
              "      <td>undefined LTR</td>\n",
              "      <td>184 N12</td>\n",
              "      <td>электро</td>\n",
              "      <td>9000</td>\n",
              "      <td>2017</td>\n",
              "      <td>I3</td>\n",
              "      <td>S Electro AT (136 кВт)</td>\n",
              "      <td>5</td>\n",
              "      <td>2719000.0</td>\n",
              "      <td>2019</td>\n",
              "      <td>1100083262</td>\n",
              "      <td>HATCHBACK_5_DOORS AUTOMATIC</td>\n",
              "      <td>автоматическая</td>\n",
              "      <td>1 владелец</td>\n",
              "      <td>NaN</td>\n",
              "      <td>Оригинал</td>\n",
              "      <td>задний</td>\n",
              "      <td>Левый</td>\n",
              "    </tr>\n",
              "    <tr>\n",
              "      <th>3725</th>\n",
              "      <td>хэтчбек 5 дв.</td>\n",
              "      <td>BMW</td>\n",
              "      <td>чёрный</td>\n",
              "      <td>BMW i3 Электромобиль с бензиновым генератором,...</td>\n",
              "      <td>undefined LTR</td>\n",
              "      <td>170 N12</td>\n",
              "      <td>электро</td>\n",
              "      <td>39500</td>\n",
              "      <td>2017</td>\n",
              "      <td>I3</td>\n",
              "      <td>Electro AT (126 кВт)</td>\n",
              "      <td>5</td>\n",
              "      <td>2299711.0</td>\n",
              "      <td>2017</td>\n",
              "      <td>1098041130</td>\n",
              "      <td>HATCHBACK_5_DOORS AUTOMATIC</td>\n",
              "      <td>автоматическая</td>\n",
              "      <td>1 владелец</td>\n",
              "      <td>2 года и 11 месяцев</td>\n",
              "      <td>Оригинал</td>\n",
              "      <td>задний</td>\n",
              "      <td>Левый</td>\n",
              "    </tr>\n",
              "    <tr>\n",
              "      <th>3726</th>\n",
              "      <td>хэтчбек 5 дв.</td>\n",
              "      <td>BMW</td>\n",
              "      <td>голубой</td>\n",
              "      <td>Прибыло из Америки в августе 20 года. Полная и...</td>\n",
              "      <td>undefined LTR</td>\n",
              "      <td>170 N12</td>\n",
              "      <td>электро</td>\n",
              "      <td>28800</td>\n",
              "      <td>2017</td>\n",
              "      <td>I3</td>\n",
              "      <td>Electro AT (126 кВт)</td>\n",
              "      <td>5</td>\n",
              "      <td>2170000.0</td>\n",
              "      <td>2017</td>\n",
              "      <td>1100097316</td>\n",
              "      <td>HATCHBACK_5_DOORS AUTOMATIC</td>\n",
              "      <td>автоматическая</td>\n",
              "      <td>1 владелец</td>\n",
              "      <td>NaN</td>\n",
              "      <td>Оригинал</td>\n",
              "      <td>задний</td>\n",
              "      <td>Левый</td>\n",
              "    </tr>\n",
              "    <tr>\n",
              "      <th>5862</th>\n",
              "      <td>хэтчбек 5 дв.</td>\n",
              "      <td>BMW</td>\n",
              "      <td>белый</td>\n",
              "      <td>В наличии! Автомобиль куплен в США! Комплектац...</td>\n",
              "      <td>undefined LTR</td>\n",
              "      <td>170 N12</td>\n",
              "      <td>электро</td>\n",
              "      <td>35810</td>\n",
              "      <td>2013</td>\n",
              "      <td>I3</td>\n",
              "      <td>Electro AT (126 кВт)</td>\n",
              "      <td>5</td>\n",
              "      <td>1690000.0</td>\n",
              "      <td>2016</td>\n",
              "      <td>1100153696</td>\n",
              "      <td>HATCHBACK_5_DOORS AUTOMATIC</td>\n",
              "      <td>автоматическая</td>\n",
              "      <td>1 владелец</td>\n",
              "      <td>NaN</td>\n",
              "      <td>Оригинал</td>\n",
              "      <td>задний</td>\n",
              "      <td>Левый</td>\n",
              "    </tr>\n",
              "    <tr>\n",
              "      <th>6283</th>\n",
              "      <td>хэтчбек 5 дв.</td>\n",
              "      <td>BMW</td>\n",
              "      <td>чёрный</td>\n",
              "      <td>Авто в идеальном состоянии\\nЕсть REX (range ex...</td>\n",
              "      <td>undefined LTR</td>\n",
              "      <td>170 N12</td>\n",
              "      <td>электро</td>\n",
              "      <td>60000</td>\n",
              "      <td>2013</td>\n",
              "      <td>I3</td>\n",
              "      <td>Electro AT (126 кВт)</td>\n",
              "      <td>5</td>\n",
              "      <td>1790000.0</td>\n",
              "      <td>2015</td>\n",
              "      <td>1097395090</td>\n",
              "      <td>HATCHBACK_5_DOORS AUTOMATIC</td>\n",
              "      <td>автоматическая</td>\n",
              "      <td>1 владелец</td>\n",
              "      <td>NaN</td>\n",
              "      <td>Оригинал</td>\n",
              "      <td>задний</td>\n",
              "      <td>Левый</td>\n",
              "    </tr>\n",
              "  </tbody>\n",
              "</table>\n",
              "</div>"
            ],
            "text/plain": [
              "               body brand    color  ... vehicle_title drive_type  wheel\n",
              "2296  хэтчбек 5 дв.   BMW   чёрный  ...      Оригинал     задний  Левый\n",
              "3725  хэтчбек 5 дв.   BMW   чёрный  ...      Оригинал     задний  Левый\n",
              "3726  хэтчбек 5 дв.   BMW  голубой  ...      Оригинал     задний  Левый\n",
              "5862  хэтчбек 5 дв.   BMW    белый  ...      Оригинал     задний  Левый\n",
              "6283  хэтчбек 5 дв.   BMW   чёрный  ...      Оригинал     задний  Левый\n",
              "\n",
              "[5 rows x 22 columns]"
            ]
          },
          "metadata": {
            "tags": []
          },
          "execution_count": 130
        }
      ]
    },
    {
      "cell_type": "code",
      "metadata": {
        "id": "5XT8GdJqEyTV",
        "outputId": "531eb2da-51c4-463e-c1ba-f363e41ccb7f",
        "colab": {
          "base_uri": "https://localhost:8080/",
          "height": 151
        }
      },
      "source": [
        "test[test.engine_displacement=='undefined LTR']"
      ],
      "execution_count": 131,
      "outputs": [
        {
          "output_type": "execute_result",
          "data": {
            "text/html": [
              "<div>\n",
              "<style scoped>\n",
              "    .dataframe tbody tr th:only-of-type {\n",
              "        vertical-align: middle;\n",
              "    }\n",
              "\n",
              "    .dataframe tbody tr th {\n",
              "        vertical-align: top;\n",
              "    }\n",
              "\n",
              "    .dataframe thead th {\n",
              "        text-align: right;\n",
              "    }\n",
              "</style>\n",
              "<table border=\"1\" class=\"dataframe\">\n",
              "  <thead>\n",
              "    <tr style=\"text-align: right;\">\n",
              "      <th></th>\n",
              "      <th>body</th>\n",
              "      <th>brand</th>\n",
              "      <th>color</th>\n",
              "      <th>description</th>\n",
              "      <th>engine_displacement</th>\n",
              "      <th>engine_power</th>\n",
              "      <th>fuel</th>\n",
              "      <th>mileage</th>\n",
              "      <th>model_date</th>\n",
              "      <th>model_info</th>\n",
              "      <th>name</th>\n",
              "      <th>num_of_doors</th>\n",
              "      <th>production_date</th>\n",
              "      <th>sell_id</th>\n",
              "      <th>vehicle_configuration</th>\n",
              "      <th>transmission</th>\n",
              "      <th>owners</th>\n",
              "      <th>ownership</th>\n",
              "      <th>vehicle_title</th>\n",
              "      <th>drive_type</th>\n",
              "      <th>wheel</th>\n",
              "    </tr>\n",
              "  </thead>\n",
              "  <tbody>\n",
              "    <tr>\n",
              "      <th>1005</th>\n",
              "      <td>хэтчбек 5 дв.</td>\n",
              "      <td>BMW</td>\n",
              "      <td>серебристый</td>\n",
              "      <td>.</td>\n",
              "      <td>undefined LTR</td>\n",
              "      <td>170 N12</td>\n",
              "      <td>электро</td>\n",
              "      <td>89942</td>\n",
              "      <td>2013</td>\n",
              "      <td>I3</td>\n",
              "      <td>Electro AT (126 кВт)</td>\n",
              "      <td>5</td>\n",
              "      <td>2014</td>\n",
              "      <td>1100166318</td>\n",
              "      <td>HATCHBACK_5_DOORS AUTOMATIC</td>\n",
              "      <td>автоматическая</td>\n",
              "      <td>1 владелец</td>\n",
              "      <td>NaN</td>\n",
              "      <td>Оригинал</td>\n",
              "      <td>задний</td>\n",
              "      <td>Левый</td>\n",
              "    </tr>\n",
              "  </tbody>\n",
              "</table>\n",
              "</div>"
            ],
            "text/plain": [
              "               body brand        color  ... vehicle_title drive_type  wheel\n",
              "1005  хэтчбек 5 дв.   BMW  серебристый  ...      Оригинал     задний  Левый\n",
              "\n",
              "[1 rows x 21 columns]"
            ]
          },
          "metadata": {
            "tags": []
          },
          "execution_count": 131
        }
      ]
    },
    {
      "cell_type": "markdown",
      "metadata": {
        "id": "RGfPaR5Q7mpW"
      },
      "source": [
        "По данным видно, что это электрокары. Гугл говорит, что у модели i3 объем двигателя составляет **0.6**."
      ]
    },
    {
      "cell_type": "markdown",
      "metadata": {
        "id": "uwfwyqD2-Qsr"
      },
      "source": [
        "## engine_power"
      ]
    },
    {
      "cell_type": "code",
      "metadata": {
        "id": "VsBTmlGb-TNy",
        "outputId": "a34669b1-3666-4ff5-d3e7-7b811ade0826",
        "colab": {
          "base_uri": "https://localhost:8080/"
        }
      },
      "source": [
        "column_info(train.engine_power)"
      ],
      "execution_count": 132,
      "outputs": [
        {
          "output_type": "stream",
          "text": [
            "count        6682\n",
            "unique        146\n",
            "top       184 N12\n",
            "freq          602\n",
            "Name: engine_power, dtype: object\n",
            "-----------------------------\n",
            "184 N12    602\n",
            "249 N12    531\n",
            "190 N12    343\n",
            "306 N12    282\n",
            "245 N12    274\n",
            "211 N12    244\n",
            "150 N12    218\n",
            "170 N12    215\n",
            "218 N12    189\n",
            "156 N12    177\n",
            "272 N12    163\n",
            "136 N12    159\n",
            "231 N12    144\n",
            "204 N12    138\n",
            "258 N12    131\n",
            "333 N12    124\n",
            "180 N12    115\n",
            "177 N12    109\n",
            "122 N12     81\n",
            "585 N12     79\n",
            "367 N12     78\n",
            "224 N12     76\n",
            "407 N12     74\n",
            "388 N12     72\n",
            "225 N12     71\n",
            "160 N12     67\n",
            "450 N12     62\n",
            "192 N12     62\n",
            "340 N12     62\n",
            "235 N12     62\n",
            "320 N12     58\n",
            "313 N12     54\n",
            "435 N12     50\n",
            "163 N12     49\n",
            "115 N12     48\n",
            "455 N12     42\n",
            "265 N12     40\n",
            "381 N12     39\n",
            "555 N12     39\n",
            "290 N12     39\n",
            "310 N12     39\n",
            "300 N12     38\n",
            "197 N12     35\n",
            "575 N12     34\n",
            "286 N12     32\n",
            "350 N12     31\n",
            "220 N12     28\n",
            "612 N12     28\n",
            "557 N12     26\n",
            "571 N12     24\n",
            "105 N12     24\n",
            "255 N12     24\n",
            "230 N12     23\n",
            "238 N12     23\n",
            "500 N12     23\n",
            "140 N12     23\n",
            "326 N12     22\n",
            "250 N12     22\n",
            "125 N12     22\n",
            "544 N12     22\n",
            "200 N12     22\n",
            "296 N12     22\n",
            "130 N12     22\n",
            "510 N12     21\n",
            "120 N12     21\n",
            "280 N12     20\n",
            "400 N12     20\n",
            "143 N12     20\n",
            "355 N12     19\n",
            "420 N12     19\n",
            "102 N12     18\n",
            "194 N12     17\n",
            "360 N12     16\n",
            "116 N12     16\n",
            "560 N12     16\n",
            "525 N12     15\n",
            "408 N12     15\n",
            "476 N12     15\n",
            "264 N12     15\n",
            "507 N12     14\n",
            "193 N12     13\n",
            "335 N12     13\n",
            "469 N12     13\n",
            "625 N12     11\n",
            "422 N12     11\n",
            "239 N12     11\n",
            "372 N12     10\n",
            "233 N12     10\n",
            "530 N12     10\n",
            "354 N12     10\n",
            "252 N12      9\n",
            "330 N12      9\n",
            "431 N12      9\n",
            "401 N12      9\n",
            "279 N12      8\n",
            "271 N12      8\n",
            "517 N12      8\n",
            "210 N12      7\n",
            "129 N12      7\n",
            "240 N12      6\n",
            "445 N12      6\n",
            "347 N12      6\n",
            "394 N12      6\n",
            "558 N12      6\n",
            "600 N12      5\n",
            "639 N12      5\n",
            "95 N12       5\n",
            "462 N12      4\n",
            "109 N12      4\n",
            "260 N12      4\n",
            "82 N12       4\n",
            "605 N12      4\n",
            "370 N12      4\n",
            "118 N12      4\n",
            "610 N12      4\n",
            "299 N12      3\n",
            "242 N12      3\n",
            "110 N12      3\n",
            "487 N12      3\n",
            "269 N12      3\n",
            "75 N12       2\n",
            "113 N12      2\n",
            "292 N12      2\n",
            "234 N12      2\n",
            "316 N12      2\n",
            "550 N12      2\n",
            "256 N12      2\n",
            "215 N12      2\n",
            "390 N12      2\n",
            "514 N12      2\n",
            "580 N12      1\n",
            "520 N12      1\n",
            "402 N12      1\n",
            "329 N12      1\n",
            "100 N12      1\n",
            "480 N12      1\n",
            "223 N12      1\n",
            "98 N12       1\n",
            "626 N12      1\n",
            "114 N12      1\n",
            "609 N12      1\n",
            "165 N12      1\n",
            "457 N12      1\n",
            "270 N12      1\n",
            "430 N12      1\n",
            "174 N12      1\n",
            "Name: engine_power, dtype: int64\n"
          ],
          "name": "stdout"
        }
      ]
    },
    {
      "cell_type": "code",
      "metadata": {
        "id": "BJOR4K_yEyTa",
        "outputId": "55ef976b-cefa-40d7-d3ac-b38a4bc36982",
        "colab": {
          "base_uri": "https://localhost:8080/"
        }
      },
      "source": [
        "column_info(test.engine_power)"
      ],
      "execution_count": 133,
      "outputs": [
        {
          "output_type": "stream",
          "text": [
            "count        1671\n",
            "unique        120\n",
            "top       184 N12\n",
            "freq          157\n",
            "Name: engine_power, dtype: object\n",
            "-----------------------------\n",
            "184 N12    157\n",
            "249 N12    124\n",
            "245 N12     81\n",
            "190 N12     77\n",
            "211 N12     66\n",
            "306 N12     62\n",
            "150 N12     60\n",
            "170 N12     59\n",
            "156 N12     46\n",
            "218 N12     44\n",
            "272 N12     43\n",
            "136 N12     41\n",
            "333 N12     36\n",
            "204 N12     36\n",
            "231 N12     35\n",
            "180 N12     30\n",
            "258 N12     29\n",
            "367 N12     27\n",
            "225 N12     22\n",
            "177 N12     20\n",
            "407 N12     19\n",
            "455 N12     18\n",
            "160 N12     16\n",
            "224 N12     16\n",
            "340 N12     16\n",
            "585 N12     15\n",
            "320 N12     15\n",
            "235 N12     15\n",
            "122 N12     14\n",
            "163 N12     14\n",
            "555 N12     14\n",
            "286 N12     14\n",
            "115 N12     14\n",
            "435 N12     13\n",
            "313 N12     12\n",
            "239 N12     12\n",
            "192 N12     12\n",
            "197 N12     11\n",
            "450 N12     11\n",
            "557 N12     11\n",
            "388 N12     10\n",
            "575 N12      9\n",
            "300 N12      9\n",
            "125 N12      8\n",
            "420 N12      8\n",
            "194 N12      8\n",
            "510 N12      8\n",
            "250 N12      8\n",
            "355 N12      8\n",
            "143 N12      8\n",
            "310 N12      7\n",
            "326 N12      7\n",
            "381 N12      7\n",
            "354 N12      7\n",
            "233 N12      6\n",
            "265 N12      6\n",
            "469 N12      6\n",
            "372 N12      6\n",
            "105 N12      6\n",
            "193 N12      6\n",
            "200 N12      6\n",
            "507 N12      5\n",
            "290 N12      5\n",
            "220 N12      5\n",
            "525 N12      5\n",
            "400 N12      5\n",
            "360 N12      5\n",
            "394 N12      5\n",
            "140 N12      4\n",
            "255 N12      4\n",
            "560 N12      4\n",
            "296 N12      4\n",
            "230 N12      4\n",
            "350 N12      4\n",
            "544 N12      4\n",
            "102 N12      4\n",
            "116 N12      4\n",
            "264 N12      3\n",
            "422 N12      3\n",
            "280 N12      3\n",
            "279 N12      3\n",
            "390 N12      3\n",
            "130 N12      3\n",
            "612 N12      3\n",
            "210 N12      3\n",
            "625 N12      3\n",
            "421 N12      2\n",
            "269 N12      2\n",
            "129 N12      2\n",
            "335 N12      2\n",
            "580 N12      2\n",
            "401 N12      2\n",
            "462 N12      2\n",
            "120 N12      2\n",
            "321 N12      1\n",
            "238 N12      1\n",
            "240 N12      1\n",
            "101 N12      1\n",
            "110 N12      1\n",
            "113 N12      1\n",
            "500 N12      1\n",
            "133 N12      1\n",
            "609 N12      1\n",
            "252 N12      1\n",
            "571 N12      1\n",
            "639 N12      1\n",
            "591 N12      1\n",
            "166 N12      1\n",
            "700 N12      1\n",
            "316 N12      1\n",
            "626 N12      1\n",
            "408 N12      1\n",
            "270 N12      1\n",
            "487 N12      1\n",
            "445 N12      1\n",
            "109 N12      1\n",
            "476 N12      1\n",
            "605 N12      1\n",
            "370 N12      1\n",
            "132 N12      1\n",
            "Name: engine_power, dtype: int64\n"
          ],
          "name": "stdout"
        }
      ]
    },
    {
      "cell_type": "markdown",
      "metadata": {
        "id": "cBPXBrg8-3Vd"
      },
      "source": [
        "## fuel"
      ]
    },
    {
      "cell_type": "code",
      "metadata": {
        "id": "JLa8k18V-3-_",
        "outputId": "acd626b2-f585-47f9-8caf-2f3a66e71404",
        "colab": {
          "base_uri": "https://localhost:8080/"
        }
      },
      "source": [
        "column_info(train.fuel)"
      ],
      "execution_count": 134,
      "outputs": [
        {
          "output_type": "stream",
          "text": [
            "count       6682\n",
            "unique         4\n",
            "top       бензин\n",
            "freq        4804\n",
            "Name: fuel, dtype: object\n",
            "-----------------------------\n",
            "бензин     4804\n",
            "дизель     1861\n",
            "гибрид       12\n",
            "электро       5\n",
            "Name: fuel, dtype: int64\n"
          ],
          "name": "stdout"
        }
      ]
    },
    {
      "cell_type": "code",
      "metadata": {
        "id": "ipwktA-cEyTg",
        "outputId": "6f5d9567-07b9-4990-dec0-42b5264fcf38",
        "colab": {
          "base_uri": "https://localhost:8080/"
        }
      },
      "source": [
        "column_info(test.fuel)"
      ],
      "execution_count": 135,
      "outputs": [
        {
          "output_type": "stream",
          "text": [
            "count       1671\n",
            "unique         4\n",
            "top       бензин\n",
            "freq        1214\n",
            "Name: fuel, dtype: object\n",
            "-----------------------------\n",
            "бензин     1214\n",
            "дизель      454\n",
            "гибрид        2\n",
            "электро       1\n",
            "Name: fuel, dtype: int64\n"
          ],
          "name": "stdout"
        }
      ]
    },
    {
      "cell_type": "markdown",
      "metadata": {
        "id": "cSN1SpTc--F6"
      },
      "source": [
        "## mileage"
      ]
    },
    {
      "cell_type": "code",
      "metadata": {
        "id": "PGqEsdWV_CF8",
        "scrolled": false,
        "outputId": "03aa71a3-28d7-4055-ce18-471a05946ba5",
        "colab": {
          "base_uri": "https://localhost:8080/",
          "height": 540
        }
      },
      "source": [
        "column_info(train.mileage)"
      ],
      "execution_count": 136,
      "outputs": [
        {
          "output_type": "stream",
          "text": [
            "count      6682.000000\n",
            "mean     120522.610895\n",
            "std       81454.448294\n",
            "min           1.000000\n",
            "25%       59181.250000\n",
            "50%      111000.000000\n",
            "75%      168000.000000\n",
            "max      999999.000000\n",
            "Name: mileage, dtype: float64\n"
          ],
          "name": "stdout"
        },
        {
          "output_type": "display_data",
          "data": {
            "image/png": "[encoded data removed]",
            "text/plain": [
              "<Figure size 792x432 with 1 Axes>"
            ]
          },
          "metadata": {
            "tags": [],
            "needs_background": "light"
          }
        }
      ]
    },
    {
      "cell_type": "code",
      "metadata": {
        "id": "p_2sYI29EyTm",
        "outputId": "f930b66b-62e1-40c0-c584-28883a4441df",
        "colab": {
          "base_uri": "https://localhost:8080/",
          "height": 540
        }
      },
      "source": [
        "column_info(test.mileage)"
      ],
      "execution_count": 137,
      "outputs": [
        {
          "output_type": "stream",
          "text": [
            "count       1671.000000\n",
            "mean      119724.664871\n",
            "std        83467.240436\n",
            "min            1.000000\n",
            "25%        59373.000000\n",
            "50%       109000.000000\n",
            "75%       165375.500000\n",
            "max      1000000.000000\n",
            "Name: mileage, dtype: float64\n"
          ],
          "name": "stdout"
        },
        {
          "output_type": "display_data",
          "data": {
            "image/png": "[encoded data removed]",
            "text/plain": [
              "<Figure size 792x432 with 1 Axes>"
            ]
          },
          "metadata": {
            "tags": [],
            "needs_background": "light"
          }
        }
      ]
    },
    {
      "cell_type": "markdown",
      "metadata": {
        "id": "fHOKa822_OoE"
      },
      "source": [
        "## model_date"
      ]
    },
    {
      "cell_type": "code",
      "metadata": {
        "id": "fZ6_aJVj_RHO",
        "outputId": "e09942e3-83e8-4b9b-a4c9-f76ce524167f",
        "colab": {
          "base_uri": "https://localhost:8080/",
          "height": 527
        }
      },
      "source": [
        "column_info(train.model_date)"
      ],
      "execution_count": 138,
      "outputs": [
        {
          "output_type": "stream",
          "text": [
            "count    6682.000000\n",
            "mean     2010.135588\n",
            "std         5.370973\n",
            "min      1975.000000\n",
            "25%      2007.000000\n",
            "50%      2011.000000\n",
            "75%      2014.000000\n",
            "max      2019.000000\n",
            "Name: model_date, dtype: float64\n"
          ],
          "name": "stdout"
        },
        {
          "output_type": "display_data",
          "data": {
            "image/png": "[encoded data removed]",
            "text/plain": [
              "<Figure size 792x432 with 1 Axes>"
            ]
          },
          "metadata": {
            "tags": [],
            "needs_background": "light"
          }
        }
      ]
    },
    {
      "cell_type": "code",
      "metadata": {
        "id": "vjl3FgVZEyTq",
        "outputId": "7c389b98-eb79-4d0c-8f9d-341190a6ff96",
        "colab": {
          "base_uri": "https://localhost:8080/",
          "height": 527
        }
      },
      "source": [
        "column_info(test.model_date)"
      ],
      "execution_count": 139,
      "outputs": [
        {
          "output_type": "stream",
          "text": [
            "count    1671.000000\n",
            "mean     2009.975464\n",
            "std         5.692836\n",
            "min      1971.000000\n",
            "25%      2007.000000\n",
            "50%      2011.000000\n",
            "75%      2014.000000\n",
            "max      2019.000000\n",
            "Name: model_date, dtype: float64\n"
          ],
          "name": "stdout"
        },
        {
          "output_type": "display_data",
          "data": {
            "image/png": "[encoded data removed]",
            "text/plain": [
              "<Figure size 792x432 with 1 Axes>"
            ]
          },
          "metadata": {
            "tags": [],
            "needs_background": "light"
          }
        }
      ]
    },
    {
      "cell_type": "markdown",
      "metadata": {
        "id": "i8wITRyM_eNP"
      },
      "source": [
        "## model_info"
      ]
    },
    {
      "cell_type": "code",
      "metadata": {
        "id": "LpbTKI44_hq3",
        "outputId": "5d88c789-e504-42be-d05e-2ace3248bd1a",
        "colab": {
          "base_uri": "https://localhost:8080/"
        }
      },
      "source": [
        "column_info(train.model_info)"
      ],
      "execution_count": 140,
      "outputs": [
        {
          "output_type": "stream",
          "text": [
            "count     6682\n",
            "unique     118\n",
            "top        5ER\n",
            "freq       611\n",
            "Name: model_info, dtype: object\n",
            "-----------------------------\n",
            "5ER                     611\n",
            "3ER                     466\n",
            "E_KLASSE                410\n",
            "X5                      397\n",
            "A6                      358\n",
            "A4                      237\n",
            "7ER                     229\n",
            "C_KLASSE                222\n",
            "X3                      216\n",
            "X6                      215\n",
            "S_KLASSE                214\n",
            "Q7                      170\n",
            "A5                      150\n",
            "Q5                      148\n",
            "1ER                     141\n",
            "M_KLASSE                135\n",
            "X1                      122\n",
            "GL_KLASSE               115\n",
            "A8                      106\n",
            "A3                      105\n",
            "G_KLASSE                 91\n",
            "6ER                      76\n",
            "CLS_KLASSE               74\n",
            "A7                       70\n",
            "GLK_KLASSE               69\n",
            "Q3                       66\n",
            "GLC_KLASSE               61\n",
            "G_KLASSE_AMG             57\n",
            "S_KLASSE_AMG             57\n",
            "X4                       56\n",
            "V_KLASSE                 55\n",
            "A_KLASSE                 54\n",
            "4                        53\n",
            "GLA_CLASS                51\n",
            "GLE_KLASSE_COUPE         49\n",
            "X6_M                     49\n",
            "CLA_KLASSE               48\n",
            "GLS_KLASSE               41\n",
            "VITO                     40\n",
            "ALLROAD                  37\n",
            "S_CLASS_MAYBACH          37\n",
            "B_KLASSE                 35\n",
            "GLE_KLASSE               35\n",
            "VIANO                    33\n",
            "CL_KLASSE                33\n",
            "E_KLASSE_AMG             33\n",
            "X5_M                     28\n",
            "M5                       25\n",
            "GLE_KLASSE_COUPE_AMG     24\n",
            "A1                       21\n",
            "C_KLASSE_AMG             20\n",
            "TT                       20\n",
            "R_KLASSE                 18\n",
            "X7                       17\n",
            "Z4                       16\n",
            "M_KLASSE_AMG             15\n",
            "GLC_COUPE                15\n",
            "M3                       15\n",
            "SL_KLASSE                14\n",
            "AMG_GT                   13\n",
            "CLS_KLASSE_AMG           13\n",
            "Q8                       13\n",
            "GLE_KLASSE_AMG           13\n",
            "SLK_KLASSE               13\n",
            "S5                       12\n",
            "GL_KLASSE_AMG            11\n",
            "X2                       10\n",
            "I3                       10\n",
            "M4                       10\n",
            "RS6                       9\n",
            "A4_ALLROAD                9\n",
            "CLK_KLASSE                9\n",
            "SL_KLASSE_AMG             8\n",
            "GLS_KLASSE_AMG            8\n",
            "S8                        8\n",
            "CL_KLASSE_AMG             8\n",
            "M6                        8\n",
            "2ER                       8\n",
            "S4                        7\n",
            "GLA_CLASS_AMG             7\n",
            "8ER                       7\n",
            "R8                        7\n",
            "SLS_AMG                   5\n",
            "AMG_GLC_COUPE             5\n",
            "S7                        5\n",
            "A_KLASSE_AMG              4\n",
            "M2                        4\n",
            "RS5                       4\n",
            "2GRANDTOURER              4\n",
            "W124                      4\n",
            "RSQ3                      3\n",
            "CLC_KLASSE                3\n",
            "GLC_KLASSE_AMG            3\n",
            "2ACTIVETOURER             3\n",
            "S6                        3\n",
            "SLC_KLASSE                3\n",
            "S3                        3\n",
            "TTS                       2\n",
            "RS3                       2\n",
            "I8                        2\n",
            "RS4                       2\n",
            "SQ5                       2\n",
            "Z3                        2\n",
            "CLA_KLASSE_AMG            2\n",
            "X_KLASSE                  2\n",
            "RS7                       2\n",
            "SLC_KLASSE_AMG            1\n",
            "W201                      1\n",
            "Z8                        1\n",
            "Z1                        1\n",
            "SLR_KLASSE                1\n",
            "None                      1\n",
            "M1                        1\n",
            "100                       1\n",
            "CITAN                     1\n",
            "X4_M                      1\n",
            "X3_M                      1\n",
            "SQ7                       1\n",
            "Name: model_info, dtype: int64\n"
          ],
          "name": "stdout"
        }
      ]
    },
    {
      "cell_type": "code",
      "metadata": {
        "id": "OKpZhzWIEyTv",
        "outputId": "463cfcd6-bac9-4549-f011-9f0196e1a9e6",
        "colab": {
          "base_uri": "https://localhost:8080/"
        }
      },
      "source": [
        "column_info(test.model_info)"
      ],
      "execution_count": 141,
      "outputs": [
        {
          "output_type": "stream",
          "text": [
            "count     1671\n",
            "unique     101\n",
            "top        5ER\n",
            "freq       165\n",
            "Name: model_info, dtype: object\n",
            "-----------------------------\n",
            "5ER                     165\n",
            "3ER                     112\n",
            "X5                      104\n",
            "E_KLASSE                 80\n",
            "A6                       75\n",
            "S_KLASSE                 68\n",
            "A4                       60\n",
            "X6                       54\n",
            "X3                       52\n",
            "C_KLASSE                 52\n",
            "Q5                       48\n",
            "7ER                      47\n",
            "1ER                      38\n",
            "X1                       36\n",
            "A5                       36\n",
            "Q7                       35\n",
            "M_KLASSE                 34\n",
            "6ER                      31\n",
            "A3                       27\n",
            "GL_KLASSE                26\n",
            "A8                       23\n",
            "G_KLASSE                 22\n",
            "Q3                       21\n",
            "CLA_KLASSE               20\n",
            "CLS_KLASSE               20\n",
            "GLS_KLASSE               17\n",
            "GLC_KLASSE               17\n",
            "GLK_KLASSE               15\n",
            "X4                       14\n",
            "G_KLASSE_AMG             14\n",
            "B_KLASSE                 12\n",
            "X6_M                     12\n",
            "4                        12\n",
            "A7                       12\n",
            "X5_M                     11\n",
            "V_KLASSE                 11\n",
            "E_KLASSE_AMG             11\n",
            "VIANO                    10\n",
            "ALLROAD                  10\n",
            "SLK_KLASSE               10\n",
            "GLE_KLASSE_COUPE          9\n",
            "TT                        8\n",
            "S_CLASS_MAYBACH           8\n",
            "A_KLASSE                  8\n",
            "S_KLASSE_AMG              8\n",
            "S5                        8\n",
            "R_KLASSE                  7\n",
            "M5                        7\n",
            "M3                        7\n",
            "X7                        6\n",
            "W124                      6\n",
            "SL_KLASSE                 6\n",
            "GLE_KLASSE                6\n",
            "M_KLASSE_AMG              6\n",
            "GLA_CLASS                 6\n",
            "Z4                        5\n",
            "A4_ALLROAD                5\n",
            "CL_KLASSE                 4\n",
            "AMG_GT                    4\n",
            "VITO                      4\n",
            "CLS_KLASSE_AMG            4\n",
            "RS6                       3\n",
            "X4_M                      3\n",
            "GL_KLASSE_AMG             3\n",
            "2ER                       3\n",
            "C_KLASSE_AMG              3\n",
            "GLE_KLASSE_AMG            3\n",
            "Q8                        3\n",
            "A1                        3\n",
            "GLC_COUPE                 2\n",
            "SL_KLASSE_AMG             2\n",
            "M6                        2\n",
            "I3                        2\n",
            "RS5                       2\n",
            "S8                        2\n",
            "SLK_KLASSE_AMG            2\n",
            "RS3                       2\n",
            "GLA_CLASS_AMG             2\n",
            "CLA_KLASSE_AMG            1\n",
            "S4                        1\n",
            "GLC_KLASSE_AMG            1\n",
            "CLK_KLASSE                1\n",
            "M1                        1\n",
            "GLE_KLASSE_COUPE_AMG      1\n",
            "COUPE                     1\n",
            "Z3                        1\n",
            "M4                        1\n",
            "CL_KLASSE_AMG             1\n",
            "RS4                       1\n",
            "AMG_GLC_COUPE             1\n",
            "X2                        1\n",
            "8ER                       1\n",
            "W123                      1\n",
            "S7                        1\n",
            "S6                        1\n",
            "X_KLASSE                  1\n",
            "TTS                       1\n",
            "SLR_KLASSE                1\n",
            "Z3M                       1\n",
            "SLS_AMG                   1\n",
            "M2                        1\n",
            "Name: model_info, dtype: int64\n"
          ],
          "name": "stdout"
        }
      ]
    },
    {
      "cell_type": "markdown",
      "metadata": {
        "id": "zr6yFX1GAqqG"
      },
      "source": [
        "## name"
      ]
    },
    {
      "cell_type": "code",
      "metadata": {
        "id": "UV1SaQMQAwpM",
        "outputId": "800d7505-2b20-4da2-fca0-e9ed75a2346a",
        "colab": {
          "base_uri": "https://localhost:8080/"
        }
      },
      "source": [
        "column_info(train.name)"
      ],
      "execution_count": 142,
      "outputs": [
        {
          "output_type": "stream",
          "text": [
            "count                      6682\n",
            "unique                      900\n",
            "top       200 2.0 AT (184 л.с.)\n",
            "freq                        121\n",
            "Name: name, dtype: object\n",
            "-----------------------------\n",
            "200 2.0 AT (184 л.с.)                                121\n",
            "35i 3.0 AT (306 л.с.) 4WD                            116\n",
            "2.0 AMT (211 л.с.) 4WD                               113\n",
            "30d 3.0d AT (249 л.с.) 4WD                            87\n",
            "400 3.0 AT (333 л.с.) 4WD                             76\n",
            "520i 2.0 AT (184 л.с.)                                65\n",
            "2.0 AMT (249 л.с.) 4WD                                65\n",
            "350 d 3.0d AT (249 л.с.) 4WD                          64\n",
            "320i xDrive 2.0 AT (184 л.с.) 4WD                     64\n",
            "2.0 CVT (180 л.с.)                                    61\n",
            "200 1.8 AT (184 л.с.)                                 61\n",
            "1.8 CVT (160 л.с.)                                    60\n",
            "350 3.5 AT (272 л.с.) 4WD                             56\n",
            "200 2.0 AT (184 л.с.) 4WD                             49\n",
            "520d 2.0d AT (190 л.с.)                               49\n",
            "3.0i 3.0 AT (231 л.с.) 4WD                            48\n",
            "1.8 CVT (170 л.с.)                                    47\n",
            "180 1.6 AT (156 л.с.)                                 47\n",
            "30d 3.0d AT (245 л.с.) 4WD                            46\n",
            "200 1.6 AMT (156 л.с.)                                44\n",
            "500 5.5 AT (388 л.с.) 4WD                             44\n",
            "3.0d AT (249 л.с.) 4WD                                43\n",
            "116i 1.6 AT (115 л.с.)                                42\n",
            "528i xDrive 2.0 AT (245 л.с.) 4WD                     42\n",
            "1.8 AMT (190 л.с.)                                    42\n",
            "520d xDrive 2.0d AT (190 л.с.) 4WD                    41\n",
            "530d xDrive 3.0d AT (258 л.с.) 4WD                    41\n",
            "300 3.5 AT (249 л.с.) 4WD                             40\n",
            "4.4 AT (555 л.с.) 4WD                                 39\n",
            "320i 2.0 AT (156 л.с.)                                39\n",
            "180 1.6 AMT (122 л.с.)                                39\n",
            "2.0 AMT (225 л.с.) 4WD                                38\n",
            "350 3.0d AT (224 л.с.) 4WD                            38\n",
            "320i 2.0 AT (184 л.с.)                                38\n",
            "250 2.0 AT (211 л.с.) 4WD                             38\n",
            "180 1.6 AT (150 л.с.)                                 38\n",
            "2.8 AMT (204 л.с.) 4WD                                37\n",
            "20d xDrive 2.0d AT (190 л.с.) 4WD                     36\n",
            "1.4 AMT (122 л.с.)                                    36\n",
            "40d 3.0d AT (313 л.с.) 4WD                            35\n",
            "318i 2.0 AT (136 л.с.)                                34\n",
            "325i 2.5 AT (218 л.с.)                                34\n",
            "4.4 AT (575 л.с.) 4WD                                 33\n",
            "18i 2.0 AT (150 л.с.)                                 33\n",
            "2.0 AMT (170 л.с.) 4WD                                32\n",
            "40d 3.0d AT (306 л.с.) 4WD                            32\n",
            "3.0 AMT (300 л.с.) 4WD                                32\n",
            "20i 2.0 AT (184 л.с.) 4WD                             30\n",
            "250 2.0 AMT (211 л.с.) 4WD                            30\n",
            "350 CDI BlueTEC 3.0d AT (249 л.с.) 4WD                30\n",
            "20d 2.0d AT (177 л.с.) 4WD                            30\n",
            "530d xDrive 3.0d AT (249 л.с.) 4WD                    30\n",
            "2.0 AT (225 л.с.) 4WD                                 29\n",
            "50i 4.4 AT (407 л.с.) 4WD                             29\n",
            "320d xDrive 2.0d AT (190 л.с.) 4WD                    29\n",
            "30d 3.0d AT (235 л.с.) 4WD                            29\n",
            "20d xDrive 2.0d AT (184 л.с.) 4WD                     29\n",
            "20i xDrive 2.0 AT (184 л.с.) 4WD                      28\n",
            "525i 2.5 AT (218 л.с.)                                28\n",
            "2.4 CVT (177 л.с.)                                    27\n",
            "20d 2.0d AT (190 л.с.) 4WD                            27\n",
            "316i 1.6 AT (136 л.с.)                                27\n",
            "350 3.5 AT (306 л.с.) 4WD                             27\n",
            "200 1.3 AMT (150 л.с.)                                27\n",
            "116i 1.6 AT (136 л.с.)                                26\n",
            "4.2 AT (350 л.с.) 4WD                                 26\n",
            "500 4.7 AT (455 л.с.) 4WD                             26\n",
            "M50d 3.0d AT (381 л.с.) 4WD                           26\n",
            "220 CDI 2.1d AT (170 л.с.) 4WD                        25\n",
            "500 4.7 AT (435 л.с.) 4WD                             25\n",
            "25d 3.0d AT (218 л.с.) 4WD                            24\n",
            "63 AMG 5.5 AT (557 л.с.) 4WD                          24\n",
            "3.1 AT (255 л.с.) 4WD                                 24\n",
            "63 AMG 5.5 AT (585 л.с.) 4WD                          23\n",
            "30i 3.0 AT (272 л.с.) 4WD                             23\n",
            "1.2 AMT (105 л.с.)                                    23\n",
            "250 2.0 AT (211 л.с.)                                 23\n",
            "63 AMG Long 5.5 AT (585 л.с.) 4WD                     23\n",
            "525i 2.5 AT (192 л.с.)                                22\n",
            "523i 2.5 AT (204 л.с.)                                22\n",
            "500 5.0 AT (296 л.с.) 4WD                             22\n",
            "2.0 CVT (130 л.с.)                                    22\n",
            "525d xDrive 2.0d AT (218 л.с.) 4WD                    22\n",
            "3.0d AT (245 л.с.) 4WD                                22\n",
            "3.0d AT (238 л.с.) 4WD                                22\n",
            "1.4 AMT (125 л.с.)                                    21\n",
            "200 1.6 AMT (150 л.с.)                                21\n",
            "2.0 AMT (180 л.с.) 4WD                                21\n",
            "3.0d AMT (245 л.с.) 4WD                               21\n",
            "180 BlueEFFICIENCY 1.8 AT (156 л.с.)                  21\n",
            "30d xDrive 3.0d AT (249 л.с.) 4WD                     21\n",
            "28i xDrive 2.0 AT (245 л.с.) 4WD                      21\n",
            "43 AMG 3.0 AT (367 л.с.) 4WD                          20\n",
            "1.4 AMT (150 л.с.)                                    20\n",
            "3.0 AT (290 л.с.) 4WD                                 20\n",
            "325xi 2.5 AT (218 л.с.) 4WD                           20\n",
            "1.8 CVT (120 л.с.)                                    19\n",
            "Long 3.0 AT (290 л.с.) 4WD                            19\n",
            "118i 1.5 AT (136 л.с.)                                19\n",
            "530i xDrive 2.0 AT (249 л.с.) 4WD                     19\n",
            "63 AMG S 5.5 AT (585 л.с.) 4WD                        19\n",
            "250 d 2.1d AT (204 л.с.) 4WD                          18\n",
            "63 AMG 5.5 AT (544 л.с.) 4WD                          18\n",
            "520d 2.0d AT (184 л.с.)                               18\n",
            "3.0 AMT (333 л.с.) 4WD                                18\n",
            "2.0d AMT (177 л.с.) 4WD                               18\n",
            "350 Long 3.5 AT (272 л.с.) 4WD                        18\n",
            "320d xDrive 2.0d AT (184 л.с.) 4WD                    17\n",
            "63 AMG 5.5 AT (571 л.с.) 4WD                          17\n",
            "535i xDrive 3.0 AT (306 л.с.) 4WD                     17\n",
            "320 3.0d AT (224 л.с.) 4WD                            17\n",
            "320d 2.0d AT (184 л.с.)                               16\n",
            "Long 3.0 AT (310 л.с.) 4WD                            16\n",
            "3.6 AT (280 л.с.) 4WD                                 16\n",
            "250 d длинный 2.1d AT (190 л.с.) 4WD                  16\n",
            "200 2.0 AT (197 л.с.) 4WD                             16\n",
            "2.0 AMT (230 л.с.) 4WD                                16\n",
            "250 1.8 AT (204 л.с.)                                 16\n",
            "450 3.0 AT (367 л.с.) 4WD                             16\n",
            "S-tronic 3.0d AMT (245 л.с.) 4WD                      15\n",
            "350 CDI 3.0d AT (249 л.с.) 4WD                        15\n",
            "3.0 AMT (310 л.с.) 4WD                                15\n",
            "3.0d 3.0d AT (235 л.с.) 4WD                           15\n",
            "750Li xDrive 4.4 AT (407 л.с.) 4WD                    15\n",
            "320i 2.0 AT (150 л.с.)                                14\n",
            "25i 2.5 AT (218 л.с.) 4WD                             14\n",
            "28i 2.0 AT (245 л.с.) 4WD                             14\n",
            "20d 2.0d AT (184 л.с.) 4WD                            14\n",
            "328i 2.0 AT (245 л.с.)                                14\n",
            "530i 3.0 AT (231 л.с.)                                14\n",
            "500 4.7 AT (408 л.с.) 4WD                             14\n",
            "2.0 CVT (170 л.с.)                                    14\n",
            "350 3.5 AT (306 л.с.)                                 13\n",
            "750Li xDrive 4.4 AT (450 л.с.) 4WD                    13\n",
            "220 d 2.0d AT (194 л.с.) 4WD                          13\n",
            "350 BlueTEC 3.0d AT (249 л.с.) 4WD                    13\n",
            "350 d Long 2.9d AT (249 л.с.) 4WD                     13\n",
            "220 d 2.1d AT (170 л.с.) 4WD                          13\n",
            "200 2.0 AT (197 л.с.)                                 13\n",
            "740Li xDrive 3.0 AT (320 л.с.) 4WD                    13\n",
            "3.1 AT (249 л.с.) 4WD                                 13\n",
            "4.4 AMT (560 л.с.)                                    13\n",
            "730Ld xDrive 3.0d AT (265 л.с.) 4WD                   13\n",
            "350 CDI BlueTEC 3.0d AT (211 л.с.) 4WD                12\n",
            "530xi 3.0 AT (272 л.с.) 4WD                           12\n",
            "500 Long 4.7 AT (455 л.с.) 4WD                        12\n",
            "250 d экстра длинный 2.1d AT (190 л.с.) 4WD           12\n",
            "640d xDrive 3.0d AT (313 л.с.) 4WD                    12\n",
            "350 CDI 3.0d AT (258 л.с.) 4WD                        12\n",
            "2.8 CVT (190 л.с.)                                    12\n",
            "350 3.5 AT (272 л.с.)                                 11\n",
            "300 3.0 AT (231 л.с.) 4WD                             11\n",
            "20i xDrive 2.0 AT (192 л.с.) 4WD                      11\n",
            "4.1d AT (326 л.с.) 4WD                                11\n",
            "350 CDI BlueTEC Long 3.0d AT (249 л.с.) 4WD           11\n",
            "48i 4.8 AT (355 л.с.) 4WD                             11\n",
            "520Li 2.0 AT (184 л.с.)                               11\n",
            "63 AMG S 4.0 AT (612 л.с.) 4WD                        11\n",
            "Competition 4.4 AT (625 л.с.) 4WD                     11\n",
            "300 2.0 AT (245 л.с.) 4WD                             11\n",
            "18d xDrive 2.0d AT (150 л.с.) 4WD                     11\n",
            "2.8 AT (220 л.с.) 4WD                                 11\n",
            "318i 1.5 AT (136 л.с.)                                10\n",
            "280 3.0 AT (231 л.с.)                                 10\n",
            "2.0 AT (200 л.с.) 4WD                                 10\n",
            "5.9d AT (500 л.с.) 4WD                                10\n",
            "35d 3.0d AT (286 л.с.) 4WD                            10\n",
            "500 4.0 AT (422 л.с.) 4WD                             10\n",
            "320d 2.0d AT (190 л.с.)                               10\n",
            "230 2.5 AT (204 л.с.)                                 10\n",
            "3.0 AT (272 л.с.) 4WD                                 10\n",
            "63 AMG 6.2 AT (510 л.с.) 4WD                          10\n",
            "3.0si 3.0 AT (264 л.с.) 4WD                           10\n",
            "520i 2.0 AT (156 л.с.)                                10\n",
            "3.0si 3.0 AT (272 л.с.) 4WD                           10\n",
            "750i xDrive 4.4 AT (450 л.с.) 4WD                     10\n",
            "420i xDrive 2.0 AT (184 л.с.) 4WD                     10\n",
            "3.0d AT (233 л.с.) 4WD                                10\n",
            "2.0d AMT (190 л.с.) 4WD                               10\n",
            "4.2 AT (335 л.с.) 4WD                                 10\n",
            "280 3.0 AT (231 л.с.) 4WD                              9\n",
            "55 TFSI 3.0 AT (340 л.с.) 4WD                          9\n",
            "640i xDrive 3.0 AT (320 л.с.) 4WD                      9\n",
            "350 CDI BlueTEC 3.0d AT (258 л.с.) 4WD                 9\n",
            "3.0d 3.0d AT (218 л.с.) 4WD                            9\n",
            "3.0sd 3.0d AT (286 л.с.) 4WD                           9\n",
            "500 5.0 AT (320 л.с.)                                  9\n",
            "520d 2.0d AT (177 л.с.)                                9\n",
            "1.6 AT (102 л.с.)                                      9\n",
            "450 4.7 AT (340 л.с.) 4WD                              9\n",
            "30i 3.0 AT (231 л.с.) 4WD                              9\n",
            "500 Long 4.7 AT (435 л.с.) 4WD                         9\n",
            "40i 3.0 AT (340 л.с.) 4WD                              9\n",
            "2.7 AT (250 л.с.) 4WD                                  9\n",
            "200 d 2.0d AT (150 л.с.)                               9\n",
            "43 AMG 3.0 AT (401 л.с.) 4WD                           9\n",
            "400 d 2.9d AT (330 л.с.) 4WD                           9\n",
            "300 3.0 AT (231 л.с.)                                  9\n",
            "530d 3.0d AT (245 л.с.)                                9\n",
            "55 TFSI 3.0 AMT (340 л.с.) 4WD                         9\n",
            "2.0 AT (180 л.с.) 4WD                                  9\n",
            "118i 1.6 AT (170 л.с.)                                 9\n",
            "63 AMG 4.0 AT (585 л.с.) 4WD                           9\n",
            "350 Long 3.5 AT (306 л.с.) 4WD                         9\n",
            "3.0 AT (218 л.с.) 4WD                                  8\n",
            "630d xDrive 3.0d AT (249 л.с.) 4WD                     8\n",
            "45 AMG 2.0 AMT (381 л.с.) 4WD                          8\n",
            "730Ld xDrive 3.0d AT (249 л.с.) 4WD                    8\n",
            "4.8i 4.8 AT (355 л.с.) 4WD                             8\n",
            "530xi 3.0 AT (258 л.с.) 4WD                            8\n",
            "200 1.8 AT (163 л.с.)                                  8\n",
            "4.0 AMT (420 л.с.)                                     8\n",
            "250 CDI 2.1d AT (204 л.с.) 4WD                         8\n",
            "3.2 AT (271 л.с.) 4WD                                  8\n",
            "645i 4.4 AT (333 л.с.)                                 8\n",
            "3.0 AMT (431 л.с.)                                     8\n",
            "4.4i 4.4 AT (320 л.с.) 4WD                             8\n",
            "500 5.5 AT (388 л.с.)                                  8\n",
            "8tiptronic 2.0 AT (211 л.с.) 4WD                       7\n",
            "500 5.0 AT (306 л.с.)                                  7\n",
            "730i 2.0 AT (258 л.с.)                                 7\n",
            "35i xDrive 3.0 AT (306 л.с.) 4WD                       7\n",
            "730d 3.0d AT (245 л.с.)                                7\n",
            "420d xDrive 2.0d AT (190 л.с.) 4WD                     7\n",
            "63 AMG 4.0 AT (612 л.с.) 4WD                           7\n",
            "M50d 3.0d AT (400 л.с.) 4WD                            7\n",
            "4.2 AT (372 л.с.) 4WD                                  7\n",
            "528i 3.0 AT (258 л.с.)                                 7\n",
            "28i xDrive 3.0 AT (258 л.с.) 4WD                       7\n",
            "730i 2.0 AT (249 л.с.)                                 7\n",
            "750i xDrive 4.4 AT (407 л.с.) 4WD                      7\n",
            "55 AMG 5.4 AT (507 л.с.) 4WD                           7\n",
            "560 4.0 AT (469 л.с.) 4WD                              7\n",
            "650i xDrive 4.4 AT (450 л.с.) 4WD                      7\n",
            "25i 2.5 AT (192 л.с.) 4WD                              7\n",
            "55 AMG 5.4 AT (476 л.с.)                               7\n",
            "200 1.5 AT (184 л.с.) 4WD                              7\n",
            "740d xDrive 3.0d AT (306 л.с.) 4WD                     7\n",
            "750Li 4.4 AT (407 л.с.)                                7\n",
            "3.2 AT (265 л.с.) 4WD                                  7\n",
            "500 Long 5.5 AT (388 л.с.) 4WD                         7\n",
            "120i 2.0 AT (156 л.с.)                                 7\n",
            "220 d длинный 2.1d AT (163 л.с.) 4WD                   7\n",
            "2.8 AMT (220 л.с.) 4WD                                 7\n",
            "1.6 AMT (102 л.с.)                                     7\n",
            "350 d 2.9d AT (249 л.с.) 4WD                           7\n",
            "250 BlueTEC 2.1d AT (204 л.с.) 4WD                     7\n",
            "730d xDrive 3.0d AT (249 л.с.) 4WD                     7\n",
            "450 Long 3.0 AT (367 л.с.) 4WD                         7\n",
            "2.0 CVT (200 л.с.)                                     7\n",
            "428i xDrive 2.0 AT (245 л.с.) 4WD                      7\n",
            "350 d 3.0d AT (245 л.с.) 4WD                           7\n",
            "550 5.5 AT (388 л.с.)                                  7\n",
            "4.8is 4.8 AT (360 л.с.) 4WD                            7\n",
            "2.0d CVT (143 л.с.)                                    6\n",
            "170 1.7 CVT (116 л.с.)                                 6\n",
            "630i 3.0 AT (272 л.с.)                                 6\n",
            "320d 2.0d AT (177 л.с.)                                6\n",
            "2.0 AT (230 л.с.) 4WD                                  6\n",
            "2.0d AMT (170 л.с.) 4WD                                6\n",
            "63 AMG 5.5 AT (558 л.с.) 4WD                           6\n",
            "3.0d AMT (239 л.с.) 4WD                                6\n",
            "63 AMG S 4.0 AT (510 л.с.)                             6\n",
            "535i 3.0 AT (306 л.с.)                                 6\n",
            "1.8 AMT (160 л.с.)                                     6\n",
            "528i 2.0 AT (245 л.с.)                                 6\n",
            "600 Long 5.5 AT (517 л.с.)                             6\n",
            "430i xDrive 2.0 AT (249 л.с.) 4WD                      6\n",
            "4.1d AT (340 л.с.) 4WD                                 6\n",
            "4.2 AMT (450 л.с.) 4WD                                 6\n",
            "750i 4.8 AT (367 л.с.)                                 6\n",
            "760Li 6.0 AT (445 л.с.)                                6\n",
            "335i 3.0 AT (306 л.с.)                                 6\n",
            "4.0 AMT (420 л.с.) 4WD                                 6\n",
            "4.4i 4.4 AT (286 л.с.) 4WD                             6\n",
            "5.0 AMT (507 л.с.)                                     6\n",
            "4.2 AT (354 л.с.) 4WD                                  6\n",
            "300 d 2.0d AT (245 л.с.) 4WD                           6\n",
            "250 d длинный 2.1d AT (190 л.с.)                       5\n",
            "2.5d AT (180 л.с.) 4WD                                 5\n",
            "53 AMG 3.0 AT (435 л.с.) 4WD                           5\n",
            "730d xDrive 3.0d AT (258 л.с.) 4WD                     5\n",
            "50i 4.4 AT (450 л.с.) 4WD                              5\n",
            "30i xDrive 2.0 AT (249 л.с.) 4WD                       5\n",
            "335i xDrive 3.0 AT (306 л.с.) 4WD                      5\n",
            "2.0d AMT (190 л.с.)                                    5\n",
            "3.0 AT (220 л.с.) 4WD                                  5\n",
            "4.4 AT (600 л.с.) 4WD                                  5\n",
            "63 AMG 6.2 AT (525 л.с.)                               5\n",
            "6.2 AMT (571 л.с.)                                     5\n",
            "525xi 3.0 AT (218 л.с.) 4WD                            5\n",
            "2.0d CVT (140 л.с.)                                    5\n",
            "420d 2.0d AT (184 л.с.)                                5\n",
            "Competition Package 3.0 AMT (450 л.с.)                 5\n",
            "520i 2.2 AT (170 л.с.)                                 5\n",
            "740d xDrive 3.0d AT (313 л.с.) 4WD                     5\n",
            "118i 2.0 AT (136 л.с.)                                 5\n",
            "220 d компактный 2.1d AT (163 л.с.) 4WD                5\n",
            "180 1.7 CVT (116 л.с.)                                 5\n",
            "320 3.0d AT (211 л.с.) 4WD                             5\n",
            "30i 3.0 AT (264 л.с.) 4WD                              5\n",
            "220 2.2d AT (150 л.с.)                                 5\n",
            "650i 4.8 AT (367 л.с.)                                 5\n",
            "Long 6.0 AT (450 л.с.) 4WD                             5\n",
            "63 S 4.0 AMT (639 л.с.) 4WD                            5\n",
            "400 4.0d AT (250 л.с.) 4WD                             5\n",
            "560 Long 4.0 AT (469 л.с.) 4WD                         5\n",
            "750Ld xDrive 3.0d AT (400 л.с.) 4WD                    5\n",
            "280 3.0d AT (190 л.с.) 4WD                             5\n",
            "450 4MATIC 3.0 AT (367 л.с.) 4WD                       5\n",
            "4.6is 4.6 AT (347 л.с.) 4WD                            5\n",
            "45 AMG 2.0 AMT (360 л.с.) 4WD                          5\n",
            "600 Long 6.0 AT (394 л.с.)                             5\n",
            "650i 4.4 AT (407 л.с.)                                 5\n",
            "320i 2.2 AT (170 л.с.)                                 5\n",
            "320 3.2 AT (218 л.с.) 4WD                              5\n",
            "63 AMG Long 4.0 AT (612 л.с.) 4WD                      5\n",
            "300 3.5 AT (252 л.с.) 4WD                              5\n",
            "745Li 4.4 AT (333 л.с.)                                4\n",
            "730d xDrive 3.0d AT (265 л.с.) 4WD                     4\n",
            "3.7 AT (280 л.с.) 4WD                                  4\n",
            "sDrive18i 1.5 AMT (140 л.с.)                           4\n",
            "119 BlueTEC L2 2.1d AT (190 л.с.) 4WD                  4\n",
            "220 d 2.0d AT (194 л.с.)                               4\n",
            "2.0 AMT (200 л.с.) 4WD                                 4\n",
            "218i 1.5 AMT (140 л.с.)                                4\n",
            "740d xDrive 3.0d AT (320 л.с.) 4WD                     4\n",
            "5.2 AT (450 л.с.) 4WD                                  4\n",
            "3.0 AMT (370 л.с.)                                     4\n",
            "520i 2.0 MT (150 л.с.)                                 4\n",
            "550 5.5 AT (388 л.с.) 4WD                              4\n",
            "320 3.2 AT (224 л.с.)                                  4\n",
            "4.0 AT (605 л.с.) 4WD                                  4\n",
            "530i 3.0 AT (272 л.с.)                                 4\n",
            "740Ld xDrive 3.0d AT (320 л.с.) 4WD                    4\n",
            "400 3.0 AT (367 л.с.) 4WD                              4\n",
            "420 4.2 AT (279 л.с.)                                  4\n",
            "500 5.0 AT (306 л.с.) 4WD                              4\n",
            "L2 2.1d AT (163 л.с.) 4WD                              4\n",
            "525xi 2.5 AT (218 л.с.) 4WD                            4\n",
            "430i 2.0 AT (249 л.с.)                                 4\n",
            "325i 2.5 AT (192 л.с.)                                 4\n",
            "45 TDI 3.0d AT (249 л.с.) 4WD                          4\n",
            "116i 1.6 MT (115 л.с.)                                 4\n",
            "63 AMG Long 6.2 AT (525 л.с.)                          4\n",
            "L1 2.1d AT (163 л.с.) 4WD                              4\n",
            "Electro AT (126 кВт)                                   4\n",
            "400 d 2.9d AT (340 л.с.) 4WD                           4\n",
            "0.7hyb AT (170 л.с.)                                   4\n",
            "3.0d AT (224 л.с.) 4WD                                 4\n",
            "Long 4.0 AT (435 л.с.) 4WD                             4\n",
            "35 TFSI 1.4 AMT (150 л.с.)                             4\n",
            "350 CDI 3.0d AT (240 л.с.) 4WD                         4\n",
            "3.0 AT (333 л.с.) 4WD                                  4\n",
            "420i 2.0 AT (184 л.с.)                                 4\n",
            "318i 2.0 AT (143 л.с.)                                 4\n",
            "clean diesel 2.0d AMT (170 л.с.) 4WD                   4\n",
            "350 3.5d AT (136 л.с.) 4WD                             4\n",
            "L2 2.1d AT (163 л.с.)                                  4\n",
            "3.0 AT (310 л.с.) 4WD                                  4\n",
            "750Li 4.8 AT (367 л.с.)                                4\n",
            "L2 3.5 AT (258 л.с.)                                   4\n",
            "335xi 3.0 AT (306 л.с.) 4WD                            4\n",
            "220 CDI BlueTEC 2.1d AT (170 л.с.) 4WD                 4\n",
            "1.8 AMT (180 л.с.)                                     4\n",
            "180 9G-TRONIC 1.6 AT (150 л.с.)                        4\n",
            "330i xDrive 2.0 AT (249 л.с.) 4WD                      4\n",
            "325xi 2.5 AT (192 л.с.) 4WD                            4\n",
            "130i 3.0 AT (265 л.с.)                                 4\n",
            "330i 3.0 AT (231 л.с.)                                 4\n",
            "350 2.0 AT (299 л.с.) 4WD                              3\n",
            "550i xDrive 4.4 AT (407 л.с.) 4WD                      3\n",
            "640i xDrive 3.0 AT (340 л.с.) 4WD                      3\n",
            "430 4.3 AT (279 л.с.)                                  3\n",
            "4.2 AT (360 л.с.) 4WD                                  3\n",
            "730Ld 3.0d AT (245 л.с.)                               3\n",
            "500 4.7 AT (455 л.с.)                                  3\n",
            "30d 3.0d AT (218 л.с.) 4WD                             3\n",
            "320 3.2 AT (231 л.с.)                                  3\n",
            "320 3.0d AT (235 л.с.)                                 3\n",
            "3.2 CVT (265 л.с.)                                     3\n",
            "Long 4.2 AT (335 л.с.) 4WD                             3\n",
            "18i sDrive 1.5 AT (136 л.с.)                           3\n",
            "1.2 AMT (110 л.с.)                                     3\n",
            "63 AMG 5.5 AT (585 л.с.)                               3\n",
            "420d 2.0d AT (190 л.с.)                                3\n",
            "2.7d CVT (190 л.с.)                                    3\n",
            "180 Kompressor 1.8 AT (156 л.с.)                       3\n",
            "30d xDrive 3.0d AT (258 л.с.) 4WD                      3\n",
            "325i 2.5 MT (192 л.с.)                                 3\n",
            "120d 2.0d AT (184 л.с.)                                3\n",
            "2.8 AT (210 л.с.) 4WD                                  3\n",
            "63 AMG 6.2 AT (487 л.с.)                               3\n",
            "M550i xDrive 4.4 AT (462 л.с.) 4WD                     3\n",
            "30d 3.0d AT (204 л.с.) 4WD                             3\n",
            "320 3.0d AT (224 л.с.)                                 3\n",
            "2.0 AMT (190 л.с.)                                     3\n",
            "2.5d MT (180 л.с.) 4WD                                 3\n",
            "125i 3.0 AT (218 л.с.)                                 3\n",
            "4.0 AT (560 л.с.) 4WD                                  3\n",
            "320i 2.0 MT (150 л.с.)                                 3\n",
            "745i 4.4 AT (333 л.с.)                                 3\n",
            "535d 3.0d AT (272 л.с.)                                3\n",
            "350 d 3.0d AT (258 л.с.) 4WD                           3\n",
            "320i 2.2 MT (170 л.с.)                                 3\n",
            "230 1.8 AT (192 л.с.)                                  3\n",
            "L3 3.5 AT (258 л.с.)                                   3\n",
            "740d 3.0d AT (306 л.с.)                                3\n",
            "M550d xDrive 3.0d AT (400 л.с.) 4WD                    3\n",
            "525d 3.0d AT (197 л.с.)                                3\n",
            "1.8 CVT (163 л.с.)                                     3\n",
            "Long 6.3 AT (500 л.с.) 4WD                             3\n",
            "750Ld xDrive 3.0d AT (381 л.с.) 4WD                    3\n",
            "45 TFSI 2.0 AMT (245 л.с.) 4WD                         3\n",
            "400 d Long 2.9d AT (340 л.с.) 4WD                      3\n",
            "270 2.7d AT (163 л.с.) 4WD                             3\n",
            "1.8 AMT (180 л.с.) 4WD                                 3\n",
            "350 3.7 AT (235 л.с.) 4WD                              3\n",
            "300 2.0 AT (249 л.с.) 4WD                              3\n",
            "118i 2.0 AT (129 л.с.)                                 3\n",
            "2.7 MT (250 л.с.) 4WD                                  3\n",
            "Long 3.0d AT (250 л.с.) 4WD                            3\n",
            "55 AMG 5.4 AT (500 л.с.)                               3\n",
            "750d xDrive 3.0d AT (400 л.с.) 4WD                     3\n",
            "240 2.6 AT (177 л.с.)                                  3\n",
            "114 CDI L2 2.1d AT (136 л.с.) 4WD                      3\n",
            "220 5G-Tronic 2.1d AT (170 л.с.)                       3\n",
            "320 3.2 AT (210 л.с.) 4WD                              3\n",
            "330i 3.0 AT (258 л.с.)                                 3\n",
            "350 3.0d AT (235 л.с.)                                 3\n",
            "550i 4.4 AT (407 л.с.)                                 3\n",
            "1.8 MT (180 л.с.)                                      3\n",
            "560 5.6 AT (242 л.с.)                                  3\n",
            "400 Long 3.0 AT (333 л.с.) 4WD                         3\n",
            "119 BlueTEC L2 2.1d AT (190 л.с.)                      3\n",
            "535i 3.5 AT (245 л.с.)                                 3\n",
            "Long 4.2 AT (372 л.с.) 4WD                             3\n",
            "600 5.5 AT (500 л.с.)                                  3\n",
            "4.2 AT (450 л.с.) 4WD                                  3\n",
            "63 AMG 4.0 AT (476 л.с.) 4WD                           3\n",
            "2.0 AT (211 л.с.) 4WD                                  3\n",
            "540i xDrive 3.0 AT (340 л.с.) 4WD                      3\n",
            "180 1.3 AMT (136 л.с.)                                 3\n",
            "320 3.2 AT (224 л.с.) 4WD                              3\n",
            "640d xDrive 3.0d AT (320 л.с.) 4WD                     3\n",
            "1.5 AT (136 л.с.)                                      3\n",
            "S 4.0 AMT (510 л.с.)                                   3\n",
            "M850i xDrive 4.4 AT (530 л.с.) 4WD                     3\n",
            "300 3.0d AT (177 л.с.)                                 3\n",
            "250 2.1d AT (204 л.с.)                                 3\n",
            "Long 4.2 AT (350 л.с.) 4WD                             3\n",
            "300 2.0 AT (245 л.с.)                                  3\n",
            "35d 3.0d AT (269 л.с.) 4WD                             3\n",
            "3.0 AT (354 л.с.) 4WD                                  3\n",
            "112 CDI 2.2d AT (122 л.с.)                             3\n",
            "3.0 AT (265 л.с.)                                      3\n",
            "530d xDrive 3.0d AT (245 л.с.) 4WD                     3\n",
            "4.0 MT (420 л.с.)                                      3\n",
            "16V 2.0d CVT (140 л.с.)                                3\n",
            "M760Li xDrive 6.6 AT (610 л.с.) 4WD                    3\n",
            "3.0d 2.9d AT (184 л.с.) 4WD                            3\n",
            "740Li xDrive 3.0 AT (326 л.с.) 4WD                     3\n",
            "63 AMG 5.5 AT (525 л.с.) 4WD                           3\n",
            "320i 2.0 AT (170 л.с.)                                 3\n",
            "730Li 3.0 AT (258 л.с.)                                3\n",
            "200 2.0 CVT (136 л.с.)                                 3\n",
            "1.8 AT (180 л.с.)                                      3\n",
            "540i 4.4 AT (286 л.с.)                                 3\n",
            "3.0d AT (239 л.с.) 4WD                                 3\n",
            "108 CDI 2.2d MT (82 л.с.)                              3\n",
            "500 Long 5.0 AT (306 л.с.)                             3\n",
            "55 AMG 5.4 AT (476 л.с.) 4WD                           3\n",
            "120i 2.0 AT (150 л.с.)                                 3\n",
            "840d xDrive 3.0d AT (320 л.с.) 4WD                     3\n",
            "525i 2.5 MT (192 л.с.)                                 3\n",
            "2.8 CVT (204 л.с.)                                     3\n",
            "3.0d AT (225 л.с.) 4WD                                 3\n",
            "328i xDrive 2.0 AT (245 л.с.) 4WD                      3\n",
            "500 Long 5.0 AT (306 л.с.) 4WD                         2\n",
            "350 CDI 3.0d AT (265 л.с.) 4WD                         2\n",
            "M550d xDrive 3.0d AT (381 л.с.) 4WD                    2\n",
            "600 6.0 AT (530 л.с.)                                  2\n",
            "30i 2.0 AT (249 л.с.) 4WD                              2\n",
            "318i 1.8 MT (140 л.с.)                                 2\n",
            "113 CDI L2 2.1d AT (136 л.с.)                          2\n",
            "740Li 4.0 AT (306 л.с.)                                2\n",
            "xDrive20i 2.0 AT (192 л.с.) 4WD                        2\n",
            "65 AMG 6.0 AT (612 л.с.)                               2\n",
            "600 Long 6.0 AT (530 л.с.)                             2\n",
            "530d 3.0d AT (258 л.с.)                                2\n",
            "545i 4.4 AT (333 л.с.)                                 2\n",
            "450 AMG 3.0 AT (367 л.с.) 4WD                          2\n",
            "750i 4.4 AT (407 л.с.)                                 2\n",
            "320 Long 3.2 AT (231 л.с.)                             2\n",
            "525d 3.0d AT (204 л.с.)                                2\n",
            "318d 2.0d AT (150 л.с.)                                2\n",
            "600 5.5 AT (517 л.с.)                                  2\n",
            "740Li 3.0 AT (326 л.с.)                                2\n",
            "2.0 AMT (256 л.с.) 4WD                                 2\n",
            "320 3.2 AT (220 л.с.)                                  2\n",
            "23i 2.5 AT (204 л.с.)                                  2\n",
            "328i 2.8 MT (193 л.с.)                                 2\n",
            "640i 3.0 AT (320 л.с.)                                 2\n",
            "Long 3.1 CVT (260 л.с.)                                2\n",
            "200 2.0 AT (163 л.с.)                                  2\n",
            "2.5 AT (192 л.с.)                                      2\n",
            "135i 3.0 AT (306 л.с.)                                 2\n",
            "2.0d AT (190 л.с.) 4WD                                 2\n",
            "728i 2.8 AT (193 л.с.)                                 2\n",
            "V10 5.2 AMT (525 л.с.) 4WD                             2\n",
            "335i 3.0 MT (306 л.с.)                                 2\n",
            "55 AMG 5.4 AT (500 л.с.) 4WD                           2\n",
            "3.7 AT (260 л.с.) 4WD                                  2\n",
            "2.5 AMT (340 л.с.) 4WD                                 2\n",
            "2.0 AMT (272 л.с.) 4WD                                 2\n",
            "V10 plus 5.2 AMT (550 л.с.) 4WD                        2\n",
            "1.8 MT (120 л.с.)                                      2\n",
            "43 AMG 3.0 AT (390 л.с.) 4WD                           2\n",
            "2.0 MT (170 л.с.)                                      2\n",
            "1.8 AT (170 л.с.) 4WD                                  2\n",
            "2.5 AMT (310 л.с.) 4WD                                 2\n",
            "L1 2.2d AT (150 л.с.)                                  2\n",
            "525d 2.5d AT (177 л.с.)                                2\n",
            "350 Long 3.0d AT (235 л.с.)                            2\n",
            "500 4.7 AT (435 л.с.)                                  2\n",
            "250 d компактный 2.1d AT (190 л.с.)                    2\n",
            "xDrive20d 2.0d AT (190 л.с.) 4WD                       2\n",
            "4.2 AT (300 л.с.) 4WD                                  2\n",
            "113 CDI L2 2.1d AT (136 л.с.) 4WD                      2\n",
            "318i 2.0 MT (143 л.с.)                                 2\n",
            "L1 2.1d AT (163 л.с.)                                  2\n",
            "730i 3.0 AT (231 л.с.)                                 2\n",
            "2.0 CVT (211 л.с.)                                     2\n",
            "63 AMG 6.2 AT (514 л.с.)                               2\n",
            "550 4.7 AT (435 л.с.) 4WD                              2\n",
            "180 1.8 AT (143 л.с.)                                  2\n",
            "220d 2.0d AT (190 л.с.) 4WD                            2\n",
            "528i 2.8 MT (193 л.с.)                                 2\n",
            "520i 2.2 MT (170 л.с.)                                 2\n",
            "20i 2.0 AT (184 л.с.)                                  2\n",
            "200 2.0 MT (118 л.с.)                                  2\n",
            "180 1.8 AT (156 л.с.)                                  2\n",
            "30d 3.0d AT (231 л.с.) 4WD                             2\n",
            "2.0 AT (252 л.с.) 4WD                                  2\n",
            "63 AMG 5.5 AT (544 л.с.)                               2\n",
            "120d 2.0d AT (177 л.с.)                                2\n",
            "4.9 MT (400 л.с.)                                      2\n",
            "350 3.0d AT (231 л.с.) 4WD                             2\n",
            "3.2 MT (265 л.с.) 4WD                                  2\n",
            "650i xDrive 4.4 AT (407 л.с.) 4WD                      2\n",
            "530i 3.0 AT (258 л.с.)                                 2\n",
            "L2 2.2d AT (150 л.с.)                                  2\n",
            "6.0 AT (450 л.с.) 4WD                                  2\n",
            "65 AMG Long 6.0 AT (612 л.с.)                          2\n",
            "200 2.2d AT (136 л.с.)                                 2\n",
            "Tiptronic 3.0d AT (245 л.с.) 4WD                       2\n",
            "240 2.4 AT (170 л.с.)                                  2\n",
            "735i 3.6 AT (272 л.с.)                                 2\n",
            "320 3.2 AT (215 л.с.) 4WD                              2\n",
            "2.0 AT (150 л.с.)                                      2\n",
            "530xd 3.0d AT (235 л.с.) 4WD                           2\n",
            "350 3.5 AT (316 л.с.)                                  2\n",
            "450 4.7 AT (367 л.с.) 4WD                              2\n",
            "530i 3.0 MT (231 л.с.)                                 2\n",
            "350 Long 3.5 AT (272 л.с.)                             2\n",
            "2.4 MT (170 л.с.)                                      2\n",
            "318i 1.8 MT (113 л.с.)                                 2\n",
            "1.8 MT (163 л.с.)                                      2\n",
            "240 2.6 AT (170 л.с.)                                  2\n",
            "Long 4.1d AT (350 л.с.) 4WD                            2\n",
            "350 Long 3.0d AT (224 л.с.) 4WD                        2\n",
            "330i 3.0 AT (272 л.с.)                                 2\n",
            "760Li 6.0 AT (544 л.с.)                                2\n",
            "330i 3.0 MT (231 л.с.)                                 2\n",
            "63 AMG 5.5 AT (571 л.с.)                               2\n",
            "500 5-speed 5.0 AT (306 л.с.)                          2\n",
            "520i 2.0 MT (129 л.с.)                                 2\n",
            "523i 2.5 AT (170 л.с.)                                 2\n",
            "220 CDI 2.1d AT (170 л.с.)                             2\n",
            "630i 3.0 AT (258 л.с.)                                 2\n",
            "328i 3.0 AT (234 л.с.)                                 2\n",
            "2.4 AT (170 л.с.) 4WD                                  2\n",
            "123d 2.0d AT (204 л.с.)                                2\n",
            "350 3.5 AT (292 л.с.)                                  2\n",
            "1.5hyb AT (231 л.с.) 4WD                               2\n",
            "M50i 4.4 AT (530 л.с.) 4WD                             2\n",
            "Pullman 5.8 AT (367 л.с.)                              2\n",
            "435i xDrive 3.0 AT (306 л.с.) 4WD                      2\n",
            "320 CDI 3.0d AT (224 л.с.) 4WD                         2\n",
            "400 Long 3.0 AT (333 л.с.)                             2\n",
            "2.0d CVT (170 л.с.)                                    2\n",
            "535d xDrive 3.0d AT (313 л.с.) 4WD                     2\n",
            "180 2.0d CVT (109 л.с.)                                2\n",
            "28i 3.0 AT (258 л.с.) 4WD                              2\n",
            "220i 2.0 AT (184 л.с.)                                 1\n",
            "740i 4.4 AT (286 л.с.)                                 1\n",
            "323i 2.5 MT (170 л.с.)                                 1\n",
            "63 AMG 6.2 AT (457 л.с.)                               1\n",
            "1.8 MT (190 л.с.) 4WD                                  1\n",
            "330d 2.9d AT (184 л.с.)                                1\n",
            "300 3.5 AT (249 л.с.)                                  1\n",
            "4.0 AMT (476 л.с.)                                     1\n",
            "L1 3.5 AT (258 л.с.)                                   1\n",
            "180 1.5 AT (156 л.с.)                                  1\n",
            "119 BlueTEC L1 2.1d AT (190 л.с.)                      1\n",
            "745d 4.4d AT (329 л.с.)                                1\n",
            "340i xDrive 3.0 AT (326 л.с.) 4WD                      1\n",
            "50i 4.4 AT (462 л.с.) 4WD                              1\n",
            "523i 2.5 AT (177 л.с.)                                 1\n",
            "730d 2.9d AT (184 л.с.)                                1\n",
            "L1 3.0d AT (204 л.с.)                                  1\n",
            "1.8 AT (170 л.с.)                                      1\n",
            "3.0d AMT (240 л.с.) 4WD                                1\n",
            "V8 4.2 AMT (420 л.с.) 4WD                              1\n",
            "740i 3.0 AT (326 л.с.)                                 1\n",
            "500 Long 5.0 AT (320 л.с.)                             1\n",
            "119 BlueTEC L3 2.1d AT (190 л.с.) 4WD                  1\n",
            "735i 3.4 MT (192 л.с.)                                 1\n",
            "4.0 AMT (450 л.с.) 4WD                                 1\n",
            "2.7 MT (265 л.с.) 4WD                                  1\n",
            "316i 1.8 MT (115 л.с.)                                 1\n",
            "730d 3.0d AT (218 л.с.)                                1\n",
            "290 2.9d AT (129 л.с.)                                 1\n",
            "3.0 MT (333 л.с.) 4WD                                  1\n",
            "350 CDI BlueEfficiency 3.0d AT (211 л.с.) 4WD          1\n",
            "111 CDI L3 2.2d AT (116 л.с.)                          1\n",
            "150 1.5 CVT (95 л.с.)                                  1\n",
            "600 Long 5.5 AT (500 л.с.)                             1\n",
            "S Electro AT (136 кВт)                                 1\n",
            "S4 2.2 MT (230 л.с.) 4WD                               1\n",
            "320 5-speed 3.2 AT (220 л.с.)                          1\n",
            "350 3.0d AT (231 л.с.)                                 1\n",
            "200 2.0 CVT (193 л.с.)                                 1\n",
            "1.8 MT (170 л.с.) 4WD                                  1\n",
            "420 4.0d AT (306 л.с.) 4WD                             1\n",
            "600 5.8 AT (367 л.с.)                                  1\n",
            "330i 3.0 MT (272 л.с.)                                 1\n",
            "113 CDI L1 2.1d AT (136 л.с.)                          1\n",
            "Pullman 5.5 AT (500 л.с.)                              1\n",
            "Long 4.2 AT (310 л.с.) 4WD                             1\n",
            "400 HYBRID 3.5hyb AT (279 л.с.)                        1\n",
            "3.2 AMT (270 л.с.) 4WD                                 1\n",
            "318i 1.9 MT (118 л.с.)                                 1\n",
            "318d 2.0d MT (150 л.с.)                                1\n",
            "2.4 AT (165 л.с.)                                      1\n",
            "2.8 AT (190 л.с.) 4WD                                  1\n",
            "530Li 3.0 AT (258 л.с.)                                1\n",
            "4.0 AT (520 л.с.) 4WD                                  1\n",
            "3.0 AT (231 л.с.)                                      1\n",
            "3.0i 3.0 MT (231 л.с.) 4WD                             1\n",
            "840i xDrive 3.0 AT (340 л.с.) 4WD                      1\n",
            "330xi 3.0 AT (231 л.с.) 4WD                            1\n",
            "280 2.8 AT (193 л.с.)                                  1\n",
            "2.0 MT (180 л.с.) 4WD                                  1\n",
            "2.0 CVT (220 л.с.)                                     1\n",
            "3.0d 3.0d MT (218 л.с.) 4WD                            1\n",
            "220 BlueTEC 2.1d AT (170 л.с.)                         1\n",
            "240 2.6 MT (177 л.с.)                                  1\n",
            "220 2.2 MT (150 л.с.)                                  1\n",
            "300 3.0 AT (170 л.с.) 4WD                              1\n",
            "730d 3.0d AT (258 л.с.)                                1\n",
            "63 AMG 5.5 AT (525 л.с.)                               1\n",
            "110 CDI L3 2.1d MT (95 л.с.)                           1\n",
            "330d xDrive 3.0d AT (245 л.с.) 4WD                     1\n",
            "180 9G-TRONIC 1.6 AT (156 л.с.)                        1\n",
            "530xd 3.0d MT (231 л.с.) 4WD                           1\n",
            "250 CDI BlueTEC 2.1d AT (204 л.с.) 4WD                 1\n",
            "350 CDI BlueTEC 3.0d AT (252 л.с.) 4WD                 1\n",
            "1.8 AT (109 л.с.)                                      1\n",
            "2.5d AT (180 л.с.)                                     1\n",
            "xDrive18d 2.0d AT (150 л.с.) 4WD                       1\n",
            "30d 3.0d MT (218 л.с.) 4WD                             1\n",
            "2.8 CVT (210 л.с.)                                     1\n",
            "318d 2.0d MT (143 л.с.)                                1\n",
            "M760Li xDrive 6.6 AT (609 л.с.) 4WD                    1\n",
            "V8 4.2 MT (430 л.с.) 4WD                               1\n",
            "2.0hyb AT (211 л.с.) 4WD                               1\n",
            "3.0 AT (367 л.с.)                                      1\n",
            "535d 3.0d AT (286 л.с.)                                1\n",
            "30i 3.0 AT (258 л.с.)                                  1\n",
            "200 CDI 2.1d AT (143 л.с.)                             1\n",
            "320 3.2 AT (218 л.с.)                                  1\n",
            "300 d экстра длинный 2.0d AT (239 л.с.) 4WD            1\n",
            "740Li 4.4 AT (286 л.с.)                                1\n",
            "1.8 MT (225 л.с.) 4WD                                  1\n",
            "L2 2.2d AT (150 л.с.) 4WD                              1\n",
            "35is 3.0 AMT (340 л.с.)                                1\n",
            "500 Long 4.7 AT (435 л.с.)                             1\n",
            "290 2.9d AT (95 л.с.) 4WD                              1\n",
            "3.0 MT (340 л.с.)                                      1\n",
            "115 CDI L2 2.2d AT (150 л.с.) 4WD                      1\n",
            "220 2.1d MT (170 л.с.)                                 1\n",
            "530d 3.0d AT (235 л.с.)                                1\n",
            "735i 3.5 AT (238 л.с.)                                 1\n",
            "380 3.8 AT (204 л.с.)                                  1\n",
            "500 Long 5.5 AT (388 л.с.)                             1\n",
            "5.0 AT (580 л.с.) 4WD                                  1\n",
            "500 5.0 AT (231 л.с.)                                  1\n",
            "3.0 AT (480 л.с.) 4WD                                  1\n",
            "400 3.5 AT (333 л.с.) 4WD                              1\n",
            "63 AMG S 4.0 AT (510 л.с.) 4WD                         1\n",
            "620d xDrive 2.0d AT (190 л.с.) 4WD                     1\n",
            "L2 3.7 AT (231 л.с.)                                   1\n",
            "735i 3.5 MT (218 л.с.)                                 1\n",
            "Long 4.0 AT (420 л.с.) 4WD                             1\n",
            "114 CDI L2 2.1d AT (136 л.с.)                          1\n",
            "43 3.0 AMT (367 л.с.) 4WD                              1\n",
            "250 длинный 2.0 AT (211 л.с.)                          1\n",
            "55 AMG 5.4 AT (354 л.с.)                               1\n",
            "240 2.6 AT (170 л.с.) 4WD                              1\n",
            "1.8 MT (160 л.с.)                                      1\n",
            "218d 2.0d AT (150 л.с.)                                1\n",
            "2.0 AMT (200 л.с.)                                     1\n",
            "535d 3.0d AT (300 л.с.)                                1\n",
            "111 CDI L2 2.1d MT (116 л.с.)                          1\n",
            "M135i 3.0 AT (320 л.с.)                                1\n",
            "118i 1.6 AT (136 л.с.)                                 1\n",
            "3.0d AT (272 л.с.) 4WD                                 1\n",
            "2.0d MT (143 л.с.)                                     1\n",
            "119 BlueTEC L1 2.1d AT (190 л.с.) 4WD                  1\n",
            "200 d компактный 2.1d AT (136 л.с.)                    1\n",
            "L1 3.0d AT (224 л.с.)                                  1\n",
            "94Ah 0.7hyb AT (170 л.с.)                              1\n",
            "sDrive20i 2.0 AMT (190 л.с.)                           1\n",
            "730Ld 3.0d AT (258 л.с.)                               1\n",
            "520d 2.0d AT (150 л.с.)                                1\n",
            "2.0 MT (211 л.с.) 4WD                                  1\n",
            "300 3.5 AT (250 л.с.) 4WD                              1\n",
            "220 2.1d AT (170 л.с.)                                 1\n",
            "Competition 3.0 AT (510 л.с.) 4WD                      1\n",
            "Pullman 6.0 AT (394 л.с.)                              1\n",
            "28i 2.0 AT (245 л.с.)                                  1\n",
            "1.9d AMT (105 л.с.)                                    1\n",
            "2.0 AMT (300 л.с.) 4WD                                 1\n",
            "250 d 2.3d AT (190 л.с.) 4WD                           1\n",
            "115 CDI L2 2.2d MT (150 л.с.)                          1\n",
            "730d 3.0d AT (231 л.с.)                                1\n",
            "535d xDrive 3.0d AT (300 л.с.) 4WD                     1\n",
            "18d 2.0d MT (143 л.с.)                                 1\n",
            "280 2.8 AT (197 л.с.)                                  1\n",
            "63 4.0 AMT (585 л.с.) 4WD                              1\n",
            "535i 3.4 AT (211 л.с.)                                 1\n",
            "220 2.2 AT (150 л.с.)                                  1\n",
            "30i 3.0 MT (231 л.с.) 4WD                              1\n",
            "525d 2.5d AT (163 л.с.)                                1\n",
            "3.2 AMT (265 л.с.) 4WD                                 1\n",
            "328i 2.8 AT (193 л.с.)                                 1\n",
            "115 CDI L1 2.2d AT (150 л.с.)                          1\n",
            "200 d длинный 2.1d AT (136 л.с.)                       1\n",
            "2.4 MT (177 л.с.)                                      1\n",
            "300 3.0d AT (190 л.с.) 4WD                             1\n",
            "35i 3.0 AMT (306 л.с.)                                 1\n",
            "220 d длинный 2.1d AT (163 л.с.)                       1\n",
            "111 CDI L3 2.2d MT (116 л.с.)                          1\n",
            "63 AMG Edition 507 6.2 AT (507 л.с.)                   1\n",
            "200 2.0 AT (136 л.с.)                                  1\n",
            "350 e 2.0hyb AT (211 л.с.)                             1\n",
            "524d 2.4d MT (115 л.с.)                                1\n",
            "270 2.7d AT (156 л.с.) 4WD                             1\n",
            "2.0d AMT (140 л.с.)                                    1\n",
            "318i 1.8 MT (102 л.с.)                                 1\n",
            "316i 1.6 AT (100 л.с.)                                 1\n",
            "300 3.5 AT (250 л.с.)                                  1\n",
            "118i 1.6 MT (170 л.с.)                                 1\n",
            "735i 3.4 MT (211 л.с.)                                 1\n",
            "Competition Pack 4.4 AMT (575 л.с.)                    1\n",
            "523i 2.5 MT (170 л.с.)                                 1\n",
            "645i 4.4 MT (333 л.с.)                                 1\n",
            "220 2.0 AMT (190 л.с.) 4WD                             1\n",
            "2.8 AT (193 л.с.)                                      1\n",
            "2.7d AT (180 л.с.)                                     1\n",
            "525i 3.0 AT (218 л.с.)                                 1\n",
            "216d 1.5d AT (116 л.с.)                                1\n",
            "2.0 MT (150 л.с.)                                      1\n",
            "4.2 AT (310 л.с.) 4WD                                  1\n",
            "4.0d AT (435 л.с.) 4WD                                 1\n",
            "111 CDI L3 1.6d MT (114 л.с.)                          1\n",
            "530i xDrive 2.0 AT (252 л.с.) 4WD                      1\n",
            "109 CDI L1 2.2d MT (95 л.с.)                           1\n",
            "180 1.8 MT (143 л.с.)                                  1\n",
            "350 Long 3.0d AT (258 л.с.) 4WD                        1\n",
            "730i 3.0 AT (258 л.с.)                                 1\n",
            "ultra 1.4 AMT (150 л.с.)                               1\n",
            "35 TFSI 1.5 AMT (150 л.с.)                             1\n",
            "18i sDrive 1.5 AMT (140 л.с.)                          1\n",
            "5.2 AT (435 л.с.) 4WD                                  1\n",
            "300 Long 3.0 AT (231 л.с.)                             1\n",
            "525xd 3.0d AT (197 л.с.) 4WD                           1\n",
            "55 AMG 5.4 AT (347 л.с.) 4WD                           1\n",
            "120d 2.0d MT (177 л.с.)                                1\n",
            "420d xDrive 2.0d AT (184 л.с.) 4WD                     1\n",
            "750Li xDrive 4.4 AT (530 л.с.) 4WD                     1\n",
            "160 2.0d CVT (82 л.с.)                                 1\n",
            "320 Long 3.0d AT (224 л.с.) 4WD                        1\n",
            "550 Long 5.5 AT (388 л.с.) 4WD                         1\n",
            "220 CDI BlueTEC BlueEFFICIENCY 2.1d AT (170 л.с.)      1\n",
            "M40i 3.0 AT (360 л.с.) 4WD                             1\n",
            "330d 3.0d AT (231 л.с.) 4WD                            1\n",
            "114 CDI L1 2.1d AT (136 л.с.)                          1\n",
            "320 Long 3.0d AT (235 л.с.)                            1\n",
            "23d 2.0d AT (204 л.с.) 4WD                             1\n",
            "8V 2.0d CVT (140 л.с.)                                 1\n",
            "230 2.3 MT (136 л.с.)                                  1\n",
            "116i 1.6 AT (122 л.с.)                                 1\n",
            "350 CDI BlueTEC 3.0d AT (258 л.с.)                     1\n",
            "180 CDI 1.5d AMT (109 л.с.)                            1\n",
            "2.5 AMT (367 л.с.) 4WD                                 1\n",
            "540i 4.0 AT (286 л.с.)                                 1\n",
            "250 d экстра длинный 2.1d AT (190 л.с.)                1\n",
            "428i 2.0 AT (245 л.с.)                                 1\n",
            "C 4.0 AMT (557 л.с.)                                   1\n",
            "65 AMG 6.0 AT (612 л.с.) 4WD                           1\n",
            "740i 4.0 AT (306 л.с.)                                 1\n",
            "318i 2.0 AT (129 л.с.)                                 1\n",
            "735i 3.5 AT (235 л.с.)                                 1\n",
            "750i 4.4 AT (450 л.с.)                                 1\n",
            "500 5.0 AT (223 л.с.)                                  1\n",
            "630i 2.0 AT (249 л.с.)                                 1\n",
            "440i xDrive 3.0 AT (326 л.с.) 4WD                      1\n",
            "R 4.0 AMT (585 л.с.)                                   1\n",
            "20d 2.0d MT (177 л.с.) 4WD                             1\n",
            "L1 3.2 AT (190 л.с.)                                   1\n",
            "530d 3.0d AT (218 л.с.)                                1\n",
            "M135i 3.0 AT (320 л.с.) 4WD                            1\n",
            "63 AMG 5.5 AT (557 л.с.)                               1\n",
            "2.4 AT (177 л.с.) 4WD                                  1\n",
            "180 1.8 AT (122 л.с.)                                  1\n",
            "2.4 MT (177 л.с.) 4WD                                  1\n",
            "270 2.7d MT (177 л.с.)                                 1\n",
            "450 Long 4.7 AT (340 л.с.)                             1\n",
            "121 L2 2.0 AT (211 л.с.)                               1\n",
            "116i 1.6 MT (136 л.с.)                                 1\n",
            "3.0 MT (431 л.с.)                                      1\n",
            "350 CDI BlueTEC 3.0d AT (240 л.с.) 4WD                 1\n",
            "Pullman 5.0 AT (306 л.с.)                              1\n",
            "200 CDI 2.1d AMT (136 л.с.) 4WD                        1\n",
            "250 d компактный 2.1d AT (190 л.с.) 4WD                1\n",
            "200 BlueEFFICIENCY 1.8 AT (184 л.с.)                   1\n",
            "550 4.7 AT (402 л.с.)                                  1\n",
            "535xi 3.0 AT (300 л.с.) 4WD                            1\n",
            "440i 3.0 AT (326 л.с.)                                 1\n",
            "40e 2.0hyb AT (245 л.с.) 4WD                           1\n",
            "280 2.8 AT (204 л.с.)                                  1\n",
            "L3 2.1d AT (163 л.с.)                                  1\n",
            "750Li 5.4 AT (326 л.с.)                                1\n",
            "ActiveHybrid 4.4hyb AT (407 л.с.) 4WD                  1\n",
            "230 2.3 AT (193 л.с.)                                  1\n",
            "tiptronic 3.0d AT (239 л.с.) 4WD                       1\n",
            "528Li xDrive 2.0 AT (245 л.с.) 4WD                     1\n",
            "400 3.0 AT (333 л.с.)                                  1\n",
            "3.0 MT (231 л.с.)                                      1\n",
            "525d 2.5d MT (143 л.с.)                                1\n",
            "218i 1.5 AT (136 л.с.)                                 1\n",
            "113 CDI L3 2.1d AT (136 л.с.) 4WD                      1\n",
            "420i 2.0 MT (184 л.с.)                                 1\n",
            "1.9 MT (140 л.с.)                                      1\n",
            "318i 1.9 AT (118 л.с.)                                 1\n",
            "220 2.2d AT (170 л.с.)                                 1\n",
            "500 4x4 4.0 AT (422 л.с.) 4WD                          1\n",
            "725Ld 2.0d AT (231 л.с.)                               1\n",
            "3.0 CVT (220 л.с.)                                     1\n",
            "1.8 AT (163 л.с.) 4WD                                  1\n",
            "2.5 MT (170 л.с.)                                      1\n",
            "1.8 MT (150 л.с.)                                      1\n",
            "108 CDI 1.5d MT (75 л.с.)                              1\n",
            "30d 3.0d AT (211 л.с.) 4WD                             1\n",
            "320 Long 3.0d AT (211 л.с.) 4WD                        1\n",
            "2.0d MT (140 л.с.)                                     1\n",
            "635i 3.4 MT (218 л.с.)                                 1\n",
            "25i 3.0 AT (218 л.с.) 4WD                              1\n",
            "3.0d AT (211 л.с.) 4WD                                 1\n",
            "528i 2.8 AT (193 л.с.)                                 1\n",
            "200 2.0 MT (136 л.с.)                                  1\n",
            "520i 2.0 MT (125 л.с.)                                 1\n",
            "L2 3.0d AT (224 л.с.)                                  1\n",
            "350 Long 3.7 AT (245 л.с.) 4WD                         1\n",
            "3.0 CVT (218 л.с.)                                     1\n",
            "5.4 AT (626 л.с.)                                      1\n",
            "2.8 AT (174 л.с.)                                      1\n",
            "500 4.7 AT (408 л.с.)                                  1\n",
            "560 4MATIC 4.0 AT (469 л.с.) 4WD                       1\n",
            "728Li 2.8 AT (193 л.с.)                                1\n",
            "220 d экстра длинный 2.1d AT (163 л.с.)                1\n",
            "500 Long 4.7 AT (455 л.с.)                             1\n",
            "110 CDI L1 2.3d MT (98 л.с.)                           1\n",
            "400 3.0 AT (367 л.с.)                                  1\n",
            "V10 plus 5.2 AMT (610 л.с.) 4WD                        1\n",
            "750i 5.4 AT (326 л.с.)                                 1\n",
            "180 5G-TRONIC 1.6 AT (156 л.с.)                        1\n",
            "2.0d MT (177 л.с.)                                     1\n",
            "315 1.6 MT (75 л.с.)                                   1\n",
            "110 CDI L1 2.2d AT (102 л.с.)                          1\n",
            "318d 2.0d AT (116 л.с.)                                1\n",
            "180 1.6 MT (122 л.с.)                                  1\n",
            "3.8 MT (340 л.с.)                                      1\n",
            "230 2.3 AT (197 л.с.)                                  1\n",
            "63 AMG 4.0 AT (476 л.с.)                               1\n",
            "350 Long 3.0d AT (235 л.с.) 4WD                        1\n",
            "150 1.5 MT (95 л.с.)                                   1\n",
            "350 3.0d AT (235 л.с.) 4WD                             1\n",
            "Name: name, dtype: int64\n"
          ],
          "name": "stdout"
        }
      ]
    },
    {
      "cell_type": "code",
      "metadata": {
        "id": "fhgmxKCyEyTz",
        "outputId": "04ad1744-bc61-4709-9f0b-e1f2f00a28c5",
        "colab": {
          "base_uri": "https://localhost:8080/"
        }
      },
      "source": [
        "column_info(test.name)"
      ],
      "execution_count": 143,
      "outputs": [
        {
          "output_type": "stream",
          "text": [
            "count                          1671\n",
            "unique                          536\n",
            "top       35i 3.0 AT (306 л.с.) 4WD\n",
            "freq                             35\n",
            "Name: name, dtype: object\n",
            "-----------------------------\n",
            "35i 3.0 AT (306 л.с.) 4WD                        35\n",
            "2.0 AMT (211 л.с.) 4WD                           32\n",
            "30d 3.0d AT (249 л.с.) 4WD                       22\n",
            "400 3.0 AT (333 л.с.) 4WD                        21\n",
            "520i 2.0 AT (184 л.с.)                           21\n",
            "2.0 CVT (180 л.с.)                               20\n",
            "1.8 CVT (170 л.с.)                               18\n",
            "320i 2.0 AT (184 л.с.)                           17\n",
            "350 d 3.0d AT (249 л.с.) 4WD                     16\n",
            "200 2.0 AT (184 л.с.)                            16\n",
            "2.0 AMT (249 л.с.) 4WD                           15\n",
            "1.8 CVT (160 л.с.)                               15\n",
            "200 1.6 AMT (156 л.с.)                           15\n",
            "200 1.8 AT (184 л.с.)                            15\n",
            "520d 2.0d AT (190 л.с.)                          14\n",
            "116i 1.6 AT (115 л.с.)                           14\n",
            "4.4 AT (555 л.с.) 4WD                            14\n",
            "180 1.6 AT (156 л.с.)                            13\n",
            "320i xDrive 2.0 AT (184 л.с.) 4WD                13\n",
            "200 2.0 AT (184 л.с.) 4WD                        12\n",
            "2.0 AMT (170 л.с.) 4WD                           12\n",
            "520d xDrive 2.0d AT (190 л.с.) 4WD               12\n",
            "350 3.5 AT (272 л.с.) 4WD                        12\n",
            "180 1.6 AT (150 л.с.)                            12\n",
            "63 AMG 5.5 AT (557 л.с.) 4WD                     11\n",
            "25d 3.0d AT (218 л.с.) 4WD                       11\n",
            "30d 3.0d AT (245 л.с.) 4WD                       11\n",
            "520d 2.0d AT (184 л.с.)                          11\n",
            "528i xDrive 2.0 AT (245 л.с.) 4WD                10\n",
            "3.0d AT (245 л.с.) 4WD                           10\n",
            "320i 2.0 AT (156 л.с.)                           10\n",
            "20i 2.0 AT (184 л.с.) 4WD                        10\n",
            "250 2.0 AT (211 л.с.) 4WD                         9\n",
            "20i xDrive 2.0 AT (184 л.с.) 4WD                  9\n",
            "500 4.7 AT (455 л.с.) 4WD                         9\n",
            "2.0 AMT (225 л.с.) 4WD                            9\n",
            "4.4 AT (575 л.с.) 4WD                             9\n",
            "318i 2.0 AT (136 л.с.)                            9\n",
            "250 2.0 AMT (211 л.с.) 4WD                        9\n",
            "1.4 AMT (150 л.с.)                                9\n",
            "350 CDI BlueTEC 3.0d AT (249 л.с.) 4WD            8\n",
            "50i 4.4 AT (407 л.с.) 4WD                         8\n",
            "18i 2.0 AT (150 л.с.)                             8\n",
            "28i xDrive 2.0 AT (245 л.с.) 4WD                  8\n",
            "1.8 AMT (190 л.с.)                                8\n",
            "2.0 AT (225 л.с.) 4WD                             8\n",
            "40d 3.0d AT (313 л.с.) 4WD                        8\n",
            "350 3.0d AT (224 л.с.) 4WD                        7\n",
            "20d xDrive 2.0d AT (184 л.с.) 4WD                 7\n",
            "500 Long 4.7 AT (455 л.с.) 4WD                    7\n",
            "180 1.6 AMT (122 л.с.)                            7\n",
            "220 d 2.0d AT (194 л.с.) 4WD                      7\n",
            "250 d 2.1d AT (204 л.с.) 4WD                      7\n",
            "3.0d AT (249 л.с.) 4WD                            7\n",
            "3.0 AMT (300 л.с.) 4WD                            7\n",
            "3.0i 3.0 AT (231 л.с.) 4WD                        7\n",
            "200 2.0 AT (197 л.с.) 4WD                         7\n",
            "3.0d AMT (239 л.с.) 4WD                           7\n",
            "530d xDrive 3.0d AT (249 л.с.) 4WD                7\n",
            "1.4 AMT (125 л.с.)                                7\n",
            "20d xDrive 2.0d AT (190 л.с.) 4WD                 7\n",
            "500 5.5 AT (388 л.с.) 4WD                         7\n",
            "525i 2.5 AT (218 л.с.)                            7\n",
            "3.0 AMT (333 л.с.) 4WD                            7\n",
            "350 CDI BlueTEC Long 3.0d AT (249 л.с.) 4WD       7\n",
            "20i xDrive 2.0 AT (192 л.с.) 4WD                  6\n",
            "28i 2.0 AT (245 л.с.) 4WD                         6\n",
            "730Ld xDrive 3.0d AT (249 л.с.) 4WD               6\n",
            "1.2 AMT (105 л.с.)                                6\n",
            "528i 3.0 AT (258 л.с.)                            6\n",
            "30d 3.0d AT (235 л.с.) 4WD                        6\n",
            "20d 2.0d AT (177 л.с.) 4WD                        6\n",
            "350 CDI 3.0d AT (249 л.с.) 4WD                    6\n",
            "3.0d AT (233 л.с.) 4WD                            6\n",
            "316i 1.6 AT (136 л.с.)                            6\n",
            "1.4 AMT (122 л.с.)                                6\n",
            "2.8 AMT (204 л.с.) 4WD                            6\n",
            "M50d 3.0d AT (381 л.с.) 4WD                       6\n",
            "350 3.5 AT (306 л.с.) 4WD                         5\n",
            "3.0d 3.0d AT (218 л.с.) 4WD                       5\n",
            "318i 1.5 AT (136 л.с.)                            5\n",
            "300 3.0 AT (231 л.с.)                             5\n",
            "540i xDrive 3.0 AT (340 л.с.) 4WD                 5\n",
            "Long 3.0 AT (310 л.с.) 4WD                        5\n",
            "320d xDrive 2.0d AT (190 л.с.) 4WD                5\n",
            "520Li 2.0 AT (184 л.с.)                           5\n",
            "530d xDrive 3.0d AT (258 л.с.) 4WD                5\n",
            "350 3.5 AT (306 л.с.)                             5\n",
            "650i 4.8 AT (367 л.с.)                            5\n",
            "250 BlueTEC 2.1d AT (204 л.с.) 4WD                5\n",
            "116i 1.6 AT (136 л.с.)                            5\n",
            "25i 2.5 AT (218 л.с.) 4WD                         5\n",
            "18d xDrive 2.0d AT (150 л.с.) 4WD                 5\n",
            "200 1.8 AT (163 л.с.)                             5\n",
            "118i 2.0 AT (136 л.с.)                            5\n",
            "450 Long 3.0 AT (367 л.с.) 4WD                    5\n",
            "528i 2.0 AT (245 л.с.)                            5\n",
            "30d xDrive 3.0d AT (249 л.с.) 4WD                 5\n",
            "3.0 AT (290 л.с.) 4WD                             5\n",
            "220 CDI 2.1d AT (170 л.с.) 4WD                    5\n",
            "4.0 AMT (420 л.с.)                                5\n",
            "118i 1.5 AT (136 л.с.)                            5\n",
            "3.0d 3.0d AT (235 л.с.) 4WD                       5\n",
            "500 5.0 AT (296 л.с.) 4WD                         4\n",
            "200 1.6 AMT (150 л.с.)                            4\n",
            "4.4i 4.4 AT (286 л.с.) 4WD                        4\n",
            "S-tronic 3.0d AMT (245 л.с.) 4WD                  4\n",
            "630i 3.0 AT (272 л.с.)                            4\n",
            "750Li xDrive 4.4 AT (407 л.с.) 4WD                4\n",
            "63 AMG 6.2 AT (510 л.с.) 4WD                      4\n",
            "650i xDrive 4.4 AT (450 л.с.) 4WD                 4\n",
            "4.8i 4.8 AT (355 л.с.) 4WD                        4\n",
            "35d 3.0d AT (286 л.с.) 4WD                        4\n",
            "48i 4.8 AT (355 л.с.) 4WD                         4\n",
            "300 3.0 AT (231 л.с.) 4WD                         4\n",
            "20d 2.0d AT (184 л.с.) 4WD                        4\n",
            "350 CDI BlueTEC 3.0d AT (211 л.с.) 4WD            4\n",
            "250 d длинный 2.1d AT (190 л.с.) 4WD              4\n",
            "300 3.5 AT (249 л.с.) 4WD                         4\n",
            "500 4.7 AT (435 л.с.) 4WD                         4\n",
            "530xi 3.0 AT (272 л.с.) 4WD                       4\n",
            "Long 4.2 AT (372 л.с.) 4WD                        4\n",
            "320d xDrive 2.0d AT (184 л.с.) 4WD                4\n",
            "63 AMG 4.0 AT (585 л.с.) 4WD                      4\n",
            "640i xDrive 3.0 AT (320 л.с.) 4WD                 4\n",
            "2.0 AMT (180 л.с.) 4WD                            4\n",
            "450 3.0 AT (367 л.с.) 4WD                         4\n",
            "63 AMG 5.5 AT (544 л.с.) 4WD                      4\n",
            "4.4 AMT (560 л.с.)                                4\n",
            "180 1.7 CVT (116 л.с.)                            4\n",
            "3.0 AT (354 л.с.) 4WD                             3\n",
            "45 AMG 2.0 AMT (360 л.с.) 4WD                     3\n",
            "30i 3.0 AT (272 л.с.) 4WD                         3\n",
            "325i 2.5 AT (218 л.с.)                            3\n",
            "3.0d AMT (245 л.с.) 4WD                           3\n",
            "1.8 CVT (163 л.с.)                                3\n",
            "20d 2.0d AT (190 л.с.) 4WD                        3\n",
            "2.0 AT (200 л.с.) 4WD                             3\n",
            "3.0d AT (239 л.с.) 4WD                            3\n",
            "280 3.0 AT (231 л.с.)                             3\n",
            "350 Long 3.5 AT (272 л.с.) 4WD                    3\n",
            "55 AMG 5.4 AT (507 л.с.) 4WD                      3\n",
            "320 3.0d AT (224 л.с.) 4WD                        3\n",
            "3.1 AT (255 л.с.) 4WD                             3\n",
            "43 AMG 3.0 AT (367 л.с.) 4WD                      3\n",
            "Competition 3.0 AT (510 л.с.) 4WD                 3\n",
            "530i xDrive 2.0 AT (249 л.с.) 4WD                 3\n",
            "55 TFSI 3.0 AT (340 л.с.) 4WD                     3\n",
            "350 Long 3.5 AT (306 л.с.) 4WD                    3\n",
            "325xi 2.5 AT (218 л.с.) 4WD                       3\n",
            "740Li xDrive 3.0 AT (320 л.с.) 4WD                3\n",
            "4.2 MT (354 л.с.) 4WD                             3\n",
            "30i 3.0 AT (231 л.с.) 4WD                         3\n",
            "318i 2.0 AT (143 л.с.)                            3\n",
            "43 AMG 3.0 AT (390 л.с.) 4WD                      3\n",
            "450 AMG 3.0 AT (367 л.с.) 4WD                     3\n",
            "63 AMG 5.5 AT (585 л.с.) 4WD                      3\n",
            "350 CDI BlueTEC 3.0d AT (258 л.с.) 4WD            3\n",
            "500 Long 4.7 AT (435 л.с.) 4WD                    3\n",
            "3.0si 3.0 AT (264 л.с.) 4WD                       3\n",
            "2.0d AMT (177 л.с.) 4WD                           3\n",
            "180 BlueEFFICIENCY 1.8 AT (156 л.с.)              3\n",
            "335i 3.0 AT (306 л.с.)                            3\n",
            "350 d 3.0d AT (245 л.с.) 4WD                      3\n",
            "600 6.0 AT (394 л.с.)                             3\n",
            "2.4 CVT (177 л.с.)                                3\n",
            "2.0d AMT (190 л.с.)                               3\n",
            "523i 2.5 AT (204 л.с.)                            3\n",
            "Competition 4.4 AT (625 л.с.) 4WD                 3\n",
            "560 Long 4.0 AT (469 л.с.) 4WD                    3\n",
            "730i 2.0 AT (249 л.с.)                            3\n",
            "350 d 2.9d AT (249 л.с.) 4WD                      3\n",
            "3.6 AT (280 л.с.) 4WD                             3\n",
            "520i 2.2 AT (170 л.с.)                            3\n",
            "320d 2.0d AT (184 л.с.)                           3\n",
            "530i 3.0 AT (231 л.с.)                            3\n",
            "8tiptronic 2.0 AT (211 л.с.) 4WD                  3\n",
            "350 3.5 AT (272 л.с.)                             3\n",
            "63 AMG Long 5.5 AT (585 л.с.) 4WD                 3\n",
            "350 BlueTEC 3.0d AT (249 л.с.) 4WD                3\n",
            "400 Long 3.0 AT (333 л.с.) 4WD                    3\n",
            "4.2 AT (350 л.с.) 4WD                             3\n",
            "L1 2.2d AT (150 л.с.)                             3\n",
            "730d 3.0d AT (245 л.с.)                           3\n",
            "450 4MATIC 3.0 AT (367 л.с.) 4WD                  3\n",
            "250 2.0 AT (211 л.с.)                             3\n",
            "730Li 3.0 AT (258 л.с.)                           3\n",
            "220 d длинный 2.1d AT (163 л.с.) 4WD              2\n",
            "4.2 AT (335 л.с.) 4WD                             2\n",
            "560 4.0 AT (469 л.с.) 4WD                         2\n",
            "500 Long 5.0 AT (320 л.с.)                        2\n",
            "230 2.3 AT (193 л.с.)                             2\n",
            "320 3.2 AT (218 л.с.) 4WD                         2\n",
            "5.0 AT (580 л.с.) 4WD                             2\n",
            "420i 2.0 AT (184 л.с.)                            2\n",
            "550 4.7 AT (435 л.с.) 4WD                         2\n",
            "540i 4.0 AT (306 л.с.)                            2\n",
            "2.0d CVT (170 л.с.)                               2\n",
            "320 3.0d AT (235 л.с.)                            2\n",
            "2.8 AT (193 л.с.) 4WD                             2\n",
            "1.6 AMT (102 л.с.)                                2\n",
            "120d 2.0d AT (177 л.с.)                           2\n",
            "400 4.2 AT (279 л.с.)                             2\n",
            "Long 3.0d AT (250 л.с.) 4WD                       2\n",
            "63 AMG S 5.5 AT (585 л.с.) 4WD                    2\n",
            "2.0d CVT (143 л.с.)                               2\n",
            "320i 2.2 MT (170 л.с.)                            2\n",
            "735i 3.6 AT (272 л.с.)                            2\n",
            "730d xDrive 3.0d AT (265 л.с.) 4WD                2\n",
            "540i 4.4 AT (286 л.с.)                            2\n",
            "3.0 AT (272 л.с.) 4WD                             2\n",
            "645i 4.4 AT (333 л.с.)                            2\n",
            "320 3.2 AT (210 л.с.) 4WD                         2\n",
            "630i 3.0 AT (258 л.с.)                            2\n",
            "200 d 2.0d AT (150 л.с.)                          2\n",
            "420d xDrive 2.0d AT (190 л.с.) 4WD                2\n",
            "53 AMG 3.0 AT (435 л.с.) 4WD                      2\n",
            "350 Long 3.5 AT (272 л.с.)                        2\n",
            "40i 3.0 AT (340 л.с.) 4WD                         2\n",
            "4.2 AT (372 л.с.) 4WD                             2\n",
            "4.4i 4.4 AT (320 л.с.) 4WD                        2\n",
            "4.1d AT (326 л.с.) 4WD                            2\n",
            "350 d Long 2.9d AT (249 л.с.) 4WD                 2\n",
            "320i 2.0 AT (150 л.с.)                            2\n",
            "2.4 MT (177 л.с.)                                 2\n",
            "2.5d AT (180 л.с.) 4WD                            2\n",
            "40d 3.0d AT (306 л.с.) 4WD                        2\n",
            "30d 3.0d AT (204 л.с.) 4WD                        2\n",
            "2.0 CVT (130 л.с.)                                2\n",
            "2.0d AMT (170 л.с.) 4WD                           2\n",
            "200 2.0 AT (197 л.с.)                             2\n",
            "630d xDrive 3.0d AT (249 л.с.) 4WD                2\n",
            "525d xDrive 2.0d AT (218 л.с.) 4WD                2\n",
            "4.8is 4.8 AT (360 л.с.) 4WD                       2\n",
            "750i xDrive 4.4 AT (407 л.с.) 4WD                 2\n",
            "55 AMG 5.5 AT (421 л.с.)                          2\n",
            "250 1.8 AT (204 л.с.)                             2\n",
            "250 CDI 2.1d AT (204 л.с.) 4WD                    2\n",
            "2.0 AT (230 л.с.) 4WD                             2\n",
            "320i 2.0 MT (150 л.с.)                            2\n",
            "3.0i 3.0 MT (231 л.с.) 4WD                        2\n",
            "550i 4.4 AT (407 л.с.)                            2\n",
            "4.1d AT (340 л.с.) 4WD                            2\n",
            "2.0d AMT (190 л.с.) 4WD                           2\n",
            "1.8 MT (225 л.с.) 4WD                             2\n",
            "5.0 AMT (507 л.с.)                                2\n",
            "550 5.5 AT (388 л.с.) 4WD                         2\n",
            "63 AMG 6.2 AT (525 л.с.)                          2\n",
            "330i 3.0 AT (231 л.с.)                            2\n",
            "2.0 AMT (200 л.с.)                                2\n",
            "523i 2.5 AT (170 л.с.)                            2\n",
            "428i xDrive 2.0 AT (245 л.с.) 4WD                 2\n",
            "620d xDrive 2.0d AT (190 л.с.) 4WD                2\n",
            "520i 2.0 AT (170 л.с.)                            2\n",
            "43 AMG 3.0 AT (401 л.с.) 4WD                      2\n",
            "300 2.0 AT (245 л.с.)                             2\n",
            "3.0si 3.0 AT (272 л.с.) 4WD                       2\n",
            "280 3.0 AT (231 л.с.) 4WD                         2\n",
            "2.0 AMT (230 л.с.) 4WD                            2\n",
            "5.2 AT (450 л.с.) 4WD                             2\n",
            "600 Long 6.0 AT (394 л.с.)                        2\n",
            "63 AMG 5.5 AT (585 л.с.)                          2\n",
            "350 CDI 3.0d AT (265 л.с.) 4WD                    2\n",
            "35d 3.0d AT (269 л.с.) 4WD                        2\n",
            "M50d 3.0d AT (400 л.с.) 4WD                       2\n",
            "528Li xDrive 2.0 AT (245 л.с.) 4WD                2\n",
            "520i 2.0 MT (150 л.с.)                            2\n",
            "230 2.3 AT (197 л.с.)                             2\n",
            "300 d 2.0d AT (245 л.с.) 4WD                      2\n",
            "200 1.3 AMT (150 л.с.)                            2\n",
            "1.8 CVT (120 л.с.)                                2\n",
            "640d xDrive 3.0d AT (313 л.с.) 4WD                2\n",
            "350 CDI 3.0d AT (258 л.с.) 4WD                    2\n",
            "63 AMG 5.5 AT (525 л.с.) 4WD                      2\n",
            "3.0d AT (225 л.с.) 4WD                            2\n",
            "525d 2.5d AT (177 л.с.)                           2\n",
            "3.0 AMT (310 л.с.) 4WD                            2\n",
            "530d xDrive 3.0d AT (245 л.с.) 4WD                2\n",
            "740d xDrive 3.0d AT (313 л.с.) 4WD                2\n",
            "525i 2.5 AT (192 л.с.)                            2\n",
            "500 4x4 4.0 AT (422 л.с.) 4WD                     2\n",
            "230 2.5 AT (204 л.с.)                             2\n",
            "420d 2.0d AT (190 л.с.)                           2\n",
            "330xi 3.0 AT (272 л.с.) 4WD                       1\n",
            "L1 2.1d AT (136 л.с.)                             1\n",
            "2.8 AT (220 л.с.) 4WD                             1\n",
            "530d 2.9d AT (184 л.с.)                           1\n",
            "4.2 AT (354 л.с.) 4WD                             1\n",
            "420d xDrive 2.0d AT (184 л.с.) 4WD                1\n",
            "3.0 CVT (218 л.с.)                                1\n",
            "500 5.0 AT (306 л.с.) 4WD                         1\n",
            "300 d длинный 2.0d AT (239 л.с.) 4WD              1\n",
            "1.8 AMT (160 л.с.)                                1\n",
            "4.0 AMT (462 л.с.)                                1\n",
            "L2 2.2d MT (150 л.с.)                             1\n",
            "328i xDrive 2.0 AT (245 л.с.) 4WD                 1\n",
            "550i xDrive 4.4 AT (407 л.с.) 4WD                 1\n",
            "M760Li xDrive 6.6 AT (609 л.с.) 4WD               1\n",
            "63 S 4.0 AMT (639 л.с.) 4WD                       1\n",
            "530xi 3.0 AT (258 л.с.) 4WD                       1\n",
            "1.8 MT (150 л.с.)                                 1\n",
            "2.0 AT (180 л.с.) 4WD                             1\n",
            "63 AMG S 4.0 AT (612 л.с.) 4WD                    1\n",
            "335d 3.0d AT (286 л.с.)                           1\n",
            "740Li 3.0 AT (326 л.с.)                           1\n",
            "2.7d MT (180 л.с.)                                1\n",
            "435i xDrive 3.0 AT (306 л.с.) 4WD                 1\n",
            "525i 2.5 MT (192 л.с.)                            1\n",
            "523i 2.5 AT (190 л.с.)                            1\n",
            "55 TFSI 3.0 AMT (340 л.с.) 4WD                    1\n",
            "65 AMG 6.0 AT (612 л.с.) 4WD                      1\n",
            "5.2 AT (435 л.с.) 4WD                             1\n",
            "500 4.7 AT (455 л.с.)                             1\n",
            "5.4 AT (626 л.с.)                                 1\n",
            "400 4.0d AT (250 л.с.)                            1\n",
            "1.8 MT (163 л.с.) 4WD                             1\n",
            "63 AMG Long 6.2 AT (525 л.с.)                     1\n",
            "250 d длинный 2.1d AT (190 л.с.)                  1\n",
            "300 2.0 AT (245 л.с.) 4WD                         1\n",
            "2.8 CVT (220 л.с.)                                1\n",
            "Long 4.2 AT (350 л.с.) 4WD                        1\n",
            "2.0 AMT (190 л.с.)                                1\n",
            "112 CDI 2.2d AT (122 л.с.)                        1\n",
            "335xi 3.0 AT (306 л.с.) 4WD                       1\n",
            "750Ld xDrive 3.0d AT (400 л.с.) 4WD               1\n",
            "GT 6.2 AMT (591 л.с.)                             1\n",
            "320 3.2 AT (224 л.с.) 4WD                         1\n",
            "500 4.0 AT (422 л.с.) 4WD                         1\n",
            "4.0 AMT (420 л.с.) 4WD                            1\n",
            "200 2.0 CVT (136 л.с.)                            1\n",
            "230 2.3 AT (132 л.с.)                             1\n",
            "250 CDI BlueTEC 2.1d AT (204 л.с.) 4WD            1\n",
            "350 3.0d AT (231 л.с.) 4WD                        1\n",
            "125i 3.0 AT (218 л.с.)                            1\n",
            "750d xDrive 3.0d AT (400 л.с.) 4WD                1\n",
            "740i 4.4 AT (286 л.с.)                            1\n",
            "4.0 MT (420 л.с.)                                 1\n",
            "220 CDI BlueTEC 2.1d AT (170 л.с.) 4WD            1\n",
            "2.0 CVT (211 л.с.)                                1\n",
            "320 Long 3.0d AT (235 л.с.) 4WD                   1\n",
            "35i xDrive 3.0 AT (306 л.с.) 4WD                  1\n",
            "730i 2.0 AT (258 л.с.)                            1\n",
            "1.4 MT (125 л.с.)                                 1\n",
            "L2 3.0d AT (224 л.с.)                             1\n",
            "535i 3.0 AT (306 л.с.)                            1\n",
            "740d xDrive 3.0d AT (320 л.с.) 4WD                1\n",
            "1.8 AT (170 л.с.) 4WD                             1\n",
            "2.5 AMT (340 л.с.) 4WD                            1\n",
            "3.0 AMT (370 л.с.)                                1\n",
            "118i 2.0 AT (129 л.с.)                            1\n",
            "30d 3.0d AT (211 л.с.) 4WD                        1\n",
            "2.9 AT (450 л.с.) 4WD                             1\n",
            "240 2.6 AT (177 л.с.)                             1\n",
            "45 TFSI 2.0 AMT (245 л.с.) 4WD                    1\n",
            "2.0d MT (140 л.с.)                                1\n",
            "2.5d AT (180 л.с.)                                1\n",
            "350 3.0d AT (231 л.с.)                            1\n",
            "560 4MATIC 4.0 AT (469 л.с.) 4WD                  1\n",
            "300 3.0 AT (180 л.с.)                             1\n",
            "730Li 3.0 AT (231 л.с.)                           1\n",
            "300 3.5 AT (249 л.с.)                             1\n",
            "850i 5.0 AT (300 л.с.)                            1\n",
            "2.8 AT (210 л.с.) 4WD                             1\n",
            "3.0 AT (333 л.с.) 4WD                             1\n",
            "25i 2.5 AT (192 л.с.) 4WD                         1\n",
            "118i 1.6 AT (170 л.с.)                            1\n",
            "523i 2.5 MT (190 л.с.)                            1\n",
            "3.2 AMT (270 л.с.) 4WD                            1\n",
            "500 Long 4.7 AT (455 л.с.)                        1\n",
            "4.2 MT (420 л.с.) 4WD                             1\n",
            "63 AMG 6.2 AT (487 л.с.)                          1\n",
            "4.2 AT (300 л.с.) 4WD                             1\n",
            "300 3.0d MT (113 л.с.) 4WD                        1\n",
            "28i 3.0 AT (258 л.с.) 4WD                         1\n",
            "28i xDrive 3.0 AT (258 л.с.) 4WD                  1\n",
            "3.0d MT (239 л.с.) 4WD                            1\n",
            "180 9G-TRONIC 1.6 AT (156 л.с.)                   1\n",
            "330i 2.0 AT (258 л.с.)                            1\n",
            "420 4.2 AT (224 л.с.)                             1\n",
            "119 BlueTEC L2 2.1d AT (190 л.с.) 4WD             1\n",
            "1.8 CVT (177 л.с.)                                1\n",
            "3.0 MT (286 л.с.)                                 1\n",
            "1.6 MT (102 л.с.)                                 1\n",
            "S 0.7hyb AT (184 л.с.)                            1\n",
            "230 1.8 AT (192 л.с.)                             1\n",
            "750i 4.8 AT (367 л.с.)                            1\n",
            "2.8 AMT (220 л.с.) 4WD                            1\n",
            "300 3.5 AT (252 л.с.)                             1\n",
            "320d 2.0d AT (163 л.с.)                           1\n",
            "4.2 AMT (450 л.с.) 4WD                            1\n",
            "520d 2.0d MT (150 л.с.)                           1\n",
            "428i 2.0 AT (245 л.с.)                            1\n",
            "1.6 AT (102 л.с.)                                 1\n",
            "350 3.7 AT (245 л.с.)                             1\n",
            "3.0d AT (238 л.с.) 4WD                            1\n",
            "323i 2.5 MT (170 л.с.)                            1\n",
            "L2 2.2d AT (150 л.с.)                             1\n",
            "2.0 MT (130 л.с.)                                 1\n",
            "50i 4.4 AT (450 л.с.) 4WD                         1\n",
            "30i xDrive 2.0 AT (249 л.с.) 4WD                  1\n",
            "335i xDrive 3.0 AT (306 л.с.) 4WD                 1\n",
            "35i 3.0 AMT (306 л.с.)                            1\n",
            "ultra 1.4 AMT (150 л.с.)                          1\n",
            "23i 2.5 AT (204 л.с.)                             1\n",
            "3.2 MT (250 л.с.) 4WD                             1\n",
            "530d 3.0d AT (245 л.с.)                           1\n",
            "640i 3.0 AT (320 л.с.)                            1\n",
            "3.1 CVT (255 л.с.)                                1\n",
            "220 2.0 AMT (190 л.с.) 4WD                        1\n",
            "200 2.0 AT (163 л.с.)                             1\n",
            "Brabus 700 5.5 AT (700 л.с.) 4WD                  1\n",
            "L2 3.5 AT (258 л.с.)                              1\n",
            "3.2 AMT (250 л.с.) 4WD                            1\n",
            "3.0d AT (250 л.с.) 4WD                            1\n",
            "200 CDI 2.1d AMT (136 л.с.)                       1\n",
            "2.5 AT (218 л.с.)                                 1\n",
            "63 4.0 AMT (585 л.с.) 4WD                         1\n",
            "300 2.0 AT (249 л.с.) 4WD                         1\n",
            "63 AMG Long 4.0 AT (612 л.с.) 4WD                 1\n",
            "114 2.3 AT (143 л.с.)                             1\n",
            "520d 2.0d MT (136 л.с.)                           1\n",
            "740Li xDrive 3.0 AT (326 л.с.) 4WD                1\n",
            "200 CDI 2.1d AMT (136 л.с.) 4WD                   1\n",
            "250 d компактный 2.1d AT (190 л.с.) 4WD           1\n",
            "2.0 CVT (200 л.с.)                                1\n",
            "280 2.8 AT (204 л.с.) 4WD                         1\n",
            "320 Long 3.0d AT (224 л.с.) 4WD                   1\n",
            "2.0 AMT (272 л.с.) 4WD                            1\n",
            "320d 2.0d AT (190 л.с.)                           1\n",
            "5.9d AT (500 л.с.) 4WD                            1\n",
            "730d xDrive 3.0d AT (249 л.с.) 4WD                1\n",
            "400 4.0d AT (250 л.с.) 4WD                        1\n",
            "S 4.0 AMT (510 л.с.)                              1\n",
            "218i 1.5 AMT (140 л.с.)                           1\n",
            "250 2.1d AT (204 л.с.)                            1\n",
            "180 Kompressor 1.8 AT (156 л.с.)                  1\n",
            "120i 2.0 AT (156 л.с.)                            1\n",
            "320 3.2 AT (224 л.с.)                             1\n",
            "645i 4.4 MT (333 л.с.)                            1\n",
            "180 1.8 MT (143 л.с.)                             1\n",
            "63 AMG 5.5 AT (571 л.с.) 4WD                      1\n",
            "L2 2.2d AT (150 л.с.) 4WD                         1\n",
            "55 AMG 5.4 AT (476 л.с.)                          1\n",
            "1.9 AT (140 л.с.)                                 1\n",
            "2.4 MT (170 л.с.)                                 1\n",
            "330i 3.0 MT (272 л.с.)                            1\n",
            "2.3 MT (133 л.с.) 4WD                             1\n",
            "250 d экстра длинный 2.1d AT (190 л.с.)           1\n",
            "350 CDI BlueEfficiency 3.0d AT (211 л.с.) 4WD     1\n",
            "300 3.0 AT (220 л.с.)                             1\n",
            "728Li 2.8 AT (193 л.с.)                           1\n",
            "280 2.8 AT (204 л.с.)                             1\n",
            "600 5.8 AT (367 л.с.)                             1\n",
            "750Li xDrive 4.4 AT (450 л.с.) 4WD                1\n",
            "2.0 MT (211 л.с.) 4WD                             1\n",
            "2.5 AMT (367 л.с.) 4WD                            1\n",
            "750Li 5.4 AT (326 л.с.)                           1\n",
            "3.0 AMT (272 л.с.) 4WD                            1\n",
            "4.0 AT (605 л.с.) 4WD                             1\n",
            "530i 3.0 AT (272 л.с.)                            1\n",
            "180 CDI 1.5d AMT (109 л.с.)                       1\n",
            "350 Long 3.0d AT (224 л.с.) 4WD                   1\n",
            "260 2.6 MT (166 л.с.)                             1\n",
            "xDrive18d 2.0d AT (150 л.с.) 4WD                  1\n",
            "Long 4.0 AT (435 л.с.) 4WD                        1\n",
            "328i 2.8 AT (193 л.с.)                            1\n",
            "3.0sd 3.0d AT (286 л.с.) 4WD                      1\n",
            "230 2.3 AT (136 л.с.)                             1\n",
            "120i 2.0 AT (184 л.с.)                            1\n",
            "3.0d AT (211 л.с.) 4WD                            1\n",
            "120i 2.0 AT (150 л.с.)                            1\n",
            "525xi 2.5 AT (218 л.с.) 4WD                       1\n",
            "500 4.7 AT (408 л.с.) 4WD                         1\n",
            "500 5.0 AT (320 л.с.)                             1\n",
            "420 4.2 AT (204 л.с.)                             1\n",
            "325i 2.5 MT (218 л.с.)                            1\n",
            "350 3.5 AT (316 л.с.)                             1\n",
            "340i xDrive 3.0 AT (326 л.с.) 4WD                 1\n",
            "3.0 MT (340 л.с.)                                 1\n",
            "1.8 MT (170 л.с.) 4WD                             1\n",
            "8V 2.0d CVT (140 л.с.)                            1\n",
            "630i 3.0 MT (272 л.с.)                            1\n",
            "M550d xDrive 3.0d AT (400 л.с.) 4WD               1\n",
            "318i 2.0 MT (143 л.с.)                            1\n",
            "730Ld xDrive 3.0d AT (265 л.с.) 4WD               1\n",
            "220 2.2 AT (150 л.с.)                             1\n",
            "500 5.0 AT (326 л.с.)                             1\n",
            "535i 3.5 AT (245 л.с.)                            1\n",
            "740Ld xDrive 3.0d AT (320 л.с.) 4WD               1\n",
            "2.0 AT (211 л.с.) 4WD                             1\n",
            "420i xDrive 2.0 AT (184 л.с.) 4WD                 1\n",
            "430 4.3 AT (279 л.с.) 4WD                         1\n",
            "350 3.7 AT (235 л.с.) 4WD                         1\n",
            "220 d 2.1d AT (170 л.с.) 4WD                      1\n",
            "520i 2.0 AT (156 л.с.)                            1\n",
            "Competition Package 3.0 AMT (450 л.с.)            1\n",
            "35is 3.0 AMT (340 л.с.)                           1\n",
            "350 CDI 3.0d AT (240 л.с.) 4WD                    1\n",
            "119 BlueTEC L3 2.1d AT (190 л.с.) 4WD             1\n",
            "325i 2.5 AT (192 л.с.)                            1\n",
            "3.2 MT (321 л.с.)                                 1\n",
            "ActiveHybrid 4.4hyb AT (407 л.с.) 4WD             1\n",
            "650i 4.4 AT (407 л.с.)                            1\n",
            "530i 3.0 AT (258 л.с.)                            1\n",
            "1.2 AMT (110 л.с.)                                1\n",
            "500 5.5 AT (388 л.с.)                             1\n",
            "220 5G-Tronic 2.1d AT (170 л.с.)                  1\n",
            "3.0 AT (231 л.с.)                                 1\n",
            "220d 2.0d AT (184 л.с.)                           1\n",
            "250 d 2.3d AT (190 л.с.) 4WD                      1\n",
            "318i 2.0 AT (129 л.с.)                            1\n",
            "L3 2.1d AT (163 л.с.) 4WD                         1\n",
            "220i 2.0 AT (184 л.с.)                            1\n",
            "2.7 AT (250 л.с.) 4WD                             1\n",
            "1.6 MT (101 л.с.)                                 1\n",
            "320i 2.0 MT (156 л.с.)                            1\n",
            "600 Long 5.8 AT (367 л.с.)                        1\n",
            "320i 2.2 AT (170 л.с.)                            1\n",
            "M550d xDrive 3.0d AT (381 л.с.) 4WD               1\n",
            "323i 2.5 AT (170 л.с.)                            1\n",
            "M550i xDrive 4.4 AT (462 л.с.) 4WD                1\n",
            "All-Terrain 220 d 2.0d AT (194 л.с.) 4WD          1\n",
            "760Li 6.0 AT (445 л.с.)                           1\n",
            "3.1 AT (249 л.с.) 4WD                             1\n",
            "2.8 CVT (190 л.с.)                                1\n",
            "250 d экстра длинный 2.1d AT (190 л.с.) 4WD       1\n",
            "380 3.8 AT (204 л.с.)                             1\n",
            "7S-tronic 2.0 AMT (225 л.с.) 4WD                  1\n",
            "3.2 CVT (265 л.с.)                                1\n",
            "30d 3.0d AT (218 л.с.) 4WD                        1\n",
            "545i 4.4 AT (333 л.с.)                            1\n",
            "2.0 AMT (220 л.с.) 4WD                            1\n",
            "Electro AT (126 кВт)                              1\n",
            "330xi 3.0 AT (258 л.с.) 4WD                       1\n",
            "120d 2.0d AT (184 л.с.)                           1\n",
            "350 Long 3.7 AT (245 л.с.)                        1\n",
            "Name: name, dtype: int64\n"
          ],
          "name": "stdout"
        }
      ]
    },
    {
      "cell_type": "markdown",
      "metadata": {
        "id": "MTS2AOtYEyT2"
      },
      "source": [
        "## num_of_doors"
      ]
    },
    {
      "cell_type": "code",
      "metadata": {
        "id": "7pj0MwmrEyT3",
        "outputId": "3a7bf25d-aca9-40db-ff95-d5bd21a0c5b6",
        "colab": {
          "base_uri": "https://localhost:8080/",
          "height": 527
        }
      },
      "source": [
        "column_info(train.num_of_doors)"
      ],
      "execution_count": 144,
      "outputs": [
        {
          "output_type": "stream",
          "text": [
            "count    6682.000000\n",
            "mean        4.268482\n",
            "std         0.878687\n",
            "min         2.000000\n",
            "25%         4.000000\n",
            "50%         4.000000\n",
            "75%         5.000000\n",
            "max         5.000000\n",
            "Name: num_of_doors, dtype: float64\n"
          ],
          "name": "stdout"
        },
        {
          "output_type": "display_data",
          "data": {
            "image/png": "[encoded data removed]",
            "text/plain": [
              "<Figure size 792x432 with 1 Axes>"
            ]
          },
          "metadata": {
            "tags": [],
            "needs_background": "light"
          }
        }
      ]
    },
    {
      "cell_type": "code",
      "metadata": {
        "id": "mluiyuvCEyT8",
        "outputId": "cf11b2fa-35a2-4c46-d249-4130028da6ed",
        "colab": {
          "base_uri": "https://localhost:8080/",
          "height": 530
        }
      },
      "source": [
        "column_info(test.num_of_doors)"
      ],
      "execution_count": 145,
      "outputs": [
        {
          "output_type": "stream",
          "text": [
            "count    1671.000000\n",
            "mean        4.236385\n",
            "std         0.912202\n",
            "min         2.000000\n",
            "25%         4.000000\n",
            "50%         4.000000\n",
            "75%         5.000000\n",
            "max         5.000000\n",
            "Name: num_of_doors, dtype: float64\n"
          ],
          "name": "stdout"
        },
        {
          "output_type": "display_data",
          "data": {
            "image/png": "[encoded data removed]",
            "text/plain": [
              "<Figure size 792x432 with 1 Axes>"
            ]
          },
          "metadata": {
            "tags": [],
            "needs_background": "light"
          }
        }
      ]
    },
    {
      "cell_type": "markdown",
      "metadata": {
        "id": "Ur0ApmD4EyT-"
      },
      "source": [
        "## production_date"
      ]
    },
    {
      "cell_type": "code",
      "metadata": {
        "id": "CZVAZVjUEyT_",
        "outputId": "007656fc-5f86-488b-9b6b-c3e88ed7f741",
        "colab": {
          "base_uri": "https://localhost:8080/",
          "height": 527
        }
      },
      "source": [
        "column_info(train.production_date)"
      ],
      "execution_count": 146,
      "outputs": [
        {
          "output_type": "stream",
          "text": [
            "count    6682.000000\n",
            "mean     2012.031577\n",
            "std         5.049676\n",
            "min      1982.000000\n",
            "25%      2009.000000\n",
            "50%      2013.000000\n",
            "75%      2016.000000\n",
            "max      2020.000000\n",
            "Name: production_date, dtype: float64\n"
          ],
          "name": "stdout"
        },
        {
          "output_type": "display_data",
          "data": {
            "image/png": "[encoded data removed]",
            "text/plain": [
              "<Figure size 792x432 with 1 Axes>"
            ]
          },
          "metadata": {
            "tags": [],
            "needs_background": "light"
          }
        }
      ]
    },
    {
      "cell_type": "code",
      "metadata": {
        "id": "pMOyHVbxEyUB",
        "outputId": "6fba5ed3-7deb-43cf-ca22-8f29ac1e8755",
        "colab": {
          "base_uri": "https://localhost:8080/",
          "height": 527
        }
      },
      "source": [
        "column_info(test.production_date)"
      ],
      "execution_count": 147,
      "outputs": [
        {
          "output_type": "stream",
          "text": [
            "count    1671.000000\n",
            "mean     2011.927588\n",
            "std         5.332324\n",
            "min      1982.000000\n",
            "25%      2009.000000\n",
            "50%      2013.000000\n",
            "75%      2016.000000\n",
            "max      2020.000000\n",
            "Name: production_date, dtype: float64\n"
          ],
          "name": "stdout"
        },
        {
          "output_type": "display_data",
          "data": {
            "image/png": "[encoded data removed]",
            "text/plain": [
              "<Figure size 792x432 with 1 Axes>"
            ]
          },
          "metadata": {
            "tags": [],
            "needs_background": "light"
          }
        }
      ]
    },
    {
      "cell_type": "markdown",
      "metadata": {
        "id": "6qRVdvsxEyUE"
      },
      "source": [
        "## sell_id"
      ]
    },
    {
      "cell_type": "markdown",
      "metadata": {
        "id": "M60Gii_XEyUE"
      },
      "source": [
        "Не содержит никакой полезной информации, удаляем."
      ]
    },
    {
      "cell_type": "markdown",
      "metadata": {
        "id": "CZlSkZgqEyUE"
      },
      "source": [
        "## vehicle_configuration"
      ]
    },
    {
      "cell_type": "code",
      "metadata": {
        "scrolled": true,
        "id": "BDiV3swHEyUF",
        "outputId": "1b8d0081-3a36-4bbc-86aa-bbb4e32bf5b5",
        "colab": {
          "base_uri": "https://localhost:8080/"
        }
      },
      "source": [
        "column_info(train.vehicle_configuration)"
      ],
      "execution_count": 148,
      "outputs": [
        {
          "output_type": "stream",
          "text": [
            "count                              6682\n",
            "unique                              288\n",
            "top       ALLROAD_5_DOORS AUTOMATIC 3.0\n",
            "freq                               1030\n",
            "Name: vehicle_configuration, dtype: object\n",
            "-----------------------------\n",
            "ALLROAD_5_DOORS AUTOMATIC 3.0       1030\n",
            "SEDAN AUTOMATIC 2.0                  746\n",
            "SEDAN AUTOMATIC 3.0                  500\n",
            "ALLROAD_5_DOORS AUTOMATIC 2.0        413\n",
            "ALLROAD_5_DOORS ROBOT 2.0            176\n",
            "ALLROAD_5_DOORS AUTOMATIC 4.4        129\n",
            "SEDAN AUTOMATIC 2.5                  127\n",
            "ALLROAD_5_DOORS AUTOMATIC 5.5        121\n",
            "SEDAN AUTOMATIC 3.5                  104\n",
            "SEDAN AUTOMATIC 1.6                  102\n",
            "SEDAN VARIATOR 2.0                   100\n",
            "SEDAN AUTOMATIC 1.8                   94\n",
            "SEDAN AUTOMATIC 4.4                   93\n",
            "SEDAN VARIATOR 1.8                    92\n",
            "MINIVAN AUTOMATIC 2.1                 89\n",
            "COUPE AUTOMATIC 2.0                   81\n",
            "SEDAN ROBOT 2.0                       79\n",
            "ALLROAD_5_DOORS AUTOMATIC 3.5         72\n",
            "HATCHBACK_5_DOORS AUTOMATIC 1.6       71\n",
            "SEDAN AUTOMATIC 4.7                   66\n",
            "COUPE ROBOT 2.0                       66\n",
            "COUPE AUTOMATIC 3.0                   64\n",
            "ALLROAD_5_DOORS AUTOMATIC 2.1         62\n",
            "SEDAN AUTOMATIC 5.5                   61\n",
            "LIFTBACK AUTOMATIC 3.0                54\n",
            "LIFTBACK ROBOT 3.0                    52\n",
            "SEDAN ROBOT 3.0                       52\n",
            "HATCHBACK_5_DOORS ROBOT 1.6           51\n",
            "SEDAN ROBOT 1.8                       47\n",
            "LIFTBACK AUTOMATIC 2.0                45\n",
            "LIFTBACK ROBOT 2.0                    45\n",
            "SEDAN AUTOMATIC 4.2                   43\n",
            "SEDAN AUTOMATIC 4.0                   42\n",
            "SEDAN ROBOT 1.6                       35\n",
            "SEDAN ROBOT 1.4                       34\n",
            "HATCHBACK_5_DOORS ROBOT 1.4           32\n",
            "ALLROAD_5_DOORS AUTOMATIC 4.0         31\n",
            "COUPE_HARDTOP AUTOMATIC 2.0           29\n",
            "SEDAN AUTOMATIC 3.1                   29\n",
            "SEDAN AUTOMATIC 2.9                   27\n",
            "ALLROAD_5_DOORS AUTOMATIC 4.7         27\n",
            "SEDAN AUTOMATIC 2.1                   26\n",
            "ALLROAD_5_DOORS AUTOMATIC 4.8         26\n",
            "SEDAN ROBOT 2.8                       26\n",
            "SEDAN AUTOMATIC 6.0                   26\n",
            "SEDAN VARIATOR 2.4                    25\n",
            "WAGON_5_DOORS AUTOMATIC 3.0           25\n",
            "ALLROAD_5_DOORS ROBOT 1.6             25\n",
            "ALLROAD_5_DOORS AUTOMATIC 5.0         24\n",
            "COUPE VARIATOR 1.8                    24\n",
            "HATCHBACK_5_DOORS ROBOT 1.2           24\n",
            "COUPE_HARDTOP AUTOMATIC 5.5           22\n",
            "SEDAN AUTOMATIC 2.8                   21\n",
            "HATCHBACK_5_DOORS AUTOMATIC 2.0       21\n",
            "ALLROAD_5_DOORS AUTOMATIC 2.5         21\n",
            "HATCHBACK_5_DOORS AUTOMATIC 1.5       19\n",
            "HATCHBACK_5_DOORS ROBOT 1.3           18\n",
            "SEDAN AUTOMATIC 5.0                   18\n",
            "LIFTBACK ROBOT 2.8                    18\n",
            "COUPE AUTOMATIC 2.5                   18\n",
            "MINIVAN AUTOMATIC 3.5                 18\n",
            "SEDAN MECHANICAL 2.0                  17\n",
            "WAGON_5_DOORS AUTOMATIC 2.0           17\n",
            "HATCHBACK_3_DOORS AUTOMATIC 1.6       17\n",
            "ALLROAD_5_DOORS AUTOMATIC 4.1         17\n",
            "ALLROAD_5_DOORS AUTOMATIC 3.2         17\n",
            "COUPE AUTOMATIC 4.4                   16\n",
            "SEDAN AUTOMATIC 1.5                   16\n",
            "ALLROAD_5_DOORS AUTOMATIC 4.2         16\n",
            "ALLROAD_5_DOORS AUTOMATIC 3.6         16\n",
            "COUPE AUTOMATIC 1.6                   16\n",
            "COUPE ROBOT 3.0                       16\n",
            "SEDAN VARIATOR 2.8                    16\n",
            "SEDAN AUTOMATIC 3.2                   15\n",
            "ALLROAD_5_DOORS AUTOMATIC 2.9         15\n",
            "COUPE_HARDTOP AUTOMATIC 1.8           15\n",
            "WAGON_5_DOORS VARIATOR 2.0            15\n",
            "SEDAN AUTOMATIC 2.2                   15\n",
            "COUPE AUTOMATIC 5.5                   14\n",
            "ALLROAD_5_DOORS AUTOMATIC 5.4         13\n",
            "SEDAN AUTOMATIC 6.2                   13\n",
            "SEDAN ROBOT 1.3                       12\n",
            "MINIVAN AUTOMATIC 2.2                 12\n",
            "CABRIO AUTOMATIC 2.0                  12\n",
            "LIFTBACK ROBOT 4.0                    11\n",
            "HATCHBACK_5_DOORS ROBOT 2.0           11\n",
            "WAGON_5_DOORS ROBOT 2.0               11\n",
            "COUPE AUTOMATIC 4.0                   11\n",
            "WAGON_5_DOORS ROBOT 3.0               10\n",
            "HATCHBACK_3_DOORS ROBOT 1.4           10\n",
            "ALLROAD_5_DOORS AUTOMATIC 5.9         10\n",
            "ALLROAD_5_DOORS AUTOMATIC 6.2         10\n",
            "COUPE ROBOT 4.0                       10\n",
            "SEDAN AUTOMATIC 4.8                   10\n",
            "HATCHBACK_5_DOORS VARIATOR 1.7        10\n",
            "MINIVAN AUTOMATIC 3.0                 10\n",
            "COUPE_HARDTOP AUTOMATIC 4.7            9\n",
            "SEDAN ROBOT 4.4                        9\n",
            "LIFTBACK VARIATOR 1.8                  9\n",
            "WAGON_5_DOORS AUTOMATIC 2.5            9\n",
            "ROADSTER AUTOMATIC 2.0                 8\n",
            "SEDAN AUTOMATIC 5.4                    8\n",
            "WAGON_5_DOORS AUTOMATIC 3.1            8\n",
            "SEDAN MECHANICAL 1.8                   8\n",
            "WAGON_5_DOORS AUTOMATIC 2.7            8\n",
            "COUPE AUTOMATIC 4.2                    8\n",
            "ROADSTER AUTOMATIC 3.0                 8\n",
            "COUPE AUTOMATIC 1.5                    7\n",
            "SEDAN MECHANICAL 2.2                   7\n",
            "SEDAN MECHANICAL 2.5                   7\n",
            "HATCHBACK_5_DOORS VARIATOR 2.0         7\n",
            "SEDAN AUTOMATIC 3.7                    7\n",
            "COUPE MECHANICAL 3.0                   7\n",
            "HATCHBACK_5_DOORS MECHANICAL 1.6       7\n",
            "MINIVAN MECHANICAL 2.2                 6\n",
            "ALLROAD_5_DOORS ROBOT 1.4              6\n",
            "COUPE VARIATOR 2.0                     6\n",
            "SEDAN AUTOMATIC 2.4                    6\n",
            "CABRIO AUTOMATIC 2.5                   6\n",
            "ROADSTER AUTOMATIC 5.5                 6\n",
            "ALLROAD_5_DOORS ROBOT 1.5              6\n",
            "ROADSTER AUTOMATIC 1.8                 6\n",
            "CABRIO AUTOMATIC 3.0                   6\n",
            "COUPE AUTOMATIC 1.8                    6\n",
            "COUPE ROBOT 4.4                        5\n",
            "COUPE AUTOMATIC 4.8                    5\n",
            "SEDAN ROBOT 5.0                        5\n",
            "HATCHBACK_5_DOORS AUTOMATIC            5\n",
            "COUPE AUTOMATIC 3.2                    5\n",
            "SEDAN AUTOMATIC 2.6                    5\n",
            "WAGON_5_DOORS AUTOMATIC 4.2            5\n",
            "HATCHBACK_5_DOORS AUTOMATIC 0.7        5\n",
            "SEDAN AUTOMATIC 5.2                    5\n",
            "COUPE ROBOT 4.2                        5\n",
            "ROADSTER AUTOMATIC 5.4                 5\n",
            "WAGON_5_DOORS AUTOMATIC 4.0            5\n",
            "COUPE ROBOT 5.2                        5\n",
            "ALLROAD_5_DOORS AUTOMATIC 4.6          5\n",
            "COUPE MECHANICAL 1.8                   4\n",
            "HATCHBACK_5_DOORS AUTOMATIC 3.0        4\n",
            "ALLROAD_5_DOORS ROBOT 3.0              4\n",
            "WAGON_5_DOORS MECHANICAL 2.0           4\n",
            "ROADSTER AUTOMATIC 3.5                 4\n",
            "ROADSTER AUTOMATIC 5.0                 4\n",
            "ALLROAD_5_DOORS AUTOMATIC 2.7          4\n",
            "COUPE_HARDTOP AUTOMATIC 3.5            4\n",
            "WAGON_5_DOORS VARIATOR 1.8             4\n",
            "ALLROAD_5_DOORS MECHANICAL 3.0         4\n",
            "ROADSTER AUTOMATIC 2.5                 4\n",
            "SEDAN MECHANICAL 2.4                   4\n",
            "HATCHBACK_5_DOORS ROBOT 1.8            4\n",
            "HATCHBACK_3_DOORS ROBOT 1.8            4\n",
            "CABRIO AUTOMATIC 4.4                   4\n",
            "SEDAN AUTOMATIC 6.6                    4\n",
            "COUPE AUTOMATIC 4.3                    3\n",
            "ALLROAD_5_DOORS AUTOMATIC 1.5          3\n",
            "CABRIO ROBOT 4.0                       3\n",
            "COUPE AUTOMATIC 5.0                    3\n",
            "MINIVAN AUTOMATIC 2.0                  3\n",
            "COUPE VARIATOR 3.2                     3\n",
            "LIFTBACK AUTOMATIC 4.4                 3\n",
            "ALLROAD_5_DOORS ROBOT 2.5              3\n",
            "SEDAN AUTOMATIC 6.3                    3\n",
            "ALLROAD_5_DOORS AUTOMATIC 3.7          3\n",
            "CABRIO MECHANICAL 1.8                  3\n",
            "WAGON_5_DOORS MECHANICAL 1.8           3\n",
            "WAGON_5_DOORS AUTOMATIC 2.2            3\n",
            "WAGON_5_DOORS AUTOMATIC 3.5            3\n",
            "LIFTBACK VARIATOR 2.0                  3\n",
            "SEDAN MECHANICAL 2.8                   3\n",
            "COUPE AUTOMATIC 4.7                    3\n",
            "COUPE_HARDTOP AUTOMATIC 6.2            3\n",
            "WAGON_5_DOORS MECHANICAL 2.5           3\n",
            "SEDAN MECHANICAL 3.0                   3\n",
            "WAGON_5_DOORS MECHANICAL 2.7           3\n",
            "COMPACTVAN AUTOMATIC 2.0               3\n",
            "ROADSTER AUTOMATIC 4.7                 3\n",
            "COUPE MECHANICAL 4.0                   3\n",
            "COUPE ROBOT 6.2                        3\n",
            "WAGON_5_DOORS AUTOMATIC 1.8            3\n",
            "ALLROAD_5_DOORS MECHANICAL 2.0         3\n",
            "SEDAN VARIATOR 3.1                     2\n",
            "LIMOUSINE AUTOMATIC 5.8                2\n",
            "WAGON_5_DOORS VARIATOR 2.7             2\n",
            "ROADSTER ROBOT 3.0                     2\n",
            "HATCHBACK_5_DOORS ROBOT 2.5            2\n",
            "SEDAN AUTOMATIC 4.1                    2\n",
            "COMPACTVAN ROBOT 1.5                   2\n",
            "SEDAN AUTOMATIC 2.7                    2\n",
            "MINIVAN MECHANICAL 2.1                 2\n",
            "SEDAN ROBOT 1.5                        2\n",
            "WAGON_5_DOORS ROBOT 4.2                2\n",
            "COUPE MECHANICAL 2.5                   2\n",
            "LIFTBACK MECHANICAL 2.0                2\n",
            "COUPE_HARDTOP AUTOMATIC 3.2            2\n",
            "ROADSTER ROBOT 6.2                     2\n",
            "HATCHBACK_3_DOORS ROBOT 1.2            2\n",
            "HATCHBACK_3_DOORS AUTOMATIC 3.0        2\n",
            "SEDAN ROBOT 4.0                        2\n",
            "SEDAN MECHANICAL 2.7                   2\n",
            "SEDAN AUTOMATIC 3.6                    2\n",
            "SEDAN MECHANICAL 3.4                   2\n",
            "LIFTBACK AUTOMATIC 4.0                 2\n",
            "WAGON_5_DOORS VARIATOR 2.4             2\n",
            "HATCHBACK_3_DOORS ROBOT 2.0            2\n",
            "SEDAN VARIATOR 3.0                     2\n",
            "COUPE_HARDTOP AUTOMATIC 6.0            2\n",
            "COMPACTVAN AUTOMATIC 1.5               2\n",
            "SEDAN AUTOMATIC 5.6                    2\n",
            "ROADSTER AUTOMATIC 2.3                 2\n",
            "HATCHBACK_5_DOORS VARIATOR 1.5         1\n",
            "WAGON_5_DOORS AUTOMATIC 1.6            1\n",
            "COUPE MECHANICAL 3.2                   1\n",
            "SEDAN MECHANICAL 2.6                   1\n",
            "CABRIO AUTOMATIC 3.5                   1\n",
            "CABRIO AUTOMATIC 5.0                   1\n",
            "MINIVAN AUTOMATIC 3.7                  1\n",
            "MINIVAN AUTOMATIC 5.0                  1\n",
            "COUPE_HARDTOP AUTOMATIC 2.2            1\n",
            "MINIVAN MECHANICAL 1.6                 1\n",
            "ALLROAD_OPEN AUTOMATIC 5.0             1\n",
            "CABRIO AUTOMATIC 1.8                   1\n",
            "HATCHBACK_3_DOORS AUTOMATIC 2.0        1\n",
            "CABRIO AUTOMATIC 2.8                   1\n",
            "LIMOUSINE AUTOMATIC 5.5                1\n",
            "LIMOUSINE AUTOMATIC 5.0                1\n",
            "LIFTBACK ROBOT 3.2                     1\n",
            "LIMOUSINE AUTOMATIC 6.0                1\n",
            "CABRIO ROBOT 5.0                       1\n",
            "SEDAN MECHANICAL 3.2                   1\n",
            "SEDAN MECHANICAL 3.8                   1\n",
            "CABRIO ROBOT 3.0                       1\n",
            "HATCHBACK_3_DOORS AUTOMATIC 1.8        1\n",
            "ALLROAD_OPEN AUTOMATIC 3.0             1\n",
            "HATCHBACK_3_DOORS MECHANICAL 1.8       1\n",
            "HATCHBACK_5_DOORS MECHANICAL 2.0       1\n",
            "ALLROAD_3_DOORS AUTOMATIC 3.2          1\n",
            "ALLROAD_5_DOORS ROBOT 3.2              1\n",
            "COUPE_HARDTOP AUTOMATIC 5.8            1\n",
            "COUPE MECHANICAL 1.9                   1\n",
            "ROADSTER MECHANICAL 2.0                1\n",
            "ALLROAD_5_DOORS AUTOMATIC 6.0          1\n",
            "SEDAN AUTOMATIC 3.4                    1\n",
            "ALLROAD_3_DOORS AUTOMATIC 3.5          1\n",
            "SEDAN_2_DOORS MECHANICAL 1.6           1\n",
            "CABRIO AUTOMATIC 5.5                   1\n",
            "CABRIO AUTOMATIC 3.2                   1\n",
            "WAGON_5_DOORS AUTOMATIC 2.8            1\n",
            "MINIVAN AUTOMATIC 3.2                  1\n",
            "ALLROAD_3_DOORS AUTOMATIC 3.0          1\n",
            "WAGON_5_DOORS AUTOMATIC 2.9            1\n",
            "WAGON_5_DOORS AUTOMATIC 5.5            1\n",
            "WAGON_5_DOORS MECHANICAL 3.0           1\n",
            "COUPE MECHANICAL 2.0                   1\n",
            "SEDAN MECHANICAL 4.9                   1\n",
            "SEDAN MECHANICAL 2.3                   1\n",
            "COUPE MECHANICAL 3.4                   1\n",
            "PICKUP_TWO AUTOMATIC 2.3               1\n",
            "PICKUP_TWO AUTOMATIC 3.0               1\n",
            "MINIVAN MECHANICAL 2.3                 1\n",
            "SEDAN MECHANICAL 2.1                   1\n",
            "ALLROAD_5_DOORS ROBOT 2.1              1\n",
            "ROADSTER MECHANICAL 1.9                1\n",
            "WAGON_5_DOORS AUTOMATIC 1.9            1\n",
            "HATCHBACK_5_DOORS ROBOT 1.9            1\n",
            "HATCHBACK_3_DOORS VARIATOR 1.7         1\n",
            "HATCHBACK_5_DOORS ROBOT 1.5            1\n",
            "CABRIO MECHANICAL 4.9                  1\n",
            "COUPE_HARDTOP AUTOMATIC 3.0            1\n",
            "COUPE_HARDTOP AUTOMATIC 5.0            1\n",
            "WAGON_5_DOORS MECHANICAL 2.4           1\n",
            "ROADSTER MECHANICAL 2.5                1\n",
            "COUPE MECHANICAL 2.8                   1\n",
            "ROADSTER ROBOT 4.0                     1\n",
            "CABRIO MECHANICAL 4.2                  1\n",
            "ROADSTER AUTOMATIC 2.8                 1\n",
            "COUPE_HARDTOP AUTOMATIC 2.6            1\n",
            "COUPE AUTOMATIC 5.6                    1\n",
            "SEDAN VARIATOR 2.7                     1\n",
            "SEDAN AUTOMATIC 3.8                    1\n",
            "COMPACTVAN MECHANICAL 1.5              1\n",
            "COUPE AUTOMATIC 5.4                    1\n",
            "WAGON_5_DOORS AUTOMATIC 4.7            1\n",
            "ROADSTER MECHANICAL 3.0                1\n",
            "MINIVAN AUTOMATIC 2.8                  1\n",
            "SEDAN MECHANICAL 3.5                   1\n",
            "COUPE MECHANICAL 4.4                   1\n",
            "HATCHBACK_5_DOORS MECHANICAL 1.5       1\n",
            "Name: vehicle_configuration, dtype: int64\n"
          ],
          "name": "stdout"
        }
      ]
    },
    {
      "cell_type": "code",
      "metadata": {
        "id": "G5hC3_KeEyUH",
        "outputId": "baeae5c4-cc13-4645-8104-b334d649d544",
        "colab": {
          "base_uri": "https://localhost:8080/"
        }
      },
      "source": [
        "column_info(test.vehicle_configuration)"
      ],
      "execution_count": 149,
      "outputs": [
        {
          "output_type": "stream",
          "text": [
            "count                              1671\n",
            "unique                              205\n",
            "top       ALLROAD_5_DOORS AUTOMATIC 3.0\n",
            "freq                                262\n",
            "Name: vehicle_configuration, dtype: object\n",
            "-----------------------------\n",
            "ALLROAD_5_DOORS AUTOMATIC 3.0       262\n",
            "SEDAN AUTOMATIC 2.0                 195\n",
            "SEDAN AUTOMATIC 3.0                 131\n",
            "ALLROAD_5_DOORS AUTOMATIC 2.0       111\n",
            "ALLROAD_5_DOORS ROBOT 2.0            50\n",
            "ALLROAD_5_DOORS AUTOMATIC 4.4        39\n",
            "SEDAN AUTOMATIC 1.6                  29\n",
            "COUPE AUTOMATIC 3.0                  26\n",
            "SEDAN AUTOMATIC 2.5                  25\n",
            "SEDAN VARIATOR 1.8                   23\n",
            "SEDAN VARIATOR 2.0                   23\n",
            "SEDAN ROBOT 2.0                      22\n",
            "SEDAN AUTOMATIC 1.8                  20\n",
            "ALLROAD_5_DOORS AUTOMATIC 5.5        18\n",
            "SEDAN AUTOMATIC 4.4                  18\n",
            "SEDAN AUTOMATIC 4.7                  17\n",
            "ALLROAD_5_DOORS AUTOMATIC 3.5        16\n",
            "COUPE AUTOMATIC 2.0                  16\n",
            "SEDAN AUTOMATIC 3.5                  16\n",
            "ALLROAD_5_DOORS AUTOMATIC 2.1        15\n",
            "HATCHBACK_5_DOORS AUTOMATIC 1.6      14\n",
            "SEDAN AUTOMATIC 4.2                  14\n",
            "SEDAN ROBOT 1.6                      14\n",
            "MINIVAN AUTOMATIC 2.1                14\n",
            "SEDAN ROBOT 3.0                      13\n",
            "HATCHBACK_5_DOORS ROBOT 1.6          13\n",
            "SEDAN ROBOT 1.4                      13\n",
            "SEDAN AUTOMATIC 5.5                  13\n",
            "COUPE ROBOT 2.0                      11\n",
            "LIFTBACK ROBOT 2.0                   11\n",
            "SEDAN AUTOMATIC 4.0                  11\n",
            "ALLROAD_5_DOORS AUTOMATIC 4.8        10\n",
            "LIFTBACK ROBOT 3.0                   10\n",
            "HATCHBACK_5_DOORS AUTOMATIC 2.0       9\n",
            "WAGON_5_DOORS ROBOT 2.0               9\n",
            "ALLROAD_5_DOORS AUTOMATIC 4.0         8\n",
            "SEDAN ROBOT 1.8                       8\n",
            "SEDAN AUTOMATIC 2.1                   8\n",
            "LIFTBACK AUTOMATIC 2.0                8\n",
            "LIFTBACK AUTOMATIC 3.0                8\n",
            "HATCHBACK_3_DOORS AUTOMATIC 1.6       7\n",
            "LIFTBACK VARIATOR 1.8                 7\n",
            "WAGON_5_DOORS AUTOMATIC 3.0           7\n",
            "COUPE_HARDTOP AUTOMATIC 2.0           7\n",
            "COUPE VARIATOR 1.8                    7\n",
            "HATCHBACK_5_DOORS ROBOT 1.2           7\n",
            "SEDAN MECHANICAL 2.0                  7\n",
            "SEDAN AUTOMATIC 2.8                   7\n",
            "MINIVAN AUTOMATIC 2.2                 6\n",
            "ALLROAD_5_DOORS ROBOT 3.0             6\n",
            "ALLROAD_5_DOORS AUTOMATIC 4.7         6\n",
            "COUPE ROBOT 4.0                       6\n",
            "MINIVAN AUTOMATIC 3.5                 6\n",
            "ALLROAD_5_DOORS AUTOMATIC 2.5         6\n",
            "HATCHBACK_5_DOORS AUTOMATIC 1.5       5\n",
            "SEDAN AUTOMATIC 2.9                   5\n",
            "WAGON_5_DOORS VARIATOR 2.0            5\n",
            "SEDAN AUTOMATIC 5.0                   5\n",
            "COUPE_HARDTOP AUTOMATIC 1.8           5\n",
            "HATCHBACK_5_DOORS ROBOT 1.4           5\n",
            "COUPE MECHANICAL 3.0                  5\n",
            "SEDAN AUTOMATIC 1.5                   5\n",
            "COUPE AUTOMATIC 4.8                   5\n",
            "SEDAN AUTOMATIC 6.0                   4\n",
            "SEDAN AUTOMATIC 2.2                   4\n",
            "ALLROAD_5_DOORS AUTOMATIC 6.2         4\n",
            "ROADSTER AUTOMATIC 5.5                4\n",
            "HATCHBACK_5_DOORS VARIATOR 1.7        4\n",
            "ALLROAD_5_DOORS AUTOMATIC 5.0         4\n",
            "LIFTBACK ROBOT 2.8                    4\n",
            "ALLROAD_5_DOORS AUTOMATIC 4.1         4\n",
            "ROADSTER AUTOMATIC 2.3                4\n",
            "COUPE MECHANICAL 4.2                  3\n",
            "ALLROAD_5_DOORS AUTOMATIC 3.6         3\n",
            "ALLROAD_5_DOORS AUTOMATIC 5.4         3\n",
            "SEDAN VARIATOR 2.4                    3\n",
            "COUPE AUTOMATIC 1.6                   3\n",
            "ROADSTER AUTOMATIC 3.0                3\n",
            "SEDAN AUTOMATIC 3.2                   3\n",
            "SEDAN AUTOMATIC 5.2                   3\n",
            "SEDAN ROBOT 2.8                       3\n",
            "COUPE AUTOMATIC 5.5                   3\n",
            "SEDAN AUTOMATIC 6.2                   3\n",
            "LIFTBACK ROBOT 4.0                    3\n",
            "ROADSTER AUTOMATIC 1.8                3\n",
            "HATCHBACK_3_DOORS ROBOT 1.4           3\n",
            "COUPE AUTOMATIC 2.5                   3\n",
            "COUPE ROBOT 3.0                       3\n",
            "SEDAN ROBOT 4.4                       3\n",
            "HATCHBACK_3_DOORS AUTOMATIC 2.0       3\n",
            "LIFTBACK AUTOMATIC 4.4                3\n",
            "COUPE AUTOMATIC 4.7                   3\n",
            "MINIVAN AUTOMATIC 3.0                 3\n",
            "ROADSTER AUTOMATIC 6.0                2\n",
            "SEDAN AUTOMATIC 3.6                   2\n",
            "COUPE MECHANICAL 2.5                  2\n",
            "SEDAN AUTOMATIC 3.1                   2\n",
            "WAGON_5_DOORS AUTOMATIC 2.0           2\n",
            "ROADSTER AUTOMATIC 2.0                2\n",
            "SEDAN MECHANICAL 1.8                  2\n",
            "CABRIO AUTOMATIC 2.0                  2\n",
            "SEDAN MECHANICAL 2.5                  2\n",
            "ALLROAD_5_DOORS AUTOMATIC 4.2         2\n",
            "WAGON_5_DOORS AUTOMATIC 3.1           2\n",
            "ALLROAD_5_DOORS ROBOT 1.4             2\n",
            "CABRIO AUTOMATIC 4.4                  2\n",
            "COUPE_HARDTOP AUTOMATIC 5.5           2\n",
            "ALLROAD_5_DOORS MECHANICAL 3.0        2\n",
            "SEDAN MECHANICAL 2.4                  2\n",
            "ROADSTER AUTOMATIC 2.5                2\n",
            "WAGON_5_DOORS VARIATOR 1.8            2\n",
            "WAGON_5_DOORS MECHANICAL 2.0          2\n",
            "COUPE AUTOMATIC 4.2                   2\n",
            "ROADSTER ROBOT 3.0                    2\n",
            "HATCHBACK_3_DOORS MECHANICAL 1.6      2\n",
            "SEDAN MECHANICAL 2.2                  2\n",
            "SEDAN VARIATOR 2.8                    2\n",
            "WAGON_5_DOORS ROBOT 3.0               2\n",
            "SEDAN AUTOMATIC 5.4                   2\n",
            "CABRIO AUTOMATIC 3.0                  2\n",
            "ALLROAD_5_DOORS AUTOMATIC 3.2         2\n",
            "WAGON_5_DOORS AUTOMATIC 2.5           2\n",
            "COUPE AUTOMATIC 4.4                   2\n",
            "COUPE_HARDTOP AUTOMATIC 3.5           2\n",
            "HATCHBACK_5_DOORS ROBOT 2.5           2\n",
            "ROADSTER MECHANICAL 3.2               1\n",
            "WAGON_5_DOORS AUTOMATIC 5.0           1\n",
            "COUPE AUTOMATIC 2.3                   1\n",
            "WAGON_5_DOORS AUTOMATIC 2.2           1\n",
            "SEDAN AUTOMATIC 2.6                   1\n",
            "HATCHBACK_5_DOORS ROBOT 1.3           1\n",
            "ALLROAD_3_DOORS AUTOMATIC 3.2         1\n",
            "COUPE MECHANICAL 4.0                  1\n",
            "ALLROAD_5_DOORS AUTOMATIC 6.0         1\n",
            "ALLROAD_5_DOORS ROBOT 2.1             1\n",
            "SEDAN VARIATOR 3.0                    1\n",
            "ALLROAD_5_DOORS AUTOMATIC 2.9         1\n",
            "COUPE MECHANICAL 1.8                  1\n",
            "COUPE AUTOMATIC 4.0                   1\n",
            "SEDAN ROBOT 1.5                       1\n",
            "COUPE_HARDTOP AUTOMATIC 5.0           1\n",
            "MINIVAN AUTOMATIC 2.3                 1\n",
            "COUPE ROBOT 4.2                       1\n",
            "WAGON_5_DOORS AUTOMATIC 3.5           1\n",
            "HATCHBACK_5_DOORS ROBOT 2.0           1\n",
            "HATCHBACK_5_DOORS AUTOMATIC           1\n",
            "SEDAN AUTOMATIC 2.3                   1\n",
            "MINIVAN AUTOMATIC 2.0                 1\n",
            "SEDAN ROBOT 5.0                       1\n",
            "COUPE AUTOMATIC 2.9                   1\n",
            "SEDAN AUTOMATIC 3.7                   1\n",
            "CABRIO AUTOMATIC 2.5                  1\n",
            "ALLROAD_5_DOORS ROBOT 3.2             1\n",
            "COUPE_HARDTOP AUTOMATIC 5.8           1\n",
            "SEDAN MECHANICAL 4.2                  1\n",
            "ALLROAD_5_DOORS ROBOT 1.6             1\n",
            "SEDAN AUTOMATIC 4.8                   1\n",
            "HATCHBACK_5_DOORS ROBOT 1.8           1\n",
            "COUPE_HARDTOP AUTOMATIC 4.7           1\n",
            "HATCHBACK_5_DOORS AUTOMATIC 0.7       1\n",
            "WAGON_5_DOORS MECHANICAL 2.7          1\n",
            "COUPE_HARDTOP AUTOMATIC 6.2           1\n",
            "COUPE AUTOMATIC 5.4                   1\n",
            "ALLROAD_5_DOORS AUTOMATIC 5.9         1\n",
            "SEDAN AUTOMATIC 5.8                   1\n",
            "ROADSTER AUTOMATIC 3.7                1\n",
            "WAGON_5_DOORS AUTOMATIC 2.1           1\n",
            "WAGON_5_DOORS AUTOMATIC 2.8           1\n",
            "COUPE ROBOT 5.0                       1\n",
            "ALLROAD_OPEN AUTOMATIC 5.5            1\n",
            "ALLROAD_OPEN AUTOMATIC 5.0            1\n",
            "ROADSTER AUTOMATIC 1.9                1\n",
            "HATCHBACK_5_DOORS ROBOT 1.5           1\n",
            "SEDAN VARIATOR 3.1                    1\n",
            "COUPE ROBOT 3.2                       1\n",
            "HATCHBACK_5_DOORS VARIATOR 2.0        1\n",
            "PICKUP_TWO AUTOMATIC 2.3              1\n",
            "SEDAN AUTOMATIC 4.3                   1\n",
            "WAGON_5_DOORS AUTOMATIC 4.0           1\n",
            "COUPE ROBOT 4.4                       1\n",
            "HATCHBACK_5_DOORS MECHANICAL 1.4      1\n",
            "COUPE MECHANICAL 2.3                  1\n",
            "HATCHBACK_3_DOORS MECHANICAL 1.8      1\n",
            "CABRIO ROBOT 4.0                      1\n",
            "CABRIO AUTOMATIC 4.7                  1\n",
            "COUPE MECHANICAL 3.2                  1\n",
            "WAGON_5_DOORS MECHANICAL 2.4          1\n",
            "SEDAN MECHANICAL 2.6                  1\n",
            "COUPE VARIATOR 3.2                    1\n",
            "COUPE VARIATOR 2.0                    1\n",
            "ROADSTER AUTOMATIC 3.5                1\n",
            "ROADSTER ROBOT 6.2                    1\n",
            "MINIVAN MECHANICAL 2.2                1\n",
            "ALLROAD_5_DOORS AUTOMATIC 3.7         1\n",
            "SEDAN ROBOT 1.3                       1\n",
            "COUPE MECHANICAL 2.0                  1\n",
            "WAGON_5_DOORS AUTOMATIC 2.7           1\n",
            "ALLROAD_5_DOORS MECHANICAL 2.0        1\n",
            "ALLROAD_3_DOORS MECHANICAL 3.0        1\n",
            "SEDAN AUTOMATIC 6.6                   1\n",
            "ROADSTER AUTOMATIC 3.8                1\n",
            "CABRIO MECHANICAL 1.8                 1\n",
            "COUPE MECHANICAL 4.4                  1\n",
            "HATCHBACK_5_DOORS ROBOT 2.1           1\n",
            "WAGON_5_DOORS MECHANICAL 1.8          1\n",
            "Name: vehicle_configuration, dtype: int64\n"
          ],
          "name": "stdout"
        }
      ]
    },
    {
      "cell_type": "markdown",
      "metadata": {
        "id": "XryBemVnEyUJ"
      },
      "source": [
        "Данные из этого признака содержаться в других признаках. Можно удалить."
      ]
    },
    {
      "cell_type": "markdown",
      "metadata": {
        "id": "8FcMZ3wfEyUK"
      },
      "source": [
        "## transmission"
      ]
    },
    {
      "cell_type": "code",
      "metadata": {
        "scrolled": true,
        "id": "kebQK8sJEyUM",
        "outputId": "ddf3da0a-6208-480b-dc9f-4dd9418876f3",
        "colab": {
          "base_uri": "https://localhost:8080/"
        }
      },
      "source": [
        "column_info(train.transmission)"
      ],
      "execution_count": 150,
      "outputs": [
        {
          "output_type": "stream",
          "text": [
            "count               6682\n",
            "unique                 4\n",
            "top       автоматическая\n",
            "freq                5261\n",
            "Name: transmission, dtype: object\n",
            "-----------------------------\n",
            "автоматическая      5261\n",
            "роботизированная     959\n",
            "вариатор             325\n",
            "механическая         137\n",
            "Name: transmission, dtype: int64\n"
          ],
          "name": "stdout"
        }
      ]
    },
    {
      "cell_type": "code",
      "metadata": {
        "id": "8UxcXORtEyUO",
        "outputId": "a329d24d-78ca-4972-bb52-98712761cd32",
        "colab": {
          "base_uri": "https://localhost:8080/"
        }
      },
      "source": [
        "column_info(test.transmission)"
      ],
      "execution_count": 151,
      "outputs": [
        {
          "output_type": "stream",
          "text": [
            "count               1671\n",
            "unique                 4\n",
            "top       автоматическая\n",
            "freq                1299\n",
            "Name: transmission, dtype: object\n",
            "-----------------------------\n",
            "автоматическая      1299\n",
            "роботизированная     242\n",
            "вариатор              81\n",
            "механическая          49\n",
            "Name: transmission, dtype: int64\n"
          ],
          "name": "stdout"
        }
      ]
    },
    {
      "cell_type": "markdown",
      "metadata": {
        "id": "50Apk9JdEyUS"
      },
      "source": [
        "## owners"
      ]
    },
    {
      "cell_type": "code",
      "metadata": {
        "id": "wf8KCCbaEyUT",
        "outputId": "68fa0745-6484-42de-a4fe-eae9a06efd89",
        "colab": {
          "base_uri": "https://localhost:8080/"
        }
      },
      "source": [
        "column_info(train.owners)"
      ],
      "execution_count": 152,
      "outputs": [
        {
          "output_type": "stream",
          "text": [
            "count            6681\n",
            "unique              3\n",
            "top       3 или более\n",
            "freq             2646\n",
            "Name: owners, dtype: object\n",
            "-----------------------------\n",
            "3 или более    2646\n",
            "1 владелец     2029\n",
            "2 владельца    2006\n",
            "Name: owners, dtype: int64\n"
          ],
          "name": "stdout"
        }
      ]
    },
    {
      "cell_type": "code",
      "metadata": {
        "id": "IjIVPzNMEyUV",
        "outputId": "90d4329d-363f-4981-8abf-51e2eb2884d0",
        "colab": {
          "base_uri": "https://localhost:8080/"
        }
      },
      "source": [
        "column_info(test.owners)"
      ],
      "execution_count": 153,
      "outputs": [
        {
          "output_type": "stream",
          "text": [
            "count            1671\n",
            "unique              3\n",
            "top       3 или более\n",
            "freq              665\n",
            "Name: owners, dtype: object\n",
            "-----------------------------\n",
            "3 или более    665\n",
            "2 владельца    509\n",
            "1 владелец     497\n",
            "Name: owners, dtype: int64\n"
          ],
          "name": "stdout"
        }
      ]
    },
    {
      "cell_type": "code",
      "metadata": {
        "id": "RSXRbMu5EyUX",
        "outputId": "cf79c033-daca-4179-8a1d-4b118e3d78ea",
        "colab": {
          "base_uri": "https://localhost:8080/"
        }
      },
      "source": [
        "train.owners.isnull().value_counts()"
      ],
      "execution_count": 154,
      "outputs": [
        {
          "output_type": "execute_result",
          "data": {
            "text/plain": [
              "False    6681\n",
              "True        1\n",
              "Name: owners, dtype: int64"
            ]
          },
          "metadata": {
            "tags": []
          },
          "execution_count": 154
        }
      ]
    },
    {
      "cell_type": "code",
      "metadata": {
        "id": "ah4WS26HEyUZ",
        "outputId": "536877ce-fa77-4fb6-b7d2-0813384b15d4",
        "colab": {
          "base_uri": "https://localhost:8080/",
          "height": 185
        }
      },
      "source": [
        "train[train.owners.isnull()==True]"
      ],
      "execution_count": 155,
      "outputs": [
        {
          "output_type": "execute_result",
          "data": {
            "text/html": [
              "<div>\n",
              "<style scoped>\n",
              "    .dataframe tbody tr th:only-of-type {\n",
              "        vertical-align: middle;\n",
              "    }\n",
              "\n",
              "    .dataframe tbody tr th {\n",
              "        vertical-align: top;\n",
              "    }\n",
              "\n",
              "    .dataframe thead th {\n",
              "        text-align: right;\n",
              "    }\n",
              "</style>\n",
              "<table border=\"1\" class=\"dataframe\">\n",
              "  <thead>\n",
              "    <tr style=\"text-align: right;\">\n",
              "      <th></th>\n",
              "      <th>body</th>\n",
              "      <th>brand</th>\n",
              "      <th>color</th>\n",
              "      <th>description</th>\n",
              "      <th>engine_displacement</th>\n",
              "      <th>engine_power</th>\n",
              "      <th>fuel</th>\n",
              "      <th>mileage</th>\n",
              "      <th>model_date</th>\n",
              "      <th>model_info</th>\n",
              "      <th>name</th>\n",
              "      <th>num_of_doors</th>\n",
              "      <th>price</th>\n",
              "      <th>production_date</th>\n",
              "      <th>sell_id</th>\n",
              "      <th>vehicle_configuration</th>\n",
              "      <th>transmission</th>\n",
              "      <th>owners</th>\n",
              "      <th>ownership</th>\n",
              "      <th>vehicle_title</th>\n",
              "      <th>drive_type</th>\n",
              "      <th>wheel</th>\n",
              "    </tr>\n",
              "  </thead>\n",
              "  <tbody>\n",
              "    <tr>\n",
              "      <th>4994</th>\n",
              "      <td>седан</td>\n",
              "      <td>AUDI</td>\n",
              "      <td>чёрный</td>\n",
              "      <td>машина в идеале! вложено примерно 400тыс.руб \\...</td>\n",
              "      <td>4.2 LTR</td>\n",
              "      <td>360 N12</td>\n",
              "      <td>бензин</td>\n",
              "      <td>160000</td>\n",
              "      <td>1999</td>\n",
              "      <td>S8</td>\n",
              "      <td>4.2 AT (360 л.с.) 4WD</td>\n",
              "      <td>4</td>\n",
              "      <td>600000.0</td>\n",
              "      <td>2001</td>\n",
              "      <td>1019330519</td>\n",
              "      <td>SEDAN AUTOMATIC 4.2</td>\n",
              "      <td>автоматическая</td>\n",
              "      <td>NaN</td>\n",
              "      <td>10 лет и 7 месяцев</td>\n",
              "      <td>Оригинал</td>\n",
              "      <td>полный</td>\n",
              "      <td>Левый</td>\n",
              "    </tr>\n",
              "  </tbody>\n",
              "</table>\n",
              "</div>"
            ],
            "text/plain": [
              "       body brand   color  ... vehicle_title drive_type  wheel\n",
              "4994  седан  AUDI  чёрный  ...      Оригинал     полный  Левый\n",
              "\n",
              "[1 rows x 22 columns]"
            ]
          },
          "metadata": {
            "tags": []
          },
          "execution_count": 155
        }
      ]
    },
    {
      "cell_type": "code",
      "metadata": {
        "id": "jJrFzzD-EyUb",
        "outputId": "10309f52-97cc-4b46-c401-3232b524c316",
        "colab": {
          "base_uri": "https://localhost:8080/"
        }
      },
      "source": [
        "train.description[train.owners.isnull()==True]"
      ],
      "execution_count": 156,
      "outputs": [
        {
          "output_type": "execute_result",
          "data": {
            "text/plain": [
              "4994    машина в идеале! вложено примерно 400тыс.руб \\...\n",
              "Name: description, dtype: object"
            ]
          },
          "metadata": {
            "tags": []
          },
          "execution_count": 156
        }
      ]
    },
    {
      "cell_type": "code",
      "metadata": {
        "id": "Qi2byUqjEyUe",
        "outputId": "d17974bd-9968-4107-c177-347997a4979a",
        "colab": {
          "base_uri": "https://localhost:8080/",
          "height": 120
        }
      },
      "source": [
        "train.description.iloc[4994]"
      ],
      "execution_count": 157,
      "outputs": [
        {
          "output_type": "execute_result",
          "data": {
            "application/vnd.google.colaboratory.intrinsic+json": {
              "type": "string"
            },
            "text/plain": [
              "'машина в идеале! вложено примерно 400тыс.руб \\r\\n замена ГРМ, всех расходников,\\r\\n двигатель контрактный с пробегом в 120,000км.\\r\\n рулевая рейка новая (не ремонтная а НОВАЯ!)\\r\\n новый кардан. \\r\\n новые гидро натяжители цепей 40тыс.руб. \\r\\n новый бензонасос, \\r\\n новая подвеска \"бильштайн\" \\r\\n и т.д. \\r\\n комплектация максимальная- черное дерево! штатный (снимаемый) фаркоп, предпусковой подогреватель WEBASTO, кованные диски (германия) R-20, телефон.\\r\\nНА ВТОРОМ ФОТО СТАРЫЙ РУЛЬ! СЕЙЧАС НОВЫЙ С ДЕРЕВОМ КАК НА ПОСЛЕДНИХ ФОТО... (старый отдам в довесок)\\r\\nнедавно сделана полная разводка глушителей, с установкой новых банок на обе трубы (на фото можно разглядеть снизу) банки от ренж ровер спорт, звук КЛАСС!!!\\r\\n много писать, звоните...\\r\\nфото 100% мои!\\r\\nвозможен обмен на битый или горевший  микроавтобус (фольксваген Т-5) мультиван свежих годов.\\r\\nСАЛОНЫ И ПРОЧИЕ \"ПОМОЩНИКИ\" ИДИТЕ ЛЕСОМ!!!!!!!!!\\r\\nфото 100% мои!\\r\\nпродажа НЕ срочная!!! с большим торгом не звонить.'"
            ]
          },
          "metadata": {
            "tags": []
          },
          "execution_count": 157
        }
      ]
    },
    {
      "cell_type": "markdown",
      "metadata": {
        "id": "7pJOLZWhEyUg"
      },
      "source": [
        "Машина старая. Но ПТС оригинал. По описанию кажеться, что владелец был один. Поставлю **1 владелец**."
      ]
    },
    {
      "cell_type": "code",
      "metadata": {
        "id": "Jo32WL63EyUh",
        "outputId": "77d50475-6d34-4fd3-8340-0c1616f05b31",
        "colab": {
          "base_uri": "https://localhost:8080/"
        }
      },
      "source": [
        "train.owners.iloc[4994] = '1 владелец'"
      ],
      "execution_count": 158,
      "outputs": [
        {
          "output_type": "stream",
          "text": [
            "/usr/local/lib/python3.6/dist-packages/pandas/core/indexing.py:670: SettingWithCopyWarning: \n",
            "A value is trying to be set on a copy of a slice from a DataFrame\n",
            "\n",
            "See the caveats in the documentation: https://pandas.pydata.org/pandas-docs/stable/user_guide/indexing.html#returning-a-view-versus-a-copy\n",
            "  iloc._setitem_with_indexer(indexer, value)\n"
          ],
          "name": "stderr"
        }
      ]
    },
    {
      "cell_type": "markdown",
      "metadata": {
        "id": "llS6GPEREyUk"
      },
      "source": [
        "## ownership"
      ]
    },
    {
      "cell_type": "code",
      "metadata": {
        "scrolled": true,
        "id": "HTzUJCl2EyUk",
        "outputId": "993f813b-38b8-4480-d9b7-a472718a070f",
        "colab": {
          "base_uri": "https://localhost:8080/"
        }
      },
      "source": [
        "column_info(train.ownership)"
      ],
      "execution_count": 159,
      "outputs": [
        {
          "output_type": "stream",
          "text": [
            "count                  2356\n",
            "unique                  173\n",
            "top       1 год и 8 месяцев\n",
            "freq                     54\n",
            "Name: ownership, dtype: object\n",
            "-----------------------------\n",
            "1 год и 8 месяцев      54\n",
            "1 год и 2 месяца       53\n",
            "1 год и 5 месяцев      46\n",
            "1 год                  46\n",
            "9 месяцев              46\n",
            "2 года и 2 месяца      43\n",
            "1 год и 11 месяцев     42\n",
            "1 год и 10 месяцев     42\n",
            "1 год и 4 месяца       40\n",
            "1 год и 9 месяцев      39\n",
            "1 год и 1 месяц        39\n",
            "10 месяцев             39\n",
            "3 года и 5 месяцев     37\n",
            "2 года и 3 месяца      37\n",
            "3 года                 36\n",
            "3 года и 2 месяца      36\n",
            "2 года и 4 месяца      36\n",
            "8 месяцев              35\n",
            "2 года и 7 месяцев     35\n",
            "2 года                 34\n",
            "2 года и 11 месяцев    32\n",
            "11 месяцев             31\n",
            "1 год и 7 месяцев      31\n",
            "1 год и 3 месяца       30\n",
            "1 год и 6 месяцев      28\n",
            "3 года и 4 месяца      27\n",
            "3 года и 7 месяцев     27\n",
            "3 года и 1 месяц       26\n",
            "2 года и 9 месяцев     26\n",
            "2 года и 8 месяцев     26\n",
            "2 года и 1 месяц       26\n",
            "3 года и 10 месяцев    25\n",
            "3 года и 8 месяцев     24\n",
            "2 года и 5 месяцев     24\n",
            "4 года и 3 месяца      24\n",
            "3 года и 3 месяца      23\n",
            "4 года                 23\n",
            "4 года и 4 месяца      22\n",
            "2 года и 6 месяцев     22\n",
            "6 лет и 5 месяцев      22\n",
            "4 года и 2 месяца      21\n",
            "4 года и 9 месяцев     21\n",
            "3 года и 6 месяцев     21\n",
            "4 года и 11 месяцев    21\n",
            "4 года и 8 месяцев     21\n",
            "5 лет и 9 месяцев      20\n",
            "4 года и 5 месяцев     20\n",
            "2 года и 10 месяцев    20\n",
            "5 лет и 11 месяцев     20\n",
            "3 года и 9 месяцев     19\n",
            "3 года и 11 месяцев    19\n",
            "5 лет                  19\n",
            "7 месяцев              19\n",
            "6 месяцев              18\n",
            "6 лет и 3 месяца       18\n",
            "5 месяцев              17\n",
            "6 лет и 4 месяца       17\n",
            "7 лет и 1 месяц        17\n",
            "5 лет и 6 месяцев      16\n",
            "5 лет и 1 месяц        16\n",
            "4 года и 6 месяцев     16\n",
            "5 лет и 8 месяцев      16\n",
            "7 лет                  16\n",
            "4 года и 10 месяцев    16\n",
            "7 лет и 4 месяца       16\n",
            "5 лет и 7 месяцев      15\n",
            "6 лет и 9 месяцев      15\n",
            "5 лет и 5 месяцев      14\n",
            "6 лет и 8 месяцев      14\n",
            "6 лет и 2 месяца       13\n",
            "6 лет                  13\n",
            "5 лет и 10 месяцев     12\n",
            "6 лет и 1 месяц        12\n",
            "7 лет и 6 месяцев      12\n",
            "4 года и 1 месяц       12\n",
            "6 лет и 7 месяцев      11\n",
            "7 лет и 5 месяцев      11\n",
            "7 лет и 10 месяцев     11\n",
            "1 месяц                11\n",
            "6 лет и 10 месяцев     11\n",
            "4 месяца               11\n",
            "8 лет                  11\n",
            "4 года и 7 месяцев     11\n",
            "6 лет и 6 месяцев      11\n",
            "8 лет и 2 месяца       11\n",
            "7 лет и 2 месяца       10\n",
            "3 месяца               10\n",
            "8 лет и 3 месяца       10\n",
            "8 лет и 11 месяцев     10\n",
            "5 лет и 2 месяца        9\n",
            "5 лет и 4 месяца        9\n",
            "5 лет и 3 месяца        9\n",
            "8 лет и 8 месяцев       9\n",
            "7 лет и 8 месяцев       9\n",
            "8 лет и 4 месяца        9\n",
            "8 лет и 1 месяц         8\n",
            "8 лет и 6 месяцев       8\n",
            "2 месяца                7\n",
            "6 лет и 11 месяцев      7\n",
            "7 лет и 3 месяца        7\n",
            "8 лет и 5 месяцев       7\n",
            "7 лет и 7 месяцев       6\n",
            "8 лет и 9 месяцев       6\n",
            "9 лет и 8 месяцев       5\n",
            "9 лет                   5\n",
            "9 лет и 4 месяца        5\n",
            "9 лет и 3 месяца        5\n",
            "7 лет и 11 месяцев      5\n",
            "8 лет и 7 месяцев       4\n",
            "10 лет и 7 месяцев      4\n",
            "10 лет и 9 месяцев      4\n",
            "9 лет и 1 месяц         4\n",
            "11 лет и 10 месяцев     4\n",
            "10 лет и 3 месяца       4\n",
            "10 лет и 6 месяцев      4\n",
            "7 лет и 9 месяцев       4\n",
            "11 лет и 7 месяцев      4\n",
            "9 лет и 5 месяцев       4\n",
            "10 лет и 2 месяца       4\n",
            "11 лет и 5 месяцев      4\n",
            "9 лет и 2 месяца        4\n",
            "12 лет и 8 месяцев      3\n",
            "10 лет и 1 месяц        3\n",
            "12 лет и 2 месяца       3\n",
            "12 лет и 3 месяца       3\n",
            "10 лет и 11 месяцев     3\n",
            "13 лет и 2 месяца       3\n",
            "11 лет и 8 месяцев      3\n",
            "9 лет и 7 месяцев       3\n",
            "13 лет и 6 месяцев      3\n",
            "12 лет                  3\n",
            "9 лет и 11 месяцев      3\n",
            "11 лет и 2 месяца       3\n",
            "12 лет и 5 месяцев      2\n",
            "9 лет и 9 месяцев       2\n",
            "11 лет                  2\n",
            "14 лет и 6 месяцев      2\n",
            "9 лет и 10 месяцев      2\n",
            "11 лет и 11 месяцев     2\n",
            "10 лет и 5 месяцев      2\n",
            "14 лет и 3 месяца       2\n",
            "13 лет и 7 месяцев      2\n",
            "11 лет и 4 месяца       2\n",
            "10 лет                  2\n",
            "10 лет и 4 месяца       2\n",
            "12 лет и 4 месяца       2\n",
            "8 лет и 10 месяцев      2\n",
            "13 лет и 5 месяцев      2\n",
            "12 лет и 9 месяцев      2\n",
            "11 лет и 3 месяца       2\n",
            "16 лет и 4 месяца       1\n",
            "17 лет и 4 месяца       1\n",
            "11 лет и 1 месяц        1\n",
            "13 лет и 3 месяца       1\n",
            "18 лет и 10 месяцев     1\n",
            "23 года и 4 месяца      1\n",
            "17 лет и 5 месяцев      1\n",
            "10 лет и 10 месяцев     1\n",
            "15 лет и 10 месяцев     1\n",
            "9 лет и 6 месяцев       1\n",
            "11 лет и 9 месяцев      1\n",
            "15 лет и 3 месяца       1\n",
            "14 лет и 8 месяцев      1\n",
            "17 лет                  1\n",
            "13 лет и 8 месяцев      1\n",
            "18 лет и 7 месяцев      1\n",
            "14 лет и 5 месяцев      1\n",
            "10 лет и 8 месяцев      1\n",
            "14 лет и 1 месяц        1\n",
            "17 лет и 11 месяцев     1\n",
            "27 лет и 10 месяцев     1\n",
            "16 лет и 10 месяцев     1\n",
            "11 лет и 6 месяцев      1\n",
            "Name: ownership, dtype: int64\n"
          ],
          "name": "stdout"
        }
      ]
    },
    {
      "cell_type": "code",
      "metadata": {
        "id": "cKe8nnhkEyUp",
        "outputId": "837b9e88-e991-4f66-bbe3-e417b97866be",
        "colab": {
          "base_uri": "https://localhost:8080/"
        }
      },
      "source": [
        "column_info(test.ownership)"
      ],
      "execution_count": 160,
      "outputs": [
        {
          "output_type": "stream",
          "text": [
            "count                  579\n",
            "unique                 131\n",
            "top       1 год и 2 месяца\n",
            "freq                    14\n",
            "Name: ownership, dtype: object\n",
            "-----------------------------\n",
            "1 год и 2 месяца       14\n",
            "8 месяцев              13\n",
            "1 год и 8 месяцев      13\n",
            "3 года                 13\n",
            "2 года и 3 месяца      12\n",
            "3 года и 8 месяцев     12\n",
            "2 года                 12\n",
            "2 года и 6 месяцев     11\n",
            "7 месяцев              11\n",
            "2 года и 4 месяца      11\n",
            "3 года и 3 месяца      11\n",
            "6 лет и 6 месяцев      11\n",
            "1 год и 4 месяца       11\n",
            "1 год и 3 месяца       10\n",
            "1 год и 10 месяцев     10\n",
            "3 года и 1 месяц       10\n",
            "2 года и 8 месяцев     10\n",
            "1 год                   9\n",
            "2 года и 2 месяца       9\n",
            "2 года и 11 месяцев     9\n",
            "1 год и 11 месяцев      9\n",
            "2 года и 10 месяцев     9\n",
            "10 месяцев              9\n",
            "1 год и 6 месяцев       8\n",
            "3 года и 9 месяцев      7\n",
            "11 месяцев              7\n",
            "4 года и 5 месяцев      7\n",
            "2 года и 9 месяцев      7\n",
            "1 год и 9 месяцев       7\n",
            "3 года и 5 месяцев      7\n",
            "2 года и 7 месяцев      7\n",
            "5 лет и 4 месяца        6\n",
            "2 года и 5 месяцев      6\n",
            "9 месяцев               6\n",
            "3 года и 2 месяца       6\n",
            "3 года и 7 месяцев      6\n",
            "1 год и 7 месяцев       6\n",
            "2 года и 1 месяц        6\n",
            "6 лет и 3 месяца        6\n",
            "5 лет и 2 месяца        6\n",
            "4 года и 10 месяцев     5\n",
            "5 лет и 8 месяцев       5\n",
            "1 год и 5 месяцев       5\n",
            "3 года и 4 месяца       5\n",
            "6 лет и 7 месяцев       5\n",
            "4 года                  5\n",
            "6 лет и 5 месяцев       5\n",
            "3 года и 11 месяцев     5\n",
            "4 года и 1 месяц        5\n",
            "5 лет и 10 месяцев      4\n",
            "1 месяц                 4\n",
            "4 года и 3 месяца       4\n",
            "1 год и 1 месяц         4\n",
            "4 года и 11 месяцев     4\n",
            "6 лет и 8 месяцев       4\n",
            "5 месяцев               4\n",
            "7 лет                   4\n",
            "5 лет и 5 месяцев       4\n",
            "6 лет и 10 месяцев      4\n",
            "4 года и 2 месяца       4\n",
            "4 года и 4 месяца       4\n",
            "7 лет и 8 месяцев       3\n",
            "5 лет и 1 месяц         3\n",
            "8 лет                   3\n",
            "5 лет и 3 месяца        3\n",
            "2 месяца                3\n",
            "8 лет и 8 месяцев       3\n",
            "6 лет и 1 месяц         3\n",
            "7 лет и 2 месяца        3\n",
            "7 лет и 1 месяц         3\n",
            "8 лет и 2 месяца        3\n",
            "7 лет и 6 месяцев       3\n",
            "9 лет и 8 месяцев       3\n",
            "9 лет и 1 месяц         3\n",
            "5 лет и 11 месяцев      3\n",
            "8 лет и 11 месяцев      3\n",
            "6 лет                   3\n",
            "5 лет и 7 месяцев       3\n",
            "4 года и 6 месяцев      3\n",
            "6 лет и 9 месяцев       2\n",
            "3 года и 6 месяцев      2\n",
            "6 месяцев               2\n",
            "3 года и 10 месяцев     2\n",
            "9 лет и 2 месяца        2\n",
            "8 лет и 5 месяцев       2\n",
            "4 года и 7 месяцев      2\n",
            "8 лет и 3 месяца        2\n",
            "7 лет и 11 месяцев      2\n",
            "7 лет и 5 месяцев       2\n",
            "5 лет и 6 месяцев       2\n",
            "7 лет и 10 месяцев      2\n",
            "4 года и 8 месяцев      2\n",
            "10 лет и 10 месяцев     2\n",
            "4 года и 9 месяцев      2\n",
            "8 лет и 1 месяц         2\n",
            "7 лет и 4 месяца        2\n",
            "9 лет и 5 месяцев       2\n",
            "7 лет и 7 месяцев       2\n",
            "6 лет и 4 месяца        2\n",
            "9 лет и 11 месяцев      1\n",
            "10 лет и 6 месяцев      1\n",
            "13 лет и 1 месяц        1\n",
            "19 лет и 6 месяцев      1\n",
            "4 месяца                1\n",
            "11 лет и 11 месяцев     1\n",
            "9 лет и 4 месяца        1\n",
            "6 лет и 2 месяца        1\n",
            "10 лет и 9 месяцев      1\n",
            "11 лет и 9 месяцев      1\n",
            "21 год и 5 месяцев      1\n",
            "10 лет                  1\n",
            "3 месяца                1\n",
            "8 лет и 10 месяцев      1\n",
            "8 лет и 6 месяцев       1\n",
            "9 лет и 3 месяца        1\n",
            "10 лет и 3 месяца       1\n",
            "10 лет и 7 месяцев      1\n",
            "6 лет и 11 месяцев      1\n",
            "5 лет                   1\n",
            "7 лет и 9 месяцев       1\n",
            "8 лет и 7 месяцев       1\n",
            "9 лет и 9 месяцев       1\n",
            "10 лет и 11 месяцев     1\n",
            "12 лет и 4 месяца       1\n",
            "10 лет и 5 месяцев      1\n",
            "19 лет                  1\n",
            "16 лет и 1 месяц        1\n",
            "5 лет и 9 месяцев       1\n",
            "10 лет и 4 месяца       1\n",
            "29 лет и 7 месяцев      1\n",
            "18 лет и 9 месяцев      1\n",
            "Name: ownership, dtype: int64\n"
          ],
          "name": "stdout"
        }
      ]
    },
    {
      "cell_type": "markdown",
      "metadata": {
        "id": "0lbsGCMyEyUr"
      },
      "source": [
        "Слишком много пропусков, просто удалим признак."
      ]
    },
    {
      "cell_type": "markdown",
      "metadata": {
        "id": "p_wdCrAbEyUr"
      },
      "source": [
        "## vehicle_title"
      ]
    },
    {
      "cell_type": "code",
      "metadata": {
        "id": "yzQnl-hoEyUs",
        "outputId": "c789204e-d9b4-481c-e7d2-675e8aee3d75",
        "colab": {
          "base_uri": "https://localhost:8080/"
        }
      },
      "source": [
        "column_info(train.vehicle_title)"
      ],
      "execution_count": 161,
      "outputs": [
        {
          "output_type": "stream",
          "text": [
            "count         6682\n",
            "unique           2\n",
            "top       Оригинал\n",
            "freq          5970\n",
            "Name: vehicle_title, dtype: object\n",
            "-----------------------------\n",
            "Оригинал    5970\n",
            "Дубликат     712\n",
            "Name: vehicle_title, dtype: int64\n"
          ],
          "name": "stdout"
        }
      ]
    },
    {
      "cell_type": "code",
      "metadata": {
        "id": "AqQJtuOKEyUw",
        "outputId": "e55d0165-7426-499b-aea3-0244e64d3a57",
        "colab": {
          "base_uri": "https://localhost:8080/"
        }
      },
      "source": [
        "column_info(test.vehicle_title)"
      ],
      "execution_count": 162,
      "outputs": [
        {
          "output_type": "stream",
          "text": [
            "count         1671\n",
            "unique           2\n",
            "top       Оригинал\n",
            "freq          1504\n",
            "Name: vehicle_title, dtype: object\n",
            "-----------------------------\n",
            "Оригинал    1504\n",
            "Дубликат     167\n",
            "Name: vehicle_title, dtype: int64\n"
          ],
          "name": "stdout"
        }
      ]
    },
    {
      "cell_type": "markdown",
      "metadata": {
        "id": "_WEmmyXiEyUy"
      },
      "source": [
        "## drive_type"
      ]
    },
    {
      "cell_type": "code",
      "metadata": {
        "id": "y-_RKPAcEyUy",
        "outputId": "40f4898b-6fc8-4323-cb0e-d10c195b1ddd",
        "colab": {
          "base_uri": "https://localhost:8080/"
        }
      },
      "source": [
        "column_info(train.drive_type)"
      ],
      "execution_count": 163,
      "outputs": [
        {
          "output_type": "stream",
          "text": [
            "count       6682\n",
            "unique         3\n",
            "top       полный\n",
            "freq        4189\n",
            "Name: drive_type, dtype: object\n",
            "-----------------------------\n",
            "полный      4189\n",
            "задний      1790\n",
            "передний     703\n",
            "Name: drive_type, dtype: int64\n"
          ],
          "name": "stdout"
        }
      ]
    },
    {
      "cell_type": "code",
      "metadata": {
        "id": "btF8pzHcEyU1",
        "outputId": "a7133964-a270-4f3f-c11d-8a8c92ab32f6",
        "colab": {
          "base_uri": "https://localhost:8080/"
        }
      },
      "source": [
        "column_info(test.drive_type)"
      ],
      "execution_count": 164,
      "outputs": [
        {
          "output_type": "stream",
          "text": [
            "count       1671\n",
            "unique         3\n",
            "top       полный\n",
            "freq        1029\n",
            "Name: drive_type, dtype: object\n",
            "-----------------------------\n",
            "полный      1029\n",
            "задний       469\n",
            "передний     173\n",
            "Name: drive_type, dtype: int64\n"
          ],
          "name": "stdout"
        }
      ]
    },
    {
      "cell_type": "markdown",
      "metadata": {
        "id": "6ewp-wskEyU3"
      },
      "source": [
        "## wheel"
      ]
    },
    {
      "cell_type": "code",
      "metadata": {
        "id": "ByqS7UEYEyU3",
        "outputId": "9c3003e5-874f-425d-f422-3ed1a12d28dd",
        "colab": {
          "base_uri": "https://localhost:8080/"
        }
      },
      "source": [
        "column_info(train.wheel)"
      ],
      "execution_count": 165,
      "outputs": [
        {
          "output_type": "stream",
          "text": [
            "count      6682\n",
            "unique        2\n",
            "top       Левый\n",
            "freq       6680\n",
            "Name: wheel, dtype: object\n",
            "-----------------------------\n",
            "Левый     6680\n",
            "Правый       2\n",
            "Name: wheel, dtype: int64\n"
          ],
          "name": "stdout"
        }
      ]
    },
    {
      "cell_type": "code",
      "metadata": {
        "id": "8Kgndai8EyU6",
        "outputId": "932790fa-3d0e-4f3a-fd3e-cd1e192cf58a",
        "colab": {
          "base_uri": "https://localhost:8080/"
        }
      },
      "source": [
        "column_info(test.wheel)"
      ],
      "execution_count": 166,
      "outputs": [
        {
          "output_type": "stream",
          "text": [
            "count      1671\n",
            "unique        1\n",
            "top       Левый\n",
            "freq       1671\n",
            "Name: wheel, dtype: object\n",
            "-----------------------------\n",
            "Левый    1671\n",
            "Name: wheel, dtype: int64\n"
          ],
          "name": "stdout"
        }
      ]
    },
    {
      "cell_type": "markdown",
      "metadata": {
        "id": "xGHvGC5GEyU-"
      },
      "source": [
        "Всего два праворульных авто, неинформативно, удаляем признак."
      ]
    },
    {
      "cell_type": "code",
      "metadata": {
        "id": "V3qjj-UcEyU-"
      },
      "source": [
        "# Приведем данные в порядок с помощью общей функции\n",
        "def data_prep(df):\n",
        "    \n",
        "    # body\n",
        "    df.body = df.body.apply(lambda x: x.split()[0])\n",
        "    \n",
        "    # engine_displacement\n",
        "    df.engine_displacement[df.engine_displacement=='undefined LTR'] = '0.6 LTR'\n",
        "    df.engine_displacement = df.engine_displacement.apply(lambda x: x.split()[0])\n",
        "    df.engine_displacement = df.engine_displacement.astype('float64')\n",
        "    \n",
        "    # engine_power\n",
        "    df.engine_power = df.engine_power.apply(lambda x: x.split()[0])\n",
        "    df.engine_power = df.engine_power.astype('float64')\n",
        "    \n",
        "    # name\n",
        "    # BMW\n",
        "    BMW = df[df.brand=='BMW']\n",
        "    BMW.name = BMW.name.apply(lambda x: ' '.join(x.split()[0:2]) if len(x.split()[1])>4 else x.split()[0])\n",
        "    \n",
        "    # MERCEDES\n",
        "    MERCEDES = df[df.brand=='MERCEDES']\n",
        "    \n",
        "    # Функция обработки имен MERCEDES.\n",
        "    def merc_name(column):\n",
        "    \n",
        "        if len(column.split())>4:\n",
        "            if column.split()[-1] == '4WD':\n",
        "                return ' '.join(column.split()[:-5])\n",
        "\n",
        "            elif column.split()[-1] != '4WD':\n",
        "                return ' '.join(column.split()[:-4])\n",
        "        else:\n",
        "            return column.split()[0]\n",
        "    \n",
        "    MERCEDES.name = MERCEDES.name.apply(merc_name)\n",
        "    \n",
        "    # AUDI\n",
        "    AUDI = df[df.brand=='AUDI']\n",
        "    \n",
        "    # Функция обработки имен AUDI.\n",
        "    def audi_name(column):\n",
        "    \n",
        "        if len(column.split())>3:\n",
        "            if column.split()[-1] == '4WD':\n",
        "                return ' '.join(column.split()[:-4])\n",
        "\n",
        "            elif column.split()[-1] != '4WD':\n",
        "                return ' '.join(column.split()[:-3])\n",
        "        else:\n",
        "            return column.split()[0]\n",
        "    \n",
        "    AUDI.name = AUDI.name.apply(audi_name)\n",
        "    \n",
        "    # Объединения трех датафреймов в один.\n",
        "    df = pd.concat([BMW, MERCEDES, AUDI])\n",
        "    df.sort_index(axis=0, inplace=True)\n",
        "    \n",
        "    # Удаляем признаки\n",
        "    df.drop(['vehicle_configuration', 'wheel', 'ownership', 'sell_id'], axis=1, inplace=True)\n",
        "    \n",
        "    return df"
      ],
      "execution_count": 167,
      "outputs": []
    },
    {
      "cell_type": "code",
      "metadata": {
        "scrolled": false,
        "id": "P0pn1U8bEyVA",
        "outputId": "5e07ee92-3109-43b0-f7e9-191a0165c283",
        "colab": {
          "base_uri": "https://localhost:8080/"
        }
      },
      "source": [
        "train = data_prep(train)"
      ],
      "execution_count": 168,
      "outputs": [
        {
          "output_type": "stream",
          "text": [
            "/usr/local/lib/python3.6/dist-packages/ipykernel_launcher.py:8: SettingWithCopyWarning: \n",
            "A value is trying to be set on a copy of a slice from a DataFrame\n",
            "\n",
            "See the caveats in the documentation: https://pandas.pydata.org/pandas-docs/stable/user_guide/indexing.html#returning-a-view-versus-a-copy\n",
            "  \n",
            "/usr/local/lib/python3.6/dist-packages/pandas/core/generic.py:5168: SettingWithCopyWarning: \n",
            "A value is trying to be set on a copy of a slice from a DataFrame.\n",
            "Try using .loc[row_indexer,col_indexer] = value instead\n",
            "\n",
            "See the caveats in the documentation: https://pandas.pydata.org/pandas-docs/stable/user_guide/indexing.html#returning-a-view-versus-a-copy\n",
            "  self[name] = value\n"
          ],
          "name": "stderr"
        }
      ]
    },
    {
      "cell_type": "code",
      "metadata": {
        "scrolled": true,
        "id": "Ii24TEijEyVD",
        "outputId": "3f384cc4-d6f5-4bd7-ca6c-4e34334abc25",
        "colab": {
          "base_uri": "https://localhost:8080/"
        }
      },
      "source": [
        "test = data_prep(test)"
      ],
      "execution_count": 169,
      "outputs": [
        {
          "output_type": "stream",
          "text": [
            "/usr/local/lib/python3.6/dist-packages/ipykernel_launcher.py:8: SettingWithCopyWarning: \n",
            "A value is trying to be set on a copy of a slice from a DataFrame\n",
            "\n",
            "See the caveats in the documentation: https://pandas.pydata.org/pandas-docs/stable/user_guide/indexing.html#returning-a-view-versus-a-copy\n",
            "  \n",
            "/usr/local/lib/python3.6/dist-packages/pandas/core/generic.py:5168: SettingWithCopyWarning: \n",
            "A value is trying to be set on a copy of a slice from a DataFrame.\n",
            "Try using .loc[row_indexer,col_indexer] = value instead\n",
            "\n",
            "See the caveats in the documentation: https://pandas.pydata.org/pandas-docs/stable/user_guide/indexing.html#returning-a-view-versus-a-copy\n",
            "  self[name] = value\n"
          ],
          "name": "stderr"
        }
      ]
    },
    {
      "cell_type": "code",
      "metadata": {
        "id": "hhbL67nQEyVF"
      },
      "source": [
        "def tax(data):\n",
        "    \n",
        "    if data<=100:\n",
        "        return float(data*12)\n",
        "    \n",
        "    elif data>100 and data<=125:\n",
        "        return float(data*25)\n",
        "    \n",
        "    elif data>125 and data<=150:\n",
        "        return float(data*35)\n",
        "    \n",
        "    elif data>150 and data<=175:\n",
        "        return float(data*45)\n",
        "    \n",
        "    elif data>175 and data<=200:\n",
        "        return float(data*50)\n",
        "    \n",
        "    elif data>200 and data<=225:\n",
        "        return float(data*65)\n",
        "    \n",
        "    elif data>225 and data<=250:\n",
        "        return float(data*75)\n",
        "        \n",
        "    elif data>250:\n",
        "        return float(data*150)\n",
        "    \n",
        "train['tax'] = train['engine_power'].apply(tax)\n",
        "test['tax'] = test['engine_power'].apply(tax)"
      ],
      "execution_count": 170,
      "outputs": []
    },
    {
      "cell_type": "code",
      "metadata": {
        "id": "lI-1tP5ZEyVH"
      },
      "source": [
        "def days_in_use(row):\n",
        "    \n",
        "    # Отсчет дней будем вести от начала года даты производства, так как мы не знаем точной даты\n",
        "    delta = datetime.now() - datetime(row,1,1)\n",
        "    return delta.days\n",
        "\n",
        "train['days_in_use'] = train['production_date'].apply(days_in_use)\n",
        "test['days_in_use'] = test['production_date'].apply(days_in_use)"
      ],
      "execution_count": 171,
      "outputs": []
    },
    {
      "cell_type": "code",
      "metadata": {
        "id": "JhAIYsPxEyVJ",
        "outputId": "0fbbc613-4ef6-424e-e856-a8ca71a18ab1",
        "colab": {
          "base_uri": "https://localhost:8080/",
          "height": 756
        }
      },
      "source": [
        "display(train.describe())\n",
        "train.info()"
      ],
      "execution_count": 172,
      "outputs": [
        {
          "output_type": "display_data",
          "data": {
            "text/html": [
              "<div>\n",
              "<style scoped>\n",
              "    .dataframe tbody tr th:only-of-type {\n",
              "        vertical-align: middle;\n",
              "    }\n",
              "\n",
              "    .dataframe tbody tr th {\n",
              "        vertical-align: top;\n",
              "    }\n",
              "\n",
              "    .dataframe thead th {\n",
              "        text-align: right;\n",
              "    }\n",
              "</style>\n",
              "<table border=\"1\" class=\"dataframe\">\n",
              "  <thead>\n",
              "    <tr style=\"text-align: right;\">\n",
              "      <th></th>\n",
              "      <th>engine_displacement</th>\n",
              "      <th>engine_power</th>\n",
              "      <th>mileage</th>\n",
              "      <th>model_date</th>\n",
              "      <th>num_of_doors</th>\n",
              "      <th>price</th>\n",
              "      <th>production_date</th>\n",
              "      <th>tax</th>\n",
              "      <th>days_in_use</th>\n",
              "    </tr>\n",
              "  </thead>\n",
              "  <tbody>\n",
              "    <tr>\n",
              "      <th>count</th>\n",
              "      <td>6682.000000</td>\n",
              "      <td>6682.000000</td>\n",
              "      <td>6682.000000</td>\n",
              "      <td>6682.000000</td>\n",
              "      <td>6682.000000</td>\n",
              "      <td>6.682000e+03</td>\n",
              "      <td>6682.000000</td>\n",
              "      <td>6682.000000</td>\n",
              "      <td>6682.000000</td>\n",
              "    </tr>\n",
              "    <tr>\n",
              "      <th>mean</th>\n",
              "      <td>2.782610</td>\n",
              "      <td>255.788686</td>\n",
              "      <td>120522.610895</td>\n",
              "      <td>2010.135588</td>\n",
              "      <td>4.268482</td>\n",
              "      <td>1.899868e+06</td>\n",
              "      <td>2012.031577</td>\n",
              "      <td>26630.120772</td>\n",
              "      <td>3215.102215</td>\n",
              "    </tr>\n",
              "    <tr>\n",
              "      <th>std</th>\n",
              "      <td>1.062753</td>\n",
              "      <td>109.240110</td>\n",
              "      <td>81454.448294</td>\n",
              "      <td>5.370973</td>\n",
              "      <td>0.878687</td>\n",
              "      <td>1.914153e+06</td>\n",
              "      <td>5.049676</td>\n",
              "      <td>23466.559177</td>\n",
              "      <td>1844.403483</td>\n",
              "    </tr>\n",
              "    <tr>\n",
              "      <th>min</th>\n",
              "      <td>0.600000</td>\n",
              "      <td>75.000000</td>\n",
              "      <td>1.000000</td>\n",
              "      <td>1975.000000</td>\n",
              "      <td>2.000000</td>\n",
              "      <td>3.013010e+05</td>\n",
              "      <td>1982.000000</td>\n",
              "      <td>900.000000</td>\n",
              "      <td>305.000000</td>\n",
              "    </tr>\n",
              "    <tr>\n",
              "      <th>25%</th>\n",
              "      <td>2.000000</td>\n",
              "      <td>184.000000</td>\n",
              "      <td>59181.250000</td>\n",
              "      <td>2007.000000</td>\n",
              "      <td>4.000000</td>\n",
              "      <td>8.000000e+05</td>\n",
              "      <td>2009.000000</td>\n",
              "      <td>9200.000000</td>\n",
              "      <td>1766.000000</td>\n",
              "    </tr>\n",
              "    <tr>\n",
              "      <th>50%</th>\n",
              "      <td>2.800000</td>\n",
              "      <td>231.000000</td>\n",
              "      <td>111000.000000</td>\n",
              "      <td>2011.000000</td>\n",
              "      <td>4.000000</td>\n",
              "      <td>1.300000e+06</td>\n",
              "      <td>2013.000000</td>\n",
              "      <td>17325.000000</td>\n",
              "      <td>2861.000000</td>\n",
              "    </tr>\n",
              "    <tr>\n",
              "      <th>75%</th>\n",
              "      <td>3.000000</td>\n",
              "      <td>306.000000</td>\n",
              "      <td>168000.000000</td>\n",
              "      <td>2014.000000</td>\n",
              "      <td>5.000000</td>\n",
              "      <td>2.299283e+06</td>\n",
              "      <td>2016.000000</td>\n",
              "      <td>45900.000000</td>\n",
              "      <td>4322.000000</td>\n",
              "    </tr>\n",
              "    <tr>\n",
              "      <th>max</th>\n",
              "      <td>6.600000</td>\n",
              "      <td>639.000000</td>\n",
              "      <td>999999.000000</td>\n",
              "      <td>2019.000000</td>\n",
              "      <td>5.000000</td>\n",
              "      <td>2.390000e+07</td>\n",
              "      <td>2020.000000</td>\n",
              "      <td>95850.000000</td>\n",
              "      <td>14184.000000</td>\n",
              "    </tr>\n",
              "  </tbody>\n",
              "</table>\n",
              "</div>"
            ],
            "text/plain": [
              "       engine_displacement  engine_power  ...           tax   days_in_use\n",
              "count          6682.000000   6682.000000  ...   6682.000000   6682.000000\n",
              "mean              2.782610    255.788686  ...  26630.120772   3215.102215\n",
              "std               1.062753    109.240110  ...  23466.559177   1844.403483\n",
              "min               0.600000     75.000000  ...    900.000000    305.000000\n",
              "25%               2.000000    184.000000  ...   9200.000000   1766.000000\n",
              "50%               2.800000    231.000000  ...  17325.000000   2861.000000\n",
              "75%               3.000000    306.000000  ...  45900.000000   4322.000000\n",
              "max               6.600000    639.000000  ...  95850.000000  14184.000000\n",
              "\n",
              "[8 rows x 9 columns]"
            ]
          },
          "metadata": {
            "tags": []
          }
        },
        {
          "output_type": "stream",
          "text": [
            "<class 'pandas.core.frame.DataFrame'>\n",
            "Int64Index: 6682 entries, 0 to 6681\n",
            "Data columns (total 20 columns):\n",
            " #   Column               Non-Null Count  Dtype  \n",
            "---  ------               --------------  -----  \n",
            " 0   body                 6682 non-null   object \n",
            " 1   brand                6682 non-null   object \n",
            " 2   color                6682 non-null   object \n",
            " 3   description          6682 non-null   object \n",
            " 4   engine_displacement  6682 non-null   float64\n",
            " 5   engine_power         6682 non-null   float64\n",
            " 6   fuel                 6682 non-null   object \n",
            " 7   mileage              6682 non-null   int64  \n",
            " 8   model_date           6682 non-null   int64  \n",
            " 9   model_info           6682 non-null   object \n",
            " 10  name                 6682 non-null   object \n",
            " 11  num_of_doors         6682 non-null   int64  \n",
            " 12  price                6682 non-null   float64\n",
            " 13  production_date      6682 non-null   int64  \n",
            " 14  transmission         6682 non-null   object \n",
            " 15  owners               6682 non-null   object \n",
            " 16  vehicle_title        6682 non-null   object \n",
            " 17  drive_type           6682 non-null   object \n",
            " 18  tax                  6682 non-null   float64\n",
            " 19  days_in_use          6682 non-null   int64  \n",
            "dtypes: float64(4), int64(5), object(11)\n",
            "memory usage: 1.1+ MB\n"
          ],
          "name": "stdout"
        }
      ]
    },
    {
      "cell_type": "code",
      "metadata": {
        "id": "W0DGAUcJEyVL",
        "outputId": "10abf10c-b4a5-4a07-d1ef-6a592b2c679f",
        "colab": {
          "base_uri": "https://localhost:8080/",
          "height": 739
        }
      },
      "source": [
        "display(test.describe())\n",
        "test.info()"
      ],
      "execution_count": 173,
      "outputs": [
        {
          "output_type": "display_data",
          "data": {
            "text/html": [
              "<div>\n",
              "<style scoped>\n",
              "    .dataframe tbody tr th:only-of-type {\n",
              "        vertical-align: middle;\n",
              "    }\n",
              "\n",
              "    .dataframe tbody tr th {\n",
              "        vertical-align: top;\n",
              "    }\n",
              "\n",
              "    .dataframe thead th {\n",
              "        text-align: right;\n",
              "    }\n",
              "</style>\n",
              "<table border=\"1\" class=\"dataframe\">\n",
              "  <thead>\n",
              "    <tr style=\"text-align: right;\">\n",
              "      <th></th>\n",
              "      <th>engine_displacement</th>\n",
              "      <th>engine_power</th>\n",
              "      <th>mileage</th>\n",
              "      <th>model_date</th>\n",
              "      <th>num_of_doors</th>\n",
              "      <th>production_date</th>\n",
              "      <th>tax</th>\n",
              "      <th>days_in_use</th>\n",
              "    </tr>\n",
              "  </thead>\n",
              "  <tbody>\n",
              "    <tr>\n",
              "      <th>count</th>\n",
              "      <td>1671.000000</td>\n",
              "      <td>1671.000000</td>\n",
              "      <td>1671.000000</td>\n",
              "      <td>1671.000000</td>\n",
              "      <td>1671.000000</td>\n",
              "      <td>1671.000000</td>\n",
              "      <td>1671.000000</td>\n",
              "      <td>1671.000000</td>\n",
              "    </tr>\n",
              "    <tr>\n",
              "      <th>mean</th>\n",
              "      <td>2.758947</td>\n",
              "      <td>254.645721</td>\n",
              "      <td>119724.664871</td>\n",
              "      <td>2009.975464</td>\n",
              "      <td>4.236385</td>\n",
              "      <td>2011.927588</td>\n",
              "      <td>26257.585278</td>\n",
              "      <td>3253.081987</td>\n",
              "    </tr>\n",
              "    <tr>\n",
              "      <th>std</th>\n",
              "      <td>1.035046</td>\n",
              "      <td>107.474922</td>\n",
              "      <td>83467.240436</td>\n",
              "      <td>5.692836</td>\n",
              "      <td>0.912202</td>\n",
              "      <td>5.332324</td>\n",
              "      <td>23220.697907</td>\n",
              "      <td>1947.643147</td>\n",
              "    </tr>\n",
              "    <tr>\n",
              "      <th>min</th>\n",
              "      <td>0.600000</td>\n",
              "      <td>101.000000</td>\n",
              "      <td>1.000000</td>\n",
              "      <td>1971.000000</td>\n",
              "      <td>2.000000</td>\n",
              "      <td>1982.000000</td>\n",
              "      <td>2525.000000</td>\n",
              "      <td>305.000000</td>\n",
              "    </tr>\n",
              "    <tr>\n",
              "      <th>25%</th>\n",
              "      <td>2.000000</td>\n",
              "      <td>184.000000</td>\n",
              "      <td>59373.000000</td>\n",
              "      <td>2007.000000</td>\n",
              "      <td>4.000000</td>\n",
              "      <td>2009.000000</td>\n",
              "      <td>9200.000000</td>\n",
              "      <td>1766.000000</td>\n",
              "    </tr>\n",
              "    <tr>\n",
              "      <th>50%</th>\n",
              "      <td>2.700000</td>\n",
              "      <td>231.000000</td>\n",
              "      <td>109000.000000</td>\n",
              "      <td>2011.000000</td>\n",
              "      <td>4.000000</td>\n",
              "      <td>2013.000000</td>\n",
              "      <td>17325.000000</td>\n",
              "      <td>2861.000000</td>\n",
              "    </tr>\n",
              "    <tr>\n",
              "      <th>75%</th>\n",
              "      <td>3.000000</td>\n",
              "      <td>306.000000</td>\n",
              "      <td>165375.500000</td>\n",
              "      <td>2014.000000</td>\n",
              "      <td>5.000000</td>\n",
              "      <td>2016.000000</td>\n",
              "      <td>45900.000000</td>\n",
              "      <td>4322.000000</td>\n",
              "    </tr>\n",
              "    <tr>\n",
              "      <th>max</th>\n",
              "      <td>6.600000</td>\n",
              "      <td>700.000000</td>\n",
              "      <td>1000000.000000</td>\n",
              "      <td>2019.000000</td>\n",
              "      <td>5.000000</td>\n",
              "      <td>2020.000000</td>\n",
              "      <td>105000.000000</td>\n",
              "      <td>14184.000000</td>\n",
              "    </tr>\n",
              "  </tbody>\n",
              "</table>\n",
              "</div>"
            ],
            "text/plain": [
              "       engine_displacement  engine_power  ...            tax   days_in_use\n",
              "count          1671.000000   1671.000000  ...    1671.000000   1671.000000\n",
              "mean              2.758947    254.645721  ...   26257.585278   3253.081987\n",
              "std               1.035046    107.474922  ...   23220.697907   1947.643147\n",
              "min               0.600000    101.000000  ...    2525.000000    305.000000\n",
              "25%               2.000000    184.000000  ...    9200.000000   1766.000000\n",
              "50%               2.700000    231.000000  ...   17325.000000   2861.000000\n",
              "75%               3.000000    306.000000  ...   45900.000000   4322.000000\n",
              "max               6.600000    700.000000  ...  105000.000000  14184.000000\n",
              "\n",
              "[8 rows x 8 columns]"
            ]
          },
          "metadata": {
            "tags": []
          }
        },
        {
          "output_type": "stream",
          "text": [
            "<class 'pandas.core.frame.DataFrame'>\n",
            "Int64Index: 1671 entries, 0 to 1670\n",
            "Data columns (total 19 columns):\n",
            " #   Column               Non-Null Count  Dtype  \n",
            "---  ------               --------------  -----  \n",
            " 0   body                 1671 non-null   object \n",
            " 1   brand                1671 non-null   object \n",
            " 2   color                1671 non-null   object \n",
            " 3   description          1671 non-null   object \n",
            " 4   engine_displacement  1671 non-null   float64\n",
            " 5   engine_power         1671 non-null   float64\n",
            " 6   fuel                 1671 non-null   object \n",
            " 7   mileage              1671 non-null   int64  \n",
            " 8   model_date           1671 non-null   int64  \n",
            " 9   model_info           1671 non-null   object \n",
            " 10  name                 1671 non-null   object \n",
            " 11  num_of_doors         1671 non-null   int64  \n",
            " 12  production_date      1671 non-null   int64  \n",
            " 13  transmission         1671 non-null   object \n",
            " 14  owners               1671 non-null   object \n",
            " 15  vehicle_title        1671 non-null   object \n",
            " 16  drive_type           1671 non-null   object \n",
            " 17  tax                  1671 non-null   float64\n",
            " 18  days_in_use          1671 non-null   int64  \n",
            "dtypes: float64(3), int64(5), object(11)\n",
            "memory usage: 261.1+ KB\n"
          ],
          "name": "stdout"
        }
      ]
    },
    {
      "cell_type": "markdown",
      "metadata": {
        "id": "y35bD_EMMbyu"
      },
      "source": [
        "# CORRELATION"
      ]
    },
    {
      "cell_type": "markdown",
      "metadata": {
        "id": "pM6Ce8KGEyVN"
      },
      "source": [
        "Проведем корреляционный анализ **числовых** признаков."
      ]
    },
    {
      "cell_type": "code",
      "metadata": {
        "id": "8aeaU18OEyVN",
        "outputId": "a380b0be-9040-41b4-ae0d-bf29195645cc",
        "colab": {
          "base_uri": "https://localhost:8080/",
          "height": 546
        }
      },
      "source": [
        "train_corr = pd.DataFrame()\n",
        "train_corr = train[['engine_displacement', 'engine_power', 'mileage', 'model_date', 'production_date', 'num_of_doors', 'tax', 'days_in_use', 'price']]\n",
        "plt.figure(figsize=(12,7))\n",
        "sns.heatmap(train_corr.corr(), annot=True, cmap='RdBu')"
      ],
      "execution_count": 174,
      "outputs": [
        {
          "output_type": "execute_result",
          "data": {
            "text/plain": [
              "<matplotlib.axes._subplots.AxesSubplot at 0x7f49cfae42b0>"
            ]
          },
          "metadata": {
            "tags": []
          },
          "execution_count": 174
        },
        {
          "output_type": "display_data",
          "data": {
            "image/png": "[encoded data removed]",
            "text/plain": [
              "<Figure size 864x504 with 2 Axes>"
            ]
          },
          "metadata": {
            "tags": [],
            "needs_background": "light"
          }
        }
      ]
    },
    {
      "cell_type": "markdown",
      "metadata": {
        "id": "TIKTFv5-EyVP"
      },
      "source": [
        "Признаки между которыми наблюдается большая корреляция:\n",
        "\n",
        "- **engine_power** и **engine_displacement**\n",
        "- **mileage** и **days_in_use**\n",
        "- **mileage** и **production_date**\n",
        "- **mileage** и **model_date**\n",
        "- **model_date** и **days_in_use**\n",
        "- **model_date** и **production_date**\n",
        "- **production_date** и **days_in_use**\n",
        "- **engine_power** и **tax**\n",
        "- **engine_displacement** и **tax**\n",
        "\n",
        "Признаки которые больше всего коррелируют с таргетом, в порядке убывания (знак не учитывается):\n",
        "\n",
        "- **mileage**\n",
        "- **production_date** и **days_in_use**\n",
        "- **model_date** и **engine_power**\n",
        "- **tax**\n",
        "- **engine_displacement**"
      ]
    },
    {
      "cell_type": "markdown",
      "metadata": {
        "id": "gC9QrbxaEyVP"
      },
      "source": [
        "Переведем часть признаков из разряда **числовых** в **категориальные**"
      ]
    },
    {
      "cell_type": "code",
      "metadata": {
        "id": "mH-YwEEcEyVQ"
      },
      "source": [
        "train.model_date = train.model_date.astype(str)\n",
        "test.model_date = test.model_date.astype(str)\n",
        "\n",
        "train.production_date = train.production_date.astype(str)\n",
        "test.production_date = test.production_date.astype(str)\n",
        "\n",
        "train.num_of_doors = train.num_of_doors.astype(str)\n",
        "test.num_of_doors = test.num_of_doors.astype(str)"
      ],
      "execution_count": 175,
      "outputs": []
    },
    {
      "cell_type": "code",
      "metadata": {
        "scrolled": false,
        "id": "0gIzB9jLEyVT",
        "outputId": "e99b5b00-c3d9-416b-f13a-a7ae1c14db1b",
        "colab": {
          "base_uri": "https://localhost:8080/",
          "height": 450
        }
      },
      "source": [
        "train_corr = train[['engine_displacement', 'engine_power', 'mileage', 'tax', 'days_in_use', 'price']]\n",
        "plt.figure(figsize=(12,7))\n",
        "sns.heatmap(train_corr.corr(), annot=True, cmap='RdBu')"
      ],
      "execution_count": 176,
      "outputs": [
        {
          "output_type": "execute_result",
          "data": {
            "text/plain": [
              "<matplotlib.axes._subplots.AxesSubplot at 0x7f49ca6fd9e8>"
            ]
          },
          "metadata": {
            "tags": []
          },
          "execution_count": 176
        },
        {
          "output_type": "display_data",
          "data": {
            "image/png": "[encoded data removed]",
            "text/plain": [
              "<Figure size 864x504 with 2 Axes>"
            ]
          },
          "metadata": {
            "tags": [],
            "needs_background": "light"
          }
        }
      ]
    },
    {
      "cell_type": "markdown",
      "metadata": {
        "id": "O54pGMiKEyVV"
      },
      "source": [
        "Пока оставим так. При построении модели нужно будет поэксперементировать с признакми."
      ]
    },
    {
      "cell_type": "code",
      "metadata": {
        "id": "qww2J771Hwdn"
      },
      "source": [
        "train.to_csv(r'/content/drive/My Drive/skill_factory_car_price_prediction_ml_dl/clear_train.csv', index=False ,header=True)\n",
        "test.to_csv(r'/content/drive/My Drive/skill_factory_car_price_prediction_ml_dl/clear_test.csv',  index=False ,header=True)"
      ],
      "execution_count": 177,
      "outputs": []
    }
  ]
}